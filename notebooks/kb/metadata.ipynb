{
 "cells": [
  {
   "cell_type": "markdown",
   "metadata": {},
   "source": [
    "# Calculate Metadata\n",
    "\n",
    "This notebook is used to calculate a variety of descriptive statistics and facts about the corpus. Some insights include songs that span multiple years, covers, most popular song names, top performing artists overall, and top performing artists of each year. "
   ]
  },
  {
   "cell_type": "code",
   "execution_count": 2,
   "metadata": {
    "collapsed": true
   },
   "outputs": [],
   "source": [
    "%matplotlib inline\n",
    "import numpy as np\n",
    "import scipy as sp\n",
    "import matplotlib as mpl\n",
    "import matplotlib.cm as cm\n",
    "import matplotlib.pyplot as plt\n",
    "import pandas as pd\n",
    "pd.set_option('display.width', 500)\n",
    "pd.set_option('display.max_columns', 100)\n",
    "pd.set_option('display.notebook_repr_html', True)\n",
    "import seaborn as sns\n",
    "sns.set_style(\"whitegrid\")\n",
    "sns.set_context(\"poster\")\n",
    "import itertools\n",
    "import json\n",
    "import pickle\n",
    "import gensim"
   ]
  },
  {
   "cell_type": "code",
   "execution_count": 3,
   "metadata": {
    "collapsed": false
   },
   "outputs": [
    {
     "data": {
      "text/html": [
       "<div>\n",
       "<table border=\"1\" class=\"dataframe\">\n",
       "  <thead>\n",
       "    <tr style=\"text-align: right;\">\n",
       "      <th></th>\n",
       "      <th>index</th>\n",
       "      <th>position</th>\n",
       "      <th>year</th>\n",
       "      <th>title.href</th>\n",
       "      <th>title</th>\n",
       "      <th>artist</th>\n",
       "      <th>lyrics</th>\n",
       "      <th>decade</th>\n",
       "      <th>song_key</th>\n",
       "      <th>lyrics_url</th>\n",
       "      <th>lyrics_abstract</th>\n",
       "    </tr>\n",
       "  </thead>\n",
       "  <tbody>\n",
       "    <tr>\n",
       "      <th>0</th>\n",
       "      <td>0</td>\n",
       "      <td>1</td>\n",
       "      <td>1970</td>\n",
       "      <td>https://en.wikipedia.org/wiki/Bridge_over_Trou...</td>\n",
       "      <td>Bridge over Troubled Water</td>\n",
       "      <td>Simon and Garfunkel</td>\n",
       "      <td>When you're weary. Feeling small. When tears a...</td>\n",
       "      <td>1970</td>\n",
       "      <td>1970-1</td>\n",
       "      <td>http://lyrics.wikia.com/Simon_And_Garfunkel:Br...</td>\n",
       "      <td>When you're weary. Feeling small. When tears a...</td>\n",
       "    </tr>\n",
       "    <tr>\n",
       "      <th>1</th>\n",
       "      <td>1</td>\n",
       "      <td>2</td>\n",
       "      <td>1970</td>\n",
       "      <td>https://en.wikipedia.org/wiki/(They_Long_to_Be...</td>\n",
       "      <td>(They Long to Be) Close to You</td>\n",
       "      <td>The Carpenters</td>\n",
       "      <td>Why do birds suddenly appear. Everytime you ar...</td>\n",
       "      <td>1970</td>\n",
       "      <td>1970-2</td>\n",
       "      <td>http://lyrics.wikia.com/Carpenters:%28They_Lon...</td>\n",
       "      <td>Why do birds suddenly appear. Everytime you ar...</td>\n",
       "    </tr>\n",
       "    <tr>\n",
       "      <th>2</th>\n",
       "      <td>2</td>\n",
       "      <td>3</td>\n",
       "      <td>1970</td>\n",
       "      <td>https://en.wikipedia.org/wiki/American_Woman_(...</td>\n",
       "      <td>American Woman</td>\n",
       "      <td>The Guess Who</td>\n",
       "      <td>Mmm, da da da. Mmm, mmm, da da da. Mmm, mmm, d...</td>\n",
       "      <td>1970</td>\n",
       "      <td>1970-3</td>\n",
       "      <td>http://lyrics.wikia.com/The_Guess_Who:American...</td>\n",
       "      <td>Mmm, da da da. Mmm, mmm, da da da. Mmm, mmm, d...</td>\n",
       "    </tr>\n",
       "    <tr>\n",
       "      <th>3</th>\n",
       "      <td>3</td>\n",
       "      <td>4</td>\n",
       "      <td>1970</td>\n",
       "      <td>https://en.wikipedia.org/wiki/Raindrops_Keep_F...</td>\n",
       "      <td>Raindrops Keep Fallin' on My Head</td>\n",
       "      <td>B.J. Thomas</td>\n",
       "      <td>Raindrops are falling on my head. And just lik...</td>\n",
       "      <td>1970</td>\n",
       "      <td>1970-4</td>\n",
       "      <td>http://lyrics.wikia.com/B.J._Thomas:Raindrops_...</td>\n",
       "      <td>Raindrops are falling on my head. And just lik...</td>\n",
       "    </tr>\n",
       "    <tr>\n",
       "      <th>4</th>\n",
       "      <td>4</td>\n",
       "      <td>5</td>\n",
       "      <td>1970</td>\n",
       "      <td>https://en.wikipedia.org/wiki/War_(Edwin_Starr...</td>\n",
       "      <td>War</td>\n",
       "      <td>Edwin Starr</td>\n",
       "      <td>War, huh, yeah. What is it good for? Absolutel...</td>\n",
       "      <td>1970</td>\n",
       "      <td>1970-5</td>\n",
       "      <td>http://lyrics.wikia.com/Edwin_Starr:War</td>\n",
       "      <td>War, huh, yeah. What is it good for? Absolutel...</td>\n",
       "    </tr>\n",
       "  </tbody>\n",
       "</table>\n",
       "</div>"
      ],
      "text/plain": [
       "   index  position  year                                         title.href                              title               artist                                             lyrics  decade song_key                                         lyrics_url                                    lyrics_abstract\n",
       "0      0         1  1970  https://en.wikipedia.org/wiki/Bridge_over_Trou...         Bridge over Troubled Water  Simon and Garfunkel  When you're weary. Feeling small. When tears a...    1970   1970-1  http://lyrics.wikia.com/Simon_And_Garfunkel:Br...  When you're weary. Feeling small. When tears a...\n",
       "1      1         2  1970  https://en.wikipedia.org/wiki/(They_Long_to_Be...     (They Long to Be) Close to You       The Carpenters  Why do birds suddenly appear. Everytime you ar...    1970   1970-2  http://lyrics.wikia.com/Carpenters:%28They_Lon...  Why do birds suddenly appear. Everytime you ar...\n",
       "2      2         3  1970  https://en.wikipedia.org/wiki/American_Woman_(...                     American Woman        The Guess Who  Mmm, da da da. Mmm, mmm, da da da. Mmm, mmm, d...    1970   1970-3  http://lyrics.wikia.com/The_Guess_Who:American...  Mmm, da da da. Mmm, mmm, da da da. Mmm, mmm, d...\n",
       "3      3         4  1970  https://en.wikipedia.org/wiki/Raindrops_Keep_F...  Raindrops Keep Fallin' on My Head          B.J. Thomas  Raindrops are falling on my head. And just lik...    1970   1970-4  http://lyrics.wikia.com/B.J._Thomas:Raindrops_...  Raindrops are falling on my head. And just lik...\n",
       "4      4         5  1970  https://en.wikipedia.org/wiki/War_(Edwin_Starr...                                War          Edwin Starr  War, huh, yeah. What is it good for? Absolutel...    1970   1970-5            http://lyrics.wikia.com/Edwin_Starr:War  War, huh, yeah. What is it good for? Absolutel..."
      ]
     },
     "execution_count": 3,
     "metadata": {},
     "output_type": "execute_result"
    }
   ],
   "source": [
    "# Open everything that's been saved in /data/conditioned\n",
    "\n",
    "df=pd.read_csv(\"../../data/conditioned/use-this-master-lyricsdf-extracted.csv\")\n",
    "\n",
    "\n",
    "with open(\"../../data/conditioned/noun-n-gram.json\") as json_file:\n",
    "    noungram = json.load(json_file)\n",
    "with open(\"../../data/conditioned/nounvocab.json\") as json_file:\n",
    "    nounvocab = json.load(json_file)\n",
    "with open(\"../../data/conditioned/nounid2word.json\") as json_file:\n",
    "    nounid2word = json.load(json_file)\n",
    "with open(\"../../data/conditioned/adj-n-gram.json\") as json_file:\n",
    "    adjgram = json.load(json_file)\n",
    "with open(\"../../data/conditioned/adjvocab.json\") as json_file:\n",
    "    adjvocab = json.load(json_file)\n",
    "with open(\"../../data/conditioned/adjid2word.json\") as json_file:\n",
    "    adjid2word = json.load(json_file)\n",
    "\n",
    "\n",
    "f = open(\"../../data/conditioned/ahypes.p\",'r')  \n",
    "ahypes = pickle.load(f)  \n",
    "f = open(\"../../data/conditioned/nhypes.p\",'r')  \n",
    "nhypes = pickle.load(f)\n",
    "f = open(\"../../data/conditioned/corpus.p\",'r')  \n",
    "corpus = pickle.load(f)\n",
    "\n",
    "\n",
    "df.head()"
   ]
  },
  {
   "cell_type": "markdown",
   "metadata": {},
   "source": [
    "# Initial invesigation of Most Popular artists\n",
    "These counts include songs that may appear more than once because they were in multiple year end charts."
   ]
  },
  {
   "cell_type": "code",
   "execution_count": 4,
   "metadata": {
    "collapsed": false
   },
   "outputs": [
    {
     "data": {
      "text/plain": [
       "Madonna                       36\n",
       "Mariah Carey                  30\n",
       "Rihanna                       27\n",
       "Elton John                    27\n",
       "Michael Jackson               26\n",
       "Janet Jackson                 23\n",
       "Usher                         22\n",
       "Whitney Houston               22\n",
       "R. Kelly                      18\n",
       "Stevie Wonder                 18\n",
       "Pink                          18\n",
       "beyonce                       17\n",
       "Katy Perry                    17\n",
       "Chris Brown                   17\n",
       "Kelly Clarkson                16\n",
       "Eminem                        16\n",
       "Britney Spears                16\n",
       "The Black Eyed Peas           16\n",
       "Jay-Z                         15\n",
       "Chicago                       15\n",
       "Taylor Swift                  15\n",
       "Prince                        15\n",
       "Ludacris                      14\n",
       "Rod Stewart                   14\n",
       "Maroon 5                      14\n",
       "Phil Collins                  14\n",
       "Diana Ross                    13\n",
       "Olivia Newton-John            13\n",
       "Kenny Rogers                  13\n",
       "Lady Gaga                     13\n",
       "                              ..\n",
       "Paper Lace                     1\n",
       "DJ Kool                        1\n",
       "Eagle-Eye Cherry               1\n",
       "ScHoolboy Q                    1\n",
       "Kardinal Offishall             1\n",
       "YG                             1\n",
       "The Hues Corporation           1\n",
       "Lana Del Rey                   1\n",
       "The Motels                     1\n",
       "Paula DeAnda                   1\n",
       "Skylark                        1\n",
       "Jimmy Cliff                    1\n",
       "Foo Fighters                   1\n",
       "White Town                     1\n",
       "Blue Magic                     1\n",
       "Mountain                       1\n",
       "Randy Houser                   1\n",
       "Sammi Smith                    1\n",
       "Panic! at the Disco            1\n",
       "Lisa Loeb and Nine Stories     1\n",
       "Rhythm Heritage                1\n",
       "Thin Lizzy                     1\n",
       "Paul Stookey                   1\n",
       "David Cook                     1\n",
       "Kirko Bangz                    1\n",
       "Saving Abel                    1\n",
       "Karmin                         1\n",
       "Tove Lo                        1\n",
       "Default                        1\n",
       "Terry Jacks                    1\n",
       "dtype: int64"
      ]
     },
     "execution_count": 4,
     "metadata": {},
     "output_type": "execute_result"
    }
   ],
   "source": [
    "artist_appearance_counts = df.artist.value_counts()\n",
    "artist_appearance_counts_norm = df.artist.value_counts(normalize=True)\n",
    "unique_artists = df.artist.unique()\n",
    "\n",
    "artist_appearance_counts"
   ]
  },
  {
   "cell_type": "code",
   "execution_count": 6,
   "metadata": {
    "collapsed": false
   },
   "outputs": [],
   "source": [
    "# Songs that appear more than once\n",
    "song_occurrences = df.groupby('title')\n",
    "song_occurrences_over_1 = song_occurrences.filter(lambda x: len(x) > 1)\n",
    "duplicate_song_groups = song_occurrences_over_1.groupby('title').groups"
   ]
  },
  {
   "cell_type": "code",
   "execution_count": 7,
   "metadata": {
    "collapsed": false
   },
   "outputs": [
    {
     "data": {
      "text/plain": [
       "(4059, 371)"
      ]
     },
     "execution_count": 7,
     "metadata": {},
     "output_type": "execute_result"
    }
   ],
   "source": [
    "len(song_occurrences.groups), len(duplicate_song_groups)"
   ]
  },
  {
   "cell_type": "markdown",
   "metadata": {},
   "source": [
    "# Create basic breakdowns of the data set\n",
    "The counts enable further insights about naming, covers, and multiyear songs"
   ]
  },
  {
   "cell_type": "code",
   "execution_count": 62,
   "metadata": {
    "collapsed": false,
    "scrolled": false
   },
   "outputs": [
    {
     "name": "stdout",
     "output_type": "stream",
     "text": [
      "multiyear: 194 results\n",
      "cover: 16 results\n",
      "duplicateName: 188 results\n"
     ]
    }
   ],
   "source": [
    "#song_occurrences_over_1[song_occurrences_over_1['title']=='Shake It Off']\n",
    "OCCUR_TYPE_MUTLIYEAR = 'multiyear' # Same song, appears on multiple years\n",
    "OCCUR_TYPE_DUP_NAME = 'duplicateName' # Same name, different song\n",
    "OCCUR_TYPE_COVER = 'cover' # Same song content, different artist\n",
    "\n",
    "def check_dups_covers(row, rows, mode, vals):    \n",
    "    # For all songs, after the first song, check against the others to determine if it is likely a\n",
    "    # cover, a duplicate, or just an identically named song.\n",
    "    if len(rows) >= 1:\n",
    "        for check_row in rows:\n",
    "            #print row.title\n",
    "            \n",
    "            if not (row.title in vals):\n",
    "                #print 'Adding list'\n",
    "                vals[row.title] = []\n",
    "            \n",
    "            # Check duplicate\n",
    "            if mode == OCCUR_TYPE_MUTLIYEAR and check_row['row'].artist.lower() == row.artist.lower():\n",
    "                check_row['isMultiyear'] = True\n",
    "                vals[row.title].append({\n",
    "                        row['index']: row, \n",
    "                        check_row['row']['index']: check_row['row']\n",
    "                    })\n",
    "\n",
    "            # Check if cover\n",
    "            # TODO: Use simularity calculation? Match common substrings?\n",
    "            elif (mode == OCCUR_TYPE_COVER and \n",
    "                  check_row['row'].artist.lower() != row.artist.lower() and \n",
    "                  (check_row['row'].lyrics[0:25] == row.lyrics[0:25])): # or\n",
    "                   #check_row['row']['title.href'] == row['title.href'])):\n",
    "                check_row['isCover'] = True\n",
    "                #print '\\t ***Cover*** %s, %s' % (check_row['row'].artist, row.artist)\n",
    "                vals[row.title].append({\n",
    "                        row['index']: row, \n",
    "                        check_row['row']['index']: check_row['row']\n",
    "                    })\n",
    "                \n",
    "            elif (mode == OCCUR_TYPE_DUP_NAME and \n",
    "                  check_row['row'].artist.lower() != row.artist.lower() and \n",
    "                  check_row['row'].lyrics[0:25] != row.lyrics[0:25]):\n",
    "                #print '\\t Same name, different song'\n",
    "                vals[row.title].append({\n",
    "                        row['index']: row, \n",
    "                        check_row['row']['index']: check_row['row']\n",
    "                    })\n",
    "\n",
    "def check_song_occurrences(grp, mode):\n",
    "    vals = {}\n",
    "    \n",
    "    # Loop over all songs with the same name\n",
    "    for title in grp:\n",
    "        #print '\"%s\"' % title\n",
    "        rows = []\n",
    "\n",
    "        # Process individual song instances and determine if the song is the same song appearing multiple times,\n",
    "        # if the song is a cover, or if the songs just happen to share the same name.\n",
    "        for idx in grp[title]:\n",
    "            row = df.iloc[idx]\n",
    "\n",
    "            # Set lyrics to an empty string to avoid float issues on empty lyrics \n",
    "            if not isinstance(row.lyrics, basestring): # or len(row.lyrics) < 25:\n",
    "                row.lyrics = ''\n",
    "\n",
    "            # Check current row against previous rows in groups\n",
    "            check_dups_covers(row, rows, mode, vals)\n",
    "\n",
    "            # Append row for future comparison\n",
    "            rows.append({\n",
    "                    'isDuplicate': False, # multiyear (most likely back-to-back years)\n",
    "                    'isCover': False,\n",
    "                    'row': row\n",
    "                })\n",
    "        \n",
    "    vals_trimmed = {}\n",
    "    for k in vals:\n",
    "        v = vals[k]\n",
    "        if (len(v) > 0):\n",
    "            vals_trimmed[k] = v\n",
    "                    \n",
    "    print '%s: %d results' % (mode, len(vals_trimmed))\n",
    "    \n",
    "    return vals_trimmed\n",
    "            \n",
    "cso_multiyear = check_song_occurrences(duplicate_song_groups, OCCUR_TYPE_MUTLIYEAR)\n",
    "cso_cover = check_song_occurrences(duplicate_song_groups, OCCUR_TYPE_COVER)\n",
    "cso_dup_name = check_song_occurrences(duplicate_song_groups, OCCUR_TYPE_DUP_NAME)"
   ]
  },
  {
   "cell_type": "markdown",
   "metadata": {},
   "source": [
    "# Count song name occurrences"
   ]
  },
  {
   "cell_type": "code",
   "execution_count": 9,
   "metadata": {
    "collapsed": false
   },
   "outputs": [
    {
     "name": "stdout",
     "output_type": "stream",
     "text": [
      "Come and Get Your Love: 1\n",
      "No Time: 1\n",
      "Misery: 1\n",
      "Sunshine: 1\n",
      "I Can See Clearly Now: 1\n",
      "Sukiyaki: 1\n",
      "Everybody Plays the Fool: 1\n",
      "Never Can Say Goodbye: 1\n",
      "You and Me: 2\n",
      "Diamonds: 2\n",
      "Smile: 1\n",
      "TRUE: 1\n",
      "Happy: 1\n",
      "What's My Name?: 1\n",
      "Hero: 5\n",
      "Rock On: 1\n",
      "Head over Heels: 1\n",
      "My Boo: 2\n",
      "Burn: 1\n",
      "Oh Girl: 1\n",
      "Too Close: 1\n",
      "Heartbreaker: 3\n",
      "Sing: 1\n",
      "Lay Your Hands on Me: 1\n",
      "Believe: 1\n",
      "Magic: 6\n",
      "Anything: 3\n",
      "Someday: 6\n",
      "The Power of Love: 1\n",
      "Always on My Mind: 1\n",
      "Bad: 1\n",
      "Lean on Me: 1\n",
      "Life Is a Highway: 1\n",
      "Venus: 1\n",
      "Scream: 1\n",
      "Incomplete: 1\n",
      "My Love: 5\n",
      "Love Like This: 1\n",
      "Don't Be Cruel: 1\n",
      "Rich Girl: 1\n",
      "Angel: 15\n",
      "Suddenly: 1\n",
      "Lady: 6\n",
      "Please Don't Go: 3\n",
      "Shake It: 1\n",
      "Say Something: 1\n",
      "I Want You: 1\n",
      "Wonderful: 1\n",
      "Mockingbird: 1\n",
      "Bottoms Up: 2\n",
      "Turn the Beat Around: 1\n",
      "Miss You: 1\n",
      "Shake It Off: 1\n",
      "Again: 2\n",
      "I Wanna Love You: 1\n",
      "When I'm Gone: 1\n",
      "Photograph: 2\n",
      "I Miss You: 3\n",
      "Stay: 3\n",
      "Heaven: 10\n",
      "You and I: 3\n",
      "Count On Me: 1\n",
      "Shining Star: 1\n",
      "Without You: 5\n",
      "Fire: 1\n",
      "Slow Motion: 1\n",
      "Music: 1\n",
      "If: 1\n",
      "Masterpiece: 1\n",
      "Feel Like Makin' Love: 1\n",
      "Baby: 3\n",
      "Sweet Love: 1\n",
      "Real Love: 2\n",
      "Forever: 5\n",
      "So What: 2\n",
      "Superstar: 3\n",
      "Don't You Want Me: 1\n",
      "I Wish: 6\n",
      "Because of You: 8\n",
      "Come Over: 1\n",
      "I'll Be: 1\n",
      "Come and Get It: 1\n",
      "Turn Me On: 1\n",
      "Alright: 1\n",
      "I'm Still in Love with You: 3\n",
      "Poison: 1\n",
      "Love You Down: 1\n",
      "All or Nothing: 1\n",
      "Family Affair: 2\n",
      "One More Try: 1\n",
      "Funkytown: 1\n",
      "Thank You: 1\n",
      "We've Got Tonight: 1\n",
      "Promise: 1\n",
      "Rock the Boat: 1\n",
      "Girlfriend: 3\n",
      "Home: 2\n",
      "Jump: 1\n",
      "Take a Bow: 1\n",
      "Midnight Blue: 1\n",
      "Round and Round: 1\n",
      "Woodstock: 1\n",
      "Lately: 2\n",
      "Because the Night: 1\n",
      "Brown Sugar: 1\n",
      "Holiday: 1\n",
      "Into the Night: 1\n",
      "Love Somebody: 1\n",
      "Play: 1\n",
      "Love Song: 1\n",
      "All Night Long: 1\n",
      "Show Me Love: 1\n",
      "Time After Time: 1\n",
      "How Deep Is Your Love: 1\n",
      "Summer: 1\n",
      "I Will Remember You: 1\n",
      "Don't Cry: 1\n",
      "Try Again: 1\n",
      "Bartender: 1\n",
      "With You: 1\n",
      "Your Love: 1\n",
      "O-o-h Child: 1\n",
      "Dangerous: 3\n",
      "Wild Thing: 1\n",
      "I Love You: 1\n",
      "Express Yourself: 1\n",
      "Call Me: 1\n",
      "Time: 1\n",
      "Beautiful: 3\n",
      "Crazy: 6\n",
      "Brokenhearted: 1\n",
      "Love: 1\n",
      "Second Chance: 1\n",
      "I Want You Back: 1\n",
      "Miss Independent: 2\n",
      "I'm on Fire: 1\n",
      "Cat's in the Cradle: 1\n",
      "I'd Like to Teach the World to Sing (In Perfect Harmony): 1\n",
      "On and On: 3\n",
      "Sara: 1\n",
      "Play That Funky Music: 1\n",
      "Good Life: 1\n",
      "Crush: 1\n",
      "The Way You Love Me: 2\n",
      "I'll Take You There: 1\n",
      "Touch It: 1\n",
      "I Shot the Sheriff: 1\n",
      "You: 1\n",
      "Is This Love: 1\n",
      "Hold On: 3\n",
      "One More Night: 2\n",
      "Disco Inferno: 1\n",
      "All for You: 2\n",
      "Sweet Dreams: 5\n",
      "That Girl: 1\n",
      "Lady Marmalade: 1\n",
      "Let It Go: 3\n",
      "Animals: 1\n",
      "Fly Like an Eagle: 1\n",
      "Just the Way You Are: 2\n",
      "Dreams: 1\n",
      "All Cried Out: 2\n",
      "Desire: 1\n",
      "My Life: 1\n",
      "I'll Be There: 2\n",
      "Loverboy: 1\n",
      "Always: 5\n",
      "Drive: 1\n",
      "The Boss: 1\n",
      "Missing You: 3\n",
      "Do You Remember: 1\n",
      "Cherish: 1\n",
      "Take Me Home: 1\n",
      "Walk This Way: 1\n",
      "All This Time: 1\n",
      "I Like It: 6\n",
      "The Loco-Motion: 1\n",
      "Total Eclipse of the Heart: 1\n",
      "Dance with Me: 2\n",
      "Would I Lie to You?: 1\n",
      "They Don't Know: 1\n",
      "(God Must Have Spent) A Little More Time on You: 1\n",
      "Signs: 1\n",
      "Last Night: 2\n",
      "Bridge over Troubled Water: 1\n",
      "Heart Attack: 1\n",
      "Fame: 1\n",
      "Victory: 1\n"
     ]
    }
   ],
   "source": [
    "#duplicate_song_groups[duplicate_song_groups.keys()[0]]\n",
    "#len(cso_.keys())\n",
    "\n",
    "# TODO: Account for multiyears in duplicates\n",
    "def most_freq_song_name():\n",
    "    counts = {}\n",
    "    \n",
    "    for k in cso_dup_name:\n",
    "        counts[k] = len(cso_dup_name[k])\n",
    "        print \"%s: %d\" % (k, counts[k]) \n",
    "    \n",
    "most_freq_song_name()"
   ]
  },
  {
   "cell_type": "code",
   "execution_count": 10,
   "metadata": {
    "collapsed": false
   },
   "outputs": [
    {
     "data": {
      "text/plain": [
       "[{2174: index                                                           2174\n",
       "  position                                                          75\n",
       "  year                                                            1991\n",
       "  title.href           https://en.wikipedia.org/wiki/Crazy_(Seal_song)\n",
       "  title                                                          Crazy\n",
       "  artist                                                          Seal\n",
       "  lyrics             In a church by the face. He talks about the pe...\n",
       "  decade                                                          1990\n",
       "  song_key                                                     1991-75\n",
       "  lyrics_url                        http://lyrics.wikia.com/Seal:Crazy\n",
       "  lyrics_abstract    In a church by the face. He talks about the pe...\n",
       "  Name: 2174, dtype: object,\n",
       "  2467: index                                                           2467\n",
       "  position                                                          68\n",
       "  year                                                            1994\n",
       "  title.href         https://en.wikipedia.org/wiki/Crazy_(Aerosmith...\n",
       "  title                                                          Crazy\n",
       "  artist                                                     Aerosmith\n",
       "  lyrics             Come here baby. You know you drive me up the w...\n",
       "  decade                                                          1990\n",
       "  song_key                                                     1994-68\n",
       "  lyrics_url                   http://lyrics.wikia.com/Aerosmith:Crazy\n",
       "  lyrics_abstract    Come here baby. You know you drive me up the w...\n",
       "  Name: 2467, dtype: object},\n",
       " {2174: index                                                           2174\n",
       "  position                                                          75\n",
       "  year                                                            1991\n",
       "  title.href           https://en.wikipedia.org/wiki/Crazy_(Seal_song)\n",
       "  title                                                          Crazy\n",
       "  artist                                                          Seal\n",
       "  lyrics             In a church by the face. He talks about the pe...\n",
       "  decade                                                          1990\n",
       "  song_key                                                     1991-75\n",
       "  lyrics_url                        http://lyrics.wikia.com/Seal:Crazy\n",
       "  lyrics_abstract    In a church by the face. He talks about the pe...\n",
       "  Name: 2174, dtype: object,\n",
       "  3135: index                                                           3135\n",
       "  position                                                          36\n",
       "  year                                                            2001\n",
       "  title.href         https://en.wikipedia.org/wiki/Crazy_(K-Ci_and_...\n",
       "  title                                                          Crazy\n",
       "  artist                                                 K-Ci and JoJo\n",
       "  lyrics                                                              \n",
       "  decade                                                          2000\n",
       "  song_key                                                     2001-36\n",
       "  lyrics_url         http://lyrics.wikia.com/index.php?title=K-Ci_A...\n",
       "  lyrics_abstract                                                  NaN\n",
       "  Name: 3135, dtype: object},\n",
       " {2467: index                                                           2467\n",
       "  position                                                          68\n",
       "  year                                                            1994\n",
       "  title.href         https://en.wikipedia.org/wiki/Crazy_(Aerosmith...\n",
       "  title                                                          Crazy\n",
       "  artist                                                     Aerosmith\n",
       "  lyrics             Come here baby. You know you drive me up the w...\n",
       "  decade                                                          1990\n",
       "  song_key                                                     1994-68\n",
       "  lyrics_url                   http://lyrics.wikia.com/Aerosmith:Crazy\n",
       "  lyrics_abstract    Come here baby. You know you drive me up the w...\n",
       "  Name: 2467, dtype: object,\n",
       "  3135: index                                                           3135\n",
       "  position                                                          36\n",
       "  year                                                            2001\n",
       "  title.href         https://en.wikipedia.org/wiki/Crazy_(K-Ci_and_...\n",
       "  title                                                          Crazy\n",
       "  artist                                                 K-Ci and JoJo\n",
       "  lyrics                                                              \n",
       "  decade                                                          2000\n",
       "  song_key                                                     2001-36\n",
       "  lyrics_url         http://lyrics.wikia.com/index.php?title=K-Ci_A...\n",
       "  lyrics_abstract                                                  NaN\n",
       "  Name: 3135, dtype: object},\n",
       " {2174: index                                                           2174\n",
       "  position                                                          75\n",
       "  year                                                            1991\n",
       "  title.href           https://en.wikipedia.org/wiki/Crazy_(Seal_song)\n",
       "  title                                                          Crazy\n",
       "  artist                                                          Seal\n",
       "  lyrics             In a church by the face. He talks about the pe...\n",
       "  decade                                                          1990\n",
       "  song_key                                                     1991-75\n",
       "  lyrics_url                        http://lyrics.wikia.com/Seal:Crazy\n",
       "  lyrics_abstract    In a church by the face. He talks about the pe...\n",
       "  Name: 2174, dtype: object,\n",
       "  3606: index                                                           3606\n",
       "  position                                                           7\n",
       "  year                                                            2006\n",
       "  title.href         https://en.wikipedia.org/wiki/Crazy_(Gnarls_Ba...\n",
       "  title                                                          Crazy\n",
       "  artist                                                Gnarls Barkley\n",
       "  lyrics             I remember when, I remember, I remember when I...\n",
       "  decade                                                          2000\n",
       "  song_key                                                      2006-7\n",
       "  lyrics_url              http://lyrics.wikia.com/Gnarls_Barkley:Crazy\n",
       "  lyrics_abstract    I remember when, I remember, I remember when I...\n",
       "  Name: 3606, dtype: object},\n",
       " {2467: index                                                           2467\n",
       "  position                                                          68\n",
       "  year                                                            1994\n",
       "  title.href         https://en.wikipedia.org/wiki/Crazy_(Aerosmith...\n",
       "  title                                                          Crazy\n",
       "  artist                                                     Aerosmith\n",
       "  lyrics             Come here baby. You know you drive me up the w...\n",
       "  decade                                                          1990\n",
       "  song_key                                                     1994-68\n",
       "  lyrics_url                   http://lyrics.wikia.com/Aerosmith:Crazy\n",
       "  lyrics_abstract    Come here baby. You know you drive me up the w...\n",
       "  Name: 2467, dtype: object,\n",
       "  3606: index                                                           3606\n",
       "  position                                                           7\n",
       "  year                                                            2006\n",
       "  title.href         https://en.wikipedia.org/wiki/Crazy_(Gnarls_Ba...\n",
       "  title                                                          Crazy\n",
       "  artist                                                Gnarls Barkley\n",
       "  lyrics             I remember when, I remember, I remember when I...\n",
       "  decade                                                          2000\n",
       "  song_key                                                      2006-7\n",
       "  lyrics_url              http://lyrics.wikia.com/Gnarls_Barkley:Crazy\n",
       "  lyrics_abstract    I remember when, I remember, I remember when I...\n",
       "  Name: 3606, dtype: object},\n",
       " {3135: index                                                           3135\n",
       "  position                                                          36\n",
       "  year                                                            2001\n",
       "  title.href         https://en.wikipedia.org/wiki/Crazy_(K-Ci_and_...\n",
       "  title                                                          Crazy\n",
       "  artist                                                 K-Ci and JoJo\n",
       "  lyrics                                                              \n",
       "  decade                                                          2000\n",
       "  song_key                                                     2001-36\n",
       "  lyrics_url         http://lyrics.wikia.com/index.php?title=K-Ci_A...\n",
       "  lyrics_abstract                                                  NaN\n",
       "  Name: 3135, dtype: object,\n",
       "  3606: index                                                           3606\n",
       "  position                                                           7\n",
       "  year                                                            2006\n",
       "  title.href         https://en.wikipedia.org/wiki/Crazy_(Gnarls_Ba...\n",
       "  title                                                          Crazy\n",
       "  artist                                                Gnarls Barkley\n",
       "  lyrics             I remember when, I remember, I remember when I...\n",
       "  decade                                                          2000\n",
       "  song_key                                                      2006-7\n",
       "  lyrics_url              http://lyrics.wikia.com/Gnarls_Barkley:Crazy\n",
       "  lyrics_abstract    I remember when, I remember, I remember when I...\n",
       "  Name: 3606, dtype: object}]"
      ]
     },
     "execution_count": 10,
     "metadata": {},
     "output_type": "execute_result"
    }
   ],
   "source": [
    "cso_dup_name['Crazy']"
   ]
  },
  {
   "cell_type": "markdown",
   "metadata": {},
   "source": [
    "# Count of the songs that are obviously covers/remakes"
   ]
  },
  {
   "cell_type": "code",
   "execution_count": 11,
   "metadata": {
    "collapsed": false
   },
   "outputs": [
    {
     "name": "stdout",
     "output_type": "stream",
     "text": [
      "Best of My Love: 2\n",
      "I Still Believe: 2\n",
      "Endless Love: 2\n",
      "I Don't Want to Miss a Thing: 2\n",
      "Don't Let the Sun Go Down on Me: 2\n",
      "How Am I Supposed to Live Without You: 2\n",
      "Cruel Summer: 2\n",
      "Drift Away: 2\n",
      "Stand by Me: 2\n",
      "All by Myself: 2\n",
      "Don't Tell Me: 2\n",
      "Hard to Say I'm Sorry: 2\n",
      "Listen to Your Heart: 2\n",
      "I'll Be There: 2\n",
      "Dejà Vu: 2\n",
      "Love Shack: 2\n"
     ]
    }
   ],
   "source": [
    "def most_freq_cover_song():\n",
    "    counts = {}\n",
    "    \n",
    "    for k in cso_cover:\n",
    "        counts[k] = len(cso_cover[k][0])\n",
    "        print \"%s: %d\" % (k, counts[k]) \n",
    "        \n",
    "most_freq_cover_song()"
   ]
  },
  {
   "cell_type": "code",
   "execution_count": 12,
   "metadata": {
    "collapsed": false
   },
   "outputs": [],
   "source": [
    "def most_freq_multiyear_songs():\n",
    "    counts = {}\n",
    "    \n",
    "    for k in cso_multiyear:\n",
    "        counts[k] = len(cso_multiyear[k][0])\n",
    "        print \"%s: %d\" % (k, counts[k]) \n",
    "        \n",
    "        \n",
    "\n",
    "def dedup_df():\n",
    "    songs_to_drop = []\n",
    "    \n",
    "    for songname in cso_multiyear:\n",
    "        drop_candidate = None\n",
    "        \n",
    "        for idx in cso_multiyear[songname][0]:\n",
    "            check_item = cso_multiyear[songname][0][idx]\n",
    "            \n",
    "            # Set a drop candidate when the position is higher (because lower is a better rank)\n",
    "            if (drop_candidate is None or \n",
    "                drop_candidate.position > check_item.position):\n",
    "                drop_candidate = check_item\n",
    "        \n",
    "#         print drop_candidate['index']\n",
    "#         print dir(drop_candidate)\n",
    "        songs_to_drop.append(drop_candidate['index'])\n",
    "        \n",
    "    df_drop = df.drop(songs_to_drop)\n",
    "    \n",
    "    return df_drop\n",
    "    \n",
    "#most_freq_multiyear_songs()\n",
    "df_drop = dedup_df()"
   ]
  },
  {
   "cell_type": "markdown",
   "metadata": {},
   "source": [
    "Take away for output of `most_freq_multiyear_songs` is that no songs appeared on more than two consecutive years."
   ]
  },
  {
   "cell_type": "code",
   "execution_count": 13,
   "metadata": {
    "collapsed": false
   },
   "outputs": [
    {
     "data": {
      "text/plain": [
       "((4306, 11), (4500, 11))"
      ]
     },
     "execution_count": 13,
     "metadata": {},
     "output_type": "execute_result"
    }
   ],
   "source": [
    "df_drop.shape, df.shape"
   ]
  },
  {
   "cell_type": "markdown",
   "metadata": {},
   "source": [
    "# Prepare a series of artist counts\n",
    "Generates some insights about our song and artist data."
   ]
  },
  {
   "cell_type": "code",
   "execution_count": 14,
   "metadata": {
    "collapsed": false
   },
   "outputs": [
    {
     "data": {
      "text/plain": [
       "194"
      ]
     },
     "execution_count": 14,
     "metadata": {},
     "output_type": "execute_result"
    }
   ],
   "source": [
    "len(cso_multiyear)"
   ]
  },
  {
   "cell_type": "code",
   "execution_count": 15,
   "metadata": {
    "collapsed": false
   },
   "outputs": [
    {
     "name": "stdout",
     "output_type": "stream",
     "text": [
      "Unique Artists 1761, Artists only appearing once 977, Artists appearing many times 783\n"
     ]
    }
   ],
   "source": [
    "artists_only_once = len(artist_appearance_counts[artist_appearance_counts.values == 1])\n",
    "artists_multiple = len(artist_appearance_counts[artist_appearance_counts.values > 1])\n",
    "\n",
    "print \"Unique Artists %d, Artists only appearing once %d, Artists appearing many times %d\" % (len(unique_artists), artists_only_once, artists_multiple)"
   ]
  },
  {
   "cell_type": "code",
   "execution_count": 16,
   "metadata": {
    "collapsed": false
   },
   "outputs": [
    {
     "data": {
      "text/plain": [
       "Madonna                       35\n",
       "Mariah Carey                  28\n",
       "Elton John                    27\n",
       "Michael Jackson               26\n",
       "Rihanna                       23\n",
       "Janet Jackson                 21\n",
       "Whitney Houston               21\n",
       "Usher                         20\n",
       "Stevie Wonder                 18\n",
       "R. Kelly                      17\n",
       "Pink                          16\n",
       "Chris Brown                   15\n",
       "Chicago                       15\n",
       "Eminem                        15\n",
       "beyonce                       15\n",
       "Prince                        15\n",
       "Katy Perry                    14\n",
       "Kelly Clarkson                14\n",
       "Rod Stewart                   14\n",
       "The Black Eyed Peas           14\n",
       "Jay-Z                         14\n",
       "Britney Spears                14\n",
       "Phil Collins                  14\n",
       "Diana Ross                    13\n",
       "Olivia Newton-John            13\n",
       "Kenny Rogers                  13\n",
       "Ludacris                      12\n",
       "Lionel Richie                 12\n",
       "Bryan Adams                   12\n",
       "George Michael                12\n",
       "                              ..\n",
       "Kardinal Offishall             1\n",
       "Pretty Poison                  1\n",
       "YG                             1\n",
       "The Hues Corporation           1\n",
       "Lee Ann Womack                 1\n",
       "Lana Del Rey                   1\n",
       "The Motels                     1\n",
       "Paula DeAnda                   1\n",
       "C.J. and Company               1\n",
       "Gerardo                        1\n",
       "Terror Squad                   1\n",
       "Mountain                       1\n",
       "David Cook                     1\n",
       "Randy Houser                   1\n",
       "Sammi Smith                    1\n",
       "Panic! at the Disco            1\n",
       "Lisa Loeb and Nine Stories     1\n",
       "Rhythm Heritage                1\n",
       "Thin Lizzy                     1\n",
       "Paul Stookey                   1\n",
       "Kirko Bangz                    1\n",
       "Skylark                        1\n",
       "Saving Abel                    1\n",
       "Karmin                         1\n",
       "Tove Lo                        1\n",
       "Default                        1\n",
       "White Town                     1\n",
       "Foo Fighters                   1\n",
       "Jimmy Cliff                    1\n",
       "Terry Jacks                    1\n",
       "dtype: int64"
      ]
     },
     "execution_count": 16,
     "metadata": {},
     "output_type": "execute_result"
    }
   ],
   "source": [
    "artist_appearance_dedup_counts = df_drop.artist.value_counts()\n",
    "artist_appearance_dedup_counts"
   ]
  },
  {
   "cell_type": "markdown",
   "metadata": {},
   "source": [
    "# Illustrate the distribution of artists and the number of unique songs \n",
    "Shows the comparison of prolifict artists versus \"one hit wonders\" (though this is year end data so it is not enough data to call them true one hit wonders)."
   ]
  },
  {
   "cell_type": "code",
   "execution_count": 51,
   "metadata": {
    "collapsed": false
   },
   "outputs": [
    {
     "data": {
      "image/png": "[encoded data removed]",
      "text/plain": [
       "<matplotlib.figure.Figure at 0x7f935e93b910>"
      ]
     },
     "metadata": {},
     "output_type": "display_data"
    }
   ],
   "source": [
    "fig = plt.figure()\n",
    "fig.patch.set_alpha(0.1)\n",
    "plt.hist(artist_appearance_dedup_counts, 34, facecolor='#E91E63')\n",
    "plt.xlabel('# of Charting Songs')\n",
    "plt.ylabel('# of Artists')\n",
    "plt.title('Artist Song Counts, Year-end Billboard Charts (1970-2014)')\n",
    "plt.axis([0, 35, 0, 1100])\n",
    "#plt.grid(True)\n",
    "plt.savefig('artists_with_songs.png', transparent=True)"
   ]
  },
  {
   "cell_type": "code",
   "execution_count": 54,
   "metadata": {
    "collapsed": false
   },
   "outputs": [
    {
     "data": {
      "image/png": "[encoded data removed]",
      "text/plain": [
       "<matplotlib.figure.Figure at 0x7f935e751850>"
      ]
     },
     "metadata": {},
     "output_type": "display_data"
    }
   ],
   "source": [
    "artist_2plus_mask = (artist_appearance_dedup_counts >= 2)\n",
    "artist_2plus = artist_appearance_dedup_counts[artist_2plus_mask]\n",
    "#artist_2plus\n",
    "plt.hist(artist_2plus, 33, facecolor='#E91E63')\n",
    "plt.xlabel('# of Charting Songs')\n",
    "plt.ylabel('# of Artists')\n",
    "plt.title('Artist with Song Counts 2+, Year-end Billboard Charts (1970-2014)')\n",
    "plt.savefig('artists_with_songs_over2.png', transparent=True)"
   ]
  },
  {
   "cell_type": "code",
   "execution_count": 55,
   "metadata": {
    "collapsed": false
   },
   "outputs": [
    {
     "data": {
      "image/png": "[encoded data removed]",
      "text/plain": [
       "<matplotlib.figure.Figure at 0x7f9364d730d0>"
      ]
     },
     "metadata": {},
     "output_type": "display_data"
    }
   ],
   "source": [
    "artist_10plus_mask = (artist_appearance_dedup_counts >= 10)\n",
    "artist_10plus = artist_appearance_dedup_counts[artist_10plus_mask]\n",
    "#artist_10plus\n",
    "plt.hist(artist_10plus, 25, facecolor='#E91E63')\n",
    "plt.xlabel('# of Charting Songs')\n",
    "plt.ylabel('# of Artists')\n",
    "plt.title('Artist with Song Counts 10+, Year-end Billboard Charts (1970-2014)')\n",
    "plt.savefig('artists_with_songs_over10.png', transparent=True)"
   ]
  },
  {
   "cell_type": "markdown",
   "metadata": {},
   "source": [
    "# Prepare counts of artists top songs for each year\n",
    "This will be the data that powers our interactive chart on the website."
   ]
  },
  {
   "cell_type": "code",
   "execution_count": 50,
   "metadata": {
    "collapsed": false
   },
   "outputs": [],
   "source": [
    "df_drop.head()\n",
    "\n",
    "dict_year_artists_song_count = {}\n",
    "year_artists_song_count = []\n",
    "df_year_artists_song_count = None\n",
    "\n",
    "# Extract Artist, Year, and count of songs \n",
    "year_perf_grp = df_drop.groupby(['year', 'artist'])\n",
    "year_perf_grp.groups\n",
    "\n",
    "for year_artist_tuple in year_perf_grp.groups:\n",
    "    year, artist = year_artist_tuple\n",
    "    songs = year_perf_grp.groups[year_artist_tuple]\n",
    "    count = len(songs)\n",
    "    \n",
    "    if not (year in dict_year_artists_song_count):\n",
    "        dict_year_artists_song_count[year] = {}\n",
    "        \n",
    "    dict_year_artists_song_count[year][artist] = count\n",
    "    year_artists_song_count.append({\n",
    "            'year': year,\n",
    "            'artist': artist,\n",
    "            'count': count\n",
    "        })\n",
    "\n",
    "    df_year_artists_song_count = pd.DataFrame(year_artists_song_count)\n",
    "    \n",
    "import json\n",
    "with open('year_artist_song_count.json', 'w') as fp:\n",
    "    json.dump(dict_year_artists_song_count, fp)\n",
    "    \n",
    "df_year_artists_song_count.to_csv('year_artist_song_count.csv', encoding='utf-8')"
   ]
  },
  {
   "cell_type": "markdown",
   "metadata": {},
   "source": [
    "# Find the most popular artist in each year"
   ]
  },
  {
   "cell_type": "code",
   "execution_count": 45,
   "metadata": {
    "collapsed": false
   },
   "outputs": [
    {
     "name": "stdout",
     "output_type": "stream",
     "text": [
      "1970 -- The Jackson 5: 4\n",
      "1971 -- The Carpenters: 3\n",
      "1972 -- Al Green: 3\n",
      "1973 -- War: 3\n",
      "1974 -- Paul McCartney and Wings: 3\n",
      "1975 -- Elton John: 3\n",
      "1976 -- Bee Gees: 2\n",
      "1977 -- Leo Sayer: 3\n",
      "1978 -- Andy Gibb: 3\n",
      "1979 -- Donna Summer: 4\n",
      "1980 -- Eagles: 3\n",
      "1981 -- Diana Ross: 3\n",
      "1982 -- Daryl Hall and John Oates: 3\n",
      "1983 -- Michael Jackson: 5\n",
      "1984 -- Lionel Richie: 4\n",
      "1985 -- Madonna: 5\n",
      "1986 -- Lionel Richie: 3\n",
      "1987 -- Madonna: 4\n",
      "1988 -- George Michael: 5\n",
      "1989 -- Bobby Brown: 5\n",
      "1990 -- Janet Jackson: 5\n",
      "1991 -- C+C Music Factory: 3\n",
      "1992 -- Amy Grant: 3\n",
      "1993 -- Shai: 3\n",
      "1994 -- Babyface: 3\n",
      "1995 -- Boyz II Men: 4\n",
      "1996 -- LL Cool J: 3\n",
      "1997 -- Spice Girls: 3\n",
      "1998 -- Next: 3\n",
      "1999 -- Whitney Houston: 4\n",
      "2000 -- Destiny's Child: 3\n",
      "2001 -- Jennifer Lopez: 3\n",
      "2002 -- Pink: 3\n",
      "2003 -- 50 Cent: 4\n",
      "2004 -- Alicia Keys: 3\n",
      "2005 -- 50 Cent: 4\n",
      "2006 -- Pussycat Dolls: 3\n",
      "2007 -- Justin Timberlake: 4\n",
      "2008 -- Lil Wayne: 4\n",
      "2009 -- beyonce: 4\n",
      "2010 -- The Black Eyed Peas: 4\n",
      "2011 -- Katy Perry: 4\n",
      "2012 -- Rihanna: 4\n",
      "2013 -- Bruno Mars: 3\n",
      "2014 -- Katy Perry: 3\n"
     ]
    }
   ],
   "source": [
    "def most_popular_artist_year():\n",
    "    d = dict_year_artists_song_count\n",
    "    most_pop = {}\n",
    "    \n",
    "    for year in d:\n",
    "        most_count = 0\n",
    "        most_artist = ''\n",
    "\n",
    "        for artist in d[year]:\n",
    "            if (d[year][artist] > most_count):\n",
    "                most_count = d[year][artist]\n",
    "                most_artist = artist\n",
    "        \n",
    "        most_pop[year] = (most_artist, most_count)\n",
    "        print '%d -- %s: %d' % (year, most_artist, most_count)\n",
    "\n",
    "most_popular_artist_year()"
   ]
  },
  {
   "cell_type": "markdown",
   "metadata": {},
   "source": [
    "# Number of artists only appearing once"
   ]
  },
  {
   "cell_type": "code",
   "execution_count": 59,
   "metadata": {
    "collapsed": false
   },
   "outputs": [
    {
     "data": {
      "text/plain": [
       "1006"
      ]
     },
     "execution_count": 59,
     "metadata": {},
     "output_type": "execute_result"
    }
   ],
   "source": [
    "len(artist_appearance_dedup_counts[artist_appearance_dedup_counts == 1])"
   ]
  },
  {
   "cell_type": "markdown",
   "metadata": {},
   "source": [
    "# Number of unique artists"
   ]
  },
  {
   "cell_type": "code",
   "execution_count": 60,
   "metadata": {
    "collapsed": false
   },
   "outputs": [
    {
     "data": {
      "text/plain": [
       "1759"
      ]
     },
     "execution_count": 60,
     "metadata": {},
     "output_type": "execute_result"
    }
   ],
   "source": [
    "len(artist_appearance_dedup_counts)"
   ]
  }
 ],
 "metadata": {
  "kernelspec": {
   "display_name": "Python 2",
   "language": "python",
   "name": "python2"
  },
  "language_info": {
   "codemirror_mode": {
    "name": "ipython",
    "version": 2
   },
   "file_extension": ".py",
   "mimetype": "text/x-python",
   "name": "python",
   "nbconvert_exporter": "python",
   "pygments_lexer": "ipython2",
   "version": "2.7.10"
  }
 },
 "nbformat": 4,
 "nbformat_minor": 0
}
