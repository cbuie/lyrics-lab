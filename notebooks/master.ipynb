{
 "cells": [
  {
   "cell_type": "markdown",
   "metadata": {},
   "source": [
    "#This is the Master Process notebook for Lyrics Lab Project\n",
    "\n",
    "**NOTE: USE CAUTION BEFORE COMMITTING AND UPDATE\n",
    "TEAM FLOW IS FOR EACH MEMBER TO MAINTAIN AN INDIVIDUAL MASTER RESULTS WITHIN THEIR WORKING FOLDER, THEN HAVE 1 PERSON CONSOLIDATE RESULTS.**"
   ]
  },
  {
   "cell_type": "markdown",
   "metadata": {},
   "source": [
    "##Part-1 Data Conditioning\n",
    "\n",
    "All referenced artifacts for this section are within [data](../data) folder. Given some GitHub quirks handling relative urls, it may be easier to navigate the hierarchy directly after reading this summary.\n",
    "\n",
    "**The master dataframe used in analysis which is the consolidation of harvesting efforts can be found at [use-this-master-lyricsdf-extracted.csv](data/conditioned/use-this-master-lyricsdf-extracted.csv)**\n",
    "\n",
    "###Exploration\n",
    "All Data Conditioning Notebook combined or extended lessons learned from [Data-Exploration Notebook](Data-Exploration.ipynb) and [Process-Missing-Lyrics Notebook](Process-Missing-Lyrics.ipynb) to accomplish the finalized conditioning.\n",
    "\n",
    "\n",
    "### Provided Data\n",
    "\n",
    "1. We were able to integrate Billboard Top 100 chart data from [HW1](https://github.com/cs109-students/michaeljohns-2015hw/tree/hw1) **Note: HW1 only considered 1992-2014 (we are using 1970+), so it is a separate integration for specialized use in analysis**\n",
    "  1. The output of HW1 has been placed in [hw1-largedf.csv](../data/provided/hw1-largedf.csv)\n",
    "  1. The integration of our processing pipeline with hw1 (inner join) is at [master-lyricsdf-genre_inner.csv](data/conditioned/master-lyricsdf-genre_inner.csv)\n",
    "1. We were also able to locate some partial data from a student named Samantha Stephens at [HEC Paris](http://www.hec.edu/) who is doing her dissertation on environmental messages put forward by various artists, considering their lyrics:\n",
    "  1. [lyrics from 1970 - 2014](../data/provided/all%20billboard%20top%20100%20songs%20from%201970-2014.xlsx)\n",
    "  1. [key artist popular music](../data/provided/Individual%20Artists%20Data.xlsx)\n",
    "\n",
    "### Harvested Data\n",
    "\n",
    "1. pipeline process implemented to leverage api from lyrics.wikia for song lyrics both abstracts (suitable for partial display to users) and full (suitable for processing needs)\n",
    "    1. URL e.g. [Paul Simon's \"Bridge Over Troubled Water](http://lyrics.wikia.com/wiki/Paul_Simon:Bridge_Over_Troubled_Water)\n",
    "    1. API Metadata e.g. [Joe Bonamassa's \"So Many Roads\"](http://lyrics.wikia.com/api.php?action=lyrics&artist=Joe%20Bonamassa&song=So%20Many%20Roads&fmt=json)  \n",
    "1. maintain the following from initial [lyrics from 1970 - 2014](../../data/provided/all%20billboard%20top%20100%20songs%20from%201970-2014.csv) (which was provided): `postion`, `year`, `title`, `artist`, `title.href` (wikipedia)\n",
    "1. Add the derived columns `decade` and `song_key`\n",
    "\n",
    "Pipeline Notebooks:\n",
    "* [Lyrics-Metadata-Processing Notebook](Lyrics-Metadata-Processing Notebook): resulted in a master dataframe exported to [master-lyricsdf.csv](../../data/conditioned/master-lyricsdf.csv) populated with automated `lyrics_url` and `lyrics_abstract` from lyrics.wikia api (prior to full lyric harvesting).\n",
    "* [Lyrics-Raw-Harvesting Notebook](Lyrics-Raw-Harvesting.ipynb): full lyrics harvesting from `lyrics_url` using a caching strategy to support interrupted and ad-hoc processing.\n",
    "* [Lyrics-Extraction Notebook](Lyrics-Extraction.ipynb): generating and integrating the final lyric corpus and additional cleanup and consolidation, resulting in [use-this-master-lyricsdf-extracted.csv](data/conditioned/use-this-master-lyricsdf-extracted.csv)\n",
    "\n",
    "Here are the rules followed to obtain the final lyric \"master\" corpus to maximize available data:\n",
    "* if a cached lyric extraction is available (i.e. from lyrics.wikia), it goes into df['lyrics']\n",
    "* else if existing df['lyrics'] is valid (i.e. from provided lyrics), it is the keeper\n",
    "* else if df['lyric_abstract'] is valid (i.e. the first 280 chars from lyrics.wikia api), it goes into df ['lyrics']\n",
    "\n",
    "Here is a summary of the Processing Pipeline outcomes relative to the Provided Spreadsheet: \n",
    "* how many songs are in corpus? 4500, representing Billboard Top 100 from 1970 to 2014.\n",
    "* how many new lyrics applied?  4293, meaning the harvesting results from lyrics.wikia accounted for updating the vast majority of lyrics.\n",
    "* how many existing lyrics were preserved?  43, meaning the initially provided lyrics proved more useful in these instances.\n",
    "* how many lyric_abstract were used?  61, meaning the harvested abstracts from lyrics.wikia api metatdata were the best available (first 280 characters)\n",
    "* how many lyrics are invalid (after other rules)?  103, meaning these are empty after automated processing.\n",
    "\n",
    "Additional notes:\n",
    "* Some \"songs\" are instrumentals and have no lyrics. They are counted as valid.\n",
    "* Similar rules as used in conditioning to best full lyrics were applied to have the best lyric abstracts.\n",
    "\n",
    "### NLP Conditioning \n",
    "\n",
    "## TODO: MJ will update with the final master data.\n",
    "\n",
    "* N-Gram - [noun n-gram](../data/conditioned/noun-n-gram.json) and [adjective n-gram](../data/conditioned/adj-n-gram.json)\n",
    "* Vocabs - [noun vocab](../data/conditioned/nounvocab.json) [adjective vocab](../data/conditioned/adjvocab.json)\n",
    "* Id2Word - [noun id2word](../data/conditioned/nounid2word.json) [adjective id2word](../data/conditioned/adjid2word.json)\n",
    "* Corpus - [noun docs](../data/conditioned/corpus.p)\n",
    "\n",
    "### Other Manipuation\n",
    "\n",
    "## TODO: MJ will update with the final master data.\n",
    "\n",
    "* Decades - [decade dict](../data/conditioned/decade-dict.json)\n",
    "* Post-Processing - [lyrics df](../data/conditioned/lyrics_pd_df.csv)"
   ]
  }
 ],
 "metadata": {
  "kernelspec": {
   "display_name": "Python 2",
   "language": "python",
   "name": "python2"
  },
  "language_info": {
   "codemirror_mode": {
    "name": "ipython",
    "version": 2
   },
   "file_extension": ".py",
   "mimetype": "text/x-python",
   "name": "python",
   "nbconvert_exporter": "python",
   "pygments_lexer": "ipython2",
   "version": "2.7.10"
  }
 },
 "nbformat": 4,
 "nbformat_minor": 0
}
