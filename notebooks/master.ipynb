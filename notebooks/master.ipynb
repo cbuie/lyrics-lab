{
 "cells": [
  {
   "cell_type": "markdown",
   "metadata": {},
   "source": [
    "#This is the Master Process notebook for Lyrics Lab Project"
   ]
  },
  {
   "cell_type": "markdown",
   "metadata": {},
   "source": [
    "##Part-1 Data Conditioning\n",
    "\n",
    "**Data conditioning process captured under [Notebook: Data-Exploration](mj/Data-Exploration.ipynb)**\n",
    "\n",
    "All referenced artifacts for this section are within [data](../data) folder. Given some GitHub quirks handling relative urls, it may be easier to navigate the hierarchy directly after reading this summary.\n",
    "\n",
    "### Provided Data\n",
    "\n",
    "We were able to locate data from **TODO**:\n",
    "\n",
    "* [lyrics from 1970 - 2014](../data/provided/all%20billboard%20top%20100%20songs%20from%201970-2014.xlsx)\n",
    "* [key artist popular music](../data/provided/Individual%20Artists%20Data.xlsx)\n",
    "\n",
    "### Harvested Data\n",
    "\n",
    "**TODO** data for 2015, possibly data prior to 1970 (placeholders in data-exploration notebook)\n",
    "\n",
    "### NLP Conditioning \n",
    "\n",
    "* N-Gram - [noun n-gram](../data/conditioned/noun-n-gram.json) and [adjective n-gram](../data/conditioned/adj-n-gram.json)\n",
    "* Vocabs - [noun vocab](../data/conditioned/nounvocab.json) [adjective vocab](../data/conditioned/adjvocab.json)\n",
    "* Id2Word - [noun id2word](../data/conditioned/nounid2word.json) [adjective id2word](../data/conditioned/adjid2word.json)\n",
    "* Corpus - [noun docs](../data/conditioned/corpus.p)\n",
    "\n",
    "### Other Manipuation\n",
    "\n",
    "* Decades - [decade dict](../data/conditioned/decade-dict.json)\n",
    "* Post-Processing - [lyrics df](../data/conditioned/lyrics_pd_df.csv)"
   ]
  }
 ],
 "metadata": {
  "kernelspec": {
   "display_name": "Python 2",
   "language": "python",
   "name": "python2"
  },
  "language_info": {
   "codemirror_mode": {
    "name": "ipython",
    "version": 2
   },
   "file_extension": ".py",
   "mimetype": "text/x-python",
   "name": "python",
   "nbconvert_exporter": "python",
   "pygments_lexer": "ipython2",
   "version": "2.7.10"
  }
 },
 "nbformat": 4,
 "nbformat_minor": 0
}
