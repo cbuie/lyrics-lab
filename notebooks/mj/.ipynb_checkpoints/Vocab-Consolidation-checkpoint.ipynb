{
 "cells": [
  {
   "cell_type": "markdown",
   "metadata": {},
   "source": [
    "#Vocab Consolidation\n",
    "### Adapted concepts from [HW1](https://github.com/cs109-students/michaeljohns-2015hw/blob/hw1/hw1.ipynb) and [HW5 Part1](https://github.com/cs109-students/michaeljohns-2015hw/blob/hw5/hw5part1.ipynb)\n",
    "\n",
    "**This notebook should be locally run by issuing `vagrant up` from project root, then locating the notebook at \"http:\\\\localhost:4545\". You may also need to issue `vagrant provision` to update any required resources.**\n",
    "\n",
    "The following artifacts will be established by manipulating the output of the processing pipeline for harvesting data, file [use-this-master-lyricsdf-extracted.csv](../../data/conditioned/use-this-master-lyricsdf-extracted.csv):\n",
    "* vocabs for noun and adj\n",
    "* n-gram for noun and adj\n",
    "* synonyms for noun and adj\n",
    "* hypernyms for noun and adj\n",
    "\n",
    "Other notes:\n",
    "* this notebook leverages and finalizes exploratory work in [Data-Exploration Notebook](Data-Exploration.ipynb).\n",
    "* outputs are anticipated to be combined in follow-on work for better latent factors, prediction, and recommendation processing (not reflected here)\n",
    "* in other notebooks that use the exact same contents as here, we will establish n-gram and vocab per decade.\n",
    "\n"
   ]
  },
  {
   "cell_type": "code",
   "execution_count": null,
   "metadata": {
    "collapsed": true
   },
   "outputs": [],
   "source": [
    "## SET THE DECADE FOR PROCESS FILTERING\n",
    "## THIS WILL ALLOW SPECIAL PROCESSING\n",
    "decade = None # for no decade filtering, i.e. corpus-wide\n",
    "# decade = 1970\n",
    "# decade = 1980\n",
    "# decade = 1990\n",
    "# decade = 2000\n",
    "# decade = 2010"
   ]
  },
  {
   "cell_type": "markdown",
   "metadata": {},
   "source": [
    "##Imports"
   ]
  },
  {
   "cell_type": "code",
   "execution_count": null,
   "metadata": {
    "collapsed": true
   },
   "outputs": [],
   "source": [
    "%matplotlib inline\n",
    "import numpy as np\n",
    "import scipy as sp\n",
    "import matplotlib as mpl\n",
    "import matplotlib.cm as cm\n",
    "import matplotlib.pyplot as plt\n",
    "import pandas as pd\n",
    "pd.set_option('display.width', 500)\n",
    "pd.set_option('display.max_columns', 100)\n",
    "pd.set_option('display.notebook_repr_html', True)\n",
    "import seaborn as sns\n",
    "sns.set_style(\"whitegrid\")\n",
    "sns.set_context(\"poster\")"
   ]
  },
  {
   "cell_type": "code",
   "execution_count": null,
   "metadata": {
    "collapsed": false
   },
   "outputs": [],
   "source": [
    "## MLJ: Additional Extras\n",
    "import os\n",
    "import time\n",
    "import itertools\n",
    "import json\n",
    "import pickle"
   ]
  },
  {
   "cell_type": "markdown",
   "metadata": {},
   "source": [
    "##Handle Directory for Output"
   ]
  },
  {
   "cell_type": "code",
   "execution_count": null,
   "metadata": {
    "collapsed": true
   },
   "outputs": [],
   "source": [
    "# adapted from https://justgagan.wordpress.com/2010/09/22/python-create-path-or-directories-if-not-exist/\n",
    "def assureDirExists(path):\n",
    "    d = os.path.dirname(path)\n",
    "    if not os.path.exists(d):\n",
    "        os.makedirs(d)"
   ]
  },
  {
   "cell_type": "code",
   "execution_count": null,
   "metadata": {
    "collapsed": false
   },
   "outputs": [],
   "source": [
    "# create requisite directory for processing\n",
    "root_out = \"\"\n",
    "if not decade:\n",
    "    root_out = \"../../data/conditioned/corpus_vocabs/\" #entire corpus\n",
    "else:\n",
    "    root_out = \"../../data/conditioned/decades/\"+str(decade)+\"/\" #single decade\n",
    "    \n",
    "assureDirExists(root_out)"
   ]
  },
  {
   "cell_type": "markdown",
   "metadata": {},
   "source": [
    "##Spark Setup"
   ]
  },
  {
   "cell_type": "code",
   "execution_count": null,
   "metadata": {
    "collapsed": true
   },
   "outputs": [],
   "source": [
    "import os\n",
    "# os.environ['PYSPARK_PYTHON'] = '/anaconda/bin/python'"
   ]
  },
  {
   "cell_type": "code",
   "execution_count": null,
   "metadata": {
    "collapsed": false
   },
   "outputs": [],
   "source": [
    "import findspark\n",
    "findspark.init()\n",
    "print findspark.find()\n",
    "# Depending on your setup you might have to change this line of code\n",
    "#findspark makes sure I dont need the below on homebrew.\n",
    "#os.environ['SPARK_HOME']=\"/usr/local/Cellar/apache-spark/1.5.1/libexec/\"\n",
    "#the below actually broke my spark, so I removed it. \n",
    "#Depending on how you started the notebook, you might need it.\n",
    "# os.environ['PYSPARK_SUBMIT_ARGS']=\"--master local pyspark --executor-memory 4g\""
   ]
  },
  {
   "cell_type": "code",
   "execution_count": null,
   "metadata": {
    "collapsed": false
   },
   "outputs": [],
   "source": [
    "import pyspark\n",
    "conf = (pyspark.SparkConf()\n",
    "    .setMaster('local[4]')\n",
    "    .setAppName('pyspark')\n",
    "    .set(\"spark.executor.memory\", \"2g\"))\n",
    "sc = pyspark.SparkContext(conf=conf)"
   ]
  },
  {
   "cell_type": "code",
   "execution_count": null,
   "metadata": {
    "collapsed": false
   },
   "outputs": [],
   "source": [
    "sc._conf.getAll()"
   ]
  },
  {
   "cell_type": "code",
   "execution_count": null,
   "metadata": {
    "collapsed": false
   },
   "outputs": [],
   "source": [
    "import sys\n",
    "rdd = sc.parallelize(xrange(10),10)\n",
    "rdd.map(lambda x: sys.version).collect()"
   ]
  },
  {
   "cell_type": "code",
   "execution_count": null,
   "metadata": {
    "collapsed": false
   },
   "outputs": [],
   "source": [
    "sys.version"
   ]
  },
  {
   "cell_type": "code",
   "execution_count": null,
   "metadata": {
    "collapsed": true
   },
   "outputs": [],
   "source": [
    "from pyspark.sql import SQLContext\n",
    "sqlsc=SQLContext(sc)"
   ]
  },
  {
   "cell_type": "markdown",
   "metadata": {},
   "source": [
    "#Load Finalized Conditioned Data Into Pandas Dataframe"
   ]
  },
  {
   "cell_type": "code",
   "execution_count": null,
   "metadata": {
    "collapsed": true
   },
   "outputs": [],
   "source": [
    "# load the lyrics from the approved \"master\" dataframe\n",
    "lyrics_pd_df = pd.read_csv(\"../../data/conditioned/use-this-master-lyricsdf-extracted.csv\")  "
   ]
  },
  {
   "cell_type": "code",
   "execution_count": null,
   "metadata": {
    "collapsed": true
   },
   "outputs": [],
   "source": [
    "#FILTER BY DECADE IF SET\n",
    "if decade:\n",
    "    lyrics_pd_df = lyrics_pd_df[lyrics_pd_df['decade'] == decade]"
   ]
  },
  {
   "cell_type": "code",
   "execution_count": null,
   "metadata": {
    "collapsed": false
   },
   "outputs": [],
   "source": [
    "lyrics_pd_df.shape"
   ]
  },
  {
   "cell_type": "code",
   "execution_count": null,
   "metadata": {
    "collapsed": false
   },
   "outputs": [],
   "source": [
    "lyrics_pd_df.head()"
   ]
  },
  {
   "cell_type": "markdown",
   "metadata": {},
   "source": [
    "##Manipulate With Spark"
   ]
  },
  {
   "cell_type": "code",
   "execution_count": null,
   "metadata": {
    "collapsed": false
   },
   "outputs": [],
   "source": [
    "# convert from pandas to spark dataframe\n",
    "lyricsdf = sqlsc.createDataFrame(lyrics_pd_df)"
   ]
  },
  {
   "cell_type": "code",
   "execution_count": null,
   "metadata": {
    "collapsed": false
   },
   "outputs": [],
   "source": [
    "# view output\n",
    "lyricsdf.show(3)"
   ]
  },
  {
   "cell_type": "code",
   "execution_count": null,
   "metadata": {
    "collapsed": false
   },
   "outputs": [],
   "source": [
    "#view output\n",
    "lyricsdf.show(3)"
   ]
  },
  {
   "cell_type": "code",
   "execution_count": null,
   "metadata": {
    "collapsed": false
   },
   "outputs": [],
   "source": [
    "#We cache the data to make sure it is only read once from disk\n",
    "lyricsdf.cache()\n",
    "print \"How many songs do we have?\", lyricsdf.count()"
   ]
  },
  {
   "cell_type": "code",
   "execution_count": null,
   "metadata": {
    "collapsed": false,
    "scrolled": true
   },
   "outputs": [],
   "source": [
    "print \"What is the schema?\", lyricsdf.printSchema()"
   ]
  },
  {
   "cell_type": "markdown",
   "metadata": {},
   "source": [
    "##Sample Lyrics (or Not)"
   ]
  },
  {
   "cell_type": "markdown",
   "metadata": {},
   "source": [
    "Some initial sampling to take from each year."
   ]
  },
  {
   "cell_type": "code",
   "execution_count": null,
   "metadata": {
    "collapsed": true
   },
   "outputs": [],
   "source": [
    "# whether or not to sample lyrics, and how many to sample per year\n",
    "sample_lyrics = False\n",
    "PER_YEAR_SAMPLES=10"
   ]
  },
  {
   "cell_type": "code",
   "execution_count": null,
   "metadata": {
    "collapsed": false
   },
   "outputs": [],
   "source": [
    "#(your code here)\n",
    "def randomSubSampleLyrics(sparkdf,take=PER_YEAR_SAMPLES):    \n",
    "    # generate spark pairs as a tuple\n",
    "    br_pairs = sparkdf.map(lambda r: (r.year, r.song_key))\n",
    "    \n",
    "    # group by key for a list of reviews per business and collect\n",
    "    br_grouped = br_pairs.groupByKey().mapValues(lambda x: list(x)).collect()\n",
    "        \n",
    "    #sample after collect\n",
    "    br_sample = [np.random.choice(v, size=take, replace=False) for k,v in br_grouped]    \n",
    "    \n",
    "    #flatten into a list\n",
    "    return list(itertools.chain.from_iterable(br_sample))\n",
    "    \n",
    "small_song_keys = randomSubSampleLyrics(lyricsdf)"
   ]
  },
  {
   "cell_type": "code",
   "execution_count": null,
   "metadata": {
    "collapsed": false
   },
   "outputs": [],
   "source": [
    "if sample_lyrics:\n",
    "    print \"How many small_song_keys? \", len(small_song_keys)\n",
    "    small_song_keys[:5]\n",
    "else:\n",
    "    print \"No lyric sampling, full processing (change `sample_lyrics` value to `True` to sample)\""
   ]
  },
  {
   "cell_type": "code",
   "execution_count": null,
   "metadata": {
    "collapsed": false
   },
   "outputs": [],
   "source": [
    "print \"execution start --> {}\".format(time.strftime('%a, %d %b %Y %H:%M:%S', time.localtime()))"
   ]
  },
  {
   "cell_type": "code",
   "execution_count": null,
   "metadata": {
    "collapsed": false
   },
   "outputs": [],
   "source": [
    "%%time\n",
    "#(your code here)\n",
    "if sample_lyrics:\n",
    "    ldf=lyricsdf[lyricsdf.song_key.isin(small_song_keys)]#creates new dataframe\n",
    "else:\n",
    "    ldf=lyricsdf"
   ]
  },
  {
   "cell_type": "code",
   "execution_count": null,
   "metadata": {
    "collapsed": false
   },
   "outputs": [],
   "source": [
    "# cache results\n",
    "ldf.cache()"
   ]
  },
  {
   "cell_type": "code",
   "execution_count": null,
   "metadata": {
    "collapsed": false
   },
   "outputs": [],
   "source": [
    "print \"How many lyrics are in ldf? \", ldf.count()"
   ]
  },
  {
   "cell_type": "markdown",
   "metadata": {},
   "source": [
    "##NLP"
   ]
  },
  {
   "cell_type": "code",
   "execution_count": null,
   "metadata": {
    "collapsed": true
   },
   "outputs": [],
   "source": [
    "from pattern.en import parse\n",
    "from pattern.en import pprint\n",
    "from pattern.vector import stem, PORTER, LEMMA\n",
    "punctuation = list('.,;:!?()[]{}`''\\\"@#$^&*+-|=~_')"
   ]
  },
  {
   "cell_type": "code",
   "execution_count": null,
   "metadata": {
    "collapsed": true
   },
   "outputs": [],
   "source": [
    "from sklearn.feature_extraction import text \n",
    "stopwords=text.ENGLISH_STOP_WORDS"
   ]
  },
  {
   "cell_type": "code",
   "execution_count": null,
   "metadata": {
    "collapsed": true
   },
   "outputs": [],
   "source": [
    "import re\n",
    "regex1=re.compile(r\"\\.{2,}\")\n",
    "regex2=re.compile(r\"\\-{2,}\")"
   ]
  },
  {
   "cell_type": "code",
   "execution_count": null,
   "metadata": {
    "collapsed": false
   },
   "outputs": [],
   "source": [
    "print \"Quick Test of parse...\"\n",
    "parse(\"The world is the craziest place. I am working hard.\", tokenize=True, lemmata=True)"
   ]
  },
  {
   "cell_type": "code",
   "execution_count": null,
   "metadata": {
    "collapsed": true
   },
   "outputs": [],
   "source": [
    "def get_parts(thetext):\n",
    "    thetext=re.sub(regex1, ' ', thetext)\n",
    "    thetext=re.sub(regex2, ' ', thetext)\n",
    "    nouns=[]\n",
    "    descriptives=[]\n",
    "    for i,sentence in enumerate(parse(thetext, tokenize=True, lemmata=True).split()):\n",
    "        nouns.append([])\n",
    "        descriptives.append([])\n",
    "        for token in sentence:\n",
    "            #print token\n",
    "            if len(token[4]) >0:\n",
    "                if token[1] in ['JJ', 'JJR', 'JJS']:\n",
    "                    if token[4] in stopwords or token[4][0] in punctuation or token[4][-1] in punctuation or len(token[4])==1:\n",
    "                        continue\n",
    "                    descriptives[i].append(token[4])\n",
    "                elif token[1] in ['NN', 'NNS']:\n",
    "                    if token[4] in stopwords or token[4][0] in punctuation or token[4][-1] in punctuation or len(token[4])==1:\n",
    "                        continue\n",
    "                    nouns[i].append(token[4])\n",
    "    out=zip(nouns, descriptives)\n",
    "    nouns2=[]\n",
    "    descriptives2=[]\n",
    "    for n,d in out:\n",
    "        if len(n)!=0 and len(d)!=0:\n",
    "            nouns2.append(n)\n",
    "            descriptives2.append(d)\n",
    "    return nouns2, descriptives2"
   ]
  },
  {
   "cell_type": "code",
   "execution_count": null,
   "metadata": {
    "collapsed": false
   },
   "outputs": [],
   "source": [
    "print \"Quick check of get_parts ...\"\n",
    "get_parts(\"Have had many other items and just love the food. The patio...job was and...perfect. Lunch is good, and the only egg is great\")"
   ]
  },
  {
   "cell_type": "markdown",
   "metadata": {},
   "source": [
    "###Run Get Parts on Provided Data"
   ]
  },
  {
   "cell_type": "code",
   "execution_count": null,
   "metadata": {
    "collapsed": true
   },
   "outputs": [],
   "source": [
    "#(your code here)\n",
    "lyric_parts = ldf.map(lambda r : get_parts(r.lyrics))"
   ]
  },
  {
   "cell_type": "code",
   "execution_count": null,
   "metadata": {
    "collapsed": false
   },
   "outputs": [],
   "source": [
    "# view output\n",
    "lyric_parts.take(2)"
   ]
  },
  {
   "cell_type": "code",
   "execution_count": null,
   "metadata": {
    "collapsed": false
   },
   "outputs": [],
   "source": [
    "print \"execution start --> {}\".format(time.strftime('%a, %d %b %Y %H:%M:%S', time.localtime()))"
   ]
  },
  {
   "cell_type": "code",
   "execution_count": null,
   "metadata": {
    "collapsed": false
   },
   "outputs": [],
   "source": [
    "%%time\n",
    "parseout=lyric_parts.collect()"
   ]
  },
  {
   "cell_type": "markdown",
   "metadata": {},
   "source": [
    "##Vocab\n",
    "###Nouns"
   ]
  },
  {
   "cell_type": "code",
   "execution_count": null,
   "metadata": {
    "collapsed": false
   },
   "outputs": [],
   "source": [
    "print \"How many parseout entries? \", len(parseout)"
   ]
  },
  {
   "cell_type": "code",
   "execution_count": null,
   "metadata": {
    "collapsed": false
   },
   "outputs": [],
   "source": [
    "# flatten parseout to create initial noun rdd\n",
    "nounrdd=sc.parallelize([ele[0] for ele in parseout]).flatMap(lambda l: l)"
   ]
  },
  {
   "cell_type": "code",
   "execution_count": null,
   "metadata": {
    "collapsed": false
   },
   "outputs": [],
   "source": [
    "# view output\n",
    "nounrdd.take(5)"
   ]
  },
  {
   "cell_type": "code",
   "execution_count": null,
   "metadata": {
    "collapsed": false
   },
   "outputs": [],
   "source": [
    "# cache results\n",
    "nounrdd.cache()"
   ]
  },
  {
   "cell_type": "code",
   "execution_count": null,
   "metadata": {
    "collapsed": false
   },
   "outputs": [],
   "source": [
    "# straight reduce for overall word counts\n",
    "nwordsrdd = (nounrdd.flatMap(lambda word: word)\n",
    "             .map(lambda word: (word, 1))\n",
    "             .reduceByKey(lambda a, b: a + b)\n",
    ")"
   ]
  },
  {
   "cell_type": "code",
   "execution_count": null,
   "metadata": {
    "collapsed": false
   },
   "outputs": [],
   "source": [
    "# view output\n",
    "nwordsrdd.take(5)"
   ]
  },
  {
   "cell_type": "code",
   "execution_count": null,
   "metadata": {
    "collapsed": false
   },
   "outputs": [],
   "source": [
    "# top n, based on values, sorted descending\n",
    "nwordsrdd.takeOrdered(10, key = lambda x: -x[1])"
   ]
  },
  {
   "cell_type": "code",
   "execution_count": null,
   "metadata": {
    "collapsed": false
   },
   "outputs": [],
   "source": [
    "nwordsrdd.cache()"
   ]
  },
  {
   "cell_type": "code",
   "execution_count": null,
   "metadata": {
    "collapsed": false
   },
   "outputs": [],
   "source": [
    "# collect all the words and cache\n",
    "nounvocabtups = (nwordsrdd\n",
    "             .map(lambda (x,y): x)\n",
    "             .zipWithIndex()\n",
    ")"
   ]
  },
  {
   "cell_type": "code",
   "execution_count": null,
   "metadata": {
    "collapsed": false
   },
   "outputs": [],
   "source": [
    "# view output\n",
    "nounvocabtups.take(3)"
   ]
  },
  {
   "cell_type": "code",
   "execution_count": null,
   "metadata": {
    "collapsed": false
   },
   "outputs": [],
   "source": [
    "# cache results\n",
    "nounvocabtups.cache()"
   ]
  },
  {
   "cell_type": "code",
   "execution_count": null,
   "metadata": {
    "collapsed": true
   },
   "outputs": [],
   "source": [
    "# collect results\n",
    "nounvocab=nounvocabtups.collectAsMap()\n",
    "nounid2word=nounvocabtups.map(lambda (x,y): (y,x)).collectAsMap()"
   ]
  },
  {
   "cell_type": "code",
   "execution_count": null,
   "metadata": {
    "collapsed": false
   },
   "outputs": [],
   "source": [
    "# since sampling may be used, avoiding more common usage, e.g. `nounvocab['dance']`\n",
    "nounid2word[0], nounvocab.keys()[5], nounvocab[nounvocab.keys()[5]]"
   ]
  },
  {
   "cell_type": "code",
   "execution_count": null,
   "metadata": {
    "collapsed": false
   },
   "outputs": [],
   "source": [
    "print \"How big is the noun vocabulary? \", len(nounvocab.keys())"
   ]
  },
  {
   "cell_type": "markdown",
   "metadata": {},
   "source": [
    "###Adjectives"
   ]
  },
  {
   "cell_type": "code",
   "execution_count": null,
   "metadata": {
    "collapsed": true
   },
   "outputs": [],
   "source": [
    "# create initial adj rdd from parseout\n",
    "adjrdd=sc.parallelize([ele[1] for ele in parseout])"
   ]
  },
  {
   "cell_type": "code",
   "execution_count": null,
   "metadata": {
    "collapsed": false
   },
   "outputs": [],
   "source": [
    "# view output\n",
    "adjrdd.take(3)"
   ]
  },
  {
   "cell_type": "code",
   "execution_count": null,
   "metadata": {
    "collapsed": false
   },
   "outputs": [],
   "source": [
    "# cache results\n",
    "adjrdd.cache()"
   ]
  },
  {
   "cell_type": "code",
   "execution_count": null,
   "metadata": {
    "collapsed": true
   },
   "outputs": [],
   "source": [
    "# straight reduce for overall word counts\n",
    "awordsrdd = (adjrdd\n",
    "             .flatMap(lambda l: l)\n",
    "             .flatMap(lambda word: word)\n",
    "             .map(lambda word: (word, 1))\n",
    "             .reduceByKey(lambda a, b: a + b)\n",
    ")"
   ]
  },
  {
   "cell_type": "code",
   "execution_count": null,
   "metadata": {
    "collapsed": false
   },
   "outputs": [],
   "source": [
    "# view output\n",
    "awordsrdd.take(5)"
   ]
  },
  {
   "cell_type": "code",
   "execution_count": null,
   "metadata": {
    "collapsed": false
   },
   "outputs": [],
   "source": [
    "# top n, based on values, sorted descending\n",
    "awordsrdd.takeOrdered(10, key = lambda x: -x[1])"
   ]
  },
  {
   "cell_type": "code",
   "execution_count": null,
   "metadata": {
    "collapsed": false
   },
   "outputs": [],
   "source": [
    "# cache results\n",
    "awordsrdd.cache()"
   ]
  },
  {
   "cell_type": "code",
   "execution_count": null,
   "metadata": {
    "collapsed": true
   },
   "outputs": [],
   "source": [
    "#(your code here)\n",
    "adjvocabtups = (awordsrdd\n",
    "              .map(lambda (x,y): x)\n",
    "              .zipWithIndex()\n",
    ")"
   ]
  },
  {
   "cell_type": "code",
   "execution_count": null,
   "metadata": {
    "collapsed": false
   },
   "outputs": [],
   "source": [
    "# view output\n",
    "adjvocabtups.take(3)"
   ]
  },
  {
   "cell_type": "code",
   "execution_count": null,
   "metadata": {
    "collapsed": false
   },
   "outputs": [],
   "source": [
    "# cache results\n",
    "adjvocabtups.cache()"
   ]
  },
  {
   "cell_type": "code",
   "execution_count": null,
   "metadata": {
    "collapsed": true
   },
   "outputs": [],
   "source": [
    "# collect results\n",
    "adjvocab=adjvocabtups.collectAsMap()\n",
    "adjid2word=adjvocabtups.map(lambda (x,y): (y,x)).collectAsMap()"
   ]
  },
  {
   "cell_type": "code",
   "execution_count": null,
   "metadata": {
    "collapsed": false
   },
   "outputs": [],
   "source": [
    "# since sampling may be used, avoiding more common usage, e.g. `adjvocab['exotic']`\n",
    "adjid2word[0], adjvocab.keys()[5], adjvocab[adjvocab.keys()[5]]"
   ]
  },
  {
   "cell_type": "code",
   "execution_count": null,
   "metadata": {
    "collapsed": false
   },
   "outputs": [],
   "source": [
    "print \"How big is the adjective vocabulary? \", len(adjvocab)"
   ]
  },
  {
   "cell_type": "markdown",
   "metadata": {},
   "source": [
    "##Document Corpus"
   ]
  },
  {
   "cell_type": "code",
   "execution_count": null,
   "metadata": {
    "collapsed": false
   },
   "outputs": [],
   "source": [
    "##################################################################################################\n",
    "# CITATION - Use of counter for reduce within each word list from:\n",
    "# http://stackoverflow.com/questions/2600191/how-can-i-count-the-occurrences-of-a-list-item-in-python\n",
    "##################################################################################################\n",
    "from collections import Counter\n",
    "\n",
    "# for each sentence, reduct into a list of tuple k,v where k=vocab index and v=count, \n",
    "# each word list is sorted by occurence\n",
    "documents = nounrdd.map(lambda words: Counter([nounvocab[word] for word in words]).most_common())"
   ]
  },
  {
   "cell_type": "code",
   "execution_count": null,
   "metadata": {
    "collapsed": false
   },
   "outputs": [],
   "source": [
    "# verify output\n",
    "documents.take(1)"
   ]
  },
  {
   "cell_type": "code",
   "execution_count": null,
   "metadata": {
    "collapsed": true
   },
   "outputs": [],
   "source": [
    "# gather spark results\n",
    "corpus=documents.collect()"
   ]
  },
  {
   "cell_type": "markdown",
   "metadata": {},
   "source": [
    "##Save Spark Conditioning"
   ]
  },
  {
   "cell_type": "markdown",
   "metadata": {},
   "source": [
    "###Part of Speech Nouns / Adjectives (Original Lyrics Array)"
   ]
  },
  {
   "cell_type": "code",
   "execution_count": null,
   "metadata": {
    "collapsed": false
   },
   "outputs": [],
   "source": [
    "ncollect = sc.parallelize([ele[0] for ele in parseout]).collect()\n",
    "acollect = sc.parallelize([ele[1] for ele in parseout]).collect()"
   ]
  },
  {
   "cell_type": "code",
   "execution_count": null,
   "metadata": {
    "collapsed": false
   },
   "outputs": [],
   "source": [
    "print \"How many noun rows? \", len(ncollect)\n",
    "print \"How many adjective rows? \", len(acollect)"
   ]
  },
  {
   "cell_type": "code",
   "execution_count": null,
   "metadata": {
    "collapsed": false
   },
   "outputs": [],
   "source": [
    "print ncollect[:3]"
   ]
  },
  {
   "cell_type": "code",
   "execution_count": null,
   "metadata": {
    "collapsed": false
   },
   "outputs": [],
   "source": [
    "print acollect[:3]"
   ]
  },
  {
   "cell_type": "code",
   "execution_count": null,
   "metadata": {
    "collapsed": true
   },
   "outputs": [],
   "source": [
    "# save ncollect\n",
    "with open(root_out+'noun_collect.json', 'w') as fp:\n",
    "    json.dump(ncollect, fp)"
   ]
  },
  {
   "cell_type": "code",
   "execution_count": null,
   "metadata": {
    "collapsed": true
   },
   "outputs": [],
   "source": [
    "# save acollect\n",
    "with open(root_out+'adj_collect.json', 'w') as fp:\n",
    "    json.dump(acollect, fp)"
   ]
  },
  {
   "cell_type": "markdown",
   "metadata": {},
   "source": [
    "###Unique words per lyric"
   ]
  },
  {
   "cell_type": "code",
   "execution_count": null,
   "metadata": {
    "collapsed": false
   },
   "outputs": [],
   "source": [
    "# Word Reduction per document\n",
    "def buildWordReduction(collected):\n",
    "    ngram_reduced = []\n",
    "    for r in collected:\n",
    "        v = []\n",
    "        for rr in r:\n",
    "            for i in rr:\n",
    "                if not i in v:\n",
    "                    v.append(i)\n",
    "        ngram_reduced.append(v)\n",
    "    return ngram_reduced"
   ]
  },
  {
   "cell_type": "code",
   "execution_count": null,
   "metadata": {
    "collapsed": false
   },
   "outputs": [],
   "source": [
    "nreduction = buildWordReduction(ncollect)\n",
    "areduction = buildWordReduction(acollect)"
   ]
  },
  {
   "cell_type": "code",
   "execution_count": null,
   "metadata": {
    "collapsed": false
   },
   "outputs": [],
   "source": [
    "nreduction[2]"
   ]
  },
  {
   "cell_type": "code",
   "execution_count": null,
   "metadata": {
    "collapsed": false
   },
   "outputs": [],
   "source": [
    "# save noun word reduction\n",
    "with open(root_out+'noun-word-reduction.json', 'w') as fp:\n",
    "    json.dump(nreduction, fp)"
   ]
  },
  {
   "cell_type": "code",
   "execution_count": null,
   "metadata": {
    "collapsed": true
   },
   "outputs": [],
   "source": [
    "# save adj word reduction\n",
    "with open(root_out+'adj-word-reduction.json', 'w') as fp:\n",
    "    json.dump(areduction, fp)"
   ]
  },
  {
   "cell_type": "markdown",
   "metadata": {},
   "source": [
    "###N-Gram Specific\n",
    "**Want Raw n-gram for total words, then reduced n-gram for 1x per document max**"
   ]
  },
  {
   "cell_type": "code",
   "execution_count": null,
   "metadata": {
    "collapsed": false
   },
   "outputs": [],
   "source": [
    "# save noun n-gram (raw)\n",
    "with open(root_out+'noun-n-gram.json', 'w') as fp:\n",
    "    json.dump(dict(nwordsrdd.collect()), fp)"
   ]
  },
  {
   "cell_type": "code",
   "execution_count": null,
   "metadata": {
    "collapsed": true
   },
   "outputs": [],
   "source": [
    "# save adjective n-gram (raw)\n",
    "with open(root_out+'adj-n-gram.json', 'w') as fp:\n",
    "    json.dump(dict(awordsrdd.collect()), fp)"
   ]
  },
  {
   "cell_type": "code",
   "execution_count": null,
   "metadata": {
    "collapsed": true
   },
   "outputs": [],
   "source": [
    "# build from nreduction and areduction to get actual counts.\n",
    "def buildNgramReduced(reduction):\n",
    "    return (sc.parallelize(reduction)\n",
    "          .flatMap(lambda word: word)\n",
    "          .map(lambda word: (word, 1))\n",
    "          .reduceByKey(lambda a, b: a + b)\n",
    "       ).collect()"
   ]
  },
  {
   "cell_type": "code",
   "execution_count": null,
   "metadata": {
    "collapsed": true
   },
   "outputs": [],
   "source": [
    "n_ngram_reduced = buildNgramReduced(nreduction)\n",
    "a_ngram_reduced = buildNgramReduced(areduction)"
   ]
  },
  {
   "cell_type": "code",
   "execution_count": null,
   "metadata": {
    "collapsed": true
   },
   "outputs": [],
   "source": [
    "# save reduced noun n-gram\n",
    "with open(root_out+'noun_n-gram_reduced.json', 'w') as fp:\n",
    "    json.dump(n_ngram_reduced, fp)"
   ]
  },
  {
   "cell_type": "code",
   "execution_count": null,
   "metadata": {
    "collapsed": true
   },
   "outputs": [],
   "source": [
    "# save reduced adj n-gram\n",
    "with open(root_out+'adj_n-gram_reduced.json', 'w') as fp:\n",
    "    json.dump(a_ngram_reduced, fp)"
   ]
  },
  {
   "cell_type": "markdown",
   "metadata": {},
   "source": [
    "###Vocab, id2word"
   ]
  },
  {
   "cell_type": "code",
   "execution_count": null,
   "metadata": {
    "collapsed": false
   },
   "outputs": [],
   "source": [
    "# save noun vocab and id2word\n",
    "with open(root_out+'nounvocab.json', 'w') as fp:\n",
    "    json.dump(nounvocab, fp)\n",
    "    \n",
    "with open(root_out+'nounid2word.json', 'w') as fp:\n",
    "    json.dump(nounid2word, fp)    "
   ]
  },
  {
   "cell_type": "code",
   "execution_count": null,
   "metadata": {
    "collapsed": true
   },
   "outputs": [],
   "source": [
    "# save adj vocab and id2word\n",
    "with open(root_out+'adjvocab.json', 'w') as fp:\n",
    "    json.dump(adjvocab, fp)\n",
    "    \n",
    "with open(root_out+'adjid2word.json', 'w') as fp:\n",
    "    json.dump(adjid2word, fp) "
   ]
  },
  {
   "cell_type": "markdown",
   "metadata": {},
   "source": [
    "###Corpus"
   ]
  },
  {
   "cell_type": "code",
   "execution_count": null,
   "metadata": {
    "collapsed": false
   },
   "outputs": [],
   "source": [
    "# save corpus\n",
    "pickle.dump( corpus, open( root_out+'corpus.p', \"wb\" ) )"
   ]
  },
  {
   "cell_type": "markdown",
   "metadata": {},
   "source": [
    "##Synonyms"
   ]
  },
  {
   "cell_type": "markdown",
   "metadata": {},
   "source": [
    "###Synonym Lookups\n",
    "Focus on WordNet python package within [nltk](http://www.nltk.org) via [textblob](https://textblob.readthedocs.org/en/dev/)\n",
    "The main idea is to lookup all words in the noun and adj vocab dictionaries and attempt to collapse down -- where possible -- to synonyms. The synonyms can be used for common_support also."
   ]
  },
  {
   "cell_type": "code",
   "execution_count": null,
   "metadata": {
    "collapsed": false
   },
   "outputs": [],
   "source": [
    "from textblob.wordnet import Synset\n",
    "from textblob.wordnet import NOUN\n",
    "from textblob.wordnet import ADJ\n",
    "\n",
    "SIM_THRESHOLD = 1.0 # Only act on values at/above threshold"
   ]
  },
  {
   "cell_type": "code",
   "execution_count": null,
   "metadata": {
    "collapsed": true
   },
   "outputs": [],
   "source": [
    "## COMMON METHODS FOR SYNSETS\n",
    "def synsetStr(syn):\n",
    "    \"\"\"\n",
    "    attempt to parse the string from a Synset, e.g. Synset('dog.n.01') would return 'dog'\n",
    "    return String or None\n",
    "    \"\"\"\n",
    "    try:\n",
    "        return syn.name().split('.')[0]\n",
    "    except Exception:\n",
    "        return None\n",
    "    \n",
    "def flattenSynsetValues(syn_dict, skip_invalid=True, replace_invalid=None):\n",
    "    \"\"\"\n",
    "    flatten synset values in dictionary using params\n",
    "    \"\"\"\n",
    "    d = {}\n",
    "    for k,v in syn_dict.iteritems():\n",
    "        if v:\n",
    "            d[k] = synsetStr(v)\n",
    "        elif not skip_invalid:\n",
    "            d[k] = replace_invalid\n",
    "    return d"
   ]
  },
  {
   "cell_type": "code",
   "execution_count": null,
   "metadata": {
    "collapsed": false
   },
   "outputs": [],
   "source": [
    "## CORE FUNCTIONS FOR BUILDING SIMILARITY MATRIX\n",
    "\n",
    "def posToSingle(pos):\n",
    "    \"\"\"\n",
    "    Keep up with which pos values are implemented.\n",
    "    \"\"\"\n",
    "    if pos == NOUN:\n",
    "        return \"n\"\n",
    "    elif pos == ADJ:\n",
    "        return \"a\"\n",
    "    return None # essentially, else clause\n",
    "\n",
    "\n",
    "def cachedSynsetOrBuild(idx, syns, p, id_lookup):\n",
    "    \"\"\"\n",
    "    Build Synset for given `idx`, using the `id_lookup`.\n",
    "    Facilitate O(n) computational complexity by caching results.\n",
    "    \n",
    "    --- Input ---\n",
    "    idx: id to build and cache\n",
    "    syns: existing dictionary of synsets, with k: id, v: Synset or None\n",
    "    p: String pos value in the form needed for Synset generation, see `posToSingle`\n",
    "    id_lookup: dictionary for noun / adj to build n x n matrix of similarity.\n",
    "    \n",
    "    --- Return ---\n",
    "    Synset or None\n",
    "    \"\"\"\n",
    "    if idx in syns:\n",
    "        return syns[idx] \n",
    "        \n",
    "    # focus on `.01` only\n",
    "    try:                      \n",
    "        syn = Synset(\"{}.{}.01\".format(id_lookup[idx],p))\n",
    "        syns[idx] = syn\n",
    "        return syn\n",
    "    except Exception:\n",
    "        syns[idx] = None\n",
    "        return None\n",
    "\n",
    "def similarityMatrix(id2word, pos, take_n=None):\n",
    "    \"\"\"\n",
    "    ##############################################################\n",
    "    Build matrix of synsets for given id2word dictionary.    \n",
    "    Optionally, only build a similarity matrix for the first n values.\n",
    "    \n",
    "    --- Input ---    \n",
    "    id2word: dictionary for noun / adj to build n x n matrix of similarity.\n",
    "    pos: WordNet position, `NOUN` or `ADJ` imported based on needs\n",
    "    take_n: whether take the first n values for testing, default=None\n",
    "    \n",
    "    --- Return ---\n",
    "    return a tuple, t where\n",
    "    t[0]: n x n matrix with raw similarity score or zero\n",
    "    t[1]: dictionary of synsets with k: id, v: Synset or None\n",
    "    ##############################################################    \n",
    "    \"\"\"    \n",
    "    syns = {} # obtain O(n)\n",
    "    p = posToSingle(pos)\n",
    "    \n",
    "    # determine n\n",
    "    n = len(id2word)\n",
    "    if take_n:\n",
    "        n = take_n\n",
    "    \n",
    "    # n x n matrix, initialized with zeros \n",
    "    matrix = np.zeros((n,n))\n",
    "    \n",
    "    # populate\n",
    "    ns = range(n)\n",
    "    for i in ns:  \n",
    "        isyn = cachedSynsetOrBuild(i,syns,p,id2word)       \n",
    "        for j in ns:\n",
    "            # find j in synset\n",
    "            jsyn = None\n",
    "            if isyn:\n",
    "                jsyn = cachedSynsetOrBuild(j,syns,p,id2word) # no reason unless isyn is ok\n",
    "        \n",
    "            # update matrix with path_similarity between i and j words\n",
    "            if isyn and jsyn:            \n",
    "                ps = isyn.path_similarity(jsyn)            \n",
    "                if ps:\n",
    "                    matrix[i][j] = ps\n",
    "            \n",
    "    return matrix, syns"
   ]
  },
  {
   "cell_type": "code",
   "execution_count": null,
   "metadata": {
    "collapsed": false
   },
   "outputs": [],
   "source": [
    "## FUNCTIONS FOR EVALUATING SIMILARITY MATRIX RESULTS\n",
    "\n",
    "def getSimilarityPairs(matrix, print_n=None, id_lookup=None, sim_threshold=SIM_THRESHOLD): \n",
    "    \"\"\"\n",
    "    print non zero similarities, ignoring diagonals.\n",
    "    Optionally, show only first n non zeros then return.\n",
    "    Optionally, lookup ids with words.\n",
    "    Optionally, only evaluate values at/above a threshold.\n",
    "    \"\"\"\n",
    "    \n",
    "    pairs = []\n",
    "    \n",
    "    ns = range(len(matrix))      \n",
    "    c = 0\n",
    "    for i in ns:\n",
    "        for j in ns:\n",
    "            v = matrix[i][j] \n",
    "            \n",
    "            # handle sim_threshold\n",
    "            met_threshold = True\n",
    "            if sim_threshold and v < sim_threshold:\n",
    "                met_threshold = False\n",
    "            elif not v:\n",
    "                met_threshold = False\n",
    "                    \n",
    "            if (i != j) and met_threshold:                \n",
    "                if not print_n or c < print_n:\n",
    "                    c += 1\n",
    "                    s_i = i\n",
    "                    s_j = j\n",
    "                    if id_lookup:\n",
    "                        s_i = id_lookup[i]\n",
    "                        s_j = id_lookup[j]\n",
    "                    if print_n:    \n",
    "                        print \"{},{} --> {}\".format(s_i,s_j,v)\n",
    "                    pairs.append((s_i,s_j))\n",
    "                elif print_n:\n",
    "                    return pairs\n",
    "    return pairs\n",
    "                \n",
    "def countSimilarityPairs(matrix, sim_threshold=SIM_THRESHOLD):\n",
    "    \"\"\"\n",
    "    count non zero similarities, ignoring diagonals.\n",
    "    Optionally, only evaluate values at/above a threshold.    \n",
    "    \"\"\"\n",
    "    c = 0\n",
    "    ns = range(len(matrix))         \n",
    "    for i in ns:\n",
    "        for j in ns:\n",
    "            v = matrix[i][j]\n",
    "            \n",
    "            # handle sim_threshold\n",
    "            met_threshold = True\n",
    "            if sim_threshold and v < sim_threshold:\n",
    "                met_threshold = False\n",
    "            elif not v:\n",
    "                met_threshold = False\n",
    "            \n",
    "            if (i != j) and met_threshold:                \n",
    "                c += 1                    \n",
    "    return c"
   ]
  },
  {
   "cell_type": "code",
   "execution_count": null,
   "metadata": {
    "collapsed": false
   },
   "outputs": [],
   "source": [
    "print \"execution start --> {}\".format(time.strftime('%a, %d %b %Y %H:%M:%S', time.localtime()))"
   ]
  },
  {
   "cell_type": "code",
   "execution_count": null,
   "metadata": {
    "collapsed": false
   },
   "outputs": [],
   "source": [
    "%%time\n",
    "# build adj similarity matrix\n",
    "asimatrix, asyns = similarityMatrix(adjid2word, ADJ)"
   ]
  },
  {
   "cell_type": "code",
   "execution_count": null,
   "metadata": {
    "collapsed": false
   },
   "outputs": [],
   "source": [
    "# Count non-zero similarities for adjectivies at/above SIM_THRESHOLD, ignoring diagonal\n",
    "countSimilarityPairs(asimatrix)"
   ]
  },
  {
   "cell_type": "code",
   "execution_count": null,
   "metadata": {
    "collapsed": false
   },
   "outputs": [],
   "source": [
    "# Check adj similarity results, are they any good?\n",
    "getSimilarityPairs(asimatrix, print_n=10, id_lookup=adjid2word)\n",
    "\n",
    "# build the actual (to be dumped) variables <-- NOTE: Hypernyms will be built from here!\n",
    "asimpairs_words = getSimilarityPairs(asimatrix, id_lookup=adjid2word)\n",
    "asimpairs_ids = getSimilarityPairs(asimatrix)"
   ]
  },
  {
   "cell_type": "code",
   "execution_count": null,
   "metadata": {
    "collapsed": false
   },
   "outputs": [],
   "source": [
    "len(asimpairs_words)"
   ]
  },
  {
   "cell_type": "code",
   "execution_count": null,
   "metadata": {
    "collapsed": false
   },
   "outputs": [],
   "source": [
    "print \"execution start --> {}\".format(time.strftime('%a, %d %b %Y %H:%M:%S', time.localtime()))"
   ]
  },
  {
   "cell_type": "code",
   "execution_count": null,
   "metadata": {
    "collapsed": false
   },
   "outputs": [],
   "source": [
    "%%time\n",
    "# build noun similarity matrix (can take 30+ minutes!!!)\n",
    "nsimatrix, nsyns = similarityMatrix(nounid2word, NOUN)"
   ]
  },
  {
   "cell_type": "code",
   "execution_count": null,
   "metadata": {
    "collapsed": false
   },
   "outputs": [],
   "source": [
    "# Count non-zero similarities for nouns at/above SIM_THRESHOLD, ignoring diagonal\n",
    "countSimilarityPairs(nsimatrix)"
   ]
  },
  {
   "cell_type": "code",
   "execution_count": null,
   "metadata": {
    "collapsed": false
   },
   "outputs": [],
   "source": [
    "# Check noun similarity results, are they any good?\n",
    "getSimilarityPairs(nsimatrix, print_n = 10, id_lookup=nounid2word)\n",
    "\n",
    "# build the actual (to be dumped) variables <-- NOTE: Hypernyms will be built from here!\n",
    "nsimpairs_words = getSimilarityPairs(nsimatrix, id_lookup=nounid2word)\n",
    "nsimpairs_ids = getSimilarityPairs(nsimatrix)"
   ]
  },
  {
   "cell_type": "code",
   "execution_count": null,
   "metadata": {
    "collapsed": false
   },
   "outputs": [],
   "source": [
    "len(nsimpairs_words)"
   ]
  },
  {
   "cell_type": "markdown",
   "metadata": {},
   "source": [
    "###Save Synonym work\n",
    "####Similarity Matrix and Synsets"
   ]
  },
  {
   "cell_type": "code",
   "execution_count": null,
   "metadata": {
    "collapsed": false
   },
   "outputs": [],
   "source": [
    "# save asimatrix\n",
    "pickle.dump( asimatrix, open(root_out+'asimatrix.p', \"wb\" ) )  "
   ]
  },
  {
   "cell_type": "code",
   "execution_count": null,
   "metadata": {
    "collapsed": true
   },
   "outputs": [],
   "source": [
    "# flatten and save asyns\n",
    "with open(root_out+'asyns.json', 'w') as fp:\n",
    "    json.dump(flattenSynsetValues(asyns), fp)"
   ]
  },
  {
   "cell_type": "code",
   "execution_count": null,
   "metadata": {
    "collapsed": false
   },
   "outputs": [],
   "source": [
    "# save nsimatrix\n",
    "pickle.dump( nsimatrix, open(root_out+'nsimatrix.p', \"wb\" ) )\n"
   ]
  },
  {
   "cell_type": "code",
   "execution_count": null,
   "metadata": {
    "collapsed": false
   },
   "outputs": [],
   "source": [
    "# flatten and save nsyns\n",
    "with open(root_out+'nsyns.json', 'w') as fp:\n",
    "    json.dump(flattenSynsetValues(nsyns), fp)"
   ]
  },
  {
   "cell_type": "markdown",
   "metadata": {},
   "source": [
    "####Similarity Pairs"
   ]
  },
  {
   "cell_type": "code",
   "execution_count": null,
   "metadata": {
    "collapsed": true
   },
   "outputs": [],
   "source": [
    "with open(root_out+'asimpairs_ids.json', 'w') as fp:\n",
    "    json.dump(asimpairs_ids, fp)  "
   ]
  },
  {
   "cell_type": "code",
   "execution_count": null,
   "metadata": {
    "collapsed": true
   },
   "outputs": [],
   "source": [
    "with open(root_out+'asimpairs_words.json', 'w') as fp:\n",
    "    json.dump(asimpairs_words, fp)"
   ]
  },
  {
   "cell_type": "code",
   "execution_count": null,
   "metadata": {
    "collapsed": true
   },
   "outputs": [],
   "source": [
    "with open(root_out+'nsimpairs_ids.json', 'w') as fp:\n",
    "    json.dump(nsimpairs_words, fp)"
   ]
  },
  {
   "cell_type": "code",
   "execution_count": null,
   "metadata": {
    "collapsed": true
   },
   "outputs": [],
   "source": [
    "with open(root_out+'nsimpairs_words.json', 'w') as fp:\n",
    "    json.dump(nsimpairs_words, fp)"
   ]
  },
  {
   "cell_type": "markdown",
   "metadata": {},
   "source": [
    "##Hypernyms\n",
    "find the lowest common [hypernym](https://en.wikipedia.org/wiki/Hyponymy_and_hypernymy) between similar"
   ]
  },
  {
   "cell_type": "code",
   "execution_count": null,
   "metadata": {
    "collapsed": false
   },
   "outputs": [],
   "source": [
    "#Quick Test\n",
    "Synset('dog.n.01').lowest_common_hypernyms(Synset('cat.n.01'))[0]"
   ]
  },
  {
   "cell_type": "code",
   "execution_count": null,
   "metadata": {
    "collapsed": true
   },
   "outputs": [],
   "source": [
    "# ## CORE FUNCTIONS FOR BUILDING HYPERNYM -- THIS USES SIMATRIX\n",
    "\n",
    "# def makeOrderedTuple(idx1, idx2):\n",
    "#     if idx1 > idx2:\n",
    "#         return (idx2,idx1) \n",
    "#     return (idx1,idx2) \n",
    "\n",
    "# def cachedHypernymOrBuild(idx1, idx2, syn_lookup, hypes, hype_as_str=True):\n",
    "#     \"\"\"\n",
    "#     Build Hypernym for given `idxtuple`, using the `syns_lookup`.\n",
    "#     Facilitate O(n) computational complexity by caching results\n",
    "#     Will internally manage hypernym keys as ordered tuple.\n",
    "    \n",
    "#     --- Input ---\n",
    "#     idx: tuple of id to build and cache\n",
    "#     syn_lookup: existing dictionary of synsets, with k: id, v: Synset or None    \n",
    "#     hypes: dictionary for hypernyms with k: ordered tuple, v: hypernym.\n",
    "#     hype_as_str: optional build map with string values, default = True\n",
    "#     --- Return ---\n",
    "#     a hypernym Synset or None\n",
    "#     \"\"\"\n",
    "#     ituple = makeOrderedTuple(idx1,idx2)    \n",
    "#     if ituple in hypes: \n",
    "#         return hypes[ituple] \n",
    "    \n",
    "#     try:    \n",
    "#         s1 = syn_lookup[ituple[0]]\n",
    "#         s2 = syn_lookup[ituple[1]]\n",
    "#         h = s1.lowest_common_hypernyms(s2)[0]\n",
    "        \n",
    "#         if hype_as_str:\n",
    "#             h = synsetStr(h)\n",
    "            \n",
    "#         hypes[ituple] = h\n",
    "#         return h\n",
    "#     except Exception:\n",
    "#         hypes[ituple] = None\n",
    "#         return None\n",
    "\n",
    "# def lowestCommonHypernyms(simatrix, syn_lookup, sim_threshold=SIM_THRESHOLD, hype_as_str=True):\n",
    "#     \"\"\"\n",
    "#     Build a matrix with hypernym where found.\n",
    "#     Optionally, only evaluate values at/above a threshold.\n",
    "    \n",
    "#     --- Input ---\n",
    "#     simatrix: tuple of id to build and cache\n",
    "#     syn_lookup: existing dictionary of synsets, with k: id, v: Synset or None    \n",
    "#     sim_threshold: optional threshold to use for establishing hypernyms, default = SIM_THRESHOLD\n",
    "#     hype_as_str: optional build map with string values, default = True\n",
    "    \n",
    "#     --- Return ---\n",
    "#     dictionary for hypernyms with k: ordered tuple, v: Synset.    \n",
    "#     \"\"\"\n",
    "    \n",
    "#     hypes = {} # dictionary to build up.\n",
    "    \n",
    "#     n = len(simatrix)\n",
    "#     ns = range(n)          \n",
    "#     for i in ns:\n",
    "#         for j in ns:\n",
    "#             v = simatrix[i][j] \n",
    "            \n",
    "#             # handle sim_threshold\n",
    "#             met_threshold = True\n",
    "#             if sim_threshold and v < sim_threshold:\n",
    "#                 met_threshold = False\n",
    "#             elif not v:\n",
    "#                 met_threshold = False\n",
    "                    \n",
    "#             if (i != j) and met_threshold:                                \n",
    "#                 cachedHypernymOrBuild(i,j, syn_lookup, hypes, hype_as_str)\n",
    "                \n",
    "#     return hypes\n"
   ]
  },
  {
   "cell_type": "code",
   "execution_count": null,
   "metadata": {
    "collapsed": true
   },
   "outputs": [],
   "source": [
    "## CORE FUNCTIONS FOR BUILDING HYPERNYM -- THIS USES SIMPAIR\n",
    "\n",
    "def makeOrderedTuple(idx1, idx2):\n",
    "    if idx1 > idx2:\n",
    "        return (idx2,idx1) \n",
    "    return (idx1,idx2) \n",
    "\n",
    "def lowestCommonHypernyms(simpair_words, syn_pos, hype_as_str=True):\n",
    "    \"\"\"\n",
    "    Build a dict with hypernym where found.\n",
    "    \n",
    "    --- Input ---\n",
    "    simpair_words: tuple of words to build and cache\n",
    "    p: part\n",
    "    hype_as_str: optional build map with string values, default = True\n",
    "    \n",
    "    --- Return ---\n",
    "    dictionary for hypernyms with k: ordered tuple, v: Synset | String .    \n",
    "    \"\"\"\n",
    "    \n",
    "    hypes = {} # dictionary to build up.\n",
    "    \n",
    "    for ts in simpair_words:          \n",
    "        ituple = makeOrderedTuple(ts[0],ts[1])    \n",
    "        if ituple not in hypes: \n",
    "            try:                   \n",
    "                s1 = Synset(\"{}.{}.01\".format(ituple[0],syn_pos))\n",
    "                s2 = Synset(\"{}.{}.01\".format(ituple[1],syn_pos))\n",
    "                h = s1.lowest_common_hypernyms(s2)[0]\n",
    "                \n",
    "                if hype_as_str:\n",
    "                    h = synsetStr(h)\n",
    "                    \n",
    "                hypes[ituple] = h\n",
    "                \n",
    "            except Exception:\n",
    "                hypes[ituple] = None\n",
    "                \n",
    "    return hypes"
   ]
  },
  {
   "cell_type": "code",
   "execution_count": null,
   "metadata": {
    "collapsed": false
   },
   "outputs": [],
   "source": [
    "## FUNCTIONS FOR EVALUATING HYPERNYMS\n",
    "\n",
    "def countHypernyms(hypes, count_valid=True, count_invalid=True):\n",
    "    \"\"\"\n",
    "    Count  hypernyms, ignoring None\n",
    "    \"\"\"\n",
    "    c = 0\n",
    "    for k,v in hypes.iteritems():\n",
    "        if count_valid and v:\n",
    "            c += 1\n",
    "        elif count_invalid and not v:\n",
    "            c += 1        \n",
    "    return c"
   ]
  },
  {
   "cell_type": "markdown",
   "metadata": {},
   "source": [
    "###Adjective Hypernyms"
   ]
  },
  {
   "cell_type": "code",
   "execution_count": null,
   "metadata": {
    "collapsed": false
   },
   "outputs": [],
   "source": [
    "# find adj hypernyms, defaulting to only the string value\n",
    "ahypes = lowestCommonHypernyms(asimpairs_words, ADJ)"
   ]
  },
  {
   "cell_type": "code",
   "execution_count": null,
   "metadata": {
    "collapsed": false
   },
   "outputs": [],
   "source": [
    "# check results\n",
    "print \"how many adj hypernyms? \", countHypernyms(ahypes)\n",
    "print \"how many valid adj hypernyms? \", countHypernyms(ahypes, count_valid=True, count_invalid=False)\n",
    "print \"how many invalid adj hypernyms? \", countHypernyms(ahypes, count_valid=False, count_invalid=True)\n",
    "print \"example key: {}, value: {}\".format(ahypes.keys()[0],ahypes[ahypes.keys()[0]])"
   ]
  },
  {
   "cell_type": "code",
   "execution_count": null,
   "metadata": {
    "collapsed": false
   },
   "outputs": [],
   "source": [
    "ahypes"
   ]
  },
  {
   "cell_type": "markdown",
   "metadata": {},
   "source": [
    "###Noun Hypernyms"
   ]
  },
  {
   "cell_type": "code",
   "execution_count": null,
   "metadata": {
    "collapsed": true
   },
   "outputs": [],
   "source": [
    "# find noun hypernyms\n",
    "nhypes = lowestCommonHypernyms(nsimpairs_words, NOUN)"
   ]
  },
  {
   "cell_type": "code",
   "execution_count": null,
   "metadata": {
    "collapsed": false
   },
   "outputs": [],
   "source": [
    "# check results\n",
    "print \"how many noun hypernyms? \", countHypernyms(nhypes)\n",
    "print \"how many valid noun hypernyms? \", countHypernyms(nhypes, count_valid=True, count_invalid=False)\n",
    "print \"how many invalid noun hypernyms? \", countHypernyms(nhypes, count_valid=False, count_invalid=True)\n",
    "print \"example key: {}, value: {}\".format(nhypes.keys()[0],nhypes[nhypes.keys()[0]])"
   ]
  },
  {
   "cell_type": "code",
   "execution_count": null,
   "metadata": {
    "collapsed": false
   },
   "outputs": [],
   "source": [
    "nhypes"
   ]
  },
  {
   "cell_type": "markdown",
   "metadata": {},
   "source": [
    "##Save Hypernyms"
   ]
  },
  {
   "cell_type": "code",
   "execution_count": null,
   "metadata": {
    "collapsed": false
   },
   "outputs": [],
   "source": [
    "# save adj hypernyms\n",
    "pickle.dump( ahypes, open(root_out+'ahypes.p', \"wb\" ) )  "
   ]
  },
  {
   "cell_type": "code",
   "execution_count": null,
   "metadata": {
    "collapsed": false
   },
   "outputs": [],
   "source": [
    "# save noun hypernyms\n",
    "pickle.dump( nhypes, open(root_out+'nhypes.p', \"wb\" ) )  "
   ]
  },
  {
   "cell_type": "code",
   "execution_count": null,
   "metadata": {
    "collapsed": true
   },
   "outputs": [],
   "source": [
    "# New: do some conversion for a json file\n",
    "\n",
    "def saveHypesAsJson(hypes,json_name,root_out=root_out):\n",
    "    h = {}\n",
    "    hkeys = [] #hypernym keys\n",
    "    \n",
    "    for ts,v in hypes.iteritems():\n",
    "        if not v in hkeys:\n",
    "            hkeys.append(v)\n",
    "            \n",
    "    for ts,v in hypes.iteritems():\n",
    "        if v in h:\n",
    "            s = h[v]\n",
    "            if ts[0] not in s:\n",
    "                s.append(ts[0])\n",
    "            if ts[1] not in s:\n",
    "                s.append(ts[1])\n",
    "        else:\n",
    "            h[v] = []\n",
    "            h[v].append(ts[0])\n",
    "            h[v].append(ts[1])\n",
    "    \n",
    "    # save h\n",
    "    with open(root_out+ json_name + '.json', 'w') as fp:\n",
    "        json.dump(h, fp)\n",
    "        \n",
    "    return h"
   ]
  },
  {
   "cell_type": "code",
   "execution_count": null,
   "metadata": {
    "collapsed": false
   },
   "outputs": [],
   "source": [
    "njhypes = saveHypesAsJson(nhypes,'noun_hype_syns_words')\n",
    "njhypes"
   ]
  },
  {
   "cell_type": "code",
   "execution_count": null,
   "metadata": {
    "collapsed": false
   },
   "outputs": [],
   "source": [
    "ajhypes = saveHypesAsJson(ahypes,'adj_hype_syns_words')\n",
    "ajhypes"
   ]
  },
  {
   "cell_type": "markdown",
   "metadata": {},
   "source": [
    "###Compare Synonym and Hypernym Lists"
   ]
  },
  {
   "cell_type": "code",
   "execution_count": null,
   "metadata": {
    "collapsed": true
   },
   "outputs": [],
   "source": [
    "def compareWordLists(alist,blist):\n",
    "    same = []\n",
    "    ina = []\n",
    "    inb = []\n",
    "    \n",
    "    for a in alist:\n",
    "        if a in blist:\n",
    "            same.append(a)\n",
    "        else:\n",
    "            ina.append(a)\n",
    "    \n",
    "    for b in blist:\n",
    "        if b not in same:\n",
    "            inb.append(b)\n",
    "    return sorted(same), sorted(ina), sorted(inb)"
   ]
  },
  {
   "cell_type": "code",
   "execution_count": null,
   "metadata": {
    "collapsed": false
   },
   "outputs": [],
   "source": [
    "tncomp = compareWordLists(flattenSynsetValues(nsyns).values(),njhypes.values())\n",
    "print \"For FULL noun syn versus syn-hype words...\"\n",
    "print \"\\tHow many are same? \", len(tncomp[0])\n",
    "print \"\\tHow many are only in syn? \", len(tncomp[1])\n",
    "print \"\\tHow many are only in hype? \", len(tncomp[2])\n",
    "print\n",
    "tacomp = compareWordLists(flattenSynsetValues(asyns).values(),ajhypes.values())\n",
    "print \"For FULL adj syn versus syn-hype words...\"\n",
    "print \"\\tHow many are same? \", len(tacomp[0])\n",
    "print \"\\tHow many are only in syn? \", len(tacomp[1])\n",
    "print \"\\tHow many are only in hype? \", len(tacomp[2])"
   ]
  },
  {
   "cell_type": "code",
   "execution_count": null,
   "metadata": {
    "collapsed": true
   },
   "outputs": [],
   "source": [
    "def flattenListOfLists(alist):\n",
    "    v = []\n",
    "    for a in alist:\n",
    "        for x in a:\n",
    "            v.append(x)\n",
    "    return v"
   ]
  },
  {
   "cell_type": "code",
   "execution_count": null,
   "metadata": {
    "collapsed": false
   },
   "outputs": [],
   "source": [
    "incomp = compareWordLists(flattenListOfLists(njhypes.values()),njhypes.keys())\n",
    "print \"For ONLY hypernym relevant nouns, syn versus hype words...\"\n",
    "print \"\\tHow many are same? \", len(incomp[0])\n",
    "print \"\\tHow many are only in syn? \", len(incomp[1])\n",
    "print \"\\tHow many are only in hype? \", len(incomp[2])\n",
    "print\n",
    "iacomp = compareWordLists(flattenListOfLists(ajhypes.values()),ajhypes.keys())\n",
    "print \"For ONLY hypernym relevant adj, syn versus hype words...\"\n",
    "print \"\\tHow many are same? \", len(iacomp[0])\n",
    "print \"\\tHow many are only in syn? \", len(iacomp[1])\n",
    "print \"\\tHow many are only in hype? \", len(iacomp[2])"
   ]
  }
 ],
 "metadata": {
  "kernelspec": {
   "display_name": "Python 2",
   "language": "python",
   "name": "python2"
  },
  "language_info": {
   "codemirror_mode": {
    "name": "ipython",
    "version": 2
   },
   "file_extension": ".py",
   "mimetype": "text/x-python",
   "name": "python",
   "nbconvert_exporter": "python",
   "pygments_lexer": "ipython2",
   "version": "2.7.10"
  }
 },
 "nbformat": 4,
 "nbformat_minor": 0
}
