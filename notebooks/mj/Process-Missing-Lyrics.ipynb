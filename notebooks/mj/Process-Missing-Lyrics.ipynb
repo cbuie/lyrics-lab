{
 "cells": [
  {
   "cell_type": "markdown",
   "metadata": {},
   "source": [
    "#Process Missing Lyrics\n",
    "**This Notebook is run in a fairly ad-hoc manner, based on needs. It acts on output from [Data-Exploration Notebook](Data-Exploration.ipynb), namely [missing_lyricsdf.csv](../../data/conditioned/missing_lyricsdf.csv)**"
   ]
  },
  {
   "cell_type": "code",
   "execution_count": 1,
   "metadata": {
    "collapsed": true
   },
   "outputs": [],
   "source": [
    "%matplotlib inline\n",
    "import numpy as np\n",
    "import scipy as sp\n",
    "import matplotlib as mpl\n",
    "import matplotlib.cm as cm\n",
    "import matplotlib.pyplot as plt\n",
    "import pandas as pd\n",
    "pd.set_option('display.width', 500)\n",
    "pd.set_option('display.max_columns', 100)\n",
    "pd.set_option('display.notebook_repr_html', True)\n",
    "import seaborn as sns\n",
    "sns.set_style(\"whitegrid\")\n",
    "sns.set_context(\"poster\")"
   ]
  },
  {
   "cell_type": "code",
   "execution_count": 51,
   "metadata": {
    "collapsed": false
   },
   "outputs": [],
   "source": [
    "# Additional Config\n",
    "from bs4 import BeautifulSoup\n",
    "# The \"requests\" library makes working with HTTP requests easier\n",
    "# than the built-in urllib libraries.\n",
    "import requests\n",
    "import time\n",
    "import itertools\n",
    "import json\n",
    "import pickle"
   ]
  },
  {
   "cell_type": "code",
   "execution_count": 5,
   "metadata": {
    "collapsed": false
   },
   "outputs": [],
   "source": [
    "missingdf = pd.DataFrame.from_csv(\"../../data/conditioned/missing_lyricsdf.csv\")"
   ]
  },
  {
   "cell_type": "code",
   "execution_count": 6,
   "metadata": {
    "collapsed": false
   },
   "outputs": [
    {
     "data": {
      "text/html": [
       "<div>\n",
       "<table border=\"1\" class=\"dataframe\">\n",
       "  <thead>\n",
       "    <tr style=\"text-align: right;\">\n",
       "      <th></th>\n",
       "      <th>year</th>\n",
       "      <th>title.href</th>\n",
       "      <th>title</th>\n",
       "      <th>artist</th>\n",
       "      <th>lyrics</th>\n",
       "      <th>decade</th>\n",
       "      <th>song_key</th>\n",
       "    </tr>\n",
       "    <tr>\n",
       "      <th>position</th>\n",
       "      <th></th>\n",
       "      <th></th>\n",
       "      <th></th>\n",
       "      <th></th>\n",
       "      <th></th>\n",
       "      <th></th>\n",
       "      <th></th>\n",
       "    </tr>\n",
       "  </thead>\n",
       "  <tbody>\n",
       "    <tr>\n",
       "      <th>2</th>\n",
       "      <td>1970</td>\n",
       "      <td>https://en.wikipedia.org/wiki/(They_Long_to_Be...</td>\n",
       "      <td>(They Long to Be) Close to You</td>\n",
       "      <td>The Carpenters</td>\n",
       "      <td>x</td>\n",
       "      <td>1970</td>\n",
       "      <td>1970-2</td>\n",
       "    </tr>\n",
       "    <tr>\n",
       "      <th>7</th>\n",
       "      <td>1970</td>\n",
       "      <td>https://en.wikipedia.org/wiki/I%27ll_Be_There_...</td>\n",
       "      <td>I'll Be There</td>\n",
       "      <td>The Jackson 5</td>\n",
       "      <td>x</td>\n",
       "      <td>1970</td>\n",
       "      <td>1970-7</td>\n",
       "    </tr>\n",
       "    <tr>\n",
       "      <th>9</th>\n",
       "      <td>1970</td>\n",
       "      <td>https://en.wikipedia.org/wiki/Let_It_Be_(song)</td>\n",
       "      <td>Let It Be</td>\n",
       "      <td>The Beatles</td>\n",
       "      <td>x</td>\n",
       "      <td>1970</td>\n",
       "      <td>1970-9</td>\n",
       "    </tr>\n",
       "    <tr>\n",
       "      <th>15</th>\n",
       "      <td>1970</td>\n",
       "      <td>https://en.wikipedia.org/wiki/ABC_(song)</td>\n",
       "      <td>ABC</td>\n",
       "      <td>The Jackson 5</td>\n",
       "      <td>x</td>\n",
       "      <td>1970</td>\n",
       "      <td>1970-15</td>\n",
       "    </tr>\n",
       "    <tr>\n",
       "      <th>16</th>\n",
       "      <td>1970</td>\n",
       "      <td>https://en.wikipedia.org/wiki/The_Love_You_Save</td>\n",
       "      <td>The Love You Save</td>\n",
       "      <td>The Jackson 5</td>\n",
       "      <td>x</td>\n",
       "      <td>1970</td>\n",
       "      <td>1970-16</td>\n",
       "    </tr>\n",
       "  </tbody>\n",
       "</table>\n",
       "</div>"
      ],
      "text/plain": [
       "          year                                         title.href                           title          artist lyrics  decade song_key\n",
       "position                                                                                                                                 \n",
       "2         1970  https://en.wikipedia.org/wiki/(They_Long_to_Be...  (They Long to Be) Close to You  The Carpenters      x    1970   1970-2\n",
       "7         1970  https://en.wikipedia.org/wiki/I%27ll_Be_There_...                   I'll Be There   The Jackson 5      x    1970   1970-7\n",
       "9         1970     https://en.wikipedia.org/wiki/Let_It_Be_(song)                       Let It Be     The Beatles      x    1970   1970-9\n",
       "15        1970           https://en.wikipedia.org/wiki/ABC_(song)                             ABC   The Jackson 5      x    1970  1970-15\n",
       "16        1970    https://en.wikipedia.org/wiki/The_Love_You_Save               The Love You Save   The Jackson 5      x    1970  1970-16"
      ]
     },
     "execution_count": 6,
     "metadata": {},
     "output_type": "execute_result"
    }
   ],
   "source": [
    "missingdf.head()"
   ]
  },
  {
   "cell_type": "markdown",
   "metadata": {},
   "source": [
    "## Missing Lyric Alternatives (Went with Lyrics.Wikia)"
   ]
  },
  {
   "cell_type": "markdown",
   "metadata": {},
   "source": [
    "###MusixMatch Potential"
   ]
  },
  {
   "cell_type": "code",
   "execution_count": 10,
   "metadata": {
    "collapsed": false
   },
   "outputs": [
    {
     "name": "stdout",
     "output_type": "stream",
     "text": [
      "mm_search_template -->  http://api.musixmatch.com/ws/1.1/track.search?apikey=bce08674485ff8c8fbedcdf033107d49&q_artist=%artist&q_track=%track&format=json&page_size=1&f_has_lyrics=1\n",
      "mm_lyrics_template -->  http://api.musixmatch.com/ws/1.1/track.lyrics.get?apikey=bce08674485ff8c8fbedcdf033107d49&track_id=%track_id\n"
     ]
    }
   ],
   "source": [
    "# get lyrics for each song, these are stored individually in harvest folder by song_key\n",
    "#see https://developer.musixmatch.com/\n",
    "# e.g. http://api.musixmatch.com/ws/1.1/track.search?apikey=bce08674485ff8c8fbedcdf033107d49&q_artist=queen&q_track=we%20are%20the%20champions&format=json&page_size=1&f_has_lyrics=1\n",
    "\n",
    "mm_key = \"bce08674485ff8c8fbedcdf033107d49\"\n",
    "mm_root = \"http://api.musixmatch.com/ws/1.1/\"\n",
    "\n",
    "mm_search_template = \"{}track.search?apikey={}&q_artist=%artist&q_track=%track&format=json&page_size=1&f_has_lyrics=1\".format(mm_root,mm_key)\n",
    "mm_lyrics_template = \"{}track.lyrics.get?apikey={}&track_id=%track_id\".format(mm_root,mm_key)\n",
    "\n",
    "print \"mm_search_template --> \", mm_search_template\n",
    "print \"mm_lyrics_template --> \", mm_lyrics_template\n",
    "\n",
    "\"\"\"\n",
    "UNFORTUNATELY, Musixmatch only gives 30% lyrics for non-commercial!!!\n",
    "\"\"\"\n"
   ]
  },
  {
   "cell_type": "markdown",
   "metadata": {},
   "source": [
    "###SongLyrics is an Alternative if lyrics not in Lyrics.Wikia"
   ]
  },
  {
   "cell_type": "code",
   "execution_count": null,
   "metadata": {
    "collapsed": true
   },
   "outputs": [],
   "source": [
    "# `song_key`: 1970-1\n",
    "# from http://www.songlyrics.com/simon-and-garfunkel/bridge-over-troubled-water-lyrics/\n",
    "\"\"\"\n",
    "<p id=\"songLyricsDiv\"  class=\"songLyricsV14 iComment-text\">Simon And Garfunkel<br />\n",
    "Bridge Over Troubled Water<br />\n",
    "Bridge Over Troubled Water<br />\n",
    "When you're weary, feeling small <br />\n",
    "When tears are in your eyes, <br />\n",
    "I will dry them all <br />\n",
    "I'm on your side <br />\n",
    "When times get rough <br />\n",
    "And friends just can't be found <br />\n",
    "<br />\n",
    "Like a bridge over troubled water <br />\n",
    "I will lay me down <br />\n",
    "Like a bridge over troubled water <br />\n",
    "I will lay me down <br />\n",
    "<br />\n",
    "When you're down and out <br />\n",
    "When you're on the street <br />\n",
    "When evening falls so hard <br />\n",
    "I will comfort you <br />\n",
    "I'll take your part <br />\n",
    "When darkness comes <br />\n",
    "And pain is all around <br /><img src=\"http://static.urx.io/units/web/urx-unit-loader.gif\" style=\"display:none;\" onload=\"var a=document.createElement('script');a.setAttribute('src','https://static.urx.io/units/web/728893b3-309e-424e-99c8-2213c9ddd1b0.min.js'),this.parentNode.insertBefore(a,this);\"><br />\n",
    "<br />\n",
    "Like a bridge over troubled water <br />\n",
    "I will lay me down <br />\n",
    "Like a bridge over troubled water <br />\n",
    "I will lay me down <br />\n",
    "<br />\n",
    "Sail on silver girl <br />\n",
    "Sail on by <br />\n",
    "Your time has come to shine <br />\n",
    "All your dreams are on their way <br />\n",
    "See how they shine <br />\n",
    "When you need a friend <br />\n",
    "I'm sailing right behind <br />\n",
    "<br />\n",
    "Like a bridge over troubled water <br />\n",
    "I will ease your mind <br />\n",
    "Like a bridge over troubled water <br />\n",
    "I will ease your mind<br /></p>\n",
    "\"\"\""
   ]
  },
  {
   "cell_type": "markdown",
   "metadata": {},
   "source": [
    "##Process Using Lyrics.Wikia"
   ]
  },
  {
   "cell_type": "code",
   "execution_count": 179,
   "metadata": {
    "collapsed": false
   },
   "outputs": [],
   "source": [
    "def cachedRefsOrBuildFromLyricsWikia(song_key, r_cache, url_root, payload):\n",
    "    #if in the cache just return it\n",
    "    if (song_key in r_cache):\n",
    "        print \"... using song_key from cache: \", song_key\n",
    "        return r_cache[song_key],True\n",
    "    \n",
    "    # otherwise, attempt to download\n",
    "    r = requests.get(url_root, params=payload)\n",
    "    print(\"... attempting retrieval: \",r.url)\n",
    "    \n",
    "    try:\n",
    "        # here we access the webpage and download the content using requests, just keeping text\n",
    "        if r.status_code == 200:            \n",
    "            text = r.text\n",
    "            r_cache[song_key] = text\n",
    "            return text,False\n",
    "        \n",
    "        # status code not 200\n",
    "        return None,False \n",
    "    except Exception as e:\n",
    "        print \"exception processing song_key --> \", song_key\n",
    "        print e\n",
    "        return None,False\n",
    "\n",
    "def refsFromLyricsWikia(df, seed_cache=None, query_delay=1):\n",
    "    \"\"\"\n",
    "    Attempt to get refs from lyrics.wikia via API, if not valid in cache.\n",
    "    \n",
    "    URL e.g. http://lyrics.wikia.com/wiki/Paul_Simon:Bridge_Over_Troubled_Water\n",
    "    API e.g. http://lyrics.wikia.com/api.php?action=lyrics&artist=Joe%20Bonamassa&song=So%20Many%20Roads&fmt=json\n",
    "    \n",
    "     --- Input ---\n",
    "    df: Dataframe from which to build and cache results\n",
    "    seed_cache: optional result cache to start from, default None\n",
    "    query_delay: optional delay value, default 1\n",
    "    \n",
    "    --- Return ---\n",
    "    tuple of the following:\n",
    "    refs dictionary, list of issues by song_key, cache dictionary (refs + seed_cache)\n",
    "    \"\"\"   \n",
    "    refs = {}\n",
    "    issues = []\n",
    "    r_cache = {}\n",
    "    if seed_cache:\n",
    "        r_cache = seed_cache\n",
    "    \n",
    "    url_root = \"http://lyrics.wikia.com/api.php\"\n",
    "    for r in df.iterrows():\n",
    "        song_key = r[1]['song_key'] \n",
    "        artist = r[1]['artist']\n",
    "        song = r[1]['title']\n",
    "               \n",
    "        print \"... song_key: {}, artist: {}, song: {}\".format(song_key,artist,song)\n",
    "        payload = {'action': 'lyrics', 'fmt': 'json', 'artist': artist, 'song': song }\n",
    "        \n",
    "        t_tuple = cachedRefsOrBuildFromLyricsWikia(song_key, r_cache, url_root, payload)\n",
    "        text = t_tuple[0]\n",
    "        is_cache = t_tuple[1]\n",
    "        \n",
    "        if text:\n",
    "            refs[song_key] = text\n",
    "        else:\n",
    "            issues.append(song_key)\n",
    "        \n",
    "        # only time delay if results had to be downloaded\n",
    "        if not is_cache:\n",
    "            time.sleep(query_delay)  # Delay between queries\n",
    "        \n",
    "    return refs, issues, r_cache"
   ]
  },
  {
   "cell_type": "code",
   "execution_count": 176,
   "metadata": {
    "collapsed": false
   },
   "outputs": [
    {
     "name": "stdout",
     "output_type": "stream",
     "text": [
      "... song_key: 2001-96, artist: 3 Doors Down, song: Be Like That\n",
      "('... attempting retrieval: ', u'http://lyrics.wikia.com/api.php?action=lyrics&fmt=json&artist=3+Doors+Down&song=Be+Like+That')\n",
      "\n",
      "how many lyrics.wikia issues?  0\n",
      "how many lyrics.wikia refs were downloaded?  1\n",
      "how big is the lyrics.wikia cache?  1\n",
      "{'2001-96': u'song = {\\n\\'artist\\':\\'3 Doors Down\\',\\n\\'song\\':\\'Be Like That\\',\\n\\'lyrics\\':\\'He spends his nights in California\\\\nWatching the stars on the big screen\\\\nAnd then he lies awake and he wonders\\\\n\"Why can\\\\\\'t that be me?\"\\\\n\\\\n\\\\\\'Cause in his life he\\\\\\'s filled with all these good intentions\\\\nHe\\\\\\'s left a lo[...]\\',\\n\\'url\\':\\'http://lyrics.wikia.com/3_Doors_Down:Be_Like_That\\'\\n}\\n'}\n"
     ]
    }
   ],
   "source": [
    "# quick test #1\n",
    "lw_t_refs, lw_t_issues, lw_t_cache = refsFromLyricsWikia(missingdf[missingdf.song_key == \"2001-96\"])   \n",
    "print\n",
    "print \"how many lyrics.wikia issues? \", len(lw_t_issues)\n",
    "print \"how many lyrics.wikia refs were downloaded? \", len(lw_t_refs)\n",
    "print \"how big is the lyrics.wikia cache? \", len(lw_t_cache)\n",
    "\n",
    "print lw_t_cache"
   ]
  },
  {
   "cell_type": "markdown",
   "metadata": {},
   "source": [
    "##Read Back Stored Files For Re-Processing "
   ]
  },
  {
   "cell_type": "code",
   "execution_count": 177,
   "metadata": {
    "collapsed": true
   },
   "outputs": [],
   "source": [
    "# read lw_cache if exists\n",
    "lw_cache = {}\n",
    "try:\n",
    "    with open('../../data/harvested/lw_cache.json') as fp:\n",
    "        lw_cache = json.load(fp)\n",
    "except Exception:\n",
    "    print \"... no lw_cache to read\""
   ]
  },
  {
   "cell_type": "code",
   "execution_count": 178,
   "metadata": {
    "collapsed": false
   },
   "outputs": [
    {
     "name": "stdout",
     "output_type": "stream",
     "text": [
      "how big is current lw_cache?  863\n"
     ]
    }
   ],
   "source": [
    "print \"how big is current lw_cache? \", len(lw_cache)"
   ]
  },
  {
   "cell_type": "markdown",
   "metadata": {},
   "source": [
    "##Cleanup Lyrics.Wikia Metadata"
   ]
  },
  {
   "cell_type": "code",
   "execution_count": 217,
   "metadata": {
    "collapsed": true
   },
   "outputs": [],
   "source": [
    "def cleanLyricsWikiaMetaToJson(k,v,debug=False):    \n",
    "    d = {}\n",
    "    d['song_key'] = k\n",
    "    d['meta'] = v\n",
    "        \n",
    "    if debug:\n",
    "        print \"key --> \", k    \n",
    "        print \"raw value -->\\n\", v\n",
    "    \n",
    "    qtoken = '\":\"'\n",
    "    atoken = \"':'\"    \n",
    "    q_mode = False\n",
    "        \n",
    "    qc = v.count(qtoken)\n",
    "    ac = v.count(atoken)\n",
    "    \n",
    "    lyrics = \"\"\n",
    "    llast = -1\n",
    "    url = \"\"\n",
    "    ulast = -1\n",
    "    \n",
    "    elyrics = False\n",
    "    eurl = False\n",
    "    \n",
    "    # want lyrics and url\n",
    "    #quot mode\n",
    "    if qc > ac:    \n",
    "        q_mode = True\n",
    "        \n",
    "        #lyrics\n",
    "        try:\n",
    "            lyrics = v.split('\"lyrics{}'.format(qtoken),1)[1]\n",
    "            lyrics = lyrics[:lyrics.find('\"url{}'.format(qtoken))]\n",
    "            llast = lyrics.rfind('\"')    \n",
    "        except Exception as e:\n",
    "            print \"{} lyrics not parsed --> {}\".format(k,e)\n",
    "            elyrics = True\n",
    "        \n",
    "        #url\n",
    "        try:\n",
    "            url = v.split('\"url{}'.format(qtoken),1)[1]\n",
    "            ulast = url.rfind('\"') \n",
    "        except Exception as e:\n",
    "            print \"{} url not parsed --> {}\".format(k,e)    \n",
    "            eurl = True\n",
    "        \n",
    "    #apos mode    \n",
    "    else:\n",
    "        q_mode = False\n",
    "        \n",
    "        #lyrics\n",
    "        try:\n",
    "            lyrics = v.split(\"'lyrics{}\".format(atoken),1)[1]\n",
    "            lyrics = lyrics[:lyrics.find(\"'url{}\".format(atoken))]\n",
    "            llast = lyrics.rfind(\"'\")\n",
    "        except Exception as e:\n",
    "            print \"{} lyrics not parsed --> {}\".format(k,e)\n",
    "            elyrics = True\n",
    "        \n",
    "        #url\n",
    "        try:\n",
    "            url = v.split(\"'url{}\".format(atoken),1)[1]\n",
    "            ulast = url.rfind(\"'\")\n",
    "        except Exception as e:\n",
    "            print \"{} url not parsed --> {}\".format(k,e)    \n",
    "            eurl = True\n",
    "        \n",
    "    if debug:\n",
    "        print\n",
    "        print \"q_mode? {}, qc: {}, ac: {}\".format(q_mode, qc, ac)\n",
    "    \n",
    "    # final parse on lyrics\n",
    "    if lyrics:\n",
    "        lyrics = lyrics[:llast]    \n",
    "        # check for any lingering quotes within lyrics\n",
    "        if lyrics.count('\"') > 0:\n",
    "            #only mess with them if they are not already escaped\n",
    "            if lyrics.count('\\\\\"') < 1:\n",
    "                if debug:\n",
    "                    print \"...messing with lingering quotes in lyrics\"\n",
    "                lyrics = lyrics.replace('\"','\\\\\"')\n",
    "            \n",
    "    # final parse on url    \n",
    "    if url:\n",
    "        url = url[:ulast]\n",
    "    \n",
    "    # add to dictionary, even if empty.\n",
    "    d['lyrics'] = lyrics\n",
    "    d['url'] = url\n",
    "    \n",
    "    if debug:\n",
    "        print\n",
    "        print \"lyrics -->\\n\", lyrics\n",
    "        print\n",
    "        print \"url --> \", url\n",
    "    \n",
    "    return d, elyrics, eurl    "
   ]
  },
  {
   "cell_type": "markdown",
   "metadata": {},
   "source": [
    "##Save as skeleton files\n",
    "This is an ad-hoc task based on the status of processing, which is manually iterative to troubleshoot failed lyrics."
   ]
  },
  {
   "cell_type": "code",
   "execution_count": 220,
   "metadata": {
    "collapsed": true
   },
   "outputs": [],
   "source": [
    "lw_c_issues = {}"
   ]
  },
  {
   "cell_type": "code",
   "execution_count": 222,
   "metadata": {
    "collapsed": false
   },
   "outputs": [
    {
     "name": "stdout",
     "output_type": "stream",
     "text": [
      "1973-90 lyrics not parsed --> list index out of range\n"
     ]
    }
   ],
   "source": [
    "\"\"\"\n",
    "for k,v in lw_cache.iteritems():\n",
    "    with open(\"../../data/harvested/lw-json/{}.json\".format(k), 'w') as fp:\n",
    "        ctuple = cleanLyricsWikiaMetaToJson(k,v)\n",
    "        if ctuple[1] or ctuple[2]:\n",
    "            lw_c_issues[k] = json.dumps(ctuple[0])\n",
    "        \n",
    "        # go ahead and save to file\n",
    "        json.dump(ctuple[0], fp)\n",
    "\"\"\""
   ]
  },
  {
   "cell_type": "code",
   "execution_count": 223,
   "metadata": {
    "collapsed": false
   },
   "outputs": [
    {
     "name": "stdout",
     "output_type": "stream",
     "text": [
      "How many clean issues?  1\n"
     ]
    }
   ],
   "source": [
    "print \"How many clean issues? \", len(lw_c_issues)"
   ]
  },
  {
   "cell_type": "markdown",
   "metadata": {},
   "source": [
    "##If processing full run from here (or some version)"
   ]
  },
  {
   "cell_type": "code",
   "execution_count": 38,
   "metadata": {
    "collapsed": false
   },
   "outputs": [
    {
     "name": "stdout",
     "output_type": "stream",
     "text": [
      "execution start --> Sun, 22 Nov 2015 03:44:32\n"
     ]
    }
   ],
   "source": [
    "print \"execution start --> {}\".format(time.strftime('%a, %d %b %Y %H:%M:%S', time.localtime()))"
   ]
  },
  {
   "cell_type": "code",
   "execution_count": null,
   "metadata": {
    "collapsed": true
   },
   "outputs": [],
   "source": [
    "%%time\n",
    "# run full\n",
    "# lw_refs, lw_issues, lw_cache = refsFromLyricsWikia(missingdf,seed_cache=lw_cache)"
   ]
  },
  {
   "cell_type": "code",
   "execution_count": 40,
   "metadata": {
    "collapsed": false
   },
   "outputs": [
    {
     "name": "stdout",
     "output_type": "stream",
     "text": [
      "how many lyrics.wikia issues?  0\n",
      "how many lyrics.wikia refs were downloaded?  863\n",
      "how big is the lyrics.wikia cache?  863\n"
     ]
    }
   ],
   "source": [
    "print \"how many lyrics.wikia issues? \", len(lw_issues)\n",
    "print \"how many lyrics.wikia refs were downloaded? \", len(lw_refs)\n",
    "print \"how big is the lyrics.wikia cache? \", len(lw_cache)"
   ]
  },
  {
   "cell_type": "markdown",
   "metadata": {},
   "source": [
    "##Save Progress"
   ]
  },
  {
   "cell_type": "code",
   "execution_count": 82,
   "metadata": {
    "collapsed": true
   },
   "outputs": [],
   "source": [
    "# save lw_cache\n",
    "with open('../../data/harvested/lw_cache.json', 'w') as fp:\n",
    "    json.dump(lw_cache, fp)"
   ]
  }
 ],
 "metadata": {
  "kernelspec": {
   "display_name": "Python 2",
   "language": "python",
   "name": "python2"
  },
  "language_info": {
   "codemirror_mode": {
    "name": "ipython",
    "version": 2
   },
   "file_extension": ".py",
   "mimetype": "text/x-python",
   "name": "python",
   "nbconvert_exporter": "python",
   "pygments_lexer": "ipython2",
   "version": "2.7.10"
  }
 },
 "nbformat": 4,
 "nbformat_minor": 0
}
