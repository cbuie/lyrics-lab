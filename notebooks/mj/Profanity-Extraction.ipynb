{
 "cells": [
  {
   "cell_type": "markdown",
   "metadata": {},
   "source": [
    "#Profanity Extraction Notebook\n",
    "Extract counts of profanity per decade and first mentions of offensive words. The output of this notebook will be used for Tableau Vizualizations."
   ]
  },
  {
   "cell_type": "code",
   "execution_count": 1,
   "metadata": {
    "collapsed": true
   },
   "outputs": [],
   "source": [
    "%matplotlib inline\n",
    "import numpy as np\n",
    "import scipy as sp\n",
    "import matplotlib as mpl\n",
    "import matplotlib.cm as cm\n",
    "import matplotlib.pyplot as plt\n",
    "import pandas as pd\n",
    "pd.set_option('display.width', 500)\n",
    "pd.set_option('display.max_columns', 100)\n",
    "pd.set_option('display.notebook_repr_html', True)\n",
    "import seaborn as sns\n",
    "sns.set_style(\"whitegrid\")\n",
    "sns.set_context(\"poster\")"
   ]
  },
  {
   "cell_type": "code",
   "execution_count": 2,
   "metadata": {
    "collapsed": true
   },
   "outputs": [],
   "source": [
    "## MLJ: Additional Extras\n",
    "import os\n",
    "import time\n",
    "import itertools\n",
    "import json\n",
    "import pickle"
   ]
  },
  {
   "cell_type": "code",
   "execution_count": 3,
   "metadata": {
    "collapsed": true
   },
   "outputs": [],
   "source": [
    "# root in\n",
    "root_in = \"../../data/conditioned/corpus_vocabs/\"\n",
    "# root out\n",
    "root_out = \"../../viz/data/\""
   ]
  },
  {
   "cell_type": "code",
   "execution_count": 4,
   "metadata": {
    "collapsed": true
   },
   "outputs": [],
   "source": [
    "# adapted from https://justgagan.wordpress.com/2010/09/22/python-create-path-or-directories-if-not-exist/\n",
    "def assureDirExists(path):\n",
    "    d = os.path.dirname(path)\n",
    "    if not os.path.exists(d):\n",
    "        os.makedirs(d)"
   ]
  },
  {
   "cell_type": "code",
   "execution_count": 5,
   "metadata": {
    "collapsed": true
   },
   "outputs": [],
   "source": [
    "# make sure key directories exist\n",
    "assureDirExists(root_in)\n",
    "assureDirExists(root_out)"
   ]
  },
  {
   "cell_type": "markdown",
   "metadata": {},
   "source": [
    "##Load Profanity Words\n",
    "**These are words with more direct offensive meaning used 5 or more times throughout the corpus**"
   ]
  },
  {
   "cell_type": "code",
   "execution_count": 6,
   "metadata": {
    "collapsed": true
   },
   "outputs": [],
   "source": [
    "# load the offensive dataframe pulled from the master\n",
    "offensivedf = pd.read_csv(\"../../data/conditioned/noun_n-gram_offensive.csv\")  "
   ]
  },
  {
   "cell_type": "code",
   "execution_count": 7,
   "metadata": {
    "collapsed": false
   },
   "outputs": [
    {
     "data": {
      "text/plain": [
       "(20, 2)"
      ]
     },
     "execution_count": 7,
     "metadata": {},
     "output_type": "execute_result"
    }
   ],
   "source": [
    "offensivedf.shape"
   ]
  },
  {
   "cell_type": "code",
   "execution_count": 8,
   "metadata": {
    "collapsed": false
   },
   "outputs": [
    {
     "data": {
      "text/html": [
       "<div>\n",
       "<table border=\"1\" class=\"dataframe\">\n",
       "  <thead>\n",
       "    <tr style=\"text-align: right;\">\n",
       "      <th></th>\n",
       "      <th>count</th>\n",
       "      <th>word</th>\n",
       "    </tr>\n",
       "  </thead>\n",
       "  <tbody>\n",
       "    <tr>\n",
       "      <th>0</th>\n",
       "      <td>143</td>\n",
       "      <td>shit</td>\n",
       "    </tr>\n",
       "    <tr>\n",
       "      <th>1</th>\n",
       "      <td>134</td>\n",
       "      <td>bitch</td>\n",
       "    </tr>\n",
       "    <tr>\n",
       "      <th>2</th>\n",
       "      <td>128</td>\n",
       "      <td>ass</td>\n",
       "    </tr>\n",
       "    <tr>\n",
       "      <th>3</th>\n",
       "      <td>127</td>\n",
       "      <td>nigga</td>\n",
       "    </tr>\n",
       "    <tr>\n",
       "      <th>4</th>\n",
       "      <td>50</td>\n",
       "      <td>niggas</td>\n",
       "    </tr>\n",
       "    <tr>\n",
       "      <th>5</th>\n",
       "      <td>40</td>\n",
       "      <td>dick</td>\n",
       "    </tr>\n",
       "    <tr>\n",
       "      <th>6</th>\n",
       "      <td>35</td>\n",
       "      <td>ho</td>\n",
       "    </tr>\n",
       "    <tr>\n",
       "      <th>7</th>\n",
       "      <td>30</td>\n",
       "      <td>booty</td>\n",
       "    </tr>\n",
       "    <tr>\n",
       "      <th>8</th>\n",
       "      <td>28</td>\n",
       "      <td>pussy</td>\n",
       "    </tr>\n",
       "    <tr>\n",
       "      <th>9</th>\n",
       "      <td>24</td>\n",
       "      <td>bone</td>\n",
       "    </tr>\n",
       "    <tr>\n",
       "      <th>10</th>\n",
       "      <td>23</td>\n",
       "      <td>hoe</td>\n",
       "    </tr>\n",
       "    <tr>\n",
       "      <th>11</th>\n",
       "      <td>22</td>\n",
       "      <td>pimp</td>\n",
       "    </tr>\n",
       "    <tr>\n",
       "      <th>12</th>\n",
       "      <td>20</td>\n",
       "      <td>motherfucker</td>\n",
       "    </tr>\n",
       "    <tr>\n",
       "      <th>13</th>\n",
       "      <td>19</td>\n",
       "      <td>niggaz</td>\n",
       "    </tr>\n",
       "    <tr>\n",
       "      <th>14</th>\n",
       "      <td>16</td>\n",
       "      <td>butt</td>\n",
       "    </tr>\n",
       "    <tr>\n",
       "      <th>15</th>\n",
       "      <td>13</td>\n",
       "      <td>pimpin</td>\n",
       "    </tr>\n",
       "    <tr>\n",
       "      <th>16</th>\n",
       "      <td>9</td>\n",
       "      <td>bullshit</td>\n",
       "    </tr>\n",
       "    <tr>\n",
       "      <th>17</th>\n",
       "      <td>7</td>\n",
       "      <td>cock</td>\n",
       "    </tr>\n",
       "    <tr>\n",
       "      <th>18</th>\n",
       "      <td>6</td>\n",
       "      <td>titty</td>\n",
       "    </tr>\n",
       "    <tr>\n",
       "      <th>19</th>\n",
       "      <td>5</td>\n",
       "      <td>whore</td>\n",
       "    </tr>\n",
       "  </tbody>\n",
       "</table>\n",
       "</div>"
      ],
      "text/plain": [
       "    count          word\n",
       "0     143          shit\n",
       "1     134         bitch\n",
       "2     128           ass\n",
       "3     127         nigga\n",
       "4      50        niggas\n",
       "5      40          dick\n",
       "6      35            ho\n",
       "7      30         booty\n",
       "8      28         pussy\n",
       "9      24          bone\n",
       "10     23           hoe\n",
       "11     22          pimp\n",
       "12     20  motherfucker\n",
       "13     19        niggaz\n",
       "14     16          butt\n",
       "15     13        pimpin\n",
       "16      9      bullshit\n",
       "17      7          cock\n",
       "18      6         titty\n",
       "19      5         whore"
      ]
     },
     "execution_count": 8,
     "metadata": {},
     "output_type": "execute_result"
    }
   ],
   "source": [
    "offensivedf.head(20)"
   ]
  },
  {
   "cell_type": "code",
   "execution_count": 9,
   "metadata": {
    "collapsed": false
   },
   "outputs": [
    {
     "data": {
      "text/plain": [
       "20"
      ]
     },
     "execution_count": 9,
     "metadata": {},
     "output_type": "execute_result"
    }
   ],
   "source": [
    "offensives = offensivedf['word'].values\n",
    "len(offensives)"
   ]
  },
  {
   "cell_type": "code",
   "execution_count": 10,
   "metadata": {
    "collapsed": false
   },
   "outputs": [
    {
     "name": "stdout",
     "output_type": "stream",
     "text": [
      "True\n"
     ]
    }
   ],
   "source": [
    "print \"{}\".format(('butt' in offensives))"
   ]
  },
  {
   "cell_type": "markdown",
   "metadata": {},
   "source": [
    "##Load Vocab"
   ]
  },
  {
   "cell_type": "code",
   "execution_count": 11,
   "metadata": {
    "collapsed": true
   },
   "outputs": [],
   "source": [
    "# function to ensure elements in list are ascii\n",
    "def listAsAscii(lst):\n",
    "    return [x.encode('ascii','ignore') if isinstance(x, unicode) else x for x in lst]"
   ]
  },
  {
   "cell_type": "code",
   "execution_count": 12,
   "metadata": {
    "collapsed": true
   },
   "outputs": [],
   "source": [
    "# function for loading dictionary json to columnar dataframe\n",
    "def jsonDictToDataframe(json_name, key_col_label=\"key\", val_col_label=\"value\", root_in=root_in):\n",
    "    # read to json\n",
    "    with open(root_in + json_name, 'r') as fp:\n",
    "        j = json.load(fp)\n",
    "    \n",
    "    d = {key_col_label: listAsAscii(j.keys()), val_col_label: listAsAscii(j.values())}\n",
    "    return pd.DataFrame(data=d)  "
   ]
  },
  {
   "cell_type": "code",
   "execution_count": 13,
   "metadata": {
    "collapsed": true
   },
   "outputs": [],
   "source": [
    "# function for saving dataframe to csv\n",
    "def dataframeToCsv(df, csv_name, root_out=root_out, index=False):\n",
    "    df.to_csv(root_out+csv_name,index=index)"
   ]
  },
  {
   "cell_type": "code",
   "execution_count": 14,
   "metadata": {
    "collapsed": true
   },
   "outputs": [],
   "source": [
    "decades = [1970,1980,1990,2000,2010]"
   ]
  },
  {
   "cell_type": "code",
   "execution_count": 15,
   "metadata": {
    "collapsed": true
   },
   "outputs": [],
   "source": [
    "# set up a structure for computing profanity\n",
    "ncomp = {}\n",
    "\n",
    "# initialize ncomp to hold all words with 0 value for each decade\n",
    "for x in offensives:    \n",
    "    ncomp[x]=[0,0,0,0,0]   "
   ]
  },
  {
   "cell_type": "code",
   "execution_count": 16,
   "metadata": {
    "collapsed": true
   },
   "outputs": [],
   "source": [
    "# get the count for each word\n",
    "\n",
    "def populateDecadeWords(comp,decade,json_name):\n",
    "    \n",
    "    # set decade\n",
    "    didx = decades.index(decade)\n",
    "    \n",
    "    # change root in for decade\n",
    "    drootin = \"../../data/conditioned/decades/\"+str(decade)+\"/\"\n",
    "    \n",
    "    # read to json\n",
    "    with open(drootin + json_name, 'r') as fp:\n",
    "        j = json.load(fp)\n",
    "    \n",
    "    #set decade value for each in j\n",
    "    for x in j:\n",
    "        if x[0] in comp:\n",
    "            comp[x[0]][didx] = x[1]\n",
    "    \n",
    "    return comp"
   ]
  },
  {
   "cell_type": "code",
   "execution_count": 17,
   "metadata": {
    "collapsed": false
   },
   "outputs": [],
   "source": [
    "# ncomp for nouns\n",
    "for d in decades:\n",
    "    ncomp = populateDecadeWords(ncomp,d,'noun_n-gram_reduced.json')"
   ]
  },
  {
   "cell_type": "code",
   "execution_count": 18,
   "metadata": {
    "collapsed": false
   },
   "outputs": [
    {
     "name": "stdout",
     "output_type": "stream",
     "text": [
      "ass\n",
      "[0, 1, 32, 68, 27]\n"
     ]
    }
   ],
   "source": [
    "#verify ncomp\n",
    "print ncomp.keys()[0]\n",
    "print ncomp[ncomp.keys()[0]]"
   ]
  },
  {
   "cell_type": "code",
   "execution_count": 19,
   "metadata": {
    "collapsed": true
   },
   "outputs": [],
   "source": [
    "# populate a column full of a given decades values from a comp\n",
    "def compCol(comp,decade):\n",
    "    didx = decades.index(decade)\n",
    "    vs = []\n",
    "    for k,v in comp.iteritems():\n",
    "        vs.append(v[didx])\n",
    "        \n",
    "    return vs\n",
    "\n",
    "# function to convert comp to dataframe and save\n",
    "def compToDataframe(comp):\n",
    "    d = {'word': listAsAscii(comp.keys())}\n",
    "    \n",
    "    for decade in decades:\n",
    "        d[str(decade)] = compCol(comp,decade)\n",
    "    \n",
    "    return pd.DataFrame(data=d)"
   ]
  },
  {
   "cell_type": "code",
   "execution_count": 20,
   "metadata": {
    "collapsed": true
   },
   "outputs": [],
   "source": [
    "ncompdf = compToDataframe(ncomp)"
   ]
  },
  {
   "cell_type": "code",
   "execution_count": 21,
   "metadata": {
    "collapsed": false
   },
   "outputs": [
    {
     "data": {
      "text/html": [
       "<div>\n",
       "<table border=\"1\" class=\"dataframe\">\n",
       "  <thead>\n",
       "    <tr style=\"text-align: right;\">\n",
       "      <th></th>\n",
       "      <th>1970</th>\n",
       "      <th>1980</th>\n",
       "      <th>1990</th>\n",
       "      <th>2000</th>\n",
       "      <th>2010</th>\n",
       "      <th>word</th>\n",
       "    </tr>\n",
       "  </thead>\n",
       "  <tbody>\n",
       "    <tr>\n",
       "      <th>0</th>\n",
       "      <td>0</td>\n",
       "      <td>1</td>\n",
       "      <td>32</td>\n",
       "      <td>68</td>\n",
       "      <td>27</td>\n",
       "      <td>ass</td>\n",
       "    </tr>\n",
       "    <tr>\n",
       "      <th>1</th>\n",
       "      <td>0</td>\n",
       "      <td>0</td>\n",
       "      <td>37</td>\n",
       "      <td>58</td>\n",
       "      <td>32</td>\n",
       "      <td>nigga</td>\n",
       "    </tr>\n",
       "    <tr>\n",
       "      <th>2</th>\n",
       "      <td>1</td>\n",
       "      <td>0</td>\n",
       "      <td>10</td>\n",
       "      <td>15</td>\n",
       "      <td>4</td>\n",
       "      <td>booty</td>\n",
       "    </tr>\n",
       "    <tr>\n",
       "      <th>3</th>\n",
       "      <td>0</td>\n",
       "      <td>0</td>\n",
       "      <td>1</td>\n",
       "      <td>11</td>\n",
       "      <td>1</td>\n",
       "      <td>pimpin</td>\n",
       "    </tr>\n",
       "    <tr>\n",
       "      <th>4</th>\n",
       "      <td>0</td>\n",
       "      <td>0</td>\n",
       "      <td>6</td>\n",
       "      <td>14</td>\n",
       "      <td>2</td>\n",
       "      <td>pimp</td>\n",
       "    </tr>\n",
       "  </tbody>\n",
       "</table>\n",
       "</div>"
      ],
      "text/plain": [
       "   1970  1980  1990  2000  2010    word\n",
       "0     0     1    32    68    27     ass\n",
       "1     0     0    37    58    32   nigga\n",
       "2     1     0    10    15     4   booty\n",
       "3     0     0     1    11     1  pimpin\n",
       "4     0     0     6    14     2    pimp"
      ]
     },
     "execution_count": 21,
     "metadata": {},
     "output_type": "execute_result"
    }
   ],
   "source": [
    "ncompdf.head()"
   ]
  },
  {
   "cell_type": "markdown",
   "metadata": {},
   "source": [
    "###Save Profanity Dataframe"
   ]
  },
  {
   "cell_type": "code",
   "execution_count": 22,
   "metadata": {
    "collapsed": false
   },
   "outputs": [],
   "source": [
    "# ncompdf\n",
    "dataframeToCsv(ncompdf,'noun_decade_offensives_reduced.csv')"
   ]
  },
  {
   "cell_type": "markdown",
   "metadata": {},
   "source": [
    "##When was the first mention of each offensive word?"
   ]
  },
  {
   "cell_type": "code",
   "execution_count": 24,
   "metadata": {
    "collapsed": false
   },
   "outputs": [
    {
     "data": {
      "text/plain": [
       "array(['shit', 'bitch', 'ass', 'nigga', 'niggas', 'dick', 'ho', 'booty',\n",
       "       'pussy', 'bone', 'hoe', 'pimp', 'motherfucker', 'niggaz', 'butt',\n",
       "       'pimpin', 'bullshit', 'cock', 'titty', 'whore'], dtype=object)"
      ]
     },
     "execution_count": 24,
     "metadata": {},
     "output_type": "execute_result"
    }
   ],
   "source": [
    "# working with this to find the first.\n",
    "offensives"
   ]
  },
  {
   "cell_type": "code",
   "execution_count": 25,
   "metadata": {
    "collapsed": true
   },
   "outputs": [],
   "source": [
    "# load the use-this-master\n",
    "# load the latest master lyricsdf\n",
    "lyricsdf = pd.read_csv(\"../../data/conditioned/master-lyricsdf-word_syn_hype_vectors.csv\")  "
   ]
  },
  {
   "cell_type": "code",
   "execution_count": 27,
   "metadata": {
    "collapsed": false
   },
   "outputs": [
    {
     "data": {
      "text/html": [
       "<div>\n",
       "<table border=\"1\" class=\"dataframe\">\n",
       "  <thead>\n",
       "    <tr style=\"text-align: right;\">\n",
       "      <th></th>\n",
       "      <th>index</th>\n",
       "      <th>position</th>\n",
       "      <th>year</th>\n",
       "      <th>title.href</th>\n",
       "      <th>title</th>\n",
       "      <th>artist</th>\n",
       "      <th>lyrics</th>\n",
       "      <th>decade</th>\n",
       "      <th>song_key</th>\n",
       "      <th>lyrics_url</th>\n",
       "      <th>lyrics_abstract</th>\n",
       "      <th>noun_vector</th>\n",
       "      <th>adj_vector</th>\n",
       "      <th>noun_syn_vector</th>\n",
       "      <th>adj_syn_vector</th>\n",
       "      <th>noun_syn_hype_vector</th>\n",
       "      <th>adj_syn_hype_vector</th>\n",
       "    </tr>\n",
       "  </thead>\n",
       "  <tbody>\n",
       "    <tr>\n",
       "      <th>0</th>\n",
       "      <td>0</td>\n",
       "      <td>1</td>\n",
       "      <td>1970</td>\n",
       "      <td>https://en.wikipedia.org/wiki/Bridge_over_Trou...</td>\n",
       "      <td>Bridge over Troubled Water</td>\n",
       "      <td>Simon and Garfunkel</td>\n",
       "      <td>When you're weary. Feeling small. When tears a...</td>\n",
       "      <td>1970</td>\n",
       "      <td>1970-1</td>\n",
       "      <td>http://lyrics.wikia.com/Simon_And_Garfunkel:Br...</td>\n",
       "      <td>When you're weary. Feeling small. When tears a...</td>\n",
       "      <td>time bridge water</td>\n",
       "      <td>rough troubled</td>\n",
       "      <td>bridge time water</td>\n",
       "      <td>rough troubled</td>\n",
       "      <td>bridge time water</td>\n",
       "      <td>rough troubled</td>\n",
       "    </tr>\n",
       "  </tbody>\n",
       "</table>\n",
       "</div>"
      ],
      "text/plain": [
       "   index  position  year                                         title.href                       title               artist                                             lyrics  decade song_key                                         lyrics_url                                    lyrics_abstract        noun_vector      adj_vector    noun_syn_vector  adj_syn_vector noun_syn_hype_vector adj_syn_hype_vector\n",
       "0      0         1  1970  https://en.wikipedia.org/wiki/Bridge_over_Trou...  Bridge over Troubled Water  Simon and Garfunkel  When you're weary. Feeling small. When tears a...    1970   1970-1  http://lyrics.wikia.com/Simon_And_Garfunkel:Br...  When you're weary. Feeling small. When tears a...  time bridge water  rough troubled  bridge time water  rough troubled    bridge time water      rough troubled"
      ]
     },
     "execution_count": 27,
     "metadata": {},
     "output_type": "execute_result"
    }
   ],
   "source": [
    "lyricsdf.head(1)"
   ]
  },
  {
   "cell_type": "code",
   "execution_count": 40,
   "metadata": {
    "collapsed": false
   },
   "outputs": [],
   "source": [
    "first_offensive = {}\n",
    "found_offensive = []\n",
    "\n",
    "for r in lyricsdf.iterrows():\n",
    "    nouns = r[1].noun_vector\n",
    "    # test for NaN\n",
    "    if not isinstance(nouns,float):\n",
    "        vs = nouns.split()\n",
    "        for o in offensives:\n",
    "            # pick a winner\n",
    "            if not o in found_offensive and o in vs:                \n",
    "                first_offensive[o] = r[1].song_key\n",
    "                found_offensive.append(o)"
   ]
  },
  {
   "cell_type": "code",
   "execution_count": 34,
   "metadata": {
    "collapsed": false
   },
   "outputs": [
    {
     "data": {
      "text/plain": [
       "20"
      ]
     },
     "execution_count": 34,
     "metadata": {},
     "output_type": "execute_result"
    }
   ],
   "source": [
    "len(offensives)"
   ]
  },
  {
   "cell_type": "code",
   "execution_count": 38,
   "metadata": {
    "collapsed": false
   },
   "outputs": [
    {
     "data": {
      "text/plain": [
       "20"
      ]
     },
     "execution_count": 38,
     "metadata": {},
     "output_type": "execute_result"
    }
   ],
   "source": [
    "len(found_offensive)"
   ]
  },
  {
   "cell_type": "code",
   "execution_count": 44,
   "metadata": {
    "collapsed": false
   },
   "outputs": [
    {
     "data": {
      "text/plain": [
       "20"
      ]
     },
     "execution_count": 44,
     "metadata": {},
     "output_type": "execute_result"
    }
   ],
   "source": [
    "len(first_offensive)"
   ]
  },
  {
   "cell_type": "code",
   "execution_count": 41,
   "metadata": {
    "collapsed": false
   },
   "outputs": [
    {
     "data": {
      "text/plain": [
       "{'ass': '1983-25',\n",
       " 'bitch': '1977-23',\n",
       " 'bone': '1977-36',\n",
       " 'booty': '1977-41',\n",
       " 'bullshit': '1973-92',\n",
       " 'butt': '1987-59',\n",
       " 'cock': '1999-39',\n",
       " 'dick': '1971-89',\n",
       " 'ho': '1992-2',\n",
       " 'hoe': '1993-53',\n",
       " 'motherfucker': '1993-11',\n",
       " 'nigga': '1993-2',\n",
       " 'niggas': '1993-11',\n",
       " 'niggaz': '1992-67',\n",
       " 'pimp': '1993-81',\n",
       " 'pimpin': '1996-64',\n",
       " 'pussy': '1975-78',\n",
       " 'shit': '1970-3',\n",
       " 'titty': '1999-75',\n",
       " 'whore': '1994-82'}"
      ]
     },
     "execution_count": 41,
     "metadata": {},
     "output_type": "execute_result"
    }
   ],
   "source": [
    "first_offensive"
   ]
  },
  {
   "cell_type": "code",
   "execution_count": 42,
   "metadata": {
    "collapsed": true
   },
   "outputs": [],
   "source": [
    "firstoffensivedf = lyricsdf[lyricsdf['song_key'].isin(first_offensive.values())]"
   ]
  },
  {
   "cell_type": "code",
   "execution_count": 43,
   "metadata": {
    "collapsed": false
   },
   "outputs": [
    {
     "data": {
      "text/plain": [
       "(19, 17)"
      ]
     },
     "execution_count": 43,
     "metadata": {},
     "output_type": "execute_result"
    }
   ],
   "source": [
    "firstoffensivedf.shape"
   ]
  },
  {
   "cell_type": "code",
   "execution_count": 45,
   "metadata": {
    "collapsed": false
   },
   "outputs": [
    {
     "data": {
      "text/html": [
       "<div>\n",
       "<table border=\"1\" class=\"dataframe\">\n",
       "  <thead>\n",
       "    <tr style=\"text-align: right;\">\n",
       "      <th></th>\n",
       "      <th>index</th>\n",
       "      <th>position</th>\n",
       "      <th>year</th>\n",
       "      <th>title.href</th>\n",
       "      <th>title</th>\n",
       "      <th>artist</th>\n",
       "      <th>lyrics</th>\n",
       "      <th>decade</th>\n",
       "      <th>song_key</th>\n",
       "      <th>lyrics_url</th>\n",
       "      <th>lyrics_abstract</th>\n",
       "      <th>noun_vector</th>\n",
       "      <th>adj_vector</th>\n",
       "      <th>noun_syn_vector</th>\n",
       "      <th>adj_syn_vector</th>\n",
       "      <th>noun_syn_hype_vector</th>\n",
       "      <th>adj_syn_hype_vector</th>\n",
       "    </tr>\n",
       "  </thead>\n",
       "  <tbody>\n",
       "    <tr>\n",
       "      <th>2</th>\n",
       "      <td>2</td>\n",
       "      <td>3</td>\n",
       "      <td>1970</td>\n",
       "      <td>https://en.wikipedia.org/wiki/American_Woman_(...</td>\n",
       "      <td>American Woman</td>\n",
       "      <td>The Guess Who</td>\n",
       "      <td>Mmm, da da da. Mmm, mmm, da da da. Mmm, mmm, d...</td>\n",
       "      <td>1970</td>\n",
       "      <td>1970-3</td>\n",
       "      <td>http://lyrics.wikia.com/The_Guess_Who:American...</td>\n",
       "      <td>Mmm, da da da. Mmm, mmm, da da da. Mmm, mmm, d...</td>\n",
       "      <td>woman mess mind mama thing time growin light y...</td>\n",
       "      <td>american important old coloured leave</td>\n",
       "      <td>crap light ma mess mind thing time woman</td>\n",
       "      <td>american colored important old</td>\n",
       "      <td>crap light ma mess mind thing time woman</td>\n",
       "      <td>american colored important old</td>\n",
       "    </tr>\n",
       "    <tr>\n",
       "      <th>188</th>\n",
       "      <td>188</td>\n",
       "      <td>89</td>\n",
       "      <td>1971</td>\n",
       "      <td>https://en.wikipedia.org/wiki/Theme_from_Shaft</td>\n",
       "      <td>Theme from Shaft</td>\n",
       "      <td>Isaac Hayes</td>\n",
       "      <td>Who's the black private dick. That's a sex mac...</td>\n",
       "      <td>1970</td>\n",
       "      <td>1971-89</td>\n",
       "      <td>http://lyrics.wikia.com/Isaac_Hayes:Theme_From...</td>\n",
       "      <td>Who's the black private dick. That's a sex mac...</td>\n",
       "      <td>dick right cat shaft mother man</td>\n",
       "      <td>black private damn bad complicated</td>\n",
       "      <td>cat dick man mother right shaft</td>\n",
       "      <td>bad black complicated damn private</td>\n",
       "      <td>cat dick man mother right shaft</td>\n",
       "      <td>bad black complicated damn private</td>\n",
       "    </tr>\n",
       "    <tr>\n",
       "      <th>391</th>\n",
       "      <td>391</td>\n",
       "      <td>92</td>\n",
       "      <td>1973</td>\n",
       "      <td>https://en.wikipedia.org/wiki/Money_(Pink_Floy...</td>\n",
       "      <td>Money</td>\n",
       "      <td>Pink Floyd</td>\n",
       "      <td>Money, get away. Get a good job with more pay ...</td>\n",
       "      <td>1970</td>\n",
       "      <td>1973-92</td>\n",
       "      <td>http://lyrics.wikia.com/Pink_Floyd:Money</td>\n",
       "      <td>Money, get away. Get a good job with more pay ...</td>\n",
       "      <td>job pay hand stack bullshit</td>\n",
       "      <td>good okay right</td>\n",
       "      <td>bullshit hand occupation stack wage</td>\n",
       "      <td>all_right good right</td>\n",
       "      <td>bullshit hand occupation stack wage</td>\n",
       "      <td>all_right good right</td>\n",
       "    </tr>\n",
       "    <tr>\n",
       "      <th>577</th>\n",
       "      <td>577</td>\n",
       "      <td>78</td>\n",
       "      <td>1975</td>\n",
       "      <td>https://en.wikipedia.org/wiki/Killer_Queen</td>\n",
       "      <td>Killer Queen</td>\n",
       "      <td>Queen</td>\n",
       "      <td>She keeps her Mot et Chandon. In her pretty ca...</td>\n",
       "      <td>1970</td>\n",
       "      <td>1975-78</td>\n",
       "      <td>http://lyrics.wikia.com/Queen:Killer_Queen</td>\n",
       "      <td>She keeps her Mot et Chandon. In her pretty ca...</td>\n",
       "      <td>cabinet remedy appetite drop hat pussy cat</td>\n",
       "      <td>pretty built-in insatiable willing playful</td>\n",
       "      <td>appetite cabinet cat cunt drop hat redress</td>\n",
       "      <td>built-in insatiate playful pretty willing</td>\n",
       "      <td>appetite cabinet cat cunt drop hat redress</td>\n",
       "      <td>built-in insatiate playful pretty willing</td>\n",
       "    </tr>\n",
       "    <tr>\n",
       "      <th>722</th>\n",
       "      <td>722</td>\n",
       "      <td>23</td>\n",
       "      <td>1977</td>\n",
       "      <td>https://en.wikipedia.org/wiki/Rich_Girl_(Hall_...</td>\n",
       "      <td>Rich Girl</td>\n",
       "      <td>Hall and Oates</td>\n",
       "      <td>You're a rich girl and you've gone too far. 'C...</td>\n",
       "      <td>1970</td>\n",
       "      <td>1977-23</td>\n",
       "      <td>http://lyrics.wikia.com/Hall_%26_Oates:Rich_Girl</td>\n",
       "      <td>You're a rich girl and you've gone too far. 'C...</td>\n",
       "      <td>girl man money rain pain bitch</td>\n",
       "      <td>rich old dry easy feel</td>\n",
       "      <td>bitch girl man money pain rain</td>\n",
       "      <td>dry easy old rich</td>\n",
       "      <td>bitch girl man money pain rain</td>\n",
       "      <td>dry easy old rich</td>\n",
       "    </tr>\n",
       "    <tr>\n",
       "      <th>735</th>\n",
       "      <td>735</td>\n",
       "      <td>36</td>\n",
       "      <td>1977</td>\n",
       "      <td>https://en.wikipedia.org/wiki/Blinded_by_the_L...</td>\n",
       "      <td>Blinded by the Light</td>\n",
       "      <td>Manfred Mann's Earth Band</td>\n",
       "      <td>Blinded by the light. Wrapped up like a deuce....</td>\n",
       "      <td>1970</td>\n",
       "      <td>1977-36</td>\n",
       "      <td>http://lyrics.wikia.com/Manfred_Mann%27s_Earth...</td>\n",
       "      <td>Blinded by the light. Wrapped up like a deuce....</td>\n",
       "      <td>diplomat pump sonny song break outside preache...</td>\n",
       "      <td>teenage adolescent strong funky safe east funn...</td>\n",
       "      <td>bone chaperon cub dance diplomat girl interrup...</td>\n",
       "      <td>adolescent amusing east fetid frozen new safe ...</td>\n",
       "      <td>bone chaperon cub dance diplomat girl interrup...</td>\n",
       "      <td>adolescent amusing east fetid frozen new safe ...</td>\n",
       "    </tr>\n",
       "    <tr>\n",
       "      <th>740</th>\n",
       "      <td>740</td>\n",
       "      <td>41</td>\n",
       "      <td>1977</td>\n",
       "      <td>https://en.wikipedia.org/wiki/Dazz</td>\n",
       "      <td>Dazz</td>\n",
       "      <td>Brick</td>\n",
       "      <td>Everybody go on and dance if you want to. Musi...</td>\n",
       "      <td>1970</td>\n",
       "      <td>1977-41</td>\n",
       "      <td>http://lyrics.wikia.com/Brick:Dazz</td>\n",
       "      <td>Everybody go on and dance if you want to. Musi...</td>\n",
       "      <td>dancing booty</td>\n",
       "      <td>funky</td>\n",
       "      <td>dancing loot</td>\n",
       "      <td>fetid</td>\n",
       "      <td>dancing loot</td>\n",
       "      <td>fetid</td>\n",
       "    </tr>\n",
       "    <tr>\n",
       "      <th>1324</th>\n",
       "      <td>1324</td>\n",
       "      <td>25</td>\n",
       "      <td>1983</td>\n",
       "      <td>https://en.wikipedia.org/wiki/Little_Red_Corvette</td>\n",
       "      <td>Little Red Corvette</td>\n",
       "      <td>Prince</td>\n",
       "      <td>I guess I should've known by the way you parke...</td>\n",
       "      <td>1980</td>\n",
       "      <td>1983-25</td>\n",
       "      <td>http://lyrics.wikia.com/Prince:Little_Red_Corv...</td>\n",
       "      <td>I guess I should've known by the way you parke...</td>\n",
       "      <td>cause horse honey red ill picture verge try lo...</td>\n",
       "      <td>dumb pocket little obscene tame red ow right</td>\n",
       "      <td>ailment attempt body brink buttocks cause hone...</td>\n",
       "      <td>dense obscene red right small tame</td>\n",
       "      <td>ailment attempt body brink buttocks cause hone...</td>\n",
       "      <td>dense obscene red right small tame</td>\n",
       "    </tr>\n",
       "    <tr>\n",
       "      <th>1758</th>\n",
       "      <td>1758</td>\n",
       "      <td>59</td>\n",
       "      <td>1987</td>\n",
       "      <td>https://en.wikipedia.org/wiki/Bad_(Michael_Jac...</td>\n",
       "      <td>Bad</td>\n",
       "      <td>Michael Jackson</td>\n",
       "      <td>Na! Your butt is mine, gonna tell you right (N...</td>\n",
       "      <td>1980</td>\n",
       "      <td>1987-59</td>\n",
       "      <td>http://lyrics.wikia.com/Michael_Jackson:Bad</td>\n",
       "      <td>Na! Your butt is mine, gonna tell you right (N...</td>\n",
       "      <td>butt face daylight count stuff mouth sh word l...</td>\n",
       "      <td>na broad bad wrong long cheap better</td>\n",
       "      <td>baby battle butt count day eye face lock man m...</td>\n",
       "      <td>bad better cheap incorrect long wide</td>\n",
       "      <td>baby battle butt count day eye face lock man m...</td>\n",
       "      <td>bad better cheap incorrect long wide</td>\n",
       "    </tr>\n",
       "    <tr>\n",
       "      <th>2201</th>\n",
       "      <td>2201</td>\n",
       "      <td>2</td>\n",
       "      <td>1992</td>\n",
       "      <td>https://en.wikipedia.org/wiki/Baby_Got_Back</td>\n",
       "      <td>Baby Got Back</td>\n",
       "      <td>Sir Mix-a-Lot</td>\n",
       "      <td>. I like big butts and I cannot lie. You other...</td>\n",
       "      <td>1990</td>\n",
       "      <td>1992-2</td>\n",
       "      <td>http://lyrics.wikia.com/Sir_Mix-A-Lot:Baby_Got...</td>\n",
       "      <td>. I like big butts and I cannot lie. You other...</td>\n",
       "      <td>butt girl waist cause groupie sweat turbo vett...</td>\n",
       "      <td>big itty-bitty average wet tired flat black he...</td>\n",
       "      <td>bean bimbo brother butt cause double function ...</td>\n",
       "      <td>average bitty black difficult flat healthy in-...</td>\n",
       "      <td>bean bimbo brother butt cause double function ...</td>\n",
       "      <td>average bitty black difficult flat healthy in-...</td>\n",
       "    </tr>\n",
       "    <tr>\n",
       "      <th>2266</th>\n",
       "      <td>2266</td>\n",
       "      <td>67</td>\n",
       "      <td>1992</td>\n",
       "      <td>https://en.wikipedia.org/wiki/People_Everyday</td>\n",
       "      <td>People Everyday</td>\n",
       "      <td>Arrested Development</td>\n",
       "      <td>See I was resting at the park minding my own. ...</td>\n",
       "      <td>1990</td>\n",
       "      <td>1992-67</td>\n",
       "      <td>http://lyrics.wikia.com/Arrested_Development:P...</td>\n",
       "      <td>See I was resting at the park minding my own. ...</td>\n",
       "      <td>business tone folk hype day soul ease queen cr...</td>\n",
       "      <td>treble loud great black obscene drunk young go...</td>\n",
       "      <td>ballyhoo battle brother business cause color c...</td>\n",
       "      <td>black bright calm everyday good great ill-mann...</td>\n",
       "      <td>ballyhoo battle brother business cause color c...</td>\n",
       "      <td>black bright calm everyday good great ill-mann...</td>\n",
       "    </tr>\n",
       "    <tr>\n",
       "      <th>2301</th>\n",
       "      <td>2301</td>\n",
       "      <td>2</td>\n",
       "      <td>1993</td>\n",
       "      <td>https://en.wikipedia.org/wiki/Whoomp!_(There_I...</td>\n",
       "      <td>Whoomp! (There It Is)</td>\n",
       "      <td>Tag Team</td>\n",
       "      <td>Party people. Yeah Tag Team music. In Full Eff...</td>\n",
       "      <td>1990</td>\n",
       "      <td>1993-2</td>\n",
       "      <td>http://lyrics.wikia.com/Tag_Team:Whoomp%21_%28...</td>\n",
       "      <td>Party people. Yeah Tag Team music. In Full Eff...</td>\n",
       "      <td>somethin word time nigga mother party hype sch...</td>\n",
       "      <td>little busy mic fucking old cool underground f...</td>\n",
       "      <td>ailment ballyhoo crap folk fool lore mother ni...</td>\n",
       "      <td>bally belowground busy cool fly hard-core old ...</td>\n",
       "      <td>ailment ballyhoo crap folk fool lore mother ni...</td>\n",
       "      <td>bally belowground busy cool fly hard-core old ...</td>\n",
       "    </tr>\n",
       "    <tr>\n",
       "      <th>2310</th>\n",
       "      <td>2310</td>\n",
       "      <td>11</td>\n",
       "      <td>1993</td>\n",
       "      <td>https://en.wikipedia.org/wiki/Nuthin%27_but_a_...</td>\n",
       "      <td>Nuthin' but a 'G' Thang</td>\n",
       "      <td>Dr. Dre</td>\n",
       "      <td>. One, two, three, and to the four. Snoop Dogg...</td>\n",
       "      <td>1990</td>\n",
       "      <td>1993-11</td>\n",
       "      <td>http://lyrics.wikia.com/Dr._Dre:Nuthin%27_But_...</td>\n",
       "      <td>. One, two, three, and to the four. Snoop Dogg...</td>\n",
       "      <td>entrance microphone bust loc'ed niggas perspec...</td>\n",
       "      <td>ready bubble crazy young good burnt proper sma...</td>\n",
       "      <td>asshole ball batch buttocks capital chump coll...</td>\n",
       "      <td>brainsick burned fetid fresh good old proper r...</td>\n",
       "      <td>asshole ball batch buttocks capital chump coll...</td>\n",
       "      <td>brainsick burned fetid fresh good old proper r...</td>\n",
       "    </tr>\n",
       "    <tr>\n",
       "      <th>2352</th>\n",
       "      <td>2352</td>\n",
       "      <td>53</td>\n",
       "      <td>1993</td>\n",
       "      <td>https://en.wikipedia.org/wiki/Fuck_wit_Dre_Day...</td>\n",
       "      <td>Dre Day</td>\n",
       "      <td>Dr. Dre</td>\n",
       "      <td>Yeah, hell yeah. Ha, know what I'm sayin'? Yea...</td>\n",
       "      <td>1990</td>\n",
       "      <td>1993-53</td>\n",
       "      <td>http://lyrics.wikia.com/Dr._Dre:Dre_Day</td>\n",
       "      <td>Yeah, hell yeah. Ha, know what I'm sayin'? Yea...</td>\n",
       "      <td>dick road dog ace hoe bud cause candy boy joke...</td>\n",
       "      <td>hard fuckin homey little low-key good jimmy lo...</td>\n",
       "      <td>asshole bark bite bud buttocks candy cause che...</td>\n",
       "      <td>barbarous better difficult fat good homelike l...</td>\n",
       "      <td>asshole bark bite bud buttocks candy cause che...</td>\n",
       "      <td>barbarous better difficult fat good homelike l...</td>\n",
       "    </tr>\n",
       "    <tr>\n",
       "      <th>2380</th>\n",
       "      <td>2380</td>\n",
       "      <td>81</td>\n",
       "      <td>1993</td>\n",
       "      <td>https://en.wikipedia.org/wiki/Rebirth_of_Slick...</td>\n",
       "      <td>Rebirth of Slick (Cool Like Dat)</td>\n",
       "      <td>Digable Planets</td>\n",
       "      <td>We like the breeze flow straight out of our li...</td>\n",
       "      <td>1990</td>\n",
       "      <td>1993-81</td>\n",
       "      <td>http://lyrics.wikia.com/Digable_Planets:Rebirt...</td>\n",
       "      <td>We like the breeze flow straight out of our li...</td>\n",
       "      <td>flow boomin classic crew hip hop record joint ...</td>\n",
       "      <td>rush fattest fatter mad kinky unthought-of fly...</td>\n",
       "      <td>addition axial_rotation baby belt block bounda...</td>\n",
       "      <td>asteroid authoritative brainsick chunky entire...</td>\n",
       "      <td>addition axial_rotation baby belt block bounda...</td>\n",
       "      <td>asteroid authoritative brainsick chunky entire...</td>\n",
       "    </tr>\n",
       "    <tr>\n",
       "      <th>2481</th>\n",
       "      <td>2481</td>\n",
       "      <td>82</td>\n",
       "      <td>1994</td>\n",
       "      <td>https://en.wikipedia.org/wiki/U.N.I.T.Y.</td>\n",
       "      <td>U.N.I.T.Y.</td>\n",
       "      <td>Queen Latifah</td>\n",
       "      <td>(uh)U-N-I-T-Y. U-N-I-T-Y (That's a unity). U-N...</td>\n",
       "      <td>1990</td>\n",
       "      <td>1994-82</td>\n",
       "      <td>http://lyrics.wikia.com/Queen_Latifah:U.N.I.T.Y.</td>\n",
       "      <td>(uh)U-N-I-T-Y. U-N-I-T-Y (That's a unity). U-N...</td>\n",
       "      <td>man infinity woman sister cutoff short cause b...</td>\n",
       "      <td>black low right crazy hot nasty little fly dea...</td>\n",
       "      <td>attitude bitch cause cutoff day dependence ete...</td>\n",
       "      <td>bad black brainsick dead deep fly good hot low...</td>\n",
       "      <td>attitude bitch cause cutoff day dependence ete...</td>\n",
       "      <td>bad black brainsick dead deep fly good hot low...</td>\n",
       "    </tr>\n",
       "    <tr>\n",
       "      <th>2663</th>\n",
       "      <td>2663</td>\n",
       "      <td>64</td>\n",
       "      <td>1996</td>\n",
       "      <td>https://en.wikipedia.org/wiki/Tonite%27s_tha_N...</td>\n",
       "      <td>Tonite's tha Night</td>\n",
       "      <td>Kris Kross</td>\n",
       "      <td>[Jermaine Dupri]. Shhhhhhhhh. Kris Kross. 95. ...</td>\n",
       "      <td>1990</td>\n",
       "      <td>1996-64</td>\n",
       "      <td>http://lyrics.wikia.com/Kris_Kross:Tonite%27s_...</td>\n",
       "      <td>[Jermaine Dupri]. Shhhhhhhhh. Kris Kross. 95. ...</td>\n",
       "      <td>scopin track factor worse picture mister siste...</td>\n",
       "      <td>open real worst big richer quick cellular easy...</td>\n",
       "      <td>ball brother deal deck factor house mister nig...</td>\n",
       "      <td>cellular chief cool double easy intoxicated la...</td>\n",
       "      <td>ball brother deal deck factor house mister nig...</td>\n",
       "      <td>cellular chief cool double easy intoxicated la...</td>\n",
       "    </tr>\n",
       "    <tr>\n",
       "      <th>2938</th>\n",
       "      <td>2938</td>\n",
       "      <td>39</td>\n",
       "      <td>1999</td>\n",
       "      <td>https://en.wikipedia.org/wiki/Can_I_Get_A...</td>\n",
       "      <td>Can I Get A...</td>\n",
       "      <td>Jay-Z</td>\n",
       "      <td>[Jay-Z]. What? Well fuck you. bitch. Bounce wi...</td>\n",
       "      <td>1990</td>\n",
       "      <td>1999-39</td>\n",
       "      <td>http://lyrics.wikia.com/Jay-Z:Can_I_Get_A...</td>\n",
       "      <td>[Jay-Z]. What? Well fuck you. bitch. Bounce wi...</td>\n",
       "      <td>thing ya nigga dough fuck niggaz breadwinner n...</td>\n",
       "      <td>finer flow futuristic harder low rich corny la...</td>\n",
       "      <td>breadwinner candlelight care cock damp dough f...</td>\n",
       "      <td>bad bromidic finer futuristic good high late l...</td>\n",
       "      <td>breadwinner candlelight care cock damp dough f...</td>\n",
       "      <td>bad bromidic finer futuristic good high late l...</td>\n",
       "    </tr>\n",
       "    <tr>\n",
       "      <th>2974</th>\n",
       "      <td>2974</td>\n",
       "      <td>75</td>\n",
       "      <td>1999</td>\n",
       "      <td>https://en.wikipedia.org/wiki/Back_That_Azz_Up</td>\n",
       "      <td>Back That Azz Up</td>\n",
       "      <td>Juvenile</td>\n",
       "      <td>Girl you working with some ass, yeah. You bad,...</td>\n",
       "      <td>1990</td>\n",
       "      <td>1999-75</td>\n",
       "      <td>http://lyrics.wikia.com/Juvenile:Back_That_Azz_Up</td>\n",
       "      <td>Girl you working with some ass, yeah. You bad,...</td>\n",
       "      <td>filler rug fine muthafucka ass nerve shit titt...</td>\n",
       "      <td>grave smooth little good stupid fuckin fresh n...</td>\n",
       "      <td>breast buttocks chick crap dick drawer drop fi...</td>\n",
       "      <td>alone fresh good grave handed hot large nice s...</td>\n",
       "      <td>breast buttocks chick crap dick drawer drop fi...</td>\n",
       "      <td>alone fresh good grave handed hot large nice s...</td>\n",
       "    </tr>\n",
       "  </tbody>\n",
       "</table>\n",
       "</div>"
      ],
      "text/plain": [
       "      index  position  year                                         title.href                             title                     artist                                             lyrics  decade song_key                                         lyrics_url                                    lyrics_abstract                                        noun_vector                                         adj_vector                                    noun_syn_vector  \\\n",
       "2         2         3  1970  https://en.wikipedia.org/wiki/American_Woman_(...                    American Woman              The Guess Who  Mmm, da da da. Mmm, mmm, da da da. Mmm, mmm, d...    1970   1970-3  http://lyrics.wikia.com/The_Guess_Who:American...  Mmm, da da da. Mmm, mmm, da da da. Mmm, mmm, d...  woman mess mind mama thing time growin light y...              american important old coloured leave           crap light ma mess mind thing time woman   \n",
       "188     188        89  1971     https://en.wikipedia.org/wiki/Theme_from_Shaft                  Theme from Shaft                Isaac Hayes  Who's the black private dick. That's a sex mac...    1970  1971-89  http://lyrics.wikia.com/Isaac_Hayes:Theme_From...  Who's the black private dick. That's a sex mac...                    dick right cat shaft mother man                 black private damn bad complicated                    cat dick man mother right shaft   \n",
       "391     391        92  1973  https://en.wikipedia.org/wiki/Money_(Pink_Floy...                             Money                 Pink Floyd  Money, get away. Get a good job with more pay ...    1970  1973-92           http://lyrics.wikia.com/Pink_Floyd:Money  Money, get away. Get a good job with more pay ...                        job pay hand stack bullshit                                    good okay right                bullshit hand occupation stack wage   \n",
       "577     577        78  1975         https://en.wikipedia.org/wiki/Killer_Queen                      Killer Queen                      Queen  She keeps her Mot et Chandon. In her pretty ca...    1970  1975-78         http://lyrics.wikia.com/Queen:Killer_Queen  She keeps her Mot et Chandon. In her pretty ca...         cabinet remedy appetite drop hat pussy cat         pretty built-in insatiable willing playful         appetite cabinet cat cunt drop hat redress   \n",
       "722     722        23  1977  https://en.wikipedia.org/wiki/Rich_Girl_(Hall_...                         Rich Girl             Hall and Oates  You're a rich girl and you've gone too far. 'C...    1970  1977-23   http://lyrics.wikia.com/Hall_%26_Oates:Rich_Girl  You're a rich girl and you've gone too far. 'C...                     girl man money rain pain bitch                             rich old dry easy feel                     bitch girl man money pain rain   \n",
       "735     735        36  1977  https://en.wikipedia.org/wiki/Blinded_by_the_L...              Blinded by the Light  Manfred Mann's Earth Band  Blinded by the light. Wrapped up like a deuce....    1970  1977-36  http://lyrics.wikia.com/Manfred_Mann%27s_Earth...  Blinded by the light. Wrapped up like a deuce....  diplomat pump sonny song break outside preache...  teenage adolescent strong funky safe east funn...  bone chaperon cub dance diplomat girl interrup...   \n",
       "740     740        41  1977                 https://en.wikipedia.org/wiki/Dazz                              Dazz                      Brick  Everybody go on and dance if you want to. Musi...    1970  1977-41                 http://lyrics.wikia.com/Brick:Dazz  Everybody go on and dance if you want to. Musi...                                      dancing booty                                              funky                                       dancing loot   \n",
       "1324   1324        25  1983  https://en.wikipedia.org/wiki/Little_Red_Corvette               Little Red Corvette                     Prince  I guess I should've known by the way you parke...    1980  1983-25  http://lyrics.wikia.com/Prince:Little_Red_Corv...  I guess I should've known by the way you parke...  cause horse honey red ill picture verge try lo...       dumb pocket little obscene tame red ow right  ailment attempt body brink buttocks cause hone...   \n",
       "1758   1758        59  1987  https://en.wikipedia.org/wiki/Bad_(Michael_Jac...                               Bad            Michael Jackson  Na! Your butt is mine, gonna tell you right (N...    1980  1987-59        http://lyrics.wikia.com/Michael_Jackson:Bad  Na! Your butt is mine, gonna tell you right (N...  butt face daylight count stuff mouth sh word l...               na broad bad wrong long cheap better  baby battle butt count day eye face lock man m...   \n",
       "2201   2201         2  1992        https://en.wikipedia.org/wiki/Baby_Got_Back                     Baby Got Back              Sir Mix-a-Lot  . I like big butts and I cannot lie. You other...    1990   1992-2  http://lyrics.wikia.com/Sir_Mix-A-Lot:Baby_Got...  . I like big butts and I cannot lie. You other...  butt girl waist cause groupie sweat turbo vett...  big itty-bitty average wet tired flat black he...  bean bimbo brother butt cause double function ...   \n",
       "2266   2266        67  1992      https://en.wikipedia.org/wiki/People_Everyday                   People Everyday       Arrested Development  See I was resting at the park minding my own. ...    1990  1992-67  http://lyrics.wikia.com/Arrested_Development:P...  See I was resting at the park minding my own. ...  business tone folk hype day soul ease queen cr...  treble loud great black obscene drunk young go...  ballyhoo battle brother business cause color c...   \n",
       "2301   2301         2  1993  https://en.wikipedia.org/wiki/Whoomp!_(There_I...             Whoomp! (There It Is)                   Tag Team  Party people. Yeah Tag Team music. In Full Eff...    1990   1993-2  http://lyrics.wikia.com/Tag_Team:Whoomp%21_%28...  Party people. Yeah Tag Team music. In Full Eff...  somethin word time nigga mother party hype sch...  little busy mic fucking old cool underground f...  ailment ballyhoo crap folk fool lore mother ni...   \n",
       "2310   2310        11  1993  https://en.wikipedia.org/wiki/Nuthin%27_but_a_...           Nuthin' but a 'G' Thang                    Dr. Dre  . One, two, three, and to the four. Snoop Dogg...    1990  1993-11  http://lyrics.wikia.com/Dr._Dre:Nuthin%27_But_...  . One, two, three, and to the four. Snoop Dogg...  entrance microphone bust loc'ed niggas perspec...  ready bubble crazy young good burnt proper sma...  asshole ball batch buttocks capital chump coll...   \n",
       "2352   2352        53  1993  https://en.wikipedia.org/wiki/Fuck_wit_Dre_Day...                           Dre Day                    Dr. Dre  Yeah, hell yeah. Ha, know what I'm sayin'? Yea...    1990  1993-53            http://lyrics.wikia.com/Dr._Dre:Dre_Day  Yeah, hell yeah. Ha, know what I'm sayin'? Yea...  dick road dog ace hoe bud cause candy boy joke...  hard fuckin homey little low-key good jimmy lo...  asshole bark bite bud buttocks candy cause che...   \n",
       "2380   2380        81  1993  https://en.wikipedia.org/wiki/Rebirth_of_Slick...  Rebirth of Slick (Cool Like Dat)            Digable Planets  We like the breeze flow straight out of our li...    1990  1993-81  http://lyrics.wikia.com/Digable_Planets:Rebirt...  We like the breeze flow straight out of our li...  flow boomin classic crew hip hop record joint ...  rush fattest fatter mad kinky unthought-of fly...  addition axial_rotation baby belt block bounda...   \n",
       "2481   2481        82  1994           https://en.wikipedia.org/wiki/U.N.I.T.Y.                        U.N.I.T.Y.              Queen Latifah  (uh)U-N-I-T-Y. U-N-I-T-Y (That's a unity). U-N...    1990  1994-82   http://lyrics.wikia.com/Queen_Latifah:U.N.I.T.Y.  (uh)U-N-I-T-Y. U-N-I-T-Y (That's a unity). U-N...  man infinity woman sister cutoff short cause b...  black low right crazy hot nasty little fly dea...  attitude bitch cause cutoff day dependence ete...   \n",
       "2663   2663        64  1996  https://en.wikipedia.org/wiki/Tonite%27s_tha_N...               Tonite's tha Night                  Kris Kross  [Jermaine Dupri]. Shhhhhhhhh. Kris Kross. 95. ...    1990  1996-64  http://lyrics.wikia.com/Kris_Kross:Tonite%27s_...  [Jermaine Dupri]. Shhhhhhhhh. Kris Kross. 95. ...  scopin track factor worse picture mister siste...  open real worst big richer quick cellular easy...  ball brother deal deck factor house mister nig...   \n",
       "2938   2938        39  1999       https://en.wikipedia.org/wiki/Can_I_Get_A...                    Can I Get A...                      Jay-Z  [Jay-Z]. What? Well fuck you. bitch. Bounce wi...    1990  1999-39       http://lyrics.wikia.com/Jay-Z:Can_I_Get_A...  [Jay-Z]. What? Well fuck you. bitch. Bounce wi...  thing ya nigga dough fuck niggaz breadwinner n...  finer flow futuristic harder low rich corny la...  breadwinner candlelight care cock damp dough f...   \n",
       "2974   2974        75  1999     https://en.wikipedia.org/wiki/Back_That_Azz_Up                  Back That Azz Up                   Juvenile  Girl you working with some ass, yeah. You bad,...    1990  1999-75  http://lyrics.wikia.com/Juvenile:Back_That_Azz_Up  Girl you working with some ass, yeah. You bad,...  filler rug fine muthafucka ass nerve shit titt...  grave smooth little good stupid fuckin fresh n...  breast buttocks chick crap dick drawer drop fi...   \n",
       "\n",
       "                                         adj_syn_vector                               noun_syn_hype_vector                                adj_syn_hype_vector  \n",
       "2                        american colored important old           crap light ma mess mind thing time woman                     american colored important old  \n",
       "188                  bad black complicated damn private                    cat dick man mother right shaft                 bad black complicated damn private  \n",
       "391                                all_right good right                bullshit hand occupation stack wage                               all_right good right  \n",
       "577           built-in insatiate playful pretty willing         appetite cabinet cat cunt drop hat redress          built-in insatiate playful pretty willing  \n",
       "722                                   dry easy old rich                     bitch girl man money pain rain                                  dry easy old rich  \n",
       "735   adolescent amusing east fetid frozen new safe ...  bone chaperon cub dance diplomat girl interrup...  adolescent amusing east fetid frozen new safe ...  \n",
       "740                                               fetid                                       dancing loot                                              fetid  \n",
       "1324                 dense obscene red right small tame  ailment attempt body brink buttocks cause hone...                 dense obscene red right small tame  \n",
       "1758               bad better cheap incorrect long wide  baby battle butt count day eye face lock man m...               bad better cheap incorrect long wide  \n",
       "2201  average bitty black difficult flat healthy in-...  bean bimbo brother butt cause double function ...  average bitty black difficult flat healthy in-...  \n",
       "2266  black bright calm everyday good great ill-mann...  ballyhoo battle brother business cause color c...  black bright calm everyday good great ill-mann...  \n",
       "2301  bally belowground busy cool fly hard-core old ...  ailment ballyhoo crap folk fool lore mother ni...  bally belowground busy cool fly hard-core old ...  \n",
       "2310  brainsick burned fetid fresh good old proper r...  asshole ball batch buttocks capital chump coll...  brainsick burned fetid fresh good old proper r...  \n",
       "2352  barbarous better difficult fat good homelike l...  asshole bark bite bud buttocks candy cause che...  barbarous better difficult fat good homelike l...  \n",
       "2380  asteroid authoritative brainsick chunky entire...  addition axial_rotation baby belt block bounda...  asteroid authoritative brainsick chunky entire...  \n",
       "2481  bad black brainsick dead deep fly good hot low...  attitude bitch cause cutoff day dependence ete...  bad black brainsick dead deep fly good hot low...  \n",
       "2663  cellular chief cool double easy intoxicated la...  ball brother deal deck factor house mister nig...  cellular chief cool double easy intoxicated la...  \n",
       "2938  bad bromidic finer futuristic good high late l...  breadwinner candlelight care cock damp dough f...  bad bromidic finer futuristic good high late l...  \n",
       "2974  alone fresh good grave handed hot large nice s...  breast buttocks chick crap dick drawer drop fi...  alone fresh good grave handed hot large nice s...  "
      ]
     },
     "execution_count": 45,
     "metadata": {},
     "output_type": "execute_result"
    }
   ],
   "source": [
    "firstoffensivedf.head(20)"
   ]
  },
  {
   "cell_type": "code",
   "execution_count": 46,
   "metadata": {
    "collapsed": true
   },
   "outputs": [],
   "source": [
    "# flip around for adding to dataframe\n",
    "song_key_offensive = {}\n",
    "\n",
    "for o,sk in first_offensive.iteritems():\n",
    "    if sk in song_key_offensive:\n",
    "        song_key_offensive[sk].append(o)\n",
    "    else:\n",
    "        song_key_offensive[sk] = [o]\n",
    "    "
   ]
  },
  {
   "cell_type": "code",
   "execution_count": 47,
   "metadata": {
    "collapsed": false
   },
   "outputs": [
    {
     "data": {
      "text/plain": [
       "{'1970-3': ['shit'],\n",
       " '1971-89': ['dick'],\n",
       " '1973-92': ['bullshit'],\n",
       " '1975-78': ['pussy'],\n",
       " '1977-23': ['bitch'],\n",
       " '1977-36': ['bone'],\n",
       " '1977-41': ['booty'],\n",
       " '1983-25': ['ass'],\n",
       " '1987-59': ['butt'],\n",
       " '1992-2': ['ho'],\n",
       " '1992-67': ['niggaz'],\n",
       " '1993-11': ['niggas', 'motherfucker'],\n",
       " '1993-2': ['nigga'],\n",
       " '1993-53': ['hoe'],\n",
       " '1993-81': ['pimp'],\n",
       " '1994-82': ['whore'],\n",
       " '1996-64': ['pimpin'],\n",
       " '1999-39': ['cock'],\n",
       " '1999-75': ['titty']}"
      ]
     },
     "execution_count": 47,
     "metadata": {},
     "output_type": "execute_result"
    }
   ],
   "source": [
    "song_key_offensive"
   ]
  },
  {
   "cell_type": "code",
   "execution_count": 48,
   "metadata": {
    "collapsed": true
   },
   "outputs": [],
   "source": [
    "song_key_ostr = {}\n",
    "\n",
    "for sk, os in song_key_offensive.iteritems():\n",
    "    song_key_ostr[sk] = \" \".join(os)"
   ]
  },
  {
   "cell_type": "code",
   "execution_count": 49,
   "metadata": {
    "collapsed": false
   },
   "outputs": [
    {
     "data": {
      "text/plain": [
       "{'1970-3': 'shit',\n",
       " '1971-89': 'dick',\n",
       " '1973-92': 'bullshit',\n",
       " '1975-78': 'pussy',\n",
       " '1977-23': 'bitch',\n",
       " '1977-36': 'bone',\n",
       " '1977-41': 'booty',\n",
       " '1983-25': 'ass',\n",
       " '1987-59': 'butt',\n",
       " '1992-2': 'ho',\n",
       " '1992-67': 'niggaz',\n",
       " '1993-11': 'niggas motherfucker',\n",
       " '1993-2': 'nigga',\n",
       " '1993-53': 'hoe',\n",
       " '1993-81': 'pimp',\n",
       " '1994-82': 'whore',\n",
       " '1996-64': 'pimpin',\n",
       " '1999-39': 'cock',\n",
       " '1999-75': 'titty'}"
      ]
     },
     "execution_count": 49,
     "metadata": {},
     "output_type": "execute_result"
    }
   ],
   "source": [
    "song_key_ostr"
   ]
  },
  {
   "cell_type": "code",
   "execution_count": 50,
   "metadata": {
    "collapsed": true
   },
   "outputs": [],
   "source": [
    "def offensiveStrLookup(song_key):\n",
    "    if song_key in song_key_ostr:\n",
    "        return song_key_ostr[song_key]\n",
    "    return np.nan"
   ]
  },
  {
   "cell_type": "code",
   "execution_count": 51,
   "metadata": {
    "collapsed": false
   },
   "outputs": [
    {
     "name": "stderr",
     "output_type": "stream",
     "text": [
      "/home/vagrant/anaconda/lib/python2.7/site-packages/IPython/kernel/__main__.py:2: SettingWithCopyWarning: \n",
      "A value is trying to be set on a copy of a slice from a DataFrame.\n",
      "Try using .loc[row_indexer,col_indexer] = value instead\n",
      "\n",
      "See the the caveats in the documentation: http://pandas.pydata.org/pandas-docs/stable/indexing.html#indexing-view-versus-copy\n",
      "  from IPython.kernel.zmq import kernelapp as app\n"
     ]
    }
   ],
   "source": [
    "# add the offensives column\n",
    "firstoffensivedf['first_offensive_words'] = firstoffensivedf.song_key.apply(offensiveStrLookup)"
   ]
  },
  {
   "cell_type": "code",
   "execution_count": 53,
   "metadata": {
    "collapsed": false
   },
   "outputs": [
    {
     "data": {
      "text/html": [
       "<div>\n",
       "<table border=\"1\" class=\"dataframe\">\n",
       "  <thead>\n",
       "    <tr style=\"text-align: right;\">\n",
       "      <th></th>\n",
       "      <th>index</th>\n",
       "      <th>position</th>\n",
       "      <th>year</th>\n",
       "      <th>title.href</th>\n",
       "      <th>title</th>\n",
       "      <th>artist</th>\n",
       "      <th>lyrics</th>\n",
       "      <th>decade</th>\n",
       "      <th>song_key</th>\n",
       "      <th>lyrics_url</th>\n",
       "      <th>lyrics_abstract</th>\n",
       "      <th>noun_vector</th>\n",
       "      <th>adj_vector</th>\n",
       "      <th>noun_syn_vector</th>\n",
       "      <th>adj_syn_vector</th>\n",
       "      <th>noun_syn_hype_vector</th>\n",
       "      <th>adj_syn_hype_vector</th>\n",
       "      <th>first_offensive_words</th>\n",
       "    </tr>\n",
       "  </thead>\n",
       "  <tbody>\n",
       "    <tr>\n",
       "      <th>2</th>\n",
       "      <td>2</td>\n",
       "      <td>3</td>\n",
       "      <td>1970</td>\n",
       "      <td>https://en.wikipedia.org/wiki/American_Woman_(...</td>\n",
       "      <td>American Woman</td>\n",
       "      <td>The Guess Who</td>\n",
       "      <td>Mmm, da da da. Mmm, mmm, da da da. Mmm, mmm, d...</td>\n",
       "      <td>1970</td>\n",
       "      <td>1970-3</td>\n",
       "      <td>http://lyrics.wikia.com/The_Guess_Who:American...</td>\n",
       "      <td>Mmm, da da da. Mmm, mmm, da da da. Mmm, mmm, d...</td>\n",
       "      <td>woman mess mind mama thing time growin light y...</td>\n",
       "      <td>american important old coloured leave</td>\n",
       "      <td>crap light ma mess mind thing time woman</td>\n",
       "      <td>american colored important old</td>\n",
       "      <td>crap light ma mess mind thing time woman</td>\n",
       "      <td>american colored important old</td>\n",
       "      <td>shit</td>\n",
       "    </tr>\n",
       "    <tr>\n",
       "      <th>188</th>\n",
       "      <td>188</td>\n",
       "      <td>89</td>\n",
       "      <td>1971</td>\n",
       "      <td>https://en.wikipedia.org/wiki/Theme_from_Shaft</td>\n",
       "      <td>Theme from Shaft</td>\n",
       "      <td>Isaac Hayes</td>\n",
       "      <td>Who's the black private dick. That's a sex mac...</td>\n",
       "      <td>1970</td>\n",
       "      <td>1971-89</td>\n",
       "      <td>http://lyrics.wikia.com/Isaac_Hayes:Theme_From...</td>\n",
       "      <td>Who's the black private dick. That's a sex mac...</td>\n",
       "      <td>dick right cat shaft mother man</td>\n",
       "      <td>black private damn bad complicated</td>\n",
       "      <td>cat dick man mother right shaft</td>\n",
       "      <td>bad black complicated damn private</td>\n",
       "      <td>cat dick man mother right shaft</td>\n",
       "      <td>bad black complicated damn private</td>\n",
       "      <td>dick</td>\n",
       "    </tr>\n",
       "    <tr>\n",
       "      <th>391</th>\n",
       "      <td>391</td>\n",
       "      <td>92</td>\n",
       "      <td>1973</td>\n",
       "      <td>https://en.wikipedia.org/wiki/Money_(Pink_Floy...</td>\n",
       "      <td>Money</td>\n",
       "      <td>Pink Floyd</td>\n",
       "      <td>Money, get away. Get a good job with more pay ...</td>\n",
       "      <td>1970</td>\n",
       "      <td>1973-92</td>\n",
       "      <td>http://lyrics.wikia.com/Pink_Floyd:Money</td>\n",
       "      <td>Money, get away. Get a good job with more pay ...</td>\n",
       "      <td>job pay hand stack bullshit</td>\n",
       "      <td>good okay right</td>\n",
       "      <td>bullshit hand occupation stack wage</td>\n",
       "      <td>all_right good right</td>\n",
       "      <td>bullshit hand occupation stack wage</td>\n",
       "      <td>all_right good right</td>\n",
       "      <td>bullshit</td>\n",
       "    </tr>\n",
       "    <tr>\n",
       "      <th>577</th>\n",
       "      <td>577</td>\n",
       "      <td>78</td>\n",
       "      <td>1975</td>\n",
       "      <td>https://en.wikipedia.org/wiki/Killer_Queen</td>\n",
       "      <td>Killer Queen</td>\n",
       "      <td>Queen</td>\n",
       "      <td>She keeps her Mot et Chandon. In her pretty ca...</td>\n",
       "      <td>1970</td>\n",
       "      <td>1975-78</td>\n",
       "      <td>http://lyrics.wikia.com/Queen:Killer_Queen</td>\n",
       "      <td>She keeps her Mot et Chandon. In her pretty ca...</td>\n",
       "      <td>cabinet remedy appetite drop hat pussy cat</td>\n",
       "      <td>pretty built-in insatiable willing playful</td>\n",
       "      <td>appetite cabinet cat cunt drop hat redress</td>\n",
       "      <td>built-in insatiate playful pretty willing</td>\n",
       "      <td>appetite cabinet cat cunt drop hat redress</td>\n",
       "      <td>built-in insatiate playful pretty willing</td>\n",
       "      <td>pussy</td>\n",
       "    </tr>\n",
       "    <tr>\n",
       "      <th>722</th>\n",
       "      <td>722</td>\n",
       "      <td>23</td>\n",
       "      <td>1977</td>\n",
       "      <td>https://en.wikipedia.org/wiki/Rich_Girl_(Hall_...</td>\n",
       "      <td>Rich Girl</td>\n",
       "      <td>Hall and Oates</td>\n",
       "      <td>You're a rich girl and you've gone too far. 'C...</td>\n",
       "      <td>1970</td>\n",
       "      <td>1977-23</td>\n",
       "      <td>http://lyrics.wikia.com/Hall_%26_Oates:Rich_Girl</td>\n",
       "      <td>You're a rich girl and you've gone too far. 'C...</td>\n",
       "      <td>girl man money rain pain bitch</td>\n",
       "      <td>rich old dry easy feel</td>\n",
       "      <td>bitch girl man money pain rain</td>\n",
       "      <td>dry easy old rich</td>\n",
       "      <td>bitch girl man money pain rain</td>\n",
       "      <td>dry easy old rich</td>\n",
       "      <td>bitch</td>\n",
       "    </tr>\n",
       "    <tr>\n",
       "      <th>735</th>\n",
       "      <td>735</td>\n",
       "      <td>36</td>\n",
       "      <td>1977</td>\n",
       "      <td>https://en.wikipedia.org/wiki/Blinded_by_the_L...</td>\n",
       "      <td>Blinded by the Light</td>\n",
       "      <td>Manfred Mann's Earth Band</td>\n",
       "      <td>Blinded by the light. Wrapped up like a deuce....</td>\n",
       "      <td>1970</td>\n",
       "      <td>1977-36</td>\n",
       "      <td>http://lyrics.wikia.com/Manfred_Mann%27s_Earth...</td>\n",
       "      <td>Blinded by the light. Wrapped up like a deuce....</td>\n",
       "      <td>diplomat pump sonny song break outside preache...</td>\n",
       "      <td>teenage adolescent strong funky safe east funn...</td>\n",
       "      <td>bone chaperon cub dance diplomat girl interrup...</td>\n",
       "      <td>adolescent amusing east fetid frozen new safe ...</td>\n",
       "      <td>bone chaperon cub dance diplomat girl interrup...</td>\n",
       "      <td>adolescent amusing east fetid frozen new safe ...</td>\n",
       "      <td>bone</td>\n",
       "    </tr>\n",
       "    <tr>\n",
       "      <th>740</th>\n",
       "      <td>740</td>\n",
       "      <td>41</td>\n",
       "      <td>1977</td>\n",
       "      <td>https://en.wikipedia.org/wiki/Dazz</td>\n",
       "      <td>Dazz</td>\n",
       "      <td>Brick</td>\n",
       "      <td>Everybody go on and dance if you want to. Musi...</td>\n",
       "      <td>1970</td>\n",
       "      <td>1977-41</td>\n",
       "      <td>http://lyrics.wikia.com/Brick:Dazz</td>\n",
       "      <td>Everybody go on and dance if you want to. Musi...</td>\n",
       "      <td>dancing booty</td>\n",
       "      <td>funky</td>\n",
       "      <td>dancing loot</td>\n",
       "      <td>fetid</td>\n",
       "      <td>dancing loot</td>\n",
       "      <td>fetid</td>\n",
       "      <td>booty</td>\n",
       "    </tr>\n",
       "    <tr>\n",
       "      <th>1324</th>\n",
       "      <td>1324</td>\n",
       "      <td>25</td>\n",
       "      <td>1983</td>\n",
       "      <td>https://en.wikipedia.org/wiki/Little_Red_Corvette</td>\n",
       "      <td>Little Red Corvette</td>\n",
       "      <td>Prince</td>\n",
       "      <td>I guess I should've known by the way you parke...</td>\n",
       "      <td>1980</td>\n",
       "      <td>1983-25</td>\n",
       "      <td>http://lyrics.wikia.com/Prince:Little_Red_Corv...</td>\n",
       "      <td>I guess I should've known by the way you parke...</td>\n",
       "      <td>cause horse honey red ill picture verge try lo...</td>\n",
       "      <td>dumb pocket little obscene tame red ow right</td>\n",
       "      <td>ailment attempt body brink buttocks cause hone...</td>\n",
       "      <td>dense obscene red right small tame</td>\n",
       "      <td>ailment attempt body brink buttocks cause hone...</td>\n",
       "      <td>dense obscene red right small tame</td>\n",
       "      <td>ass</td>\n",
       "    </tr>\n",
       "    <tr>\n",
       "      <th>1758</th>\n",
       "      <td>1758</td>\n",
       "      <td>59</td>\n",
       "      <td>1987</td>\n",
       "      <td>https://en.wikipedia.org/wiki/Bad_(Michael_Jac...</td>\n",
       "      <td>Bad</td>\n",
       "      <td>Michael Jackson</td>\n",
       "      <td>Na! Your butt is mine, gonna tell you right (N...</td>\n",
       "      <td>1980</td>\n",
       "      <td>1987-59</td>\n",
       "      <td>http://lyrics.wikia.com/Michael_Jackson:Bad</td>\n",
       "      <td>Na! Your butt is mine, gonna tell you right (N...</td>\n",
       "      <td>butt face daylight count stuff mouth sh word l...</td>\n",
       "      <td>na broad bad wrong long cheap better</td>\n",
       "      <td>baby battle butt count day eye face lock man m...</td>\n",
       "      <td>bad better cheap incorrect long wide</td>\n",
       "      <td>baby battle butt count day eye face lock man m...</td>\n",
       "      <td>bad better cheap incorrect long wide</td>\n",
       "      <td>butt</td>\n",
       "    </tr>\n",
       "    <tr>\n",
       "      <th>2201</th>\n",
       "      <td>2201</td>\n",
       "      <td>2</td>\n",
       "      <td>1992</td>\n",
       "      <td>https://en.wikipedia.org/wiki/Baby_Got_Back</td>\n",
       "      <td>Baby Got Back</td>\n",
       "      <td>Sir Mix-a-Lot</td>\n",
       "      <td>. I like big butts and I cannot lie. You other...</td>\n",
       "      <td>1990</td>\n",
       "      <td>1992-2</td>\n",
       "      <td>http://lyrics.wikia.com/Sir_Mix-A-Lot:Baby_Got...</td>\n",
       "      <td>. I like big butts and I cannot lie. You other...</td>\n",
       "      <td>butt girl waist cause groupie sweat turbo vett...</td>\n",
       "      <td>big itty-bitty average wet tired flat black he...</td>\n",
       "      <td>bean bimbo brother butt cause double function ...</td>\n",
       "      <td>average bitty black difficult flat healthy in-...</td>\n",
       "      <td>bean bimbo brother butt cause double function ...</td>\n",
       "      <td>average bitty black difficult flat healthy in-...</td>\n",
       "      <td>ho</td>\n",
       "    </tr>\n",
       "    <tr>\n",
       "      <th>2266</th>\n",
       "      <td>2266</td>\n",
       "      <td>67</td>\n",
       "      <td>1992</td>\n",
       "      <td>https://en.wikipedia.org/wiki/People_Everyday</td>\n",
       "      <td>People Everyday</td>\n",
       "      <td>Arrested Development</td>\n",
       "      <td>See I was resting at the park minding my own. ...</td>\n",
       "      <td>1990</td>\n",
       "      <td>1992-67</td>\n",
       "      <td>http://lyrics.wikia.com/Arrested_Development:P...</td>\n",
       "      <td>See I was resting at the park minding my own. ...</td>\n",
       "      <td>business tone folk hype day soul ease queen cr...</td>\n",
       "      <td>treble loud great black obscene drunk young go...</td>\n",
       "      <td>ballyhoo battle brother business cause color c...</td>\n",
       "      <td>black bright calm everyday good great ill-mann...</td>\n",
       "      <td>ballyhoo battle brother business cause color c...</td>\n",
       "      <td>black bright calm everyday good great ill-mann...</td>\n",
       "      <td>niggaz</td>\n",
       "    </tr>\n",
       "    <tr>\n",
       "      <th>2301</th>\n",
       "      <td>2301</td>\n",
       "      <td>2</td>\n",
       "      <td>1993</td>\n",
       "      <td>https://en.wikipedia.org/wiki/Whoomp!_(There_I...</td>\n",
       "      <td>Whoomp! (There It Is)</td>\n",
       "      <td>Tag Team</td>\n",
       "      <td>Party people. Yeah Tag Team music. In Full Eff...</td>\n",
       "      <td>1990</td>\n",
       "      <td>1993-2</td>\n",
       "      <td>http://lyrics.wikia.com/Tag_Team:Whoomp%21_%28...</td>\n",
       "      <td>Party people. Yeah Tag Team music. In Full Eff...</td>\n",
       "      <td>somethin word time nigga mother party hype sch...</td>\n",
       "      <td>little busy mic fucking old cool underground f...</td>\n",
       "      <td>ailment ballyhoo crap folk fool lore mother ni...</td>\n",
       "      <td>bally belowground busy cool fly hard-core old ...</td>\n",
       "      <td>ailment ballyhoo crap folk fool lore mother ni...</td>\n",
       "      <td>bally belowground busy cool fly hard-core old ...</td>\n",
       "      <td>nigga</td>\n",
       "    </tr>\n",
       "    <tr>\n",
       "      <th>2310</th>\n",
       "      <td>2310</td>\n",
       "      <td>11</td>\n",
       "      <td>1993</td>\n",
       "      <td>https://en.wikipedia.org/wiki/Nuthin%27_but_a_...</td>\n",
       "      <td>Nuthin' but a 'G' Thang</td>\n",
       "      <td>Dr. Dre</td>\n",
       "      <td>. One, two, three, and to the four. Snoop Dogg...</td>\n",
       "      <td>1990</td>\n",
       "      <td>1993-11</td>\n",
       "      <td>http://lyrics.wikia.com/Dr._Dre:Nuthin%27_But_...</td>\n",
       "      <td>. One, two, three, and to the four. Snoop Dogg...</td>\n",
       "      <td>entrance microphone bust loc'ed niggas perspec...</td>\n",
       "      <td>ready bubble crazy young good burnt proper sma...</td>\n",
       "      <td>asshole ball batch buttocks capital chump coll...</td>\n",
       "      <td>brainsick burned fetid fresh good old proper r...</td>\n",
       "      <td>asshole ball batch buttocks capital chump coll...</td>\n",
       "      <td>brainsick burned fetid fresh good old proper r...</td>\n",
       "      <td>niggas motherfucker</td>\n",
       "    </tr>\n",
       "    <tr>\n",
       "      <th>2352</th>\n",
       "      <td>2352</td>\n",
       "      <td>53</td>\n",
       "      <td>1993</td>\n",
       "      <td>https://en.wikipedia.org/wiki/Fuck_wit_Dre_Day...</td>\n",
       "      <td>Dre Day</td>\n",
       "      <td>Dr. Dre</td>\n",
       "      <td>Yeah, hell yeah. Ha, know what I'm sayin'? Yea...</td>\n",
       "      <td>1990</td>\n",
       "      <td>1993-53</td>\n",
       "      <td>http://lyrics.wikia.com/Dr._Dre:Dre_Day</td>\n",
       "      <td>Yeah, hell yeah. Ha, know what I'm sayin'? Yea...</td>\n",
       "      <td>dick road dog ace hoe bud cause candy boy joke...</td>\n",
       "      <td>hard fuckin homey little low-key good jimmy lo...</td>\n",
       "      <td>asshole bark bite bud buttocks candy cause che...</td>\n",
       "      <td>barbarous better difficult fat good homelike l...</td>\n",
       "      <td>asshole bark bite bud buttocks candy cause che...</td>\n",
       "      <td>barbarous better difficult fat good homelike l...</td>\n",
       "      <td>hoe</td>\n",
       "    </tr>\n",
       "    <tr>\n",
       "      <th>2380</th>\n",
       "      <td>2380</td>\n",
       "      <td>81</td>\n",
       "      <td>1993</td>\n",
       "      <td>https://en.wikipedia.org/wiki/Rebirth_of_Slick...</td>\n",
       "      <td>Rebirth of Slick (Cool Like Dat)</td>\n",
       "      <td>Digable Planets</td>\n",
       "      <td>We like the breeze flow straight out of our li...</td>\n",
       "      <td>1990</td>\n",
       "      <td>1993-81</td>\n",
       "      <td>http://lyrics.wikia.com/Digable_Planets:Rebirt...</td>\n",
       "      <td>We like the breeze flow straight out of our li...</td>\n",
       "      <td>flow boomin classic crew hip hop record joint ...</td>\n",
       "      <td>rush fattest fatter mad kinky unthought-of fly...</td>\n",
       "      <td>addition axial_rotation baby belt block bounda...</td>\n",
       "      <td>asteroid authoritative brainsick chunky entire...</td>\n",
       "      <td>addition axial_rotation baby belt block bounda...</td>\n",
       "      <td>asteroid authoritative brainsick chunky entire...</td>\n",
       "      <td>pimp</td>\n",
       "    </tr>\n",
       "    <tr>\n",
       "      <th>2481</th>\n",
       "      <td>2481</td>\n",
       "      <td>82</td>\n",
       "      <td>1994</td>\n",
       "      <td>https://en.wikipedia.org/wiki/U.N.I.T.Y.</td>\n",
       "      <td>U.N.I.T.Y.</td>\n",
       "      <td>Queen Latifah</td>\n",
       "      <td>(uh)U-N-I-T-Y. U-N-I-T-Y (That's a unity). U-N...</td>\n",
       "      <td>1990</td>\n",
       "      <td>1994-82</td>\n",
       "      <td>http://lyrics.wikia.com/Queen_Latifah:U.N.I.T.Y.</td>\n",
       "      <td>(uh)U-N-I-T-Y. U-N-I-T-Y (That's a unity). U-N...</td>\n",
       "      <td>man infinity woman sister cutoff short cause b...</td>\n",
       "      <td>black low right crazy hot nasty little fly dea...</td>\n",
       "      <td>attitude bitch cause cutoff day dependence ete...</td>\n",
       "      <td>bad black brainsick dead deep fly good hot low...</td>\n",
       "      <td>attitude bitch cause cutoff day dependence ete...</td>\n",
       "      <td>bad black brainsick dead deep fly good hot low...</td>\n",
       "      <td>whore</td>\n",
       "    </tr>\n",
       "    <tr>\n",
       "      <th>2663</th>\n",
       "      <td>2663</td>\n",
       "      <td>64</td>\n",
       "      <td>1996</td>\n",
       "      <td>https://en.wikipedia.org/wiki/Tonite%27s_tha_N...</td>\n",
       "      <td>Tonite's tha Night</td>\n",
       "      <td>Kris Kross</td>\n",
       "      <td>[Jermaine Dupri]. Shhhhhhhhh. Kris Kross. 95. ...</td>\n",
       "      <td>1990</td>\n",
       "      <td>1996-64</td>\n",
       "      <td>http://lyrics.wikia.com/Kris_Kross:Tonite%27s_...</td>\n",
       "      <td>[Jermaine Dupri]. Shhhhhhhhh. Kris Kross. 95. ...</td>\n",
       "      <td>scopin track factor worse picture mister siste...</td>\n",
       "      <td>open real worst big richer quick cellular easy...</td>\n",
       "      <td>ball brother deal deck factor house mister nig...</td>\n",
       "      <td>cellular chief cool double easy intoxicated la...</td>\n",
       "      <td>ball brother deal deck factor house mister nig...</td>\n",
       "      <td>cellular chief cool double easy intoxicated la...</td>\n",
       "      <td>pimpin</td>\n",
       "    </tr>\n",
       "    <tr>\n",
       "      <th>2938</th>\n",
       "      <td>2938</td>\n",
       "      <td>39</td>\n",
       "      <td>1999</td>\n",
       "      <td>https://en.wikipedia.org/wiki/Can_I_Get_A...</td>\n",
       "      <td>Can I Get A...</td>\n",
       "      <td>Jay-Z</td>\n",
       "      <td>[Jay-Z]. What? Well fuck you. bitch. Bounce wi...</td>\n",
       "      <td>1990</td>\n",
       "      <td>1999-39</td>\n",
       "      <td>http://lyrics.wikia.com/Jay-Z:Can_I_Get_A...</td>\n",
       "      <td>[Jay-Z]. What? Well fuck you. bitch. Bounce wi...</td>\n",
       "      <td>thing ya nigga dough fuck niggaz breadwinner n...</td>\n",
       "      <td>finer flow futuristic harder low rich corny la...</td>\n",
       "      <td>breadwinner candlelight care cock damp dough f...</td>\n",
       "      <td>bad bromidic finer futuristic good high late l...</td>\n",
       "      <td>breadwinner candlelight care cock damp dough f...</td>\n",
       "      <td>bad bromidic finer futuristic good high late l...</td>\n",
       "      <td>cock</td>\n",
       "    </tr>\n",
       "    <tr>\n",
       "      <th>2974</th>\n",
       "      <td>2974</td>\n",
       "      <td>75</td>\n",
       "      <td>1999</td>\n",
       "      <td>https://en.wikipedia.org/wiki/Back_That_Azz_Up</td>\n",
       "      <td>Back That Azz Up</td>\n",
       "      <td>Juvenile</td>\n",
       "      <td>Girl you working with some ass, yeah. You bad,...</td>\n",
       "      <td>1990</td>\n",
       "      <td>1999-75</td>\n",
       "      <td>http://lyrics.wikia.com/Juvenile:Back_That_Azz_Up</td>\n",
       "      <td>Girl you working with some ass, yeah. You bad,...</td>\n",
       "      <td>filler rug fine muthafucka ass nerve shit titt...</td>\n",
       "      <td>grave smooth little good stupid fuckin fresh n...</td>\n",
       "      <td>breast buttocks chick crap dick drawer drop fi...</td>\n",
       "      <td>alone fresh good grave handed hot large nice s...</td>\n",
       "      <td>breast buttocks chick crap dick drawer drop fi...</td>\n",
       "      <td>alone fresh good grave handed hot large nice s...</td>\n",
       "      <td>titty</td>\n",
       "    </tr>\n",
       "  </tbody>\n",
       "</table>\n",
       "</div>"
      ],
      "text/plain": [
       "      index  position  year                                         title.href                             title                     artist                                             lyrics  decade song_key                                         lyrics_url                                    lyrics_abstract                                        noun_vector                                         adj_vector                                    noun_syn_vector  \\\n",
       "2         2         3  1970  https://en.wikipedia.org/wiki/American_Woman_(...                    American Woman              The Guess Who  Mmm, da da da. Mmm, mmm, da da da. Mmm, mmm, d...    1970   1970-3  http://lyrics.wikia.com/The_Guess_Who:American...  Mmm, da da da. Mmm, mmm, da da da. Mmm, mmm, d...  woman mess mind mama thing time growin light y...              american important old coloured leave           crap light ma mess mind thing time woman   \n",
       "188     188        89  1971     https://en.wikipedia.org/wiki/Theme_from_Shaft                  Theme from Shaft                Isaac Hayes  Who's the black private dick. That's a sex mac...    1970  1971-89  http://lyrics.wikia.com/Isaac_Hayes:Theme_From...  Who's the black private dick. That's a sex mac...                    dick right cat shaft mother man                 black private damn bad complicated                    cat dick man mother right shaft   \n",
       "391     391        92  1973  https://en.wikipedia.org/wiki/Money_(Pink_Floy...                             Money                 Pink Floyd  Money, get away. Get a good job with more pay ...    1970  1973-92           http://lyrics.wikia.com/Pink_Floyd:Money  Money, get away. Get a good job with more pay ...                        job pay hand stack bullshit                                    good okay right                bullshit hand occupation stack wage   \n",
       "577     577        78  1975         https://en.wikipedia.org/wiki/Killer_Queen                      Killer Queen                      Queen  She keeps her Mot et Chandon. In her pretty ca...    1970  1975-78         http://lyrics.wikia.com/Queen:Killer_Queen  She keeps her Mot et Chandon. In her pretty ca...         cabinet remedy appetite drop hat pussy cat         pretty built-in insatiable willing playful         appetite cabinet cat cunt drop hat redress   \n",
       "722     722        23  1977  https://en.wikipedia.org/wiki/Rich_Girl_(Hall_...                         Rich Girl             Hall and Oates  You're a rich girl and you've gone too far. 'C...    1970  1977-23   http://lyrics.wikia.com/Hall_%26_Oates:Rich_Girl  You're a rich girl and you've gone too far. 'C...                     girl man money rain pain bitch                             rich old dry easy feel                     bitch girl man money pain rain   \n",
       "735     735        36  1977  https://en.wikipedia.org/wiki/Blinded_by_the_L...              Blinded by the Light  Manfred Mann's Earth Band  Blinded by the light. Wrapped up like a deuce....    1970  1977-36  http://lyrics.wikia.com/Manfred_Mann%27s_Earth...  Blinded by the light. Wrapped up like a deuce....  diplomat pump sonny song break outside preache...  teenage adolescent strong funky safe east funn...  bone chaperon cub dance diplomat girl interrup...   \n",
       "740     740        41  1977                 https://en.wikipedia.org/wiki/Dazz                              Dazz                      Brick  Everybody go on and dance if you want to. Musi...    1970  1977-41                 http://lyrics.wikia.com/Brick:Dazz  Everybody go on and dance if you want to. Musi...                                      dancing booty                                              funky                                       dancing loot   \n",
       "1324   1324        25  1983  https://en.wikipedia.org/wiki/Little_Red_Corvette               Little Red Corvette                     Prince  I guess I should've known by the way you parke...    1980  1983-25  http://lyrics.wikia.com/Prince:Little_Red_Corv...  I guess I should've known by the way you parke...  cause horse honey red ill picture verge try lo...       dumb pocket little obscene tame red ow right  ailment attempt body brink buttocks cause hone...   \n",
       "1758   1758        59  1987  https://en.wikipedia.org/wiki/Bad_(Michael_Jac...                               Bad            Michael Jackson  Na! Your butt is mine, gonna tell you right (N...    1980  1987-59        http://lyrics.wikia.com/Michael_Jackson:Bad  Na! Your butt is mine, gonna tell you right (N...  butt face daylight count stuff mouth sh word l...               na broad bad wrong long cheap better  baby battle butt count day eye face lock man m...   \n",
       "2201   2201         2  1992        https://en.wikipedia.org/wiki/Baby_Got_Back                     Baby Got Back              Sir Mix-a-Lot  . I like big butts and I cannot lie. You other...    1990   1992-2  http://lyrics.wikia.com/Sir_Mix-A-Lot:Baby_Got...  . I like big butts and I cannot lie. You other...  butt girl waist cause groupie sweat turbo vett...  big itty-bitty average wet tired flat black he...  bean bimbo brother butt cause double function ...   \n",
       "2266   2266        67  1992      https://en.wikipedia.org/wiki/People_Everyday                   People Everyday       Arrested Development  See I was resting at the park minding my own. ...    1990  1992-67  http://lyrics.wikia.com/Arrested_Development:P...  See I was resting at the park minding my own. ...  business tone folk hype day soul ease queen cr...  treble loud great black obscene drunk young go...  ballyhoo battle brother business cause color c...   \n",
       "2301   2301         2  1993  https://en.wikipedia.org/wiki/Whoomp!_(There_I...             Whoomp! (There It Is)                   Tag Team  Party people. Yeah Tag Team music. In Full Eff...    1990   1993-2  http://lyrics.wikia.com/Tag_Team:Whoomp%21_%28...  Party people. Yeah Tag Team music. In Full Eff...  somethin word time nigga mother party hype sch...  little busy mic fucking old cool underground f...  ailment ballyhoo crap folk fool lore mother ni...   \n",
       "2310   2310        11  1993  https://en.wikipedia.org/wiki/Nuthin%27_but_a_...           Nuthin' but a 'G' Thang                    Dr. Dre  . One, two, three, and to the four. Snoop Dogg...    1990  1993-11  http://lyrics.wikia.com/Dr._Dre:Nuthin%27_But_...  . One, two, three, and to the four. Snoop Dogg...  entrance microphone bust loc'ed niggas perspec...  ready bubble crazy young good burnt proper sma...  asshole ball batch buttocks capital chump coll...   \n",
       "2352   2352        53  1993  https://en.wikipedia.org/wiki/Fuck_wit_Dre_Day...                           Dre Day                    Dr. Dre  Yeah, hell yeah. Ha, know what I'm sayin'? Yea...    1990  1993-53            http://lyrics.wikia.com/Dr._Dre:Dre_Day  Yeah, hell yeah. Ha, know what I'm sayin'? Yea...  dick road dog ace hoe bud cause candy boy joke...  hard fuckin homey little low-key good jimmy lo...  asshole bark bite bud buttocks candy cause che...   \n",
       "2380   2380        81  1993  https://en.wikipedia.org/wiki/Rebirth_of_Slick...  Rebirth of Slick (Cool Like Dat)            Digable Planets  We like the breeze flow straight out of our li...    1990  1993-81  http://lyrics.wikia.com/Digable_Planets:Rebirt...  We like the breeze flow straight out of our li...  flow boomin classic crew hip hop record joint ...  rush fattest fatter mad kinky unthought-of fly...  addition axial_rotation baby belt block bounda...   \n",
       "2481   2481        82  1994           https://en.wikipedia.org/wiki/U.N.I.T.Y.                        U.N.I.T.Y.              Queen Latifah  (uh)U-N-I-T-Y. U-N-I-T-Y (That's a unity). U-N...    1990  1994-82   http://lyrics.wikia.com/Queen_Latifah:U.N.I.T.Y.  (uh)U-N-I-T-Y. U-N-I-T-Y (That's a unity). U-N...  man infinity woman sister cutoff short cause b...  black low right crazy hot nasty little fly dea...  attitude bitch cause cutoff day dependence ete...   \n",
       "2663   2663        64  1996  https://en.wikipedia.org/wiki/Tonite%27s_tha_N...               Tonite's tha Night                  Kris Kross  [Jermaine Dupri]. Shhhhhhhhh. Kris Kross. 95. ...    1990  1996-64  http://lyrics.wikia.com/Kris_Kross:Tonite%27s_...  [Jermaine Dupri]. Shhhhhhhhh. Kris Kross. 95. ...  scopin track factor worse picture mister siste...  open real worst big richer quick cellular easy...  ball brother deal deck factor house mister nig...   \n",
       "2938   2938        39  1999       https://en.wikipedia.org/wiki/Can_I_Get_A...                    Can I Get A...                      Jay-Z  [Jay-Z]. What? Well fuck you. bitch. Bounce wi...    1990  1999-39       http://lyrics.wikia.com/Jay-Z:Can_I_Get_A...  [Jay-Z]. What? Well fuck you. bitch. Bounce wi...  thing ya nigga dough fuck niggaz breadwinner n...  finer flow futuristic harder low rich corny la...  breadwinner candlelight care cock damp dough f...   \n",
       "2974   2974        75  1999     https://en.wikipedia.org/wiki/Back_That_Azz_Up                  Back That Azz Up                   Juvenile  Girl you working with some ass, yeah. You bad,...    1990  1999-75  http://lyrics.wikia.com/Juvenile:Back_That_Azz_Up  Girl you working with some ass, yeah. You bad,...  filler rug fine muthafucka ass nerve shit titt...  grave smooth little good stupid fuckin fresh n...  breast buttocks chick crap dick drawer drop fi...   \n",
       "\n",
       "                                         adj_syn_vector                               noun_syn_hype_vector                                adj_syn_hype_vector first_offensive_words  \n",
       "2                        american colored important old           crap light ma mess mind thing time woman                     american colored important old                  shit  \n",
       "188                  bad black complicated damn private                    cat dick man mother right shaft                 bad black complicated damn private                  dick  \n",
       "391                                all_right good right                bullshit hand occupation stack wage                               all_right good right              bullshit  \n",
       "577           built-in insatiate playful pretty willing         appetite cabinet cat cunt drop hat redress          built-in insatiate playful pretty willing                 pussy  \n",
       "722                                   dry easy old rich                     bitch girl man money pain rain                                  dry easy old rich                 bitch  \n",
       "735   adolescent amusing east fetid frozen new safe ...  bone chaperon cub dance diplomat girl interrup...  adolescent amusing east fetid frozen new safe ...                  bone  \n",
       "740                                               fetid                                       dancing loot                                              fetid                 booty  \n",
       "1324                 dense obscene red right small tame  ailment attempt body brink buttocks cause hone...                 dense obscene red right small tame                   ass  \n",
       "1758               bad better cheap incorrect long wide  baby battle butt count day eye face lock man m...               bad better cheap incorrect long wide                  butt  \n",
       "2201  average bitty black difficult flat healthy in-...  bean bimbo brother butt cause double function ...  average bitty black difficult flat healthy in-...                    ho  \n",
       "2266  black bright calm everyday good great ill-mann...  ballyhoo battle brother business cause color c...  black bright calm everyday good great ill-mann...                niggaz  \n",
       "2301  bally belowground busy cool fly hard-core old ...  ailment ballyhoo crap folk fool lore mother ni...  bally belowground busy cool fly hard-core old ...                 nigga  \n",
       "2310  brainsick burned fetid fresh good old proper r...  asshole ball batch buttocks capital chump coll...  brainsick burned fetid fresh good old proper r...   niggas motherfucker  \n",
       "2352  barbarous better difficult fat good homelike l...  asshole bark bite bud buttocks candy cause che...  barbarous better difficult fat good homelike l...                   hoe  \n",
       "2380  asteroid authoritative brainsick chunky entire...  addition axial_rotation baby belt block bounda...  asteroid authoritative brainsick chunky entire...                  pimp  \n",
       "2481  bad black brainsick dead deep fly good hot low...  attitude bitch cause cutoff day dependence ete...  bad black brainsick dead deep fly good hot low...                 whore  \n",
       "2663  cellular chief cool double easy intoxicated la...  ball brother deal deck factor house mister nig...  cellular chief cool double easy intoxicated la...                pimpin  \n",
       "2938  bad bromidic finer futuristic good high late l...  breadwinner candlelight care cock damp dough f...  bad bromidic finer futuristic good high late l...                  cock  \n",
       "2974  alone fresh good grave handed hot large nice s...  breast buttocks chick crap dick drawer drop fi...  alone fresh good grave handed hot large nice s...                 titty  "
      ]
     },
     "execution_count": 53,
     "metadata": {},
     "output_type": "execute_result"
    }
   ],
   "source": [
    "firstoffensivedf.head(20)"
   ]
  },
  {
   "cell_type": "code",
   "execution_count": 54,
   "metadata": {
    "collapsed": true
   },
   "outputs": [],
   "source": [
    "# save off to dataframe\n",
    "dataframeToCsv(firstoffensivedf,'noun_first_offensive_mentions.csv')"
   ]
  }
 ],
 "metadata": {
  "kernelspec": {
   "display_name": "Python 2",
   "language": "python",
   "name": "python2"
  },
  "language_info": {
   "codemirror_mode": {
    "name": "ipython",
    "version": 2
   },
   "file_extension": ".py",
   "mimetype": "text/x-python",
   "name": "python",
   "nbconvert_exporter": "python",
   "pygments_lexer": "ipython2",
   "version": "2.7.10"
  }
 },
 "nbformat": 4,
 "nbformat_minor": 0
}
