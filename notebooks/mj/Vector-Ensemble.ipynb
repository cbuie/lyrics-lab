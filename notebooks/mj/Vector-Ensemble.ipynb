{
 "cells": [
  {
   "cell_type": "markdown",
   "metadata": {},
   "source": [
    "#Vector Ensemble\n",
    "Ensemble approach using Spark. This notebook leverages the consolidated vector CSV which includes normal, synonym, and hypernym vectors, see [master-lyricsdf-word_syn_hype_vectors.csv](../../data/conditioned/master-lyricsdf-word_syn_hype_vectors.csv)"
   ]
  },
  {
   "cell_type": "markdown",
   "metadata": {},
   "source": [
    "##SET DECADE (OR NOT)?"
   ]
  },
  {
   "cell_type": "code",
   "execution_count": 1,
   "metadata": {
    "collapsed": true
   },
   "outputs": [],
   "source": [
    "# if decade is set, then filter results accordingly.\n",
    "decade = None\n",
    "# decade = 1970"
   ]
  },
  {
   "cell_type": "code",
   "execution_count": 2,
   "metadata": {
    "collapsed": true
   },
   "outputs": [],
   "source": [
    "%matplotlib inline\n",
    "import numpy as np\n",
    "import scipy as sp\n",
    "import matplotlib as mpl\n",
    "import matplotlib.cm as cm\n",
    "import matplotlib.pyplot as plt\n",
    "import pandas as pd\n",
    "pd.set_option('display.width', 500)\n",
    "pd.set_option('display.max_columns', 100)\n",
    "pd.set_option('display.notebook_repr_html', True)\n",
    "import seaborn as sns\n",
    "sns.set_style(\"whitegrid\")\n",
    "sns.set_context(\"poster\")"
   ]
  },
  {
   "cell_type": "code",
   "execution_count": 3,
   "metadata": {
    "collapsed": true
   },
   "outputs": [],
   "source": [
    "## MLJ: Additional Extras\n",
    "import time\n",
    "import itertools\n",
    "import json\n",
    "import pickle"
   ]
  },
  {
   "cell_type": "code",
   "execution_count": 4,
   "metadata": {
    "collapsed": true
   },
   "outputs": [],
   "source": [
    "import os\n",
    "# os.environ['PYSPARK_PYTHON'] = '/anaconda/bin/python'"
   ]
  },
  {
   "cell_type": "code",
   "execution_count": 5,
   "metadata": {
    "collapsed": false
   },
   "outputs": [
    {
     "name": "stdout",
     "output_type": "stream",
     "text": [
      "/home/vagrant/spark\n"
     ]
    }
   ],
   "source": [
    "import findspark\n",
    "findspark.init()\n",
    "print findspark.find()\n",
    "# Depending on your setup you might have to change this line of code\n",
    "#findspark makes sure I dont need the below on homebrew.\n",
    "#os.environ['SPARK_HOME']=\"/usr/local/Cellar/apache-spark/1.5.1/libexec/\"\n",
    "#the below actually broke my spark, so I removed it. \n",
    "#Depending on how you started the notebook, you might need it.\n",
    "# os.environ['PYSPARK_SUBMIT_ARGS']=\"--master local pyspark --executor-memory 4g\""
   ]
  },
  {
   "cell_type": "code",
   "execution_count": 6,
   "metadata": {
    "collapsed": true
   },
   "outputs": [],
   "source": [
    "import pyspark\n",
    "conf = (pyspark.SparkConf()\n",
    "    .setMaster('local[4]')\n",
    "    .setAppName('pyspark')\n",
    "    .set(\"spark.executor.memory\", \"2g\"))\n",
    "sc = pyspark.SparkContext(conf=conf)"
   ]
  },
  {
   "cell_type": "code",
   "execution_count": 7,
   "metadata": {
    "collapsed": false
   },
   "outputs": [
    {
     "data": {
      "text/plain": [
       "[(u'spark.executor.memory', u'2g'),\n",
       " (u'spark.master', u'local[4]'),\n",
       " (u'spark.rdd.compress', u'True'),\n",
       " (u'spark.driver.memory', u'8g'),\n",
       " (u'spark.serializer.objectStreamReset', u'100'),\n",
       " (u'spark.submit.deployMode', u'client'),\n",
       " (u'spark.app.name', u'pyspark')]"
      ]
     },
     "execution_count": 7,
     "metadata": {},
     "output_type": "execute_result"
    }
   ],
   "source": [
    "sc._conf.getAll()"
   ]
  },
  {
   "cell_type": "code",
   "execution_count": 8,
   "metadata": {
    "collapsed": false
   },
   "outputs": [
    {
     "data": {
      "text/plain": [
       "['2.7.10 |Anaconda 2.3.0 (64-bit)| (default, May 28 2015, 17:02:03) \\n[GCC 4.4.7 20120313 (Red Hat 4.4.7-1)]',\n",
       " '2.7.10 |Anaconda 2.3.0 (64-bit)| (default, May 28 2015, 17:02:03) \\n[GCC 4.4.7 20120313 (Red Hat 4.4.7-1)]']"
      ]
     },
     "execution_count": 8,
     "metadata": {},
     "output_type": "execute_result"
    }
   ],
   "source": [
    "import sys\n",
    "rdd = sc.parallelize(xrange(2),2)\n",
    "rdd.map(lambda x: sys.version).collect()"
   ]
  },
  {
   "cell_type": "code",
   "execution_count": 9,
   "metadata": {
    "collapsed": false
   },
   "outputs": [
    {
     "data": {
      "text/plain": [
       "'2.7.10 |Anaconda 2.3.0 (64-bit)| (default, May 28 2015, 17:02:03) \\n[GCC 4.4.7 20120313 (Red Hat 4.4.7-1)]'"
      ]
     },
     "execution_count": 9,
     "metadata": {},
     "output_type": "execute_result"
    }
   ],
   "source": [
    "sys.version"
   ]
  },
  {
   "cell_type": "code",
   "execution_count": 10,
   "metadata": {
    "collapsed": true
   },
   "outputs": [],
   "source": [
    "from pyspark.sql import SQLContext\n",
    "sqlsc=SQLContext(sc)"
   ]
  },
  {
   "cell_type": "markdown",
   "metadata": {},
   "source": [
    "##Setup Data For Pipeline\n",
    "###Load Dataframe into Pandas for initial manipulation"
   ]
  },
  {
   "cell_type": "code",
   "execution_count": 11,
   "metadata": {
    "collapsed": true
   },
   "outputs": [],
   "source": [
    "# load the lyrics from the approved \"master\" dataframe\n",
    "lyrics_pd_df = pd.read_csv(\"../../data/conditioned/master-lyricsdf-word_syn_hype_vectors.csv\")  "
   ]
  },
  {
   "cell_type": "code",
   "execution_count": 12,
   "metadata": {
    "collapsed": true
   },
   "outputs": [],
   "source": [
    "if decade:\n",
    "    lyrics_pd_df = lyrics_pd_df[lyrics_pd_df['decade'] == decade]"
   ]
  },
  {
   "cell_type": "code",
   "execution_count": 13,
   "metadata": {
    "collapsed": false
   },
   "outputs": [
    {
     "data": {
      "text/html": [
       "<div>\n",
       "<table border=\"1\" class=\"dataframe\">\n",
       "  <thead>\n",
       "    <tr style=\"text-align: right;\">\n",
       "      <th></th>\n",
       "      <th>index</th>\n",
       "      <th>position</th>\n",
       "      <th>year</th>\n",
       "      <th>title.href</th>\n",
       "      <th>title</th>\n",
       "      <th>artist</th>\n",
       "      <th>lyrics</th>\n",
       "      <th>decade</th>\n",
       "      <th>song_key</th>\n",
       "      <th>lyrics_url</th>\n",
       "      <th>lyrics_abstract</th>\n",
       "      <th>noun_vector</th>\n",
       "      <th>adj_vector</th>\n",
       "      <th>noun_syn_vector</th>\n",
       "      <th>adj_syn_vector</th>\n",
       "      <th>noun_syn_hype_vector</th>\n",
       "      <th>adj_syn_hype_vector</th>\n",
       "    </tr>\n",
       "  </thead>\n",
       "  <tbody>\n",
       "    <tr>\n",
       "      <th>0</th>\n",
       "      <td>0</td>\n",
       "      <td>1</td>\n",
       "      <td>1970</td>\n",
       "      <td>https://en.wikipedia.org/wiki/Bridge_over_Trou...</td>\n",
       "      <td>Bridge over Troubled Water</td>\n",
       "      <td>Simon and Garfunkel</td>\n",
       "      <td>When you're weary. Feeling small. When tears a...</td>\n",
       "      <td>1970</td>\n",
       "      <td>1970-1</td>\n",
       "      <td>http://lyrics.wikia.com/Simon_And_Garfunkel:Br...</td>\n",
       "      <td>When you're weary. Feeling small. When tears a...</td>\n",
       "      <td>time bridge water</td>\n",
       "      <td>rough troubled</td>\n",
       "      <td>time bridge water</td>\n",
       "      <td>troubled rough</td>\n",
       "      <td>water bridge time</td>\n",
       "      <td>rough troubled rough</td>\n",
       "    </tr>\n",
       "    <tr>\n",
       "      <th>1</th>\n",
       "      <td>1</td>\n",
       "      <td>2</td>\n",
       "      <td>1970</td>\n",
       "      <td>https://en.wikipedia.org/wiki/(They_Long_to_Be...</td>\n",
       "      <td>(They Long to Be) Close to You</td>\n",
       "      <td>The Carpenters</td>\n",
       "      <td>Why do birds suddenly appear. Everytime you ar...</td>\n",
       "      <td>1970</td>\n",
       "      <td>1970-2</td>\n",
       "      <td>http://lyrics.wikia.com/Carpenters:%28They_Lon...</td>\n",
       "      <td>Why do birds suddenly appear. Everytime you ar...</td>\n",
       "      <td>dream starlight eye</td>\n",
       "      <td>true blue</td>\n",
       "      <td>starlight eye dream</td>\n",
       "      <td>true blue</td>\n",
       "      <td>starlight eye dream</td>\n",
       "      <td>blue blue blue blue true</td>\n",
       "    </tr>\n",
       "    <tr>\n",
       "      <th>2</th>\n",
       "      <td>2</td>\n",
       "      <td>3</td>\n",
       "      <td>1970</td>\n",
       "      <td>https://en.wikipedia.org/wiki/American_Woman_(...</td>\n",
       "      <td>American Woman</td>\n",
       "      <td>The Guess Who</td>\n",
       "      <td>Mmm, da da da. Mmm, mmm, da da da. Mmm, mmm, d...</td>\n",
       "      <td>1970</td>\n",
       "      <td>1970-3</td>\n",
       "      <td>http://lyrics.wikia.com/The_Guess_Who:American...</td>\n",
       "      <td>Mmm, da da da. Mmm, mmm, da da da. Mmm, mmm, d...</td>\n",
       "      <td>woman mess mind mama thing time growin light y...</td>\n",
       "      <td>american important old coloured leave</td>\n",
       "      <td>light time ma mess thing woman crap mind</td>\n",
       "      <td>american colored old important</td>\n",
       "      <td>ma thing light ma crap ma ma crap woman mess t...</td>\n",
       "      <td>american colored colored important old colored</td>\n",
       "    </tr>\n",
       "    <tr>\n",
       "      <th>3</th>\n",
       "      <td>3</td>\n",
       "      <td>4</td>\n",
       "      <td>1970</td>\n",
       "      <td>https://en.wikipedia.org/wiki/Raindrops_Keep_F...</td>\n",
       "      <td>Raindrops Keep Fallin' on My Head</td>\n",
       "      <td>B.J. Thomas</td>\n",
       "      <td>Raindrops are falling on my head. And just lik...</td>\n",
       "      <td>1970</td>\n",
       "      <td>1970-4</td>\n",
       "      <td>http://lyrics.wikia.com/B.J._Thomas:Raindrops_...</td>\n",
       "      <td>Raindrops are falling on my head. And just lik...</td>\n",
       "      <td>guy foot bed happiness step eye</td>\n",
       "      <td>big long red</td>\n",
       "      <td>measure guy eye happiness foot bed</td>\n",
       "      <td>long red large</td>\n",
       "      <td>eye guy bed happiness measure guy measure foot</td>\n",
       "      <td>large red red red long red red large</td>\n",
       "    </tr>\n",
       "    <tr>\n",
       "      <th>4</th>\n",
       "      <td>4</td>\n",
       "      <td>5</td>\n",
       "      <td>1970</td>\n",
       "      <td>https://en.wikipedia.org/wiki/War_(Edwin_Starr...</td>\n",
       "      <td>War</td>\n",
       "      <td>Edwin Starr</td>\n",
       "      <td>War, huh, yeah. What is it good for? Absolutel...</td>\n",
       "      <td>1970</td>\n",
       "      <td>1970-5</td>\n",
       "      <td>http://lyrics.wikia.com/Edwin_Starr:War</td>\n",
       "      <td>War, huh, yeah. What is it good for? Absolutel...</td>\n",
       "      <td>god destruction life war unrest generation man...</td>\n",
       "      <td>good innocent younger young short precious fig...</td>\n",
       "      <td>life coevals destruction agitation man war man...</td>\n",
       "      <td>active better cherished younger young short in...</td>\n",
       "      <td>agitation godhead manner life god manner day w...</td>\n",
       "      <td>cherished active innocent better younger short...</td>\n",
       "    </tr>\n",
       "  </tbody>\n",
       "</table>\n",
       "</div>"
      ],
      "text/plain": [
       "   index  position  year                                         title.href                              title               artist                                             lyrics  decade song_key                                         lyrics_url                                    lyrics_abstract                                        noun_vector                                         adj_vector                                    noun_syn_vector  \\\n",
       "0      0         1  1970  https://en.wikipedia.org/wiki/Bridge_over_Trou...         Bridge over Troubled Water  Simon and Garfunkel  When you're weary. Feeling small. When tears a...    1970   1970-1  http://lyrics.wikia.com/Simon_And_Garfunkel:Br...  When you're weary. Feeling small. When tears a...                                  time bridge water                                     rough troubled                                  time bridge water   \n",
       "1      1         2  1970  https://en.wikipedia.org/wiki/(They_Long_to_Be...     (They Long to Be) Close to You       The Carpenters  Why do birds suddenly appear. Everytime you ar...    1970   1970-2  http://lyrics.wikia.com/Carpenters:%28They_Lon...  Why do birds suddenly appear. Everytime you ar...                                dream starlight eye                                          true blue                                starlight eye dream   \n",
       "2      2         3  1970  https://en.wikipedia.org/wiki/American_Woman_(...                     American Woman        The Guess Who  Mmm, da da da. Mmm, mmm, da da da. Mmm, mmm, d...    1970   1970-3  http://lyrics.wikia.com/The_Guess_Who:American...  Mmm, da da da. Mmm, mmm, da da da. Mmm, mmm, d...  woman mess mind mama thing time growin light y...              american important old coloured leave           light time ma mess thing woman crap mind   \n",
       "3      3         4  1970  https://en.wikipedia.org/wiki/Raindrops_Keep_F...  Raindrops Keep Fallin' on My Head          B.J. Thomas  Raindrops are falling on my head. And just lik...    1970   1970-4  http://lyrics.wikia.com/B.J._Thomas:Raindrops_...  Raindrops are falling on my head. And just lik...                    guy foot bed happiness step eye                                       big long red                 measure guy eye happiness foot bed   \n",
       "4      4         5  1970  https://en.wikipedia.org/wiki/War_(Edwin_Starr...                                War          Edwin Starr  War, huh, yeah. What is it good for? Absolutel...    1970   1970-5            http://lyrics.wikia.com/Edwin_Starr:War  War, huh, yeah. What is it good for? Absolutel...  god destruction life war unrest generation man...  good innocent younger young short precious fig...  life coevals destruction agitation man war man...   \n",
       "\n",
       "                                      adj_syn_vector                               noun_syn_hype_vector                                adj_syn_hype_vector  \n",
       "0                                     troubled rough                                  water bridge time                               rough troubled rough  \n",
       "1                                          true blue                                starlight eye dream                           blue blue blue blue true  \n",
       "2                     american colored old important  ma thing light ma crap ma ma crap woman mess t...     american colored colored important old colored  \n",
       "3                                     long red large     eye guy bed happiness measure guy measure foot               large red red red long red red large  \n",
       "4  active better cherished younger young short in...  agitation godhead manner life god manner day w...  cherished active innocent better younger short...  "
      ]
     },
     "execution_count": 13,
     "metadata": {},
     "output_type": "execute_result"
    }
   ],
   "source": [
    "lyrics_pd_df.head()"
   ]
  },
  {
   "cell_type": "markdown",
   "metadata": {},
   "source": [
    "###Add Labels for Data based on position\n",
    "This will change based upon the current run. A straight-forward usage is to see how well top and bottom 50 can be predicted.\n",
    "**Note: Spark ML seems picky about `label` being the column name**"
   ]
  },
  {
   "cell_type": "code",
   "execution_count": 21,
   "metadata": {
    "collapsed": false
   },
   "outputs": [],
   "source": [
    "# use positions for labeling\n",
    "positions_10_percent = {\n",
    "  10.0:range(1,11),\n",
    "  20.0:range(11,21),\n",
    "  30.0:range(21,31),\n",
    "  40.0:range(31,41),\n",
    "  50.0:range(41,51),\n",
    "  60.0:range(51,61), \n",
    "  70.0:range(61,71),\n",
    "  80.0:range(71,81),\n",
    "  90.0:range(81,91),\n",
    "  100.0:range(91,101)  \n",
    "}\n",
    "\n",
    "positions_25_percent = {\n",
    "  25.0:range(1,26),\n",
    "  50.0:range(26,51),\n",
    "  75.0:range(51,76),\n",
    "  100.0:range(76,101)\n",
    "}\n",
    "\n",
    "# binary classification for top 25\n",
    "positions_top_25 = {\n",
    "  0.0:range(1,26),\n",
    "  1.0:range(26,101)\n",
    "}\n",
    "\n",
    "# binary classification for top 50\n",
    "positions_top_50 = {\n",
    "  0.0:range(1,51),\n",
    "  1.0:range(51,101)\n",
    "}"
   ]
  },
  {
   "cell_type": "code",
   "execution_count": 22,
   "metadata": {
    "collapsed": false
   },
   "outputs": [
    {
     "data": {
      "text/html": [
       "<div>\n",
       "<table border=\"1\" class=\"dataframe\">\n",
       "  <thead>\n",
       "    <tr style=\"text-align: right;\">\n",
       "      <th></th>\n",
       "      <th>index</th>\n",
       "      <th>position</th>\n",
       "      <th>year</th>\n",
       "      <th>title.href</th>\n",
       "      <th>title</th>\n",
       "      <th>artist</th>\n",
       "      <th>lyrics</th>\n",
       "      <th>decade</th>\n",
       "      <th>song_key</th>\n",
       "      <th>lyrics_url</th>\n",
       "      <th>lyrics_abstract</th>\n",
       "      <th>noun_vector</th>\n",
       "      <th>adj_vector</th>\n",
       "      <th>noun_syn_vector</th>\n",
       "      <th>adj_syn_vector</th>\n",
       "      <th>noun_syn_hype_vector</th>\n",
       "      <th>adj_syn_hype_vector</th>\n",
       "      <th>label</th>\n",
       "    </tr>\n",
       "  </thead>\n",
       "  <tbody>\n",
       "    <tr>\n",
       "      <th>1311</th>\n",
       "      <td>1311</td>\n",
       "      <td>12</td>\n",
       "      <td>1983</td>\n",
       "      <td>https://en.wikipedia.org/wiki/You_and_I_(Eddie...</td>\n",
       "      <td>You and I</td>\n",
       "      <td>Eddie Rabbitt</td>\n",
       "      <td>Just you and I. Sharing our love together. And...</td>\n",
       "      <td>1980</td>\n",
       "      <td>1983-12</td>\n",
       "      <td>http://lyrics.wikia.com/Eddie_Rabbitt_%26_Crys...</td>\n",
       "      <td>Just you and I. Sharing our love together. And...</td>\n",
       "      <td>NaN</td>\n",
       "      <td>NaN</td>\n",
       "      <td>NaN</td>\n",
       "      <td>NaN</td>\n",
       "      <td>NaN</td>\n",
       "      <td>NaN</td>\n",
       "      <td>0</td>\n",
       "    </tr>\n",
       "    <tr>\n",
       "      <th>1796</th>\n",
       "      <td>1796</td>\n",
       "      <td>97</td>\n",
       "      <td>1987</td>\n",
       "      <td>NaN</td>\n",
       "      <td>I've Been in Love Before</td>\n",
       "      <td>Cutting Crew</td>\n",
       "      <td>Oooh, oo oooh, cha. Catch my breath, close my ...</td>\n",
       "      <td>1980</td>\n",
       "      <td>1987-97</td>\n",
       "      <td>http://lyrics.wikia.com/Cutting_Crew:I%27ve_Be...</td>\n",
       "      <td>Oooh, oo oooh, cha. Catch my breath, close my ...</td>\n",
       "      <td>oooh cha inside hit minute dance word</td>\n",
       "      <td>oo wrong oooh dangerous small</td>\n",
       "      <td>hit inside dance word minute</td>\n",
       "      <td>dangerous incorrect small</td>\n",
       "      <td>minute dance inside inside word hit</td>\n",
       "      <td>dangerous small incorrect small</td>\n",
       "      <td>1</td>\n",
       "    </tr>\n",
       "    <tr>\n",
       "      <th>4316</th>\n",
       "      <td>4316</td>\n",
       "      <td>17</td>\n",
       "      <td>2013</td>\n",
       "      <td>https://en.wikipedia.org/wiki/We_Can%27t_Stop</td>\n",
       "      <td>We Can't Stop</td>\n",
       "      <td>Miley Cyrus</td>\n",
       "      <td>It's our party, we can do what we want (. ). (...</td>\n",
       "      <td>2010</td>\n",
       "      <td>2013-17</td>\n",
       "      <td>http://lyrics.wikia.com/Miley_Cyrus:We_Can%27t...</td>\n",
       "      <td>It's our party, we can do what we want (. ). (...</td>\n",
       "      <td>party kiss cup body whop home homegirl butt</td>\n",
       "      <td>ooh-ooh red sweaty ready big</td>\n",
       "      <td>homegirl kiss home butt cup body party</td>\n",
       "      <td>red large ready</td>\n",
       "      <td>party home kiss butt homegirl cup body</td>\n",
       "      <td>large red red red red red ready large</td>\n",
       "      <td>0</td>\n",
       "    </tr>\n",
       "    <tr>\n",
       "      <th>2712</th>\n",
       "      <td>2712</td>\n",
       "      <td>13</td>\n",
       "      <td>1997</td>\n",
       "      <td>https://en.wikipedia.org/wiki/For_You_I_Will_(...</td>\n",
       "      <td>For You I Will</td>\n",
       "      <td>Monica</td>\n",
       "      <td>When you're feeling lost in the night. When yo...</td>\n",
       "      <td>1990</td>\n",
       "      <td>1997-13</td>\n",
       "      <td>http://lyrics.wikia.com/Monica:For_You_I_Will</td>\n",
       "      <td>When you're feeling lost in the night. When yo...</td>\n",
       "      <td>time fortress</td>\n",
       "      <td>tough tall strong</td>\n",
       "      <td>time fortress</td>\n",
       "      <td>tough tall strong</td>\n",
       "      <td>fortress time</td>\n",
       "      <td>tall strong tough</td>\n",
       "      <td>0</td>\n",
       "    </tr>\n",
       "    <tr>\n",
       "      <th>2624</th>\n",
       "      <td>2624</td>\n",
       "      <td>25</td>\n",
       "      <td>1996</td>\n",
       "      <td>https://en.wikipedia.org/wiki/Who_Will_Save_Yo...</td>\n",
       "      <td>Who Will Save Your Soul</td>\n",
       "      <td>Jewel</td>\n",
       "      <td>People living their lives for you on TV. They ...</td>\n",
       "      <td>1990</td>\n",
       "      <td>1996-25</td>\n",
       "      <td>http://lyrics.wikia.com/Jewel:Who_Will_Save_Yo...</td>\n",
       "      <td>People living their lives for you on TV. They ...</td>\n",
       "      <td>brick wall boy doctor lawyer thrill home god f...</td>\n",
       "      <td>cold free cute cheap homeless different afraid...</td>\n",
       "      <td>security bargain male_child wall lawyer brick ...</td>\n",
       "      <td>homeless different free all_right cunning cold...</td>\n",
       "      <td>wall doctor god male_child bargain bang home l...</td>\n",
       "      <td>cunning free cold all_right different homeless...</td>\n",
       "      <td>0</td>\n",
       "    </tr>\n",
       "  </tbody>\n",
       "</table>\n",
       "</div>"
      ],
      "text/plain": [
       "      index  position  year                                         title.href                     title         artist                                             lyrics  decade song_key                                         lyrics_url                                    lyrics_abstract                                        noun_vector                                         adj_vector                                    noun_syn_vector                                     adj_syn_vector  \\\n",
       "1311   1311        12  1983  https://en.wikipedia.org/wiki/You_and_I_(Eddie...                 You and I  Eddie Rabbitt  Just you and I. Sharing our love together. And...    1980  1983-12  http://lyrics.wikia.com/Eddie_Rabbitt_%26_Crys...  Just you and I. Sharing our love together. And...                                                NaN                                                NaN                                                NaN                                                NaN   \n",
       "1796   1796        97  1987                                                NaN  I've Been in Love Before   Cutting Crew  Oooh, oo oooh, cha. Catch my breath, close my ...    1980  1987-97  http://lyrics.wikia.com/Cutting_Crew:I%27ve_Be...  Oooh, oo oooh, cha. Catch my breath, close my ...              oooh cha inside hit minute dance word                      oo wrong oooh dangerous small                       hit inside dance word minute                          dangerous incorrect small   \n",
       "4316   4316        17  2013      https://en.wikipedia.org/wiki/We_Can%27t_Stop             We Can't Stop    Miley Cyrus  It's our party, we can do what we want (. ). (...    2010  2013-17  http://lyrics.wikia.com/Miley_Cyrus:We_Can%27t...  It's our party, we can do what we want (. ). (...        party kiss cup body whop home homegirl butt                       ooh-ooh red sweaty ready big             homegirl kiss home butt cup body party                                    red large ready   \n",
       "2712   2712        13  1997  https://en.wikipedia.org/wiki/For_You_I_Will_(...            For You I Will         Monica  When you're feeling lost in the night. When yo...    1990  1997-13      http://lyrics.wikia.com/Monica:For_You_I_Will  When you're feeling lost in the night. When yo...                                      time fortress                                  tough tall strong                                      time fortress                                  tough tall strong   \n",
       "2624   2624        25  1996  https://en.wikipedia.org/wiki/Who_Will_Save_Yo...   Who Will Save Your Soul          Jewel  People living their lives for you on TV. They ...    1990  1996-25  http://lyrics.wikia.com/Jewel:Who_Will_Save_Yo...  People living their lives for you on TV. They ...  brick wall boy doctor lawyer thrill home god f...  cold free cute cheap homeless different afraid...  security bargain male_child wall lawyer brick ...  homeless different free all_right cunning cold...   \n",
       "\n",
       "                                   noun_syn_hype_vector                                adj_syn_hype_vector  label  \n",
       "1311                                                NaN                                                NaN      0  \n",
       "1796                minute dance inside inside word hit                    dangerous small incorrect small      1  \n",
       "4316             party home kiss butt homegirl cup body              large red red red red red ready large      0  \n",
       "2712                                      fortress time                                  tall strong tough      0  \n",
       "2624  wall doctor god male_child bargain bang home l...  cunning free cold all_right different homeless...      0  "
      ]
     },
     "execution_count": 22,
     "metadata": {},
     "output_type": "execute_result"
    }
   ],
   "source": [
    "# Here is the dictionary for this run. This is how the classification is being done.\n",
    "positions_description = \"Top 50 versus Bottom 50\"\n",
    "positions_dict = positions_top_50\n",
    "\n",
    "def labelForPosition(pos):\n",
    "    for k,p in positions_dict.iteritems():\n",
    "        if pos in p:\n",
    "            return k\n",
    "    return None\n",
    "\n",
    "#label is position, e.g. 1-10, in this use\n",
    "lyrics_pd_df['label'] = lyrics_pd_df.position.apply(labelForPosition)\n",
    "lyrics_pd_df.sample(5).head()"
   ]
  },
  {
   "cell_type": "markdown",
   "metadata": {},
   "source": [
    "###Filter out Non-Lyric Records\n",
    "**Non-Lyrics due to:**\n",
    "* Instrumentals\n",
    "* Licensing restrictions on lyrics.wikia\n",
    "* No lyrics added to lyrics.wikia"
   ]
  },
  {
   "cell_type": "code",
   "execution_count": 15,
   "metadata": {
    "collapsed": false
   },
   "outputs": [
    {
     "name": "stdout",
     "output_type": "stream",
     "text": [
      "How many empties are there? 159\n"
     ]
    }
   ],
   "source": [
    "# Check for nulls (which may include instrumentals, non )\n",
    "empties = np.where(pd.isnull(lyrics_pd_df[['lyrics']]))\n",
    "print \"How many empties are there? {}\".format(len(empties[0]))"
   ]
  },
  {
   "cell_type": "code",
   "execution_count": 17,
   "metadata": {
    "collapsed": false
   },
   "outputs": [
    {
     "data": {
      "text/plain": [
       "(4500, 18)"
      ]
     },
     "execution_count": 17,
     "metadata": {},
     "output_type": "execute_result"
    }
   ],
   "source": [
    "lyrics_pd_df.shape"
   ]
  },
  {
   "cell_type": "code",
   "execution_count": 18,
   "metadata": {
    "collapsed": true
   },
   "outputs": [],
   "source": [
    "# filter out null lyrics\n",
    "lyrics_pd_df = lyrics_pd_df.dropna(axis=0, how='any', thresh=None, subset=['lyrics'], inplace=False)"
   ]
  },
  {
   "cell_type": "code",
   "execution_count": 19,
   "metadata": {
    "collapsed": false
   },
   "outputs": [
    {
     "data": {
      "text/plain": [
       "(4341, 18)"
      ]
     },
     "execution_count": 19,
     "metadata": {},
     "output_type": "execute_result"
    }
   ],
   "source": [
    "lyrics_pd_df.shape"
   ]
  },
  {
   "cell_type": "markdown",
   "metadata": {},
   "source": [
    "###What Vector column is to be used for this run?"
   ]
  },
  {
   "cell_type": "code",
   "execution_count": 28,
   "metadata": {
    "collapsed": true
   },
   "outputs": [],
   "source": [
    "vector_col = 'noun_vector'\n",
    "# vector_col = 'noun_syn_vector'\n",
    "# vector_col = 'noun_syn_hype_vector'"
   ]
  },
  {
   "cell_type": "code",
   "execution_count": 29,
   "metadata": {
    "collapsed": false
   },
   "outputs": [],
   "source": [
    "vector_col_values = lyrics_pd_df[vector_col].values"
   ]
  },
  {
   "cell_type": "code",
   "execution_count": 30,
   "metadata": {
    "collapsed": false
   },
   "outputs": [
    {
     "data": {
      "text/plain": [
       "4341"
      ]
     },
     "execution_count": 30,
     "metadata": {},
     "output_type": "execute_result"
    }
   ],
   "source": [
    "len(vector_col_values)"
   ]
  },
  {
   "cell_type": "code",
   "execution_count": 31,
   "metadata": {
    "collapsed": false
   },
   "outputs": [
    {
     "data": {
      "text/plain": [
       "array(['time bridge water', 'dream starlight eye',\n",
       "       'woman mess mind mama thing time growin light ya shit',\n",
       "       'guy foot bed happiness step eye',\n",
       "       'god destruction life war unrest generation man dream day lord way'], dtype=object)"
      ]
     },
     "execution_count": 31,
     "metadata": {},
     "output_type": "execute_result"
    }
   ],
   "source": [
    "vector_col_values[:5]"
   ]
  },
  {
   "cell_type": "markdown",
   "metadata": {},
   "source": [
    "###Manipulate `vector_col` into list \n",
    "**This list removes duplication of tokens and sorts within each vector**"
   ]
  },
  {
   "cell_type": "code",
   "execution_count": 34,
   "metadata": {
    "collapsed": false
   },
   "outputs": [],
   "source": [
    "corpus_list = []\n",
    "for v in vector_col_values:\n",
    "    if not isinstance(v,float):\n",
    "        tmp = v.split()\n",
    "        cs = []\n",
    "        for t in tmp:\n",
    "            if not t in cs:\n",
    "                cs.append(t)\n",
    "        corpus_list.append(sorted(cs))\n",
    "    # just in case, handle empty    \n",
    "    else:\n",
    "        corpus_list.append([])"
   ]
  },
  {
   "cell_type": "code",
   "execution_count": 35,
   "metadata": {
    "collapsed": false
   },
   "outputs": [
    {
     "name": "stdout",
     "output_type": "stream",
     "text": [
      "[['bridge', 'time', 'water'], ['dream', 'eye', 'starlight'], ['growin', 'light', 'mama', 'mess', 'mind', 'shit', 'thing', 'time', 'woman', 'ya'], ['bed', 'eye', 'foot', 'guy', 'happiness', 'step'], ['day', 'destruction', 'dream', 'generation', 'god', 'life', 'lord', 'man', 'unrest', 'war', 'way'], ['baby', 'day', 'desire', 'lip', 'love', 'mountain', 'remember', 'river', 'valley'], ['dream', 'honey', 'love', 'respect', 'shoulder', 'world'], ['dream', 'love', 'time', 'ya'], ['night', 'person'], ['darkness', 'room']]\n"
     ]
    }
   ],
   "source": [
    "print corpus_list[:10]"
   ]
  },
  {
   "cell_type": "code",
   "execution_count": 36,
   "metadata": {
    "collapsed": false
   },
   "outputs": [
    {
     "data": {
      "text/plain": [
       "4341"
      ]
     },
     "execution_count": 36,
     "metadata": {},
     "output_type": "execute_result"
    }
   ],
   "source": [
    "len(corpus_list)"
   ]
  },
  {
   "cell_type": "markdown",
   "metadata": {},
   "source": [
    "###Convert and manipulate with Spark"
   ]
  },
  {
   "cell_type": "code",
   "execution_count": null,
   "metadata": {
    "collapsed": true
   },
   "outputs": [],
   "source": [
    "# convert from pandas to spark dataframe\n",
    "lyricsdf = sqlsc.createDataFrame(lyrics_pd_df)"
   ]
  },
  {
   "cell_type": "code",
   "execution_count": null,
   "metadata": {
    "collapsed": false
   },
   "outputs": [],
   "source": [
    "lyricsdf.show(3)"
   ]
  },
  {
   "cell_type": "markdown",
   "metadata": {},
   "source": [
    "##Pipeline Using Spark\n",
    "Reference [combine all features into a single feature vector](https://databricks.com/blog/2015/07/29/new-features-in-machine-learning-pipelines-in-spark-1-4.html)\n",
    "![Ensemble Pipeline Overview](https://databricks.com/wp-content/uploads/2015/07/simple-pipeline.png)\n",
    "* Tokenizer\n",
    "* HashingTF\n",
    "* Word2Vec\n",
    "* OneHotEncoder\n",
    "* Vector Assembler"
   ]
  },
  {
   "cell_type": "code",
   "execution_count": null,
   "metadata": {
    "collapsed": true
   },
   "outputs": [],
   "source": [
    "# Pipeline adapted from:\n",
    "# http://spark.apache.org/docs/latest/ml-guide.html\n",
    "# https://databricks.com/blog/2015/07/29/new-features-in-machine-learning-pipelines-in-spark-1-4.html\n",
    "from pyspark.ml.feature import *\n",
    "from pyspark.ml import Pipeline\n",
    "from pyspark.ml.classification import LogisticRegression\n",
    "from pyspark.ml.feature import HashingTF, Tokenizer\n",
    "from pyspark.sql import Row"
   ]
  },
  {
   "cell_type": "code",
   "execution_count": null,
   "metadata": {
    "collapsed": true
   },
   "outputs": [],
   "source": [
    "# Used in common for printing predictions\n",
    "def printPredicts(predictsdf,pred_hits,pipeline_name=\"Pipeline\"):\n",
    "    hits = 0\n",
    "    misses = 0\n",
    "    print \"How did {} do predicting {}?\".format(pipeline_name,positions_description)\n",
    "    for r in predictsdf.iterrows():\n",
    "        song_key = r[1].song_key\n",
    "        pred = pred_hits[song_key]  \n",
    "        result = labelForPosition(r[1].position)\n",
    "        correct = result == pred\n",
    "        if correct:\n",
    "            hits +=1\n",
    "            print \"Correct ::: song_key --> {}, predicted {}\".format(song_key, pred)\n",
    "        else:\n",
    "            misses +=1\n",
    "            print \"Incorrect ::: song_key --> {}, predicted {}\".format(song_key, pred)\n",
    "    print \"{} hits: {}, misses: {}\".format(pipeline_name,hits,misses)"
   ]
  },
  {
   "cell_type": "code",
   "execution_count": null,
   "metadata": {
    "collapsed": true
   },
   "outputs": [],
   "source": [
    "# TODO (HERE OR TABLEAU) -- VIZ Method"
   ]
  },
  {
   "cell_type": "markdown",
   "metadata": {},
   "source": [
    "###Whole Corpus Approach: Fit a model to songs prior to 2013 and predict on 2014."
   ]
  },
  {
   "cell_type": "code",
   "execution_count": null,
   "metadata": {
    "collapsed": false
   },
   "outputs": [],
   "source": [
    "# augment lyricsdf with corpus\n",
    "lyricsdf_corpus = lyricsdf.withColumn(\"lyrics_tokenized\", corpus)"
   ]
  },
  {
   "cell_type": "code",
   "execution_count": null,
   "metadata": {
    "collapsed": true
   },
   "outputs": [],
   "source": [
    "# training on songs to 2013\n",
    "training = lyricsdf.filter(lyricsdf['year'] != 2014).select(['song_key','lyrics','label'])\n",
    "\n",
    "# training_corpus on songs to 2013\n",
    "training_corpus = lyricsdf_corpus.filter(lyricsdf['year'] != 2014).select(['song_key','lyrics','label'])"
   ]
  },
  {
   "cell_type": "code",
   "execution_count": null,
   "metadata": {
    "collapsed": true
   },
   "outputs": [],
   "source": [
    "# test year 2014\n",
    "test = lyricsdf.filter(lyricsdf['year'] == 2014).select(['song_key','lyrics','label'])\n",
    "\n",
    "# test_corpus year 2014\n",
    "test_corpus = lyricsdf_corpus.filter(lyricsdf['year'] == 2014).select(['song_key','lyrics','label'])"
   ]
  },
  {
   "cell_type": "markdown",
   "metadata": {},
   "source": [
    "###Pipeline 1 : Whole Document as Tokens"
   ]
  },
  {
   "cell_type": "code",
   "execution_count": null,
   "metadata": {
    "collapsed": false
   },
   "outputs": [],
   "source": [
    "print \"execution start --> {}\".format(time.strftime('%a, %d %b %Y %H:%M:%S', time.localtime()))"
   ]
  },
  {
   "cell_type": "code",
   "execution_count": null,
   "metadata": {
    "collapsed": false
   },
   "outputs": [],
   "source": [
    "%%time\n",
    "# Prepare training documents from a list of (id, text, label) tuples.\n",
    "LabeledDocument = Row(\"song_key\", \"lyrics\", \"label\")\n",
    "\n",
    "## ML Pipeline \n",
    "tok1 = Tokenizer(inputCol=\"lyrics\", outputCol=\"words\")\n",
    "htf1 = HashingTF(inputCol=tok1.getOutputCol(), outputCol=\"features\", numFeatures=200)\n",
    "lr1 = LogisticRegression(maxIter=10, regParam=0.01)\n",
    "pipeline1 = Pipeline(stages=[tok1, htf1, lr1])\n",
    "\n",
    "# Fit the pipeline to training documents.\n",
    "model1 = pipeline1.fit(training)"
   ]
  },
  {
   "cell_type": "code",
   "execution_count": null,
   "metadata": {
    "collapsed": true
   },
   "outputs": [],
   "source": [
    "# Make predictions on test documents and print columns of interest.\n",
    "prediction1 = model1.transform(test)\n",
    "selected1 = prediction1.select(\"song_key\", \"lyrics\", \"prediction\")"
   ]
  },
  {
   "cell_type": "code",
   "execution_count": null,
   "metadata": {
    "collapsed": false
   },
   "outputs": [],
   "source": [
    "print type(selected1)"
   ]
  },
  {
   "cell_type": "code",
   "execution_count": null,
   "metadata": {
    "collapsed": false
   },
   "outputs": [],
   "source": [
    "# build up predictions\n",
    "pred_hits1 = {}\n",
    "for row in selected1.collect():\n",
    "    pred_hits1[row[0]] = row[2]"
   ]
  },
  {
   "cell_type": "code",
   "execution_count": null,
   "metadata": {
    "collapsed": false
   },
   "outputs": [],
   "source": [
    "# quick check, predicted 2010-1 in top 25 correctly.\n",
    "pred_hits1['2014-1']"
   ]
  },
  {
   "cell_type": "markdown",
   "metadata": {},
   "source": [
    "###How did pipeline1 do at predicting top 50 hits for 2014 in light of hits prior?"
   ]
  },
  {
   "cell_type": "code",
   "execution_count": null,
   "metadata": {
    "collapsed": false
   },
   "outputs": [],
   "source": [
    "printPredicts(lyrics_pd_df[lyrics_pd_df['year'] == 2014],pred_hits1,pipeline_name=\"Pipeline1\")"
   ]
  },
  {
   "cell_type": "code",
   "execution_count": null,
   "metadata": {
    "collapsed": true
   },
   "outputs": [],
   "source": [
    "# TODO : VIZ"
   ]
  },
  {
   "cell_type": "markdown",
   "metadata": {},
   "source": [
    "###Pipeline2\n",
    "**Word Vector approach**\n",
    "\n",
    "####TODO: IMPLEMENT"
   ]
  },
  {
   "cell_type": "code",
   "execution_count": null,
   "metadata": {
    "collapsed": false
   },
   "outputs": [],
   "source": [
    "## \n",
    "tok2 = Tokenizer(inputCol=\"lyrics\", outputCol=\"words\")\n",
    "htf2 = HashingTF(inputCol=tok2.getOutputCol(), outputCol=\"tf\", numFeatures=200)\n",
    "w2v = Word2Vec(inputCol=\"lyrics\", outputCol=\"w2v\")\n",
    "ohe = OneHotEncoder(inputCol=\"label\", outputCol=\"lbl\")\n",
    "va = VectorAssembler(inputCols=[\"tf\", \"w2v\", \"lbl\"], outputCol=\"features\")\n",
    "pipeline2 = Pipeline(stages=[tok,htf,w2v,ohe,va])\n",
    "\n",
    "# Fit the pipeline to training documents.\n",
    "model = pipeline2.fit(training)"
   ]
  },
  {
   "cell_type": "markdown",
   "metadata": {},
   "source": [
    "##Try per decade predictions"
   ]
  }
 ],
 "metadata": {
  "kernelspec": {
   "display_name": "Python 2",
   "language": "python",
   "name": "python2"
  },
  "language_info": {
   "codemirror_mode": {
    "name": "ipython",
    "version": 2
   },
   "file_extension": ".py",
   "mimetype": "text/x-python",
   "name": "python",
   "nbconvert_exporter": "python",
   "pygments_lexer": "ipython2",
   "version": "2.7.10"
  }
 },
 "nbformat": 4,
 "nbformat_minor": 0
}
