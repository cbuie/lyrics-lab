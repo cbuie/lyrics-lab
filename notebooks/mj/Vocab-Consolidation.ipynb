{
 "cells": [
  {
   "cell_type": "markdown",
   "metadata": {},
   "source": [
    "#Vocab Consolidation\n",
    "### Adapted concepts from [HW1](https://github.com/cs109-students/michaeljohns-2015hw/blob/hw1/hw1.ipynb) and [HW5 Part1](https://github.com/cs109-students/michaeljohns-2015hw/blob/hw5/hw5part1.ipynb)\n",
    "\n",
    "**This notebook should be locally run by issuing `vagrant up` from project root, then locating the notebook at \"http:\\\\localhost:4545\". You may also need to issue `vagrant provision` to update any required resources.**\n",
    "\n",
    "The following artifacts will be established by manipulating the output of the processing pipeline for harvesting data, file [use-this-master-lyricsdf-extracted.csv](../../data/conditioned/use-this-master-lyricsdf-extracted.csv):\n",
    "* vocabs for noun and adj\n",
    "* n-gram for noun and adj\n",
    "* synonyms for noun and adj\n",
    "* hypernyms for noun and adj\n",
    "\n",
    "Other notes:\n",
    "* this notebook leverages and finalizes exploratory work in [Data-Exploration Notebook](Data-Exploration.ipynb).\n",
    "* outputs are anticipated to be combined in follow-on work for better latent factors, prediction, and recommendation processing (not reflected here)\n",
    "* in other notebooks that use the exact same contents as here, we will establish n-gram and vocab per decade.\n",
    "\n"
   ]
  },
  {
   "cell_type": "code",
   "execution_count": 1,
   "metadata": {
    "collapsed": true
   },
   "outputs": [],
   "source": [
    "## SET THE DECADE FOR PROCESS FILTERING\n",
    "## THIS WILL ALLOW SPECIAL PROCESSING\n",
    "# decade = None # for no decade filtering, i.e. corpus-wide\n",
    "# decade = 1970\n",
    "# decade = 1980\n",
    "# decade = 1990\n",
    "# decade = 2000\n",
    "decade = 2010"
   ]
  },
  {
   "cell_type": "markdown",
   "metadata": {},
   "source": [
    "##Imports"
   ]
  },
  {
   "cell_type": "code",
   "execution_count": 2,
   "metadata": {
    "collapsed": true
   },
   "outputs": [],
   "source": [
    "%matplotlib inline\n",
    "import numpy as np\n",
    "import scipy as sp\n",
    "import matplotlib as mpl\n",
    "import matplotlib.cm as cm\n",
    "import matplotlib.pyplot as plt\n",
    "import pandas as pd\n",
    "pd.set_option('display.width', 500)\n",
    "pd.set_option('display.max_columns', 100)\n",
    "pd.set_option('display.notebook_repr_html', True)\n",
    "import seaborn as sns\n",
    "sns.set_style(\"whitegrid\")\n",
    "sns.set_context(\"poster\")"
   ]
  },
  {
   "cell_type": "code",
   "execution_count": 3,
   "metadata": {
    "collapsed": false
   },
   "outputs": [],
   "source": [
    "## MLJ: Additional Extras\n",
    "import os\n",
    "import time\n",
    "import itertools\n",
    "import json\n",
    "import pickle"
   ]
  },
  {
   "cell_type": "markdown",
   "metadata": {},
   "source": [
    "##Handle Directory for Output"
   ]
  },
  {
   "cell_type": "code",
   "execution_count": 4,
   "metadata": {
    "collapsed": true
   },
   "outputs": [],
   "source": [
    "# adapted from https://justgagan.wordpress.com/2010/09/22/python-create-path-or-directories-if-not-exist/\n",
    "def assureDirExists(path):\n",
    "    d = os.path.dirname(path)\n",
    "    if not os.path.exists(d):\n",
    "        os.makedirs(d)"
   ]
  },
  {
   "cell_type": "code",
   "execution_count": 5,
   "metadata": {
    "collapsed": false
   },
   "outputs": [],
   "source": [
    "# create requisite directory for processing\n",
    "root_out = \"\"\n",
    "if not decade:\n",
    "    root_out = \"../../data/conditioned/corpus_vocabs/\" #entire corpus\n",
    "else:\n",
    "    root_out = \"../../data/conditioned/decades/\"+str(decade)+\"/\" #single decade\n",
    "    \n",
    "assureDirExists(root_out)"
   ]
  },
  {
   "cell_type": "markdown",
   "metadata": {},
   "source": [
    "##Spark Setup"
   ]
  },
  {
   "cell_type": "code",
   "execution_count": 6,
   "metadata": {
    "collapsed": true
   },
   "outputs": [],
   "source": [
    "import os\n",
    "# os.environ['PYSPARK_PYTHON'] = '/anaconda/bin/python'"
   ]
  },
  {
   "cell_type": "code",
   "execution_count": 7,
   "metadata": {
    "collapsed": false
   },
   "outputs": [
    {
     "name": "stdout",
     "output_type": "stream",
     "text": [
      "/home/vagrant/spark\n"
     ]
    }
   ],
   "source": [
    "import findspark\n",
    "findspark.init()\n",
    "print findspark.find()\n",
    "# Depending on your setup you might have to change this line of code\n",
    "#findspark makes sure I dont need the below on homebrew.\n",
    "#os.environ['SPARK_HOME']=\"/usr/local/Cellar/apache-spark/1.5.1/libexec/\"\n",
    "#the below actually broke my spark, so I removed it. \n",
    "#Depending on how you started the notebook, you might need it.\n",
    "# os.environ['PYSPARK_SUBMIT_ARGS']=\"--master local pyspark --executor-memory 4g\""
   ]
  },
  {
   "cell_type": "code",
   "execution_count": 8,
   "metadata": {
    "collapsed": false
   },
   "outputs": [],
   "source": [
    "import pyspark\n",
    "conf = (pyspark.SparkConf()\n",
    "    .setMaster('local[4]')\n",
    "    .setAppName('pyspark')\n",
    "    .set(\"spark.executor.memory\", \"2g\"))\n",
    "sc = pyspark.SparkContext(conf=conf)"
   ]
  },
  {
   "cell_type": "code",
   "execution_count": 9,
   "metadata": {
    "collapsed": false
   },
   "outputs": [
    {
     "data": {
      "text/plain": [
       "[(u'spark.executor.memory', u'2g'),\n",
       " (u'spark.master', u'local[4]'),\n",
       " (u'spark.rdd.compress', u'True'),\n",
       " (u'spark.driver.memory', u'8g'),\n",
       " (u'spark.serializer.objectStreamReset', u'100'),\n",
       " (u'spark.submit.deployMode', u'client'),\n",
       " (u'spark.app.name', u'pyspark')]"
      ]
     },
     "execution_count": 9,
     "metadata": {},
     "output_type": "execute_result"
    }
   ],
   "source": [
    "sc._conf.getAll()"
   ]
  },
  {
   "cell_type": "code",
   "execution_count": 10,
   "metadata": {
    "collapsed": false
   },
   "outputs": [
    {
     "data": {
      "text/plain": [
       "['2.7.10 |Anaconda 2.3.0 (64-bit)| (default, May 28 2015, 17:02:03) \\n[GCC 4.4.7 20120313 (Red Hat 4.4.7-1)]',\n",
       " '2.7.10 |Anaconda 2.3.0 (64-bit)| (default, May 28 2015, 17:02:03) \\n[GCC 4.4.7 20120313 (Red Hat 4.4.7-1)]',\n",
       " '2.7.10 |Anaconda 2.3.0 (64-bit)| (default, May 28 2015, 17:02:03) \\n[GCC 4.4.7 20120313 (Red Hat 4.4.7-1)]',\n",
       " '2.7.10 |Anaconda 2.3.0 (64-bit)| (default, May 28 2015, 17:02:03) \\n[GCC 4.4.7 20120313 (Red Hat 4.4.7-1)]',\n",
       " '2.7.10 |Anaconda 2.3.0 (64-bit)| (default, May 28 2015, 17:02:03) \\n[GCC 4.4.7 20120313 (Red Hat 4.4.7-1)]',\n",
       " '2.7.10 |Anaconda 2.3.0 (64-bit)| (default, May 28 2015, 17:02:03) \\n[GCC 4.4.7 20120313 (Red Hat 4.4.7-1)]',\n",
       " '2.7.10 |Anaconda 2.3.0 (64-bit)| (default, May 28 2015, 17:02:03) \\n[GCC 4.4.7 20120313 (Red Hat 4.4.7-1)]',\n",
       " '2.7.10 |Anaconda 2.3.0 (64-bit)| (default, May 28 2015, 17:02:03) \\n[GCC 4.4.7 20120313 (Red Hat 4.4.7-1)]',\n",
       " '2.7.10 |Anaconda 2.3.0 (64-bit)| (default, May 28 2015, 17:02:03) \\n[GCC 4.4.7 20120313 (Red Hat 4.4.7-1)]',\n",
       " '2.7.10 |Anaconda 2.3.0 (64-bit)| (default, May 28 2015, 17:02:03) \\n[GCC 4.4.7 20120313 (Red Hat 4.4.7-1)]']"
      ]
     },
     "execution_count": 10,
     "metadata": {},
     "output_type": "execute_result"
    }
   ],
   "source": [
    "import sys\n",
    "rdd = sc.parallelize(xrange(10),10)\n",
    "rdd.map(lambda x: sys.version).collect()"
   ]
  },
  {
   "cell_type": "code",
   "execution_count": 11,
   "metadata": {
    "collapsed": false
   },
   "outputs": [
    {
     "data": {
      "text/plain": [
       "'2.7.10 |Anaconda 2.3.0 (64-bit)| (default, May 28 2015, 17:02:03) \\n[GCC 4.4.7 20120313 (Red Hat 4.4.7-1)]'"
      ]
     },
     "execution_count": 11,
     "metadata": {},
     "output_type": "execute_result"
    }
   ],
   "source": [
    "sys.version"
   ]
  },
  {
   "cell_type": "code",
   "execution_count": 12,
   "metadata": {
    "collapsed": true
   },
   "outputs": [],
   "source": [
    "from pyspark.sql import SQLContext\n",
    "sqlsc=SQLContext(sc)"
   ]
  },
  {
   "cell_type": "markdown",
   "metadata": {},
   "source": [
    "#Load Finalized Conditioned Data Into Pandas Dataframe"
   ]
  },
  {
   "cell_type": "code",
   "execution_count": 13,
   "metadata": {
    "collapsed": true
   },
   "outputs": [],
   "source": [
    "# load the lyrics from the approved \"master\" dataframe\n",
    "lyrics_pd_df = pd.read_csv(\"../../data/conditioned/use-this-master-lyricsdf-extracted.csv\")  "
   ]
  },
  {
   "cell_type": "code",
   "execution_count": 14,
   "metadata": {
    "collapsed": true
   },
   "outputs": [],
   "source": [
    "#FILTER BY DECADE IF SET\n",
    "if decade:\n",
    "    lyrics_pd_df = lyrics_pd_df[lyrics_pd_df['decade'] == decade]"
   ]
  },
  {
   "cell_type": "code",
   "execution_count": 15,
   "metadata": {
    "collapsed": false
   },
   "outputs": [
    {
     "data": {
      "text/plain": [
       "(500, 11)"
      ]
     },
     "execution_count": 15,
     "metadata": {},
     "output_type": "execute_result"
    }
   ],
   "source": [
    "lyrics_pd_df.shape"
   ]
  },
  {
   "cell_type": "code",
   "execution_count": 16,
   "metadata": {
    "collapsed": false
   },
   "outputs": [
    {
     "data": {
      "text/html": [
       "<div>\n",
       "<table border=\"1\" class=\"dataframe\">\n",
       "  <thead>\n",
       "    <tr style=\"text-align: right;\">\n",
       "      <th></th>\n",
       "      <th>index</th>\n",
       "      <th>position</th>\n",
       "      <th>year</th>\n",
       "      <th>title.href</th>\n",
       "      <th>title</th>\n",
       "      <th>artist</th>\n",
       "      <th>lyrics</th>\n",
       "      <th>decade</th>\n",
       "      <th>song_key</th>\n",
       "      <th>lyrics_url</th>\n",
       "      <th>lyrics_abstract</th>\n",
       "    </tr>\n",
       "  </thead>\n",
       "  <tbody>\n",
       "    <tr>\n",
       "      <th>4000</th>\n",
       "      <td>4000</td>\n",
       "      <td>1</td>\n",
       "      <td>2010</td>\n",
       "      <td>https://en.wikipedia.org/wiki/Tik_Tok</td>\n",
       "      <td>Tik Tok</td>\n",
       "      <td>Ke$ha</td>\n",
       "      <td>Wake up in the morning, feelin' like P. Diddy ...</td>\n",
       "      <td>2010</td>\n",
       "      <td>2010-1</td>\n",
       "      <td>http://lyrics.wikia.com/Ke%24ha:Tik_Tok</td>\n",
       "      <td>Wake up in the morning, feelin' like P. Diddy ...</td>\n",
       "    </tr>\n",
       "    <tr>\n",
       "      <th>4001</th>\n",
       "      <td>4001</td>\n",
       "      <td>2</td>\n",
       "      <td>2010</td>\n",
       "      <td>https://en.wikipedia.org/wiki/Need_You_Now_(La...</td>\n",
       "      <td>Need You Now</td>\n",
       "      <td>Lady Antebellum</td>\n",
       "      <td>Picture perfect memories, scattered all around...</td>\n",
       "      <td>2010</td>\n",
       "      <td>2010-2</td>\n",
       "      <td>http://lyrics.wikia.com/Lady_Antebellum:Need_Y...</td>\n",
       "      <td>Picture perfect memories, scattered all around...</td>\n",
       "    </tr>\n",
       "    <tr>\n",
       "      <th>4002</th>\n",
       "      <td>4002</td>\n",
       "      <td>3</td>\n",
       "      <td>2010</td>\n",
       "      <td>https://en.wikipedia.org/wiki/Hey,_Soul_Sister</td>\n",
       "      <td>Hey, Soul Sister</td>\n",
       "      <td>Train</td>\n",
       "      <td>Hey, hey, hey. Your lipstick stains. On the fr...</td>\n",
       "      <td>2010</td>\n",
       "      <td>2010-3</td>\n",
       "      <td>http://lyrics.wikia.com/Train:Hey%2C_Soul_Sister</td>\n",
       "      <td>Hey, hey, hey. Your lipstick stains. On the fr...</td>\n",
       "    </tr>\n",
       "    <tr>\n",
       "      <th>4003</th>\n",
       "      <td>4003</td>\n",
       "      <td>4</td>\n",
       "      <td>2010</td>\n",
       "      <td>https://en.wikipedia.org/wiki/California_Gurls</td>\n",
       "      <td>California Gurls</td>\n",
       "      <td>Katy Perry</td>\n",
       "      <td>. Greetings loved ones. Let's take a journey. ...</td>\n",
       "      <td>2010</td>\n",
       "      <td>2010-4</td>\n",
       "      <td>http://lyrics.wikia.com/Katy_Perry:California_...</td>\n",
       "      <td>. Greetings loved ones. Let's take a journey. ...</td>\n",
       "    </tr>\n",
       "    <tr>\n",
       "      <th>4004</th>\n",
       "      <td>4004</td>\n",
       "      <td>5</td>\n",
       "      <td>2010</td>\n",
       "      <td>https://en.wikipedia.org/wiki/OMG_(song)</td>\n",
       "      <td>OMG</td>\n",
       "      <td>Usher</td>\n",
       "      <td>Oh my gosh. Baby, let me. I did it again, so I...</td>\n",
       "      <td>2010</td>\n",
       "      <td>2010-5</td>\n",
       "      <td>http://lyrics.wikia.com/Usher:OMG</td>\n",
       "      <td>Oh my gosh. Baby, let me. I did it again, so I...</td>\n",
       "    </tr>\n",
       "  </tbody>\n",
       "</table>\n",
       "</div>"
      ],
      "text/plain": [
       "      index  position  year                                         title.href             title           artist                                             lyrics  decade song_key                                         lyrics_url                                    lyrics_abstract\n",
       "4000   4000         1  2010              https://en.wikipedia.org/wiki/Tik_Tok           Tik Tok            Ke$ha  Wake up in the morning, feelin' like P. Diddy ...    2010   2010-1            http://lyrics.wikia.com/Ke%24ha:Tik_Tok  Wake up in the morning, feelin' like P. Diddy ...\n",
       "4001   4001         2  2010  https://en.wikipedia.org/wiki/Need_You_Now_(La...      Need You Now  Lady Antebellum  Picture perfect memories, scattered all around...    2010   2010-2  http://lyrics.wikia.com/Lady_Antebellum:Need_Y...  Picture perfect memories, scattered all around...\n",
       "4002   4002         3  2010     https://en.wikipedia.org/wiki/Hey,_Soul_Sister  Hey, Soul Sister            Train  Hey, hey, hey. Your lipstick stains. On the fr...    2010   2010-3   http://lyrics.wikia.com/Train:Hey%2C_Soul_Sister  Hey, hey, hey. Your lipstick stains. On the fr...\n",
       "4003   4003         4  2010     https://en.wikipedia.org/wiki/California_Gurls  California Gurls       Katy Perry  . Greetings loved ones. Let's take a journey. ...    2010   2010-4  http://lyrics.wikia.com/Katy_Perry:California_...  . Greetings loved ones. Let's take a journey. ...\n",
       "4004   4004         5  2010           https://en.wikipedia.org/wiki/OMG_(song)               OMG            Usher  Oh my gosh. Baby, let me. I did it again, so I...    2010   2010-5                  http://lyrics.wikia.com/Usher:OMG  Oh my gosh. Baby, let me. I did it again, so I..."
      ]
     },
     "execution_count": 16,
     "metadata": {},
     "output_type": "execute_result"
    }
   ],
   "source": [
    "lyrics_pd_df.head()"
   ]
  },
  {
   "cell_type": "markdown",
   "metadata": {},
   "source": [
    "##Manipulate With Spark"
   ]
  },
  {
   "cell_type": "code",
   "execution_count": 17,
   "metadata": {
    "collapsed": false
   },
   "outputs": [],
   "source": [
    "# convert from pandas to spark dataframe\n",
    "lyricsdf = sqlsc.createDataFrame(lyrics_pd_df)"
   ]
  },
  {
   "cell_type": "code",
   "execution_count": 18,
   "metadata": {
    "collapsed": false
   },
   "outputs": [
    {
     "name": "stdout",
     "output_type": "stream",
     "text": [
      "+-----+--------+----+--------------------+----------------+---------------+--------------------+------+--------+--------------------+--------------------+\n",
      "|index|position|year|          title.href|           title|         artist|              lyrics|decade|song_key|          lyrics_url|     lyrics_abstract|\n",
      "+-----+--------+----+--------------------+----------------+---------------+--------------------+------+--------+--------------------+--------------------+\n",
      "| 4000|       1|2010|https://en.wikipe...|         Tik Tok|          Ke$ha|Wake up in the mo...|  2010|  2010-1|http://lyrics.wik...|Wake up in the mo...|\n",
      "| 4001|       2|2010|https://en.wikipe...|    Need You Now|Lady Antebellum|Picture perfect m...|  2010|  2010-2|http://lyrics.wik...|Picture perfect m...|\n",
      "| 4002|       3|2010|https://en.wikipe...|Hey, Soul Sister|          Train|Hey, hey, hey. Yo...|  2010|  2010-3|http://lyrics.wik...|Hey, hey, hey. Yo...|\n",
      "+-----+--------+----+--------------------+----------------+---------------+--------------------+------+--------+--------------------+--------------------+\n",
      "only showing top 3 rows\n",
      "\n"
     ]
    }
   ],
   "source": [
    "# view output\n",
    "lyricsdf.show(3)"
   ]
  },
  {
   "cell_type": "code",
   "execution_count": 19,
   "metadata": {
    "collapsed": false
   },
   "outputs": [
    {
     "name": "stdout",
     "output_type": "stream",
     "text": [
      "+-----+--------+----+--------------------+----------------+---------------+--------------------+------+--------+--------------------+--------------------+\n",
      "|index|position|year|          title.href|           title|         artist|              lyrics|decade|song_key|          lyrics_url|     lyrics_abstract|\n",
      "+-----+--------+----+--------------------+----------------+---------------+--------------------+------+--------+--------------------+--------------------+\n",
      "| 4000|       1|2010|https://en.wikipe...|         Tik Tok|          Ke$ha|Wake up in the mo...|  2010|  2010-1|http://lyrics.wik...|Wake up in the mo...|\n",
      "| 4001|       2|2010|https://en.wikipe...|    Need You Now|Lady Antebellum|Picture perfect m...|  2010|  2010-2|http://lyrics.wik...|Picture perfect m...|\n",
      "| 4002|       3|2010|https://en.wikipe...|Hey, Soul Sister|          Train|Hey, hey, hey. Yo...|  2010|  2010-3|http://lyrics.wik...|Hey, hey, hey. Yo...|\n",
      "+-----+--------+----+--------------------+----------------+---------------+--------------------+------+--------+--------------------+--------------------+\n",
      "only showing top 3 rows\n",
      "\n"
     ]
    }
   ],
   "source": [
    "#view output\n",
    "lyricsdf.show(3)"
   ]
  },
  {
   "cell_type": "code",
   "execution_count": 20,
   "metadata": {
    "collapsed": false
   },
   "outputs": [
    {
     "name": "stdout",
     "output_type": "stream",
     "text": [
      "How many songs do we have? 500\n"
     ]
    }
   ],
   "source": [
    "#We cache the data to make sure it is only read once from disk\n",
    "lyricsdf.cache()\n",
    "print \"How many songs do we have?\", lyricsdf.count()"
   ]
  },
  {
   "cell_type": "code",
   "execution_count": 21,
   "metadata": {
    "collapsed": false,
    "scrolled": true
   },
   "outputs": [
    {
     "name": "stdout",
     "output_type": "stream",
     "text": [
      "What is the schema? root\n",
      " |-- index: long (nullable = true)\n",
      " |-- position: long (nullable = true)\n",
      " |-- year: long (nullable = true)\n",
      " |-- title.href: string (nullable = true)\n",
      " |-- title: string (nullable = true)\n",
      " |-- artist: string (nullable = true)\n",
      " |-- lyrics: string (nullable = true)\n",
      " |-- decade: long (nullable = true)\n",
      " |-- song_key: string (nullable = true)\n",
      " |-- lyrics_url: string (nullable = true)\n",
      " |-- lyrics_abstract: string (nullable = true)\n",
      "\n",
      "None\n"
     ]
    }
   ],
   "source": [
    "print \"What is the schema?\", lyricsdf.printSchema()"
   ]
  },
  {
   "cell_type": "markdown",
   "metadata": {},
   "source": [
    "##Sample Lyrics (or Not)"
   ]
  },
  {
   "cell_type": "markdown",
   "metadata": {},
   "source": [
    "Some initial sampling to take from each year."
   ]
  },
  {
   "cell_type": "code",
   "execution_count": 22,
   "metadata": {
    "collapsed": true
   },
   "outputs": [],
   "source": [
    "# whether or not to sample lyrics, and how many to sample per year\n",
    "sample_lyrics = False\n",
    "PER_YEAR_SAMPLES=10"
   ]
  },
  {
   "cell_type": "code",
   "execution_count": 23,
   "metadata": {
    "collapsed": false
   },
   "outputs": [],
   "source": [
    "#(your code here)\n",
    "def randomSubSampleLyrics(sparkdf,take=PER_YEAR_SAMPLES):    \n",
    "    # generate spark pairs as a tuple\n",
    "    br_pairs = sparkdf.map(lambda r: (r.year, r.song_key))\n",
    "    \n",
    "    # group by key for a list of reviews per business and collect\n",
    "    br_grouped = br_pairs.groupByKey().mapValues(lambda x: list(x)).collect()\n",
    "        \n",
    "    #sample after collect\n",
    "    br_sample = [np.random.choice(v, size=take, replace=False) for k,v in br_grouped]    \n",
    "    \n",
    "    #flatten into a list\n",
    "    return list(itertools.chain.from_iterable(br_sample))\n",
    "    \n",
    "small_song_keys = randomSubSampleLyrics(lyricsdf)"
   ]
  },
  {
   "cell_type": "code",
   "execution_count": 24,
   "metadata": {
    "collapsed": false
   },
   "outputs": [
    {
     "name": "stdout",
     "output_type": "stream",
     "text": [
      "No lyric sampling, full processing (change `sample_lyrics` value to `True` to sample)\n"
     ]
    }
   ],
   "source": [
    "if sample_lyrics:\n",
    "    print \"How many small_song_keys? \", len(small_song_keys)\n",
    "    small_song_keys[:5]\n",
    "else:\n",
    "    print \"No lyric sampling, full processing (change `sample_lyrics` value to `True` to sample)\""
   ]
  },
  {
   "cell_type": "code",
   "execution_count": 25,
   "metadata": {
    "collapsed": false
   },
   "outputs": [
    {
     "name": "stdout",
     "output_type": "stream",
     "text": [
      "execution start --> Fri, 04 Dec 2015 18:33:35\n"
     ]
    }
   ],
   "source": [
    "print \"execution start --> {}\".format(time.strftime('%a, %d %b %Y %H:%M:%S', time.localtime()))"
   ]
  },
  {
   "cell_type": "code",
   "execution_count": 26,
   "metadata": {
    "collapsed": false
   },
   "outputs": [
    {
     "name": "stdout",
     "output_type": "stream",
     "text": [
      "CPU times: user 3 µs, sys: 1e+03 ns, total: 4 µs\n",
      "Wall time: 14.1 µs\n"
     ]
    }
   ],
   "source": [
    "%%time\n",
    "#(your code here)\n",
    "if sample_lyrics:\n",
    "    ldf=lyricsdf[lyricsdf.song_key.isin(small_song_keys)]#creates new dataframe\n",
    "else:\n",
    "    ldf=lyricsdf"
   ]
  },
  {
   "cell_type": "code",
   "execution_count": 27,
   "metadata": {
    "collapsed": false
   },
   "outputs": [
    {
     "data": {
      "text/plain": [
       "DataFrame[index: bigint, position: bigint, year: bigint, title.href: string, title: string, artist: string, lyrics: string, decade: bigint, song_key: string, lyrics_url: string, lyrics_abstract: string]"
      ]
     },
     "execution_count": 27,
     "metadata": {},
     "output_type": "execute_result"
    }
   ],
   "source": [
    "# cache results\n",
    "ldf.cache()"
   ]
  },
  {
   "cell_type": "code",
   "execution_count": 28,
   "metadata": {
    "collapsed": false
   },
   "outputs": [
    {
     "name": "stdout",
     "output_type": "stream",
     "text": [
      "How many lyrics are in ldf?  500\n"
     ]
    }
   ],
   "source": [
    "print \"How many lyrics are in ldf? \", ldf.count()"
   ]
  },
  {
   "cell_type": "markdown",
   "metadata": {},
   "source": [
    "##NLP"
   ]
  },
  {
   "cell_type": "code",
   "execution_count": 29,
   "metadata": {
    "collapsed": true
   },
   "outputs": [],
   "source": [
    "from pattern.en import parse\n",
    "from pattern.en import pprint\n",
    "from pattern.vector import stem, PORTER, LEMMA\n",
    "punctuation = list('.,;:!?()[]{}`''\\\"@#$^&*+-|=~_')"
   ]
  },
  {
   "cell_type": "code",
   "execution_count": 30,
   "metadata": {
    "collapsed": true
   },
   "outputs": [],
   "source": [
    "from sklearn.feature_extraction import text \n",
    "stopwords=text.ENGLISH_STOP_WORDS"
   ]
  },
  {
   "cell_type": "code",
   "execution_count": 31,
   "metadata": {
    "collapsed": true
   },
   "outputs": [],
   "source": [
    "import re\n",
    "regex1=re.compile(r\"\\.{2,}\")\n",
    "regex2=re.compile(r\"\\-{2,}\")"
   ]
  },
  {
   "cell_type": "code",
   "execution_count": 32,
   "metadata": {
    "collapsed": false
   },
   "outputs": [
    {
     "name": "stdout",
     "output_type": "stream",
     "text": [
      "Quick Test of parse...\n"
     ]
    },
    {
     "data": {
      "text/plain": [
       "u'The/DT/B-NP/O/the world/NN/I-NP/O/world is/VBZ/B-VP/O/be the/DT/B-NP/O/the craziest/JJ/I-NP/O/craziest place/NN/I-NP/O/place ././O/O/.\\nI/PRP/B-NP/O/i am/VBP/B-VP/O/be working/VBG/I-VP/O/work hard/RB/B-ADVP/O/hard ././O/O/.'"
      ]
     },
     "execution_count": 32,
     "metadata": {},
     "output_type": "execute_result"
    }
   ],
   "source": [
    "print \"Quick Test of parse...\"\n",
    "parse(\"The world is the craziest place. I am working hard.\", tokenize=True, lemmata=True)"
   ]
  },
  {
   "cell_type": "code",
   "execution_count": 33,
   "metadata": {
    "collapsed": true
   },
   "outputs": [],
   "source": [
    "def get_parts(thetext):\n",
    "    thetext=re.sub(regex1, ' ', thetext)\n",
    "    thetext=re.sub(regex2, ' ', thetext)\n",
    "    nouns=[]\n",
    "    descriptives=[]\n",
    "    for i,sentence in enumerate(parse(thetext, tokenize=True, lemmata=True).split()):\n",
    "        nouns.append([])\n",
    "        descriptives.append([])\n",
    "        for token in sentence:\n",
    "            #print token\n",
    "            if len(token[4]) >0:\n",
    "                if token[1] in ['JJ', 'JJR', 'JJS']:\n",
    "                    if token[4] in stopwords or token[4][0] in punctuation or token[4][-1] in punctuation or len(token[4])==1:\n",
    "                        continue\n",
    "                    descriptives[i].append(token[4])\n",
    "                elif token[1] in ['NN', 'NNS']:\n",
    "                    if token[4] in stopwords or token[4][0] in punctuation or token[4][-1] in punctuation or len(token[4])==1:\n",
    "                        continue\n",
    "                    nouns[i].append(token[4])\n",
    "    out=zip(nouns, descriptives)\n",
    "    nouns2=[]\n",
    "    descriptives2=[]\n",
    "    for n,d in out:\n",
    "        if len(n)!=0 and len(d)!=0:\n",
    "            nouns2.append(n)\n",
    "            descriptives2.append(d)\n",
    "    return nouns2, descriptives2"
   ]
  },
  {
   "cell_type": "code",
   "execution_count": 34,
   "metadata": {
    "collapsed": false
   },
   "outputs": [
    {
     "name": "stdout",
     "output_type": "stream",
     "text": [
      "Quick check of get_parts ...\n"
     ]
    },
    {
     "data": {
      "text/plain": [
       "([[u'patio', u'job'], [u'lunch', u'egg']], [[u'perfect'], [u'good', u'great']])"
      ]
     },
     "execution_count": 34,
     "metadata": {},
     "output_type": "execute_result"
    }
   ],
   "source": [
    "print \"Quick check of get_parts ...\"\n",
    "get_parts(\"Have had many other items and just love the food. The patio...job was and...perfect. Lunch is good, and the only egg is great\")"
   ]
  },
  {
   "cell_type": "markdown",
   "metadata": {},
   "source": [
    "###Run Get Parts on Provided Data"
   ]
  },
  {
   "cell_type": "code",
   "execution_count": 35,
   "metadata": {
    "collapsed": true
   },
   "outputs": [],
   "source": [
    "#(your code here)\n",
    "lyric_parts = ldf.map(lambda r : get_parts(r.lyrics))"
   ]
  },
  {
   "cell_type": "code",
   "execution_count": 36,
   "metadata": {
    "collapsed": false
   },
   "outputs": [
    {
     "data": {
      "text/plain": [
       "[([[u'drop-topping', u'cd'],\n",
       "   [u'bit'],\n",
       "   [u'tonight', u'fight'],\n",
       "   [u'tonight', u'fight'],\n",
       "   [u'drunk'],\n",
       "   [u'tonight', u'fight'],\n",
       "   [u'tonight', u'fight'],\n",
       "   [u'tonight', u'fight'],\n",
       "   [u'tonight', u'fight']],\n",
       "  [[u'favorite'],\n",
       "   [u'little', u'tipsy'],\n",
       "   [u'mma'],\n",
       "   [u'mma'],\n",
       "   [u'drunk'],\n",
       "   [u'mma'],\n",
       "   [u'mma'],\n",
       "   [u'mma'],\n",
       "   [u'mma']]),\n",
       " ([[u'memory', u'floor'], [u'quarter', u'drunk'], [u'drunk']],\n",
       "  [[u'picture', u'perfect'], [u'little'], [u'little']])]"
      ]
     },
     "execution_count": 36,
     "metadata": {},
     "output_type": "execute_result"
    }
   ],
   "source": [
    "# view output\n",
    "lyric_parts.take(2)"
   ]
  },
  {
   "cell_type": "code",
   "execution_count": 37,
   "metadata": {
    "collapsed": false
   },
   "outputs": [
    {
     "name": "stdout",
     "output_type": "stream",
     "text": [
      "execution start --> Fri, 04 Dec 2015 18:33:37\n"
     ]
    }
   ],
   "source": [
    "print \"execution start --> {}\".format(time.strftime('%a, %d %b %Y %H:%M:%S', time.localtime()))"
   ]
  },
  {
   "cell_type": "code",
   "execution_count": 38,
   "metadata": {
    "collapsed": false
   },
   "outputs": [
    {
     "name": "stdout",
     "output_type": "stream",
     "text": [
      "CPU times: user 8.45 ms, sys: 12.5 ms, total: 20.9 ms\n",
      "Wall time: 11 s\n"
     ]
    }
   ],
   "source": [
    "%%time\n",
    "parseout=lyric_parts.collect()"
   ]
  },
  {
   "cell_type": "markdown",
   "metadata": {},
   "source": [
    "##Vocab\n",
    "###Nouns"
   ]
  },
  {
   "cell_type": "code",
   "execution_count": 39,
   "metadata": {
    "collapsed": false
   },
   "outputs": [
    {
     "name": "stdout",
     "output_type": "stream",
     "text": [
      "How many parseout entries?  500\n"
     ]
    }
   ],
   "source": [
    "print \"How many parseout entries? \", len(parseout)"
   ]
  },
  {
   "cell_type": "code",
   "execution_count": 40,
   "metadata": {
    "collapsed": false
   },
   "outputs": [],
   "source": [
    "# flatten parseout to create initial noun rdd\n",
    "nounrdd=sc.parallelize([ele[0] for ele in parseout]).flatMap(lambda l: l)"
   ]
  },
  {
   "cell_type": "code",
   "execution_count": 41,
   "metadata": {
    "collapsed": false
   },
   "outputs": [
    {
     "data": {
      "text/plain": [
       "[[u'drop-topping', u'cd'],\n",
       " [u'bit'],\n",
       " [u'tonight', u'fight'],\n",
       " [u'tonight', u'fight'],\n",
       " [u'drunk']]"
      ]
     },
     "execution_count": 41,
     "metadata": {},
     "output_type": "execute_result"
    }
   ],
   "source": [
    "# view output\n",
    "nounrdd.take(5)"
   ]
  },
  {
   "cell_type": "code",
   "execution_count": 42,
   "metadata": {
    "collapsed": false
   },
   "outputs": [
    {
     "data": {
      "text/plain": [
       "PythonRDD[34] at RDD at PythonRDD.scala:43"
      ]
     },
     "execution_count": 42,
     "metadata": {},
     "output_type": "execute_result"
    }
   ],
   "source": [
    "# cache results\n",
    "nounrdd.cache()"
   ]
  },
  {
   "cell_type": "code",
   "execution_count": 43,
   "metadata": {
    "collapsed": false
   },
   "outputs": [],
   "source": [
    "# straight reduce for overall word counts\n",
    "nwordsrdd = (nounrdd.flatMap(lambda word: word)\n",
    "             .map(lambda word: (word, 1))\n",
    "             .reduceByKey(lambda a, b: a + b)\n",
    ")"
   ]
  },
  {
   "cell_type": "code",
   "execution_count": 44,
   "metadata": {
    "collapsed": false
   },
   "outputs": [
    {
     "data": {
      "text/plain": [
       "[(u'jaja', 1), (u'liar', 2), (u'dance', 22), (u'diesel', 1), (u'dollar', 22)]"
      ]
     },
     "execution_count": 44,
     "metadata": {},
     "output_type": "execute_result"
    }
   ],
   "source": [
    "# view output\n",
    "nwordsrdd.take(5)"
   ]
  },
  {
   "cell_type": "code",
   "execution_count": 45,
   "metadata": {
    "collapsed": false
   },
   "outputs": [
    {
     "data": {
      "text/plain": [
       "[(u'baby', 309),\n",
       " (u'girl', 276),\n",
       " (u'night', 199),\n",
       " (u'time', 178),\n",
       " (u'love', 165),\n",
       " (u'thing', 154),\n",
       " (u'bitch', 145),\n",
       " (u'life', 126),\n",
       " (u'tonight', 109),\n",
       " (u'way', 98)]"
      ]
     },
     "execution_count": 45,
     "metadata": {},
     "output_type": "execute_result"
    }
   ],
   "source": [
    "# top n, based on values, sorted descending\n",
    "nwordsrdd.takeOrdered(10, key = lambda x: -x[1])"
   ]
  },
  {
   "cell_type": "code",
   "execution_count": 46,
   "metadata": {
    "collapsed": false
   },
   "outputs": [
    {
     "data": {
      "text/plain": [
       "PythonRDD[41] at RDD at PythonRDD.scala:43"
      ]
     },
     "execution_count": 46,
     "metadata": {},
     "output_type": "execute_result"
    }
   ],
   "source": [
    "nwordsrdd.cache()"
   ]
  },
  {
   "cell_type": "code",
   "execution_count": 47,
   "metadata": {
    "collapsed": false
   },
   "outputs": [],
   "source": [
    "# collect all the words and cache\n",
    "nounvocabtups = (nwordsrdd\n",
    "             .map(lambda (x,y): x)\n",
    "             .zipWithIndex()\n",
    ")"
   ]
  },
  {
   "cell_type": "code",
   "execution_count": 48,
   "metadata": {
    "collapsed": false
   },
   "outputs": [
    {
     "data": {
      "text/plain": [
       "[(u'jaja', 0), (u'liar', 1), (u'dance', 2)]"
      ]
     },
     "execution_count": 48,
     "metadata": {},
     "output_type": "execute_result"
    }
   ],
   "source": [
    "# view output\n",
    "nounvocabtups.take(3)"
   ]
  },
  {
   "cell_type": "code",
   "execution_count": 49,
   "metadata": {
    "collapsed": false
   },
   "outputs": [
    {
     "data": {
      "text/plain": [
       "PythonRDD[44] at RDD at PythonRDD.scala:43"
      ]
     },
     "execution_count": 49,
     "metadata": {},
     "output_type": "execute_result"
    }
   ],
   "source": [
    "# cache results\n",
    "nounvocabtups.cache()"
   ]
  },
  {
   "cell_type": "code",
   "execution_count": 50,
   "metadata": {
    "collapsed": true
   },
   "outputs": [],
   "source": [
    "# collect results\n",
    "nounvocab=nounvocabtups.collectAsMap()\n",
    "nounid2word=nounvocabtups.map(lambda (x,y): (y,x)).collectAsMap()"
   ]
  },
  {
   "cell_type": "code",
   "execution_count": 51,
   "metadata": {
    "collapsed": false
   },
   "outputs": [
    {
     "data": {
      "text/plain": [
       "(u'jaja', u'swag', 807)"
      ]
     },
     "execution_count": 51,
     "metadata": {},
     "output_type": "execute_result"
    }
   ],
   "source": [
    "# since sampling may be used, avoiding more common usage, e.g. `nounvocab['dance']`\n",
    "nounid2word[0], nounvocab.keys()[5], nounvocab[nounvocab.keys()[5]]"
   ]
  },
  {
   "cell_type": "code",
   "execution_count": 52,
   "metadata": {
    "collapsed": false
   },
   "outputs": [
    {
     "name": "stdout",
     "output_type": "stream",
     "text": [
      "How big is the noun vocabulary?  1605\n"
     ]
    }
   ],
   "source": [
    "print \"How big is the noun vocabulary? \", len(nounvocab.keys())"
   ]
  },
  {
   "cell_type": "markdown",
   "metadata": {},
   "source": [
    "###Adjectives"
   ]
  },
  {
   "cell_type": "code",
   "execution_count": 53,
   "metadata": {
    "collapsed": true
   },
   "outputs": [],
   "source": [
    "# create initial adj rdd from parseout\n",
    "adjrdd=sc.parallelize([ele[1] for ele in parseout])"
   ]
  },
  {
   "cell_type": "code",
   "execution_count": 54,
   "metadata": {
    "collapsed": false
   },
   "outputs": [
    {
     "data": {
      "text/plain": [
       "[[[u'favorite'],\n",
       "  [u'little', u'tipsy'],\n",
       "  [u'mma'],\n",
       "  [u'mma'],\n",
       "  [u'drunk'],\n",
       "  [u'mma'],\n",
       "  [u'mma'],\n",
       "  [u'mma'],\n",
       "  [u'mma']],\n",
       " [[u'picture', u'perfect'], [u'little'], [u'little']],\n",
       " [[u'sweet'],\n",
       "  [u'single'],\n",
       "  [u'fair'],\n",
       "  [u'single'],\n",
       "  [u'glad', u'one-track'],\n",
       "  [u'untrimmed'],\n",
       "  [u'fair'],\n",
       "  [u'single'],\n",
       "  [u'fair'],\n",
       "  [u'single'],\n",
       "  [u'single']]]"
      ]
     },
     "execution_count": 54,
     "metadata": {},
     "output_type": "execute_result"
    }
   ],
   "source": [
    "# view output\n",
    "adjrdd.take(3)"
   ]
  },
  {
   "cell_type": "code",
   "execution_count": 55,
   "metadata": {
    "collapsed": false
   },
   "outputs": [
    {
     "data": {
      "text/plain": [
       "ParallelCollectionRDD[46] at parallelize at PythonRDD.scala:423"
      ]
     },
     "execution_count": 55,
     "metadata": {},
     "output_type": "execute_result"
    }
   ],
   "source": [
    "# cache results\n",
    "adjrdd.cache()"
   ]
  },
  {
   "cell_type": "code",
   "execution_count": 56,
   "metadata": {
    "collapsed": true
   },
   "outputs": [],
   "source": [
    "# straight reduce for overall word counts\n",
    "awordsrdd = (adjrdd\n",
    "             .flatMap(lambda l: l)\n",
    "             .flatMap(lambda word: word)\n",
    "             .map(lambda word: (word, 1))\n",
    "             .reduceByKey(lambda a, b: a + b)\n",
    ")"
   ]
  },
  {
   "cell_type": "code",
   "execution_count": 57,
   "metadata": {
    "collapsed": false
   },
   "outputs": [
    {
     "data": {
      "text/plain": [
       "[(u\"li'l\", 1),\n",
       " (u'treble', 17),\n",
       " (u'super', 21),\n",
       " (u'convinced', 1),\n",
       " (u'true', 29)]"
      ]
     },
     "execution_count": 57,
     "metadata": {},
     "output_type": "execute_result"
    }
   ],
   "source": [
    "# view output\n",
    "awordsrdd.take(5)"
   ]
  },
  {
   "cell_type": "code",
   "execution_count": 58,
   "metadata": {
    "collapsed": false
   },
   "outputs": [
    {
     "data": {
      "text/plain": [
       "[(u'good', 339),\n",
       " (u'little', 217),\n",
       " (u'bad', 200),\n",
       " (u'real', 147),\n",
       " (u'ooh', 101),\n",
       " (u'big', 92),\n",
       " (u'new', 91),\n",
       " (u'best', 85),\n",
       " (u'bright', 72),\n",
       " (u'high', 68)]"
      ]
     },
     "execution_count": 58,
     "metadata": {},
     "output_type": "execute_result"
    }
   ],
   "source": [
    "# top n, based on values, sorted descending\n",
    "awordsrdd.takeOrdered(10, key = lambda x: -x[1])"
   ]
  },
  {
   "cell_type": "code",
   "execution_count": 59,
   "metadata": {
    "collapsed": false
   },
   "outputs": [
    {
     "data": {
      "text/plain": [
       "PythonRDD[54] at RDD at PythonRDD.scala:43"
      ]
     },
     "execution_count": 59,
     "metadata": {},
     "output_type": "execute_result"
    }
   ],
   "source": [
    "# cache results\n",
    "awordsrdd.cache()"
   ]
  },
  {
   "cell_type": "code",
   "execution_count": 60,
   "metadata": {
    "collapsed": true
   },
   "outputs": [],
   "source": [
    "#(your code here)\n",
    "adjvocabtups = (awordsrdd\n",
    "              .map(lambda (x,y): x)\n",
    "              .zipWithIndex()\n",
    ")"
   ]
  },
  {
   "cell_type": "code",
   "execution_count": 61,
   "metadata": {
    "collapsed": false
   },
   "outputs": [
    {
     "data": {
      "text/plain": [
       "[(u\"li'l\", 0), (u'treble', 1), (u'super', 2)]"
      ]
     },
     "execution_count": 61,
     "metadata": {},
     "output_type": "execute_result"
    }
   ],
   "source": [
    "# view output\n",
    "adjvocabtups.take(3)"
   ]
  },
  {
   "cell_type": "code",
   "execution_count": 62,
   "metadata": {
    "collapsed": false
   },
   "outputs": [
    {
     "data": {
      "text/plain": [
       "PythonRDD[57] at RDD at PythonRDD.scala:43"
      ]
     },
     "execution_count": 62,
     "metadata": {},
     "output_type": "execute_result"
    }
   ],
   "source": [
    "# cache results\n",
    "adjvocabtups.cache()"
   ]
  },
  {
   "cell_type": "code",
   "execution_count": 63,
   "metadata": {
    "collapsed": true
   },
   "outputs": [],
   "source": [
    "# collect results\n",
    "adjvocab=adjvocabtups.collectAsMap()\n",
    "adjid2word=adjvocabtups.map(lambda (x,y): (y,x)).collectAsMap()"
   ]
  },
  {
   "cell_type": "code",
   "execution_count": 64,
   "metadata": {
    "collapsed": false
   },
   "outputs": [
    {
     "data": {
      "text/plain": [
       "(u\"li'l\", u'softer', 803)"
      ]
     },
     "execution_count": 64,
     "metadata": {},
     "output_type": "execute_result"
    }
   ],
   "source": [
    "# since sampling may be used, avoiding more common usage, e.g. `adjvocab['exotic']`\n",
    "adjid2word[0], adjvocab.keys()[5], adjvocab[adjvocab.keys()[5]]"
   ]
  },
  {
   "cell_type": "code",
   "execution_count": 65,
   "metadata": {
    "collapsed": false
   },
   "outputs": [
    {
     "name": "stdout",
     "output_type": "stream",
     "text": [
      "How big is the adjective vocabulary?  918\n"
     ]
    }
   ],
   "source": [
    "print \"How big is the adjective vocabulary? \", len(adjvocab)"
   ]
  },
  {
   "cell_type": "markdown",
   "metadata": {},
   "source": [
    "##Document Corpus"
   ]
  },
  {
   "cell_type": "code",
   "execution_count": 66,
   "metadata": {
    "collapsed": false
   },
   "outputs": [],
   "source": [
    "##################################################################################################\n",
    "# CITATION - Use of counter for reduce within each word list from:\n",
    "# http://stackoverflow.com/questions/2600191/how-can-i-count-the-occurrences-of-a-list-item-in-python\n",
    "##################################################################################################\n",
    "from collections import Counter\n",
    "\n",
    "# for each sentence, reduct into a list of tuple k,v where k=vocab index and v=count, \n",
    "# each word list is sorted by occurence\n",
    "documents = nounrdd.map(lambda words: Counter([nounvocab[word] for word in words]).most_common())"
   ]
  },
  {
   "cell_type": "code",
   "execution_count": 67,
   "metadata": {
    "collapsed": false
   },
   "outputs": [
    {
     "data": {
      "text/plain": [
       "[[(522, 1), (1453, 1)]]"
      ]
     },
     "execution_count": 67,
     "metadata": {},
     "output_type": "execute_result"
    }
   ],
   "source": [
    "# verify output\n",
    "documents.take(1)"
   ]
  },
  {
   "cell_type": "code",
   "execution_count": 68,
   "metadata": {
    "collapsed": true
   },
   "outputs": [],
   "source": [
    "# gather spark results\n",
    "corpus=documents.collect()"
   ]
  },
  {
   "cell_type": "markdown",
   "metadata": {},
   "source": [
    "##Save Spark Conditioning"
   ]
  },
  {
   "cell_type": "markdown",
   "metadata": {},
   "source": [
    "###Part of Speech Nouns / Adjectives (Original Lyrics Array)"
   ]
  },
  {
   "cell_type": "code",
   "execution_count": 69,
   "metadata": {
    "collapsed": false
   },
   "outputs": [],
   "source": [
    "ncollect = sc.parallelize([ele[0] for ele in parseout]).collect()\n",
    "acollect = sc.parallelize([ele[1] for ele in parseout]).collect()"
   ]
  },
  {
   "cell_type": "code",
   "execution_count": 70,
   "metadata": {
    "collapsed": false
   },
   "outputs": [
    {
     "name": "stdout",
     "output_type": "stream",
     "text": [
      "How many noun rows?  500\n",
      "How many adjective rows?  500\n"
     ]
    }
   ],
   "source": [
    "print \"How many noun rows? \", len(ncollect)\n",
    "print \"How many adjective rows? \", len(acollect)"
   ]
  },
  {
   "cell_type": "code",
   "execution_count": 71,
   "metadata": {
    "collapsed": false
   },
   "outputs": [
    {
     "name": "stdout",
     "output_type": "stream",
     "text": [
      "[[[u'drop-topping', u'cd'], [u'bit'], [u'tonight', u'fight'], [u'tonight', u'fight'], [u'drunk'], [u'tonight', u'fight'], [u'tonight', u'fight'], [u'tonight', u'fight'], [u'tonight', u'fight']], [[u'memory', u'floor'], [u'quarter', u'drunk'], [u'drunk']], [[u'moonbeam'], [u'smell', u'dream'], [u'way'], [u'soul', u'sister', u'thing'], [u'mind'], [u'heart', u'right', u'chest'], [u'way'], [u'soul', u'sister', u'thing'], [u'way'], [u'soul', u'sister', u'thing'], [u'soul', u'sister', u'thing']]]\n"
     ]
    }
   ],
   "source": [
    "print ncollect[:3]"
   ]
  },
  {
   "cell_type": "code",
   "execution_count": 72,
   "metadata": {
    "collapsed": false
   },
   "outputs": [
    {
     "name": "stdout",
     "output_type": "stream",
     "text": [
      "[[[u'favorite'], [u'little', u'tipsy'], [u'mma'], [u'mma'], [u'drunk'], [u'mma'], [u'mma'], [u'mma'], [u'mma']], [[u'picture', u'perfect'], [u'little'], [u'little']], [[u'sweet'], [u'single'], [u'fair'], [u'single'], [u'glad', u'one-track'], [u'untrimmed'], [u'fair'], [u'single'], [u'fair'], [u'single'], [u'single']]]\n"
     ]
    }
   ],
   "source": [
    "print acollect[:3]"
   ]
  },
  {
   "cell_type": "code",
   "execution_count": 73,
   "metadata": {
    "collapsed": true
   },
   "outputs": [],
   "source": [
    "# save ncollect\n",
    "with open(root_out+'noun_collect.json', 'w') as fp:\n",
    "    json.dump(ncollect, fp)"
   ]
  },
  {
   "cell_type": "code",
   "execution_count": 74,
   "metadata": {
    "collapsed": true
   },
   "outputs": [],
   "source": [
    "# save acollect\n",
    "with open(root_out+'adj_collect.json', 'w') as fp:\n",
    "    json.dump(acollect, fp)"
   ]
  },
  {
   "cell_type": "markdown",
   "metadata": {},
   "source": [
    "###Unique words per lyric"
   ]
  },
  {
   "cell_type": "code",
   "execution_count": 75,
   "metadata": {
    "collapsed": false
   },
   "outputs": [],
   "source": [
    "# Word Reduction per document\n",
    "def buildWordReduction(collected):\n",
    "    ngram_reduced = []\n",
    "    for r in collected:\n",
    "        v = []\n",
    "        for rr in r:\n",
    "            for i in rr:\n",
    "                if not i in v:\n",
    "                    v.append(i)\n",
    "        ngram_reduced.append(v)\n",
    "    return ngram_reduced"
   ]
  },
  {
   "cell_type": "code",
   "execution_count": 76,
   "metadata": {
    "collapsed": false
   },
   "outputs": [],
   "source": [
    "nreduction = buildWordReduction(ncollect)\n",
    "areduction = buildWordReduction(acollect)"
   ]
  },
  {
   "cell_type": "code",
   "execution_count": 77,
   "metadata": {
    "collapsed": false
   },
   "outputs": [
    {
     "data": {
      "text/plain": [
       "[u'moonbeam',\n",
       " u'smell',\n",
       " u'dream',\n",
       " u'way',\n",
       " u'soul',\n",
       " u'sister',\n",
       " u'thing',\n",
       " u'mind',\n",
       " u'heart',\n",
       " u'right',\n",
       " u'chest']"
      ]
     },
     "execution_count": 77,
     "metadata": {},
     "output_type": "execute_result"
    }
   ],
   "source": [
    "nreduction[2]"
   ]
  },
  {
   "cell_type": "code",
   "execution_count": 78,
   "metadata": {
    "collapsed": false
   },
   "outputs": [],
   "source": [
    "# save noun word reduction\n",
    "with open(root_out+'noun-word-reduction.json', 'w') as fp:\n",
    "    json.dump(nreduction, fp)"
   ]
  },
  {
   "cell_type": "code",
   "execution_count": 79,
   "metadata": {
    "collapsed": true
   },
   "outputs": [],
   "source": [
    "# save adj word reduction\n",
    "with open(root_out+'adj-word-reduction.json', 'w') as fp:\n",
    "    json.dump(areduction, fp)"
   ]
  },
  {
   "cell_type": "markdown",
   "metadata": {},
   "source": [
    "###N-Gram Specific\n",
    "**Want Raw n-gram for total words, then reduced n-gram for 1x per document max**"
   ]
  },
  {
   "cell_type": "code",
   "execution_count": 80,
   "metadata": {
    "collapsed": false
   },
   "outputs": [],
   "source": [
    "# save noun n-gram (raw)\n",
    "with open(root_out+'noun-n-gram.json', 'w') as fp:\n",
    "    json.dump(dict(nwordsrdd.collect()), fp)"
   ]
  },
  {
   "cell_type": "code",
   "execution_count": 81,
   "metadata": {
    "collapsed": true
   },
   "outputs": [],
   "source": [
    "# save adjective n-gram (raw)\n",
    "with open(root_out+'adj-n-gram.json', 'w') as fp:\n",
    "    json.dump(dict(awordsrdd.collect()), fp)"
   ]
  },
  {
   "cell_type": "code",
   "execution_count": 82,
   "metadata": {
    "collapsed": true
   },
   "outputs": [],
   "source": [
    "# build from nreduction and areduction to get actual counts.\n",
    "def buildNgramReduced(reduction):\n",
    "    return (sc.parallelize(reduction)\n",
    "          .flatMap(lambda word: word)\n",
    "          .map(lambda word: (word, 1))\n",
    "          .reduceByKey(lambda a, b: a + b)\n",
    "       ).collect()"
   ]
  },
  {
   "cell_type": "code",
   "execution_count": 83,
   "metadata": {
    "collapsed": true
   },
   "outputs": [],
   "source": [
    "n_ngram_reduced = buildNgramReduced(nreduction)\n",
    "a_ngram_reduced = buildNgramReduced(areduction)"
   ]
  },
  {
   "cell_type": "code",
   "execution_count": 84,
   "metadata": {
    "collapsed": true
   },
   "outputs": [],
   "source": [
    "# save reduced noun n-gram\n",
    "with open(root_out+'noun_n-gram_reduced.json', 'w') as fp:\n",
    "    json.dump(n_ngram_reduced, fp)"
   ]
  },
  {
   "cell_type": "code",
   "execution_count": 85,
   "metadata": {
    "collapsed": true
   },
   "outputs": [],
   "source": [
    "# save reduced adj n-gram\n",
    "with open(root_out+'adj_n-gram_reduced.json', 'w') as fp:\n",
    "    json.dump(a_ngram_reduced, fp)"
   ]
  },
  {
   "cell_type": "markdown",
   "metadata": {},
   "source": [
    "###Vocab, id2word"
   ]
  },
  {
   "cell_type": "code",
   "execution_count": 86,
   "metadata": {
    "collapsed": false
   },
   "outputs": [],
   "source": [
    "# save noun vocab and id2word\n",
    "with open(root_out+'nounvocab.json', 'w') as fp:\n",
    "    json.dump(nounvocab, fp)\n",
    "    \n",
    "with open(root_out+'nounid2word.json', 'w') as fp:\n",
    "    json.dump(nounid2word, fp)    "
   ]
  },
  {
   "cell_type": "code",
   "execution_count": 87,
   "metadata": {
    "collapsed": true
   },
   "outputs": [],
   "source": [
    "# save adj vocab and id2word\n",
    "with open(root_out+'adjvocab.json', 'w') as fp:\n",
    "    json.dump(adjvocab, fp)\n",
    "    \n",
    "with open(root_out+'adjid2word.json', 'w') as fp:\n",
    "    json.dump(adjid2word, fp) "
   ]
  },
  {
   "cell_type": "markdown",
   "metadata": {},
   "source": [
    "###Corpus"
   ]
  },
  {
   "cell_type": "code",
   "execution_count": 88,
   "metadata": {
    "collapsed": false
   },
   "outputs": [],
   "source": [
    "# save corpus\n",
    "pickle.dump( corpus, open( root_out+'corpus.p', \"wb\" ) )"
   ]
  },
  {
   "cell_type": "markdown",
   "metadata": {},
   "source": [
    "##Synonyms"
   ]
  },
  {
   "cell_type": "markdown",
   "metadata": {},
   "source": [
    "###Synonym Lookups\n",
    "Focus on WordNet python package within [nltk](http://www.nltk.org) via [textblob](https://textblob.readthedocs.org/en/dev/)\n",
    "The main idea is to lookup all words in the noun and adj vocab dictionaries and attempt to collapse down -- where possible -- to synonyms. The synonyms can be used for common_support also."
   ]
  },
  {
   "cell_type": "code",
   "execution_count": 89,
   "metadata": {
    "collapsed": false
   },
   "outputs": [],
   "source": [
    "from textblob.wordnet import Synset\n",
    "from textblob.wordnet import NOUN\n",
    "from textblob.wordnet import ADJ\n",
    "\n",
    "SIM_THRESHOLD = 1.0 # Only act on values at/above threshold"
   ]
  },
  {
   "cell_type": "code",
   "execution_count": 90,
   "metadata": {
    "collapsed": true
   },
   "outputs": [],
   "source": [
    "## COMMON METHODS FOR SYNSETS\n",
    "def synsetStr(syn):\n",
    "    \"\"\"\n",
    "    attempt to parse the string from a Synset, e.g. Synset('dog.n.01') would return 'dog'\n",
    "    return String or None\n",
    "    \"\"\"\n",
    "    try:\n",
    "        return syn.name().split('.')[0]\n",
    "    except Exception:\n",
    "        return None\n",
    "    \n",
    "def flattenSynsetValues(syn_dict, skip_invalid=True, replace_invalid=None):\n",
    "    \"\"\"\n",
    "    flatten synset values in dictionary using params\n",
    "    \"\"\"\n",
    "    d = {}\n",
    "    for k,v in syn_dict.iteritems():\n",
    "        if v:\n",
    "            d[k] = synsetStr(v)\n",
    "        elif not skip_invalid:\n",
    "            d[k] = replace_invalid\n",
    "    return d"
   ]
  },
  {
   "cell_type": "code",
   "execution_count": 91,
   "metadata": {
    "collapsed": false
   },
   "outputs": [],
   "source": [
    "## CORE FUNCTIONS FOR BUILDING SIMILARITY MATRIX\n",
    "\n",
    "def posToSingle(pos):\n",
    "    \"\"\"\n",
    "    Keep up with which pos values are implemented.\n",
    "    \"\"\"\n",
    "    if pos == NOUN:\n",
    "        return \"n\"\n",
    "    elif pos == ADJ:\n",
    "        return \"a\"\n",
    "    return None # essentially, else clause\n",
    "\n",
    "\n",
    "def cachedSynsetOrBuild(idx, syns, p, id_lookup):\n",
    "    \"\"\"\n",
    "    Build Synset for given `idx`, using the `id_lookup`.\n",
    "    Facilitate O(n) computational complexity by caching results.\n",
    "    \n",
    "    --- Input ---\n",
    "    idx: id to build and cache\n",
    "    syns: existing dictionary of synsets, with k: id, v: Synset or None\n",
    "    p: String pos value in the form needed for Synset generation, see `posToSingle`\n",
    "    id_lookup: dictionary for noun / adj to build n x n matrix of similarity.\n",
    "    \n",
    "    --- Return ---\n",
    "    Synset or None\n",
    "    \"\"\"\n",
    "    if idx in syns:\n",
    "        return syns[idx] \n",
    "        \n",
    "    # focus on `.01` only\n",
    "    try:                      \n",
    "        syn = Synset(\"{}.{}.01\".format(id_lookup[idx],p))\n",
    "        syns[idx] = syn\n",
    "        return syn\n",
    "    except Exception:\n",
    "        syns[idx] = None\n",
    "        return None\n",
    "\n",
    "def similarityMatrix(id2word, pos, take_n=None):\n",
    "    \"\"\"\n",
    "    ##############################################################\n",
    "    Build matrix of synsets for given id2word dictionary.    \n",
    "    Optionally, only build a similarity matrix for the first n values.\n",
    "    \n",
    "    --- Input ---    \n",
    "    id2word: dictionary for noun / adj to build n x n matrix of similarity.\n",
    "    pos: WordNet position, `NOUN` or `ADJ` imported based on needs\n",
    "    take_n: whether take the first n values for testing, default=None\n",
    "    \n",
    "    --- Return ---\n",
    "    return a tuple, t where\n",
    "    t[0]: n x n matrix with raw similarity score or zero\n",
    "    t[1]: dictionary of synsets with k: id, v: Synset or None\n",
    "    ##############################################################    \n",
    "    \"\"\"    \n",
    "    syns = {} # obtain O(n)\n",
    "    p = posToSingle(pos)\n",
    "    \n",
    "    # determine n\n",
    "    n = len(id2word)\n",
    "    if take_n:\n",
    "        n = take_n\n",
    "    \n",
    "    # n x n matrix, initialized with zeros \n",
    "    matrix = np.zeros((n,n))\n",
    "    \n",
    "    # populate\n",
    "    ns = range(n)\n",
    "    for i in ns:  \n",
    "        isyn = cachedSynsetOrBuild(i,syns,p,id2word)       \n",
    "        for j in ns:\n",
    "            # find j in synset\n",
    "            jsyn = None\n",
    "            if isyn:\n",
    "                jsyn = cachedSynsetOrBuild(j,syns,p,id2word) # no reason unless isyn is ok\n",
    "        \n",
    "            # update matrix with path_similarity between i and j words\n",
    "            if isyn and jsyn:            \n",
    "                ps = isyn.path_similarity(jsyn)            \n",
    "                if ps:\n",
    "                    matrix[i][j] = ps\n",
    "            \n",
    "    return matrix, syns"
   ]
  },
  {
   "cell_type": "code",
   "execution_count": 92,
   "metadata": {
    "collapsed": false
   },
   "outputs": [],
   "source": [
    "## FUNCTIONS FOR EVALUATING SIMILARITY MATRIX RESULTS\n",
    "\n",
    "def printSimilarityPairs(matrix, show_n=None, id_lookup=None, sim_threshold=SIM_THRESHOLD): \n",
    "    \"\"\"\n",
    "    print non zero similarities, ignoring diagonals.\n",
    "    Optionally, show only first n non zeros then return.\n",
    "    Optionally, lookup ids with words.\n",
    "    Optionally, only evaluate values at/above a threshold.\n",
    "    \"\"\"\n",
    "    ns = range(len(matrix))      \n",
    "    c = 0\n",
    "    for i in ns:\n",
    "        for j in ns:\n",
    "            v = matrix[i][j] \n",
    "            \n",
    "            # handle sim_threshold\n",
    "            met_threshold = True\n",
    "            if sim_threshold and v < sim_threshold:\n",
    "                met_threshold = False\n",
    "            elif not v:\n",
    "                met_threshold = False\n",
    "                    \n",
    "            if (i != j) and met_threshold:                \n",
    "                if not show_n or c < show_n:\n",
    "                    c += 1\n",
    "                    s_i = i\n",
    "                    s_j = j\n",
    "                    if id_lookup:\n",
    "                        s_i = id_lookup[i]\n",
    "                        s_j = id_lookup[j]\n",
    "                    print \"{},{} --> {}\".format(s_i,s_j,v)\n",
    "                elif show_n:\n",
    "                    return\n",
    "                \n",
    "def countSimilarityPairs(matrix, sim_threshold=SIM_THRESHOLD):\n",
    "    \"\"\"\n",
    "    count non zero similarities, ignoring diagonals.\n",
    "    Optionally, only evaluate values at/above a threshold.    \n",
    "    \"\"\"\n",
    "    c = 0\n",
    "    ns = range(len(matrix))         \n",
    "    for i in ns:\n",
    "        for j in ns:\n",
    "            v = matrix[i][j]\n",
    "            \n",
    "            # handle sim_threshold\n",
    "            met_threshold = True\n",
    "            if sim_threshold and v < sim_threshold:\n",
    "                met_threshold = False\n",
    "            elif not v:\n",
    "                met_threshold = False\n",
    "            \n",
    "            if (i != j) and met_threshold:                \n",
    "                c += 1                    \n",
    "    return c"
   ]
  },
  {
   "cell_type": "code",
   "execution_count": 93,
   "metadata": {
    "collapsed": false
   },
   "outputs": [
    {
     "name": "stdout",
     "output_type": "stream",
     "text": [
      "execution start --> Fri, 04 Dec 2015 18:33:53\n"
     ]
    }
   ],
   "source": [
    "print \"execution start --> {}\".format(time.strftime('%a, %d %b %Y %H:%M:%S', time.localtime()))"
   ]
  },
  {
   "cell_type": "code",
   "execution_count": 94,
   "metadata": {
    "collapsed": false
   },
   "outputs": [
    {
     "name": "stdout",
     "output_type": "stream",
     "text": [
      "CPU times: user 3.11 s, sys: 15.3 ms, total: 3.12 s\n",
      "Wall time: 3.26 s\n"
     ]
    }
   ],
   "source": [
    "%%time\n",
    "# build adj similarity matrix\n",
    "asimatrix, asyns = similarityMatrix(adjid2word, ADJ)"
   ]
  },
  {
   "cell_type": "code",
   "execution_count": 95,
   "metadata": {
    "collapsed": false
   },
   "outputs": [
    {
     "data": {
      "text/plain": [
       "50"
      ]
     },
     "execution_count": 95,
     "metadata": {},
     "output_type": "execute_result"
    }
   ],
   "source": [
    "# Count non-zero similarities for adjectivies at/above SIM_THRESHOLD, ignoring diagonal\n",
    "countSimilarityPairs(asimatrix)"
   ]
  },
  {
   "cell_type": "code",
   "execution_count": 96,
   "metadata": {
    "collapsed": false
   },
   "outputs": [
    {
     "name": "stdout",
     "output_type": "stream",
     "text": [
      "fine,okay --> 1.0\n",
      "ruby,cherry --> 1.0\n",
      "ruby,red --> 1.0\n",
      "naked,bare --> 1.0\n",
      "small,little --> 1.0\n",
      "bare,naked --> 1.0\n",
      "large,big --> 1.0\n",
      "silly,wacky --> 1.0\n",
      "yucky,foul --> 1.0\n",
      "okay,fine --> 1.0\n"
     ]
    }
   ],
   "source": [
    "# Check adj similarity results, are they any good?\n",
    "printSimilarityPairs(asimatrix, show_n=10, id_lookup=adjid2word)"
   ]
  },
  {
   "cell_type": "code",
   "execution_count": 97,
   "metadata": {
    "collapsed": false
   },
   "outputs": [
    {
     "name": "stdout",
     "output_type": "stream",
     "text": [
      "execution start --> Fri, 04 Dec 2015 18:33:57\n"
     ]
    }
   ],
   "source": [
    "print \"execution start --> {}\".format(time.strftime('%a, %d %b %Y %H:%M:%S', time.localtime()))"
   ]
  },
  {
   "cell_type": "code",
   "execution_count": 98,
   "metadata": {
    "collapsed": false
   },
   "outputs": [
    {
     "name": "stdout",
     "output_type": "stream",
     "text": [
      "\n",
      "CPU times: user 2min 34s, sys: 1.12 s, total: 2min 36s\n",
      "Wall time: 2min 36s\n"
     ]
    }
   ],
   "source": [
    "%%time\n",
    "\"\"\"\n",
    "NOTE: UNCOMMENT TO BUILD FRESH!!!\n",
    "\"\"\"\n",
    "# build noun similarity matrix (can take 30+ minutes!!!)\n",
    "nsimatrix, nsyns = similarityMatrix(nounid2word, NOUN)\n",
    "\n",
    "print"
   ]
  },
  {
   "cell_type": "code",
   "execution_count": 99,
   "metadata": {
    "collapsed": false
   },
   "outputs": [
    {
     "name": "stdout",
     "output_type": "stream",
     "text": [
      "\n"
     ]
    }
   ],
   "source": [
    "\"\"\"\n",
    "NOTE: READING BACK IN FROM FILE!!!\n",
    "\n",
    "# load nsimatrix from file\n",
    "nsimatrix = pickle.load( open( root_out+\"nsimatrix.p\", \"rb\" ) )\n",
    "\n",
    "# load nsyns from file\n",
    "with open(root_out+'nsyns.json', 'r') as fp:\n",
    "    nsyns = json.load(fp)\n",
    "\"\"\"\n",
    "print"
   ]
  },
  {
   "cell_type": "code",
   "execution_count": 100,
   "metadata": {
    "collapsed": false
   },
   "outputs": [
    {
     "data": {
      "text/plain": [
       "102"
      ]
     },
     "execution_count": 100,
     "metadata": {},
     "output_type": "execute_result"
    }
   ],
   "source": [
    "# Count non-zero similarities for nouns at/above SIM_THRESHOLD, ignoring diagonal\n",
    "countSimilarityPairs(nsimatrix)"
   ]
  },
  {
   "cell_type": "code",
   "execution_count": 101,
   "metadata": {
    "collapsed": false
   },
   "outputs": [
    {
     "name": "stdout",
     "output_type": "stream",
     "text": [
      "cheerio,goodbye --> 1.0\n",
      "babe,baby --> 1.0\n",
      "baby,babe --> 1.0\n",
      "drama,play --> 1.0\n",
      "dad,dada --> 1.0\n",
      "dad,pop --> 1.0\n",
      "dad,daddy --> 1.0\n",
      "spot,place --> 1.0\n",
      "tale,story --> 1.0\n",
      "somebody,person --> 1.0\n"
     ]
    }
   ],
   "source": [
    "# Check noun similarity results, are they any good?\n",
    "printSimilarityPairs(nsimatrix, show_n = 10, id_lookup=nounid2word)"
   ]
  },
  {
   "cell_type": "markdown",
   "metadata": {},
   "source": [
    "## Save Similarity Matrix\n"
   ]
  },
  {
   "cell_type": "code",
   "execution_count": 102,
   "metadata": {
    "collapsed": false
   },
   "outputs": [],
   "source": [
    "# save asimatrix\n",
    "pickle.dump( asimatrix, open(root_out+'asimatrix.p', \"wb\" ) )  "
   ]
  },
  {
   "cell_type": "code",
   "execution_count": 103,
   "metadata": {
    "collapsed": true
   },
   "outputs": [],
   "source": [
    "# flatten and save asyns\n",
    "with open(root_out+'asyns.json', 'w') as fp:\n",
    "    json.dump(flattenSynsetValues(asyns), fp)"
   ]
  },
  {
   "cell_type": "code",
   "execution_count": 104,
   "metadata": {
    "collapsed": false
   },
   "outputs": [],
   "source": [
    "\"\"\"\n",
    "NOTE: DON'T SAVE THIS, IF ALREADY USING SAVED!!!\n",
    "\"\"\"\n",
    "# save nsimatrix\n",
    "pickle.dump( nsimatrix, open(root_out+'nsimatrix.p', \"wb\" ) )\n"
   ]
  },
  {
   "cell_type": "code",
   "execution_count": 105,
   "metadata": {
    "collapsed": false
   },
   "outputs": [],
   "source": [
    "\"\"\"\n",
    "NOTE: DON'T SAVE THIS, ALREADY USING SAVED!!!\n",
    "\"\"\"\n",
    "# flatten and save nsyns\n",
    "with open(root_out+'nsyns.json', 'w') as fp:\n",
    "    json.dump(flattenSynsetValues(nsyns), fp)"
   ]
  },
  {
   "cell_type": "markdown",
   "metadata": {},
   "source": [
    "##Hypernyms\n",
    "find the lowest common [hypernym](https://en.wikipedia.org/wiki/Hyponymy_and_hypernymy) between similar"
   ]
  },
  {
   "cell_type": "code",
   "execution_count": 106,
   "metadata": {
    "collapsed": false
   },
   "outputs": [
    {
     "data": {
      "text/plain": [
       "Synset('carnivore.n.01')"
      ]
     },
     "execution_count": 106,
     "metadata": {},
     "output_type": "execute_result"
    }
   ],
   "source": [
    "#Quick Test\n",
    "Synset('dog.n.01').lowest_common_hypernyms(Synset('cat.n.01'))[0]"
   ]
  },
  {
   "cell_type": "code",
   "execution_count": 107,
   "metadata": {
    "collapsed": true
   },
   "outputs": [],
   "source": [
    "## CORE FUNCTIONS FOR BUILDING HYPERNYM\n",
    "\n",
    "def makeOrderedTuple(idx1, idx2):\n",
    "    if idx1 > idx2:\n",
    "        return (idx2,idx1) \n",
    "    return (idx1,idx2) \n",
    "\n",
    "def cachedHypernymOrBuild(idx1, idx2, syn_lookup, hypes, hype_as_str=True):\n",
    "    \"\"\"\n",
    "    Build Hypernym for given `idxtuple`, using the `syns_lookup`.\n",
    "    Facilitate O(n) computational complexity by caching results\n",
    "    Will internally manage hypernym keys as ordered tuple.\n",
    "    \n",
    "    --- Input ---\n",
    "    idx: tuple of id to build and cache\n",
    "    syn_lookup: existing dictionary of synsets, with k: id, v: Synset or None    \n",
    "    hypes: dictionary for hypernyms with k: ordered tuple, v: hypernym.\n",
    "    hype_as_str: optional build map with string values, default = True\n",
    "    --- Return ---\n",
    "    a hypernym Synset or None\n",
    "    \"\"\"\n",
    "    ituple = makeOrderedTuple(idx1,idx2)    \n",
    "    if ituple in hypes: \n",
    "        return hypes[ituple] \n",
    "    \n",
    "    try:    \n",
    "        s1 = syn_lookup[ituple[0]]\n",
    "        s2 = syn_lookup[ituple[1]]\n",
    "        h = s1.lowest_common_hypernyms(s2)[0]\n",
    "        \n",
    "        if hype_as_str:\n",
    "            h = synsetStr(h)\n",
    "            \n",
    "        hypes[ituple] = h\n",
    "        return h\n",
    "    except Exception:\n",
    "        hypes[ituple] = None\n",
    "        return None\n",
    "\n",
    "def lowestCommonHypernyms(simatrix, syn_lookup, sim_threshold=SIM_THRESHOLD, hype_as_str=True):\n",
    "    \"\"\"\n",
    "    Build a matrix with hypernym where found.\n",
    "    Optionally, only evaluate values at/above a threshold.\n",
    "    \n",
    "    --- Input ---\n",
    "    simatrix: tuple of id to build and cache\n",
    "    syn_lookup: existing dictionary of synsets, with k: id, v: Synset or None    \n",
    "    sim_threshold: optional threshold to use for establishing hypernyms, default = SIM_THRESHOLD\n",
    "    hype_as_str: optional build map with string values, default = True\n",
    "    \n",
    "    --- Return ---\n",
    "    dictionary for hypernyms with k: ordered tuple, v: Synset.    \n",
    "    \"\"\"\n",
    "    \n",
    "    hypes = {} # dictionary to build up.\n",
    "    \n",
    "    n = len(simatrix)\n",
    "    ns = range(n)          \n",
    "    for i in ns:\n",
    "        for j in ns:\n",
    "            v = simatrix[i][j] \n",
    "            \n",
    "            # handle sim_threshold\n",
    "            met_threshold = True\n",
    "            if sim_threshold and v < sim_threshold:\n",
    "                met_threshold = False\n",
    "            elif not v:\n",
    "                met_threshold = False\n",
    "                    \n",
    "            if (i != j) and met_threshold:                                \n",
    "                cachedHypernymOrBuild(i,j, syn_lookup, hypes, hype_as_str)\n",
    "                \n",
    "    return hypes"
   ]
  },
  {
   "cell_type": "code",
   "execution_count": 108,
   "metadata": {
    "collapsed": false
   },
   "outputs": [],
   "source": [
    "## FUNCTIONS FOR EVALUATING HYPERNYMS\n",
    "\n",
    "def countHypernyms(hypes, count_valid=True, count_invalid=True):\n",
    "    \"\"\"\n",
    "    Count  hypernyms, ignoring None\n",
    "    \"\"\"\n",
    "    c = 0\n",
    "    for k,v in hypes.iteritems():\n",
    "        if count_valid and v:\n",
    "            c += 1\n",
    "        elif count_invalid and not v:\n",
    "            c += 1        \n",
    "    return c"
   ]
  },
  {
   "cell_type": "markdown",
   "metadata": {},
   "source": [
    "###Adjective Hypernyms"
   ]
  },
  {
   "cell_type": "code",
   "execution_count": 109,
   "metadata": {
    "collapsed": false
   },
   "outputs": [],
   "source": [
    "# find adj hypernyms, defaulting to only the string value\n",
    "ahypes = lowestCommonHypernyms(asimatrix, asyns)"
   ]
  },
  {
   "cell_type": "code",
   "execution_count": 110,
   "metadata": {
    "collapsed": false
   },
   "outputs": [
    {
     "name": "stdout",
     "output_type": "stream",
     "text": [
      "how many adj hypernyms?  25\n",
      "how many valid adj hypernyms?  25\n",
      "how many invalid adj hypernyms?  0\n",
      "example key: (50, 599), value: small\n"
     ]
    }
   ],
   "source": [
    "# check results\n",
    "print \"how many adj hypernyms? \", countHypernyms(ahypes)\n",
    "print \"how many valid adj hypernyms? \", countHypernyms(ahypes, count_valid=True, count_invalid=False)\n",
    "print \"how many invalid adj hypernyms? \", countHypernyms(ahypes, count_valid=False, count_invalid=True)\n",
    "print \"example key: {}, value: {}\".format(ahypes.keys()[0],ahypes[ahypes.keys()[0]])"
   ]
  },
  {
   "cell_type": "code",
   "execution_count": 111,
   "metadata": {
    "collapsed": false
   },
   "outputs": [
    {
     "data": {
      "text/plain": [
       "{(12, 217): u'all_right',\n",
       " (19, 261): u'red',\n",
       " (19, 521): u'red',\n",
       " (47, 67): u'bare',\n",
       " (50, 599): u'small',\n",
       " (74, 442): u'large',\n",
       " (177, 631): u'cockamamie',\n",
       " (214, 473): u'disgusting',\n",
       " (219, 661): u'cheery',\n",
       " (232, 912): u'nauseating',\n",
       " (239, 884): u'cunning',\n",
       " (241, 634): u'bitty',\n",
       " (250, 816): u'bogus',\n",
       " (253, 388): u'barbarous',\n",
       " (253, 637): u'barbarous',\n",
       " (261, 521): u'red',\n",
       " (273, 314): u'wide',\n",
       " (284, 408): u'grey',\n",
       " (295, 477): u'frigid',\n",
       " (326, 496): u'conceited',\n",
       " (388, 637): u'barbarous',\n",
       " (399, 545): u'brumous',\n",
       " (507, 603): u'fifth',\n",
       " (538, 768): u'jammed',\n",
       " (642, 756): u'average'}"
      ]
     },
     "execution_count": 111,
     "metadata": {},
     "output_type": "execute_result"
    }
   ],
   "source": [
    "ahypes"
   ]
  },
  {
   "cell_type": "markdown",
   "metadata": {},
   "source": [
    "###Noun Hypernyms"
   ]
  },
  {
   "cell_type": "code",
   "execution_count": 112,
   "metadata": {
    "collapsed": true
   },
   "outputs": [],
   "source": [
    "# find noun hypernyms\n",
    "nhypes = lowestCommonHypernyms(nsimatrix, nsyns)"
   ]
  },
  {
   "cell_type": "code",
   "execution_count": 113,
   "metadata": {
    "collapsed": false
   },
   "outputs": [
    {
     "name": "stdout",
     "output_type": "stream",
     "text": [
      "how many noun hypernyms?  51\n",
      "how many valid noun hypernyms?  51\n",
      "how many invalid noun hypernyms?  0\n",
      "example key: (83, 1074), value: dad\n"
     ]
    }
   ],
   "source": [
    "# check results\n",
    "print \"how many noun hypernyms? \", countHypernyms(nhypes)\n",
    "print \"how many valid noun hypernyms? \", countHypernyms(nhypes, count_valid=True, count_invalid=False)\n",
    "print \"how many invalid noun hypernyms? \", countHypernyms(nhypes, count_valid=False, count_invalid=True)\n",
    "print \"example key: {}, value: {}\".format(nhypes.keys()[0],nhypes[nhypes.keys()[0]])"
   ]
  },
  {
   "cell_type": "code",
   "execution_count": 114,
   "metadata": {
    "collapsed": false
   },
   "outputs": [
    {
     "data": {
      "text/plain": [
       "{(12, 905): u'adieu',\n",
       " (60, 65): u'baby',\n",
       " (79, 1014): u'play',\n",
       " (83, 293): u'dad',\n",
       " (83, 1074): u'dad',\n",
       " (83, 1446): u'dad',\n",
       " (93, 155): u'topographic_point',\n",
       " (102, 971): u'narrative',\n",
       " (117, 589): u'person',\n",
       " (136, 1192): u'girl',\n",
       " (143, 407): u'buttocks',\n",
       " (167, 920): u'ma',\n",
       " (167, 1125): u'ma',\n",
       " (172, 704): u'grandfather',\n",
       " (190, 541): u'asshole',\n",
       " (190, 1012): u'asshole',\n",
       " (196, 682): u'wage',\n",
       " (240, 791): u'semen',\n",
       " (275, 970): u'hood',\n",
       " (279, 338): u'cast',\n",
       " (290, 808): u'animal',\n",
       " (293, 1074): u'dad',\n",
       " (293, 1446): u'dad',\n",
       " (294, 529): u'idea',\n",
       " (295, 725): u'clasp',\n",
       " (364, 385): u'pit',\n",
       " (366, 1505): u'breast',\n",
       " (368, 1364): u'shooting',\n",
       " (396, 878): u'smile',\n",
       " (421, 785): u'boom',\n",
       " (497, 1251): u'baggage',\n",
       " (541, 1012): u'asshole',\n",
       " (580, 1426): u'position',\n",
       " (606, 983): u'summer',\n",
       " (670, 694): u'center',\n",
       " (727, 885): u'manner',\n",
       " (727, 916): u'manner',\n",
       " (736, 746): u'religion',\n",
       " (781, 1551): u'check',\n",
       " (803, 1518): u'walk',\n",
       " (841, 1299): u'internet',\n",
       " (885, 916): u'manner',\n",
       " (887, 1356): u'airplane',\n",
       " (920, 1125): u'ma',\n",
       " (944, 1195): u'dawn',\n",
       " (947, 977): u'tune',\n",
       " (1068, 1121): u'ailment',\n",
       " (1074, 1446): u'dad',\n",
       " (1211, 1494): u'child',\n",
       " (1227, 1346): u'eden',\n",
       " (1254, 1280): u'choice'}"
      ]
     },
     "execution_count": 114,
     "metadata": {},
     "output_type": "execute_result"
    }
   ],
   "source": [
    "\"\"\"\n",
    "NOTE: This won't work quite right unless nsyns is fully processed \n",
    "\"\"\"\n",
    "nhypes"
   ]
  },
  {
   "cell_type": "markdown",
   "metadata": {},
   "source": [
    "##Save Hypernyms"
   ]
  },
  {
   "cell_type": "code",
   "execution_count": 115,
   "metadata": {
    "collapsed": false
   },
   "outputs": [],
   "source": [
    "# save adj hypernyms\n",
    "pickle.dump( ahypes, open(root_out+'ahypes.p', \"wb\" ) )  "
   ]
  },
  {
   "cell_type": "code",
   "execution_count": 116,
   "metadata": {
    "collapsed": false
   },
   "outputs": [],
   "source": [
    "\"\"\"\n",
    "NOTE: DON'T SAVE THIS, ALREADY USING SAVED!!!\n",
    "\"\"\"\n",
    "# save noun hypernyms\n",
    "pickle.dump( nhypes, open(root_out+'nhypes.p', \"wb\" ) )  "
   ]
  }
 ],
 "metadata": {
  "kernelspec": {
   "display_name": "Python 2",
   "language": "python",
   "name": "python2"
  },
  "language_info": {
   "codemirror_mode": {
    "name": "ipython",
    "version": 2
   },
   "file_extension": ".py",
   "mimetype": "text/x-python",
   "name": "python",
   "nbconvert_exporter": "python",
   "pygments_lexer": "ipython2",
   "version": "2.7.10"
  }
 },
 "nbformat": 4,
 "nbformat_minor": 0
}
