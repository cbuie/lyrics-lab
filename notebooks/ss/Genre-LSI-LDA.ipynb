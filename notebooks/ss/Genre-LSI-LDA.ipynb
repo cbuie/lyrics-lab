{
 "cells": [
  {
   "cell_type": "markdown",
   "metadata": {},
   "source": [
    "## LSI and LDA On Data Partitioned by Genre\n",
    "\n",
    "In this part, the LSI and LDA methods of gensim are applied to subsets of the database. Because the sample sizes are necessarily smaller, some reduction in both the number of topics and the number of genres is necessary. By requiring the minimum number of document per genre to be at least 240 and by estimating 200 rather than 300 topics for the LSI, the overfitting potential is decreased. For LDA the number of topics extracted remains at 80. \n",
    "\n",
    "As usual, the programming starts with including ibraries. \n",
    "\n",
    "#### Note this book requires spark and is run under vagrant."
   ]
  },
  {
   "cell_type": "code",
   "execution_count": 1,
   "metadata": {
    "collapsed": true
   },
   "outputs": [],
   "source": [
    "%matplotlib inline\n",
    "import numpy as np\n",
    "import scipy as sp\n",
    "import matplotlib as mpl\n",
    "import matplotlib.cm as cm\n",
    "import matplotlib.pyplot as plt\n",
    "import pandas as pd\n",
    "pd.set_option('display.width', 500)\n",
    "pd.set_option('display.max_columns', 100)\n",
    "pd.set_option('display.notebook_repr_html', True)\n",
    "import seaborn as sns\n",
    "sns.set_style(\"whitegrid\")\n",
    "sns.set_context(\"poster\")"
   ]
  },
  {
   "cell_type": "code",
   "execution_count": 2,
   "metadata": {
    "collapsed": true
   },
   "outputs": [],
   "source": [
    "import time\n",
    "import itertools\n",
    "import json\n",
    "import pickle\n",
    "import os\n",
    "import collections\n",
    "import nltk\n",
    "import gensim"
   ]
  },
  {
   "cell_type": "code",
   "execution_count": 3,
   "metadata": {
    "collapsed": false
   },
   "outputs": [
    {
     "name": "stdout",
     "output_type": "stream",
     "text": [
      "/home/vagrant/spark\n"
     ]
    }
   ],
   "source": [
    "import findspark\n",
    "findspark.init()\n",
    "print findspark.find()"
   ]
  },
  {
   "cell_type": "code",
   "execution_count": 4,
   "metadata": {
    "collapsed": false
   },
   "outputs": [
    {
     "data": {
      "text/plain": [
       "[(u'spark.master', u'local[4]'),\n",
       " (u'spark.rdd.compress', u'True'),\n",
       " (u'spark.executor.memory', u'4g'),\n",
       " (u'spark.serializer.objectStreamReset', u'100'),\n",
       " (u'spark.submit.deployMode', u'client'),\n",
       " (u'spark.app.name', u'pyspark')]"
      ]
     },
     "execution_count": 4,
     "metadata": {},
     "output_type": "execute_result"
    }
   ],
   "source": [
    "import pyspark\n",
    "conf = (pyspark.SparkConf()\n",
    "    .setMaster('local[4]')\n",
    "    .setAppName('pyspark')\n",
    "    .set(\"spark.executor.memory\", \"4g\"))\n",
    "sc = pyspark.SparkContext(conf=conf)\n",
    "\n",
    "sc._conf.getAll()"
   ]
  },
  {
   "cell_type": "code",
   "execution_count": 5,
   "metadata": {
    "collapsed": false
   },
   "outputs": [
    {
     "data": {
      "text/plain": [
       "['2.7.10 |Anaconda 2.3.0 (64-bit)| (default, May 28 2015, 17:02:03) \\n[GCC 4.4.7 20120313 (Red Hat 4.4.7-1)]',\n",
       " '2.7.10 |Anaconda 2.3.0 (64-bit)| (default, May 28 2015, 17:02:03) \\n[GCC 4.4.7 20120313 (Red Hat 4.4.7-1)]',\n",
       " '2.7.10 |Anaconda 2.3.0 (64-bit)| (default, May 28 2015, 17:02:03) \\n[GCC 4.4.7 20120313 (Red Hat 4.4.7-1)]',\n",
       " '2.7.10 |Anaconda 2.3.0 (64-bit)| (default, May 28 2015, 17:02:03) \\n[GCC 4.4.7 20120313 (Red Hat 4.4.7-1)]',\n",
       " '2.7.10 |Anaconda 2.3.0 (64-bit)| (default, May 28 2015, 17:02:03) \\n[GCC 4.4.7 20120313 (Red Hat 4.4.7-1)]',\n",
       " '2.7.10 |Anaconda 2.3.0 (64-bit)| (default, May 28 2015, 17:02:03) \\n[GCC 4.4.7 20120313 (Red Hat 4.4.7-1)]',\n",
       " '2.7.10 |Anaconda 2.3.0 (64-bit)| (default, May 28 2015, 17:02:03) \\n[GCC 4.4.7 20120313 (Red Hat 4.4.7-1)]',\n",
       " '2.7.10 |Anaconda 2.3.0 (64-bit)| (default, May 28 2015, 17:02:03) \\n[GCC 4.4.7 20120313 (Red Hat 4.4.7-1)]',\n",
       " '2.7.10 |Anaconda 2.3.0 (64-bit)| (default, May 28 2015, 17:02:03) \\n[GCC 4.4.7 20120313 (Red Hat 4.4.7-1)]',\n",
       " '2.7.10 |Anaconda 2.3.0 (64-bit)| (default, May 28 2015, 17:02:03) \\n[GCC 4.4.7 20120313 (Red Hat 4.4.7-1)]']"
      ]
     },
     "execution_count": 5,
     "metadata": {},
     "output_type": "execute_result"
    }
   ],
   "source": [
    "import sys\n",
    "rdd = sc.parallelize(xrange(10),10)\n",
    "rdd.map(lambda x: sys.version).collect()"
   ]
  },
  {
   "cell_type": "code",
   "execution_count": 6,
   "metadata": {
    "collapsed": false
   },
   "outputs": [
    {
     "data": {
      "text/plain": [
       "'2.7.10 |Anaconda 2.3.0 (64-bit)| (default, May 28 2015, 17:02:03) \\n[GCC 4.4.7 20120313 (Red Hat 4.4.7-1)]'"
      ]
     },
     "execution_count": 6,
     "metadata": {},
     "output_type": "execute_result"
    }
   ],
   "source": [
    "sys.version"
   ]
  },
  {
   "cell_type": "code",
   "execution_count": 7,
   "metadata": {
    "collapsed": true
   },
   "outputs": [],
   "source": [
    "from pyspark.sql import SQLContext\n",
    "sqlsc=SQLContext(sc)\n",
    "\n",
    "from pattern.en import parse\n",
    "from pattern.en import pprint\n",
    "from pattern.vector import stem, PORTER, LEMMA\n",
    "punctuation = list('.,;:!?()[]{}`''\\\"@#$^&*+-|=~_')\n",
    "\n",
    "from sklearn.feature_extraction import text \n",
    "stopwords=text.ENGLISH_STOP_WORDS\n",
    "\n",
    "import re\n",
    "regex1=re.compile(r\"\\.{2,}\")\n",
    "regex2=re.compile(r\"\\-{2,}\")\n",
    "\n",
    "from collections import Counter"
   ]
  },
  {
   "cell_type": "markdown",
   "metadata": {},
   "source": [
    "## Loading of Data\n",
    "\n",
    "THe data has been extensively conditioned elsewhere. This dataset has the genres for titles all the way back to 1970, in the wide format used by HW1, with each genre represented by a column containing either true or false.  In addition, the json object `songsbygenre.json` is keyed by the complete list of genres and provides an easy source for iterating over them.   "
   ]
  },
  {
   "cell_type": "code",
   "execution_count": 8,
   "metadata": {
    "collapsed": false
   },
   "outputs": [
    {
     "data": {
      "text/html": [
       "<div>\n",
       "<table border=\"1\" class=\"dataframe\">\n",
       "  <thead>\n",
       "    <tr style=\"text-align: right;\">\n",
       "      <th></th>\n",
       "      <th>Unnamed: 0</th>\n",
       "      <th>song_key</th>\n",
       "      <th>lyrics</th>\n",
       "      <th>lyrics_url</th>\n",
       "      <th>lyrics_abstract</th>\n",
       "      <th>decade</th>\n",
       "      <th>artist</th>\n",
       "      <th>title</th>\n",
       "      <th>year</th>\n",
       "      <th>band_singer</th>\n",
       "      <th>ranking</th>\n",
       "      <th>song</th>\n",
       "      <th>songurl</th>\n",
       "      <th>url</th>\n",
       "      <th>born</th>\n",
       "      <th>genres</th>\n",
       "      <th>ya</th>\n",
       "      <th>/wiki/2_Tone</th>\n",
       "      <th>/wiki/A_cappella</th>\n",
       "      <th>/wiki/Acid_house</th>\n",
       "      <th>/wiki/Acid_jazz</th>\n",
       "      <th>/wiki/Acid_rock</th>\n",
       "      <th>/wiki/Acoustic_music</th>\n",
       "      <th>/wiki/Acoustic_rock</th>\n",
       "      <th>/wiki/Adult_Contemporary</th>\n",
       "      <th>/wiki/Adult_Contemporary_Music</th>\n",
       "      <th>/wiki/Adult_contemporary</th>\n",
       "      <th>/wiki/Adult_contemporary_music</th>\n",
       "      <th>/wiki/Adult_contemporary_music#Soft_adult_contemporary</th>\n",
       "      <th>/wiki/Afrobeat</th>\n",
       "      <th>/wiki/Album-oriented_rock</th>\n",
       "      <th>/wiki/Alternative_R%26B</th>\n",
       "      <th>/wiki/Alternative_country</th>\n",
       "      <th>/wiki/Alternative_dance</th>\n",
       "      <th>/wiki/Alternative_dance#Indietronica</th>\n",
       "      <th>/wiki/Alternative_hip_hop</th>\n",
       "      <th>/wiki/Alternative_metal</th>\n",
       "      <th>/wiki/Alternative_pop</th>\n",
       "      <th>/wiki/Alternative_rock</th>\n",
       "      <th>/wiki/Ambient_house</th>\n",
       "      <th>/wiki/Ambient_music</th>\n",
       "      <th>/wiki/American_folk_music</th>\n",
       "      <th>/wiki/Americana_(music)</th>\n",
       "      <th>/wiki/Anarcho-punk</th>\n",
       "      <th>/wiki/Anti-folk</th>\n",
       "      <th>/wiki/Arena_rock</th>\n",
       "      <th>/wiki/Art_pop</th>\n",
       "      <th>/wiki/Art_punk</th>\n",
       "      <th>/wiki/Art_rock</th>\n",
       "      <th>/wiki/Avant-garde_music</th>\n",
       "      <th>...</th>\n",
       "      <th>/wiki/Southern_hip_hop</th>\n",
       "      <th>/wiki/Southern_rap</th>\n",
       "      <th>/wiki/Southern_rock</th>\n",
       "      <th>/wiki/Southern_soul</th>\n",
       "      <th>/wiki/Space_disco</th>\n",
       "      <th>/wiki/Space_rock</th>\n",
       "      <th>/wiki/Spoken_word</th>\n",
       "      <th>/wiki/Sunshine_pop</th>\n",
       "      <th>/wiki/Surf_music</th>\n",
       "      <th>/wiki/Surf_rock</th>\n",
       "      <th>/wiki/Swamp_pop</th>\n",
       "      <th>/wiki/Swamp_rock</th>\n",
       "      <th>/wiki/Swing_(genre)</th>\n",
       "      <th>/wiki/Swing_music</th>\n",
       "      <th>/wiki/Symphonic_rock</th>\n",
       "      <th>/wiki/Synthpop</th>\n",
       "      <th>/wiki/Talking_blues</th>\n",
       "      <th>/wiki/Tech_house</th>\n",
       "      <th>/wiki/Techno</th>\n",
       "      <th>/wiki/Techno_music</th>\n",
       "      <th>/wiki/Teen_pop</th>\n",
       "      <th>/wiki/Tejano_music</th>\n",
       "      <th>/wiki/Thrash_metal</th>\n",
       "      <th>/wiki/Traditional_pop</th>\n",
       "      <th>/wiki/Traditional_pop_music</th>\n",
       "      <th>/wiki/Trance_music</th>\n",
       "      <th>/wiki/Trap_music</th>\n",
       "      <th>/wiki/Trip_hop</th>\n",
       "      <th>/wiki/UK_funky</th>\n",
       "      <th>/wiki/UK_garage</th>\n",
       "      <th>/wiki/Underground_hip_hop</th>\n",
       "      <th>/wiki/Urban_adult_contemporary</th>\n",
       "      <th>/wiki/Urban_contemporary</th>\n",
       "      <th>/wiki/Urban_contemporary_gospel</th>\n",
       "      <th>/wiki/Urban_music</th>\n",
       "      <th>/wiki/Vocal_music</th>\n",
       "      <th>/wiki/West_Coast_Rap</th>\n",
       "      <th>/wiki/West_Coast_hip_hop</th>\n",
       "      <th>/wiki/West_coast_hip_hop</th>\n",
       "      <th>/wiki/Western_music_(North_America)</th>\n",
       "      <th>/wiki/Western_swing</th>\n",
       "      <th>/wiki/Witch_house</th>\n",
       "      <th>/wiki/World_music</th>\n",
       "      <th>/wiki/Worldbeat</th>\n",
       "      <th>/wiki/Worship_music</th>\n",
       "      <th>/wiki/Zydeco</th>\n",
       "      <th>wordcount</th>\n",
       "      <th>wordset</th>\n",
       "      <th>lexdiv</th>\n",
       "      <th>repetition_score</th>\n",
       "    </tr>\n",
       "  </thead>\n",
       "  <tbody>\n",
       "    <tr>\n",
       "      <th>0</th>\n",
       "      <td>627</td>\n",
       "      <td>1976-86</td>\n",
       "      <td>Are you ready\\nDo what you wanna do\\nDo what y...</td>\n",
       "      <td>http://lyrics.wikia.com/Ohio_Players:Who%27d_S...</td>\n",
       "      <td>Are you ready\\nDo what you wanna do\\nDo what y...</td>\n",
       "      <td>1970</td>\n",
       "      <td>Ohio Players</td>\n",
       "      <td>Who'd She Coo?</td>\n",
       "      <td>1976</td>\n",
       "      <td>Ohio Players</td>\n",
       "      <td>86</td>\n",
       "      <td>Who'd She Coo?</td>\n",
       "      <td>/wiki/Who%27d_She_Coo%3F</td>\n",
       "      <td>/wiki/Ohio_Players</td>\n",
       "      <td>False</td>\n",
       "      <td>[/wiki/Funk, /wiki/Disco, /wiki/Rhythm_and_blu...</td>\n",
       "      <td>1959 ( 1959 ) –2002 ( 2002 )</td>\n",
       "      <td>False</td>\n",
       "      <td>False</td>\n",
       "      <td>False</td>\n",
       "      <td>False</td>\n",
       "      <td>False</td>\n",
       "      <td>False</td>\n",
       "      <td>False</td>\n",
       "      <td>False</td>\n",
       "      <td>False</td>\n",
       "      <td>False</td>\n",
       "      <td>False</td>\n",
       "      <td>False</td>\n",
       "      <td>False</td>\n",
       "      <td>False</td>\n",
       "      <td>False</td>\n",
       "      <td>False</td>\n",
       "      <td>False</td>\n",
       "      <td>False</td>\n",
       "      <td>False</td>\n",
       "      <td>False</td>\n",
       "      <td>False</td>\n",
       "      <td>False</td>\n",
       "      <td>False</td>\n",
       "      <td>False</td>\n",
       "      <td>False</td>\n",
       "      <td>False</td>\n",
       "      <td>False</td>\n",
       "      <td>False</td>\n",
       "      <td>False</td>\n",
       "      <td>False</td>\n",
       "      <td>False</td>\n",
       "      <td>False</td>\n",
       "      <td>False</td>\n",
       "      <td>...</td>\n",
       "      <td>False</td>\n",
       "      <td>False</td>\n",
       "      <td>False</td>\n",
       "      <td>False</td>\n",
       "      <td>False</td>\n",
       "      <td>False</td>\n",
       "      <td>False</td>\n",
       "      <td>False</td>\n",
       "      <td>False</td>\n",
       "      <td>False</td>\n",
       "      <td>False</td>\n",
       "      <td>False</td>\n",
       "      <td>False</td>\n",
       "      <td>False</td>\n",
       "      <td>False</td>\n",
       "      <td>False</td>\n",
       "      <td>False</td>\n",
       "      <td>False</td>\n",
       "      <td>False</td>\n",
       "      <td>False</td>\n",
       "      <td>False</td>\n",
       "      <td>False</td>\n",
       "      <td>False</td>\n",
       "      <td>False</td>\n",
       "      <td>False</td>\n",
       "      <td>False</td>\n",
       "      <td>False</td>\n",
       "      <td>False</td>\n",
       "      <td>False</td>\n",
       "      <td>False</td>\n",
       "      <td>False</td>\n",
       "      <td>False</td>\n",
       "      <td>False</td>\n",
       "      <td>False</td>\n",
       "      <td>False</td>\n",
       "      <td>False</td>\n",
       "      <td>False</td>\n",
       "      <td>False</td>\n",
       "      <td>False</td>\n",
       "      <td>False</td>\n",
       "      <td>False</td>\n",
       "      <td>False</td>\n",
       "      <td>False</td>\n",
       "      <td>False</td>\n",
       "      <td>False</td>\n",
       "      <td>False</td>\n",
       "      <td>35</td>\n",
       "      <td>26</td>\n",
       "      <td>0.742857</td>\n",
       "      <td>1.346154</td>\n",
       "    </tr>\n",
       "    <tr>\n",
       "      <th>1</th>\n",
       "      <td>1375</td>\n",
       "      <td>1984-59</td>\n",
       "      <td>I thought that dreams belonged to other men 'C...</td>\n",
       "      <td>http://lyrics.wikia.com/index.php?title=Mike_R...</td>\n",
       "      <td>I thought that dreams belonged to other men 'C...</td>\n",
       "      <td>1980</td>\n",
       "      <td>Mike Reno</td>\n",
       "      <td>Almost Paradise</td>\n",
       "      <td>1984</td>\n",
       "      <td>Ann Wilson</td>\n",
       "      <td>59</td>\n",
       "      <td>Almost Paradise</td>\n",
       "      <td>/wiki/Almost_Paradise</td>\n",
       "      <td>/wiki/Ann_Wilson</td>\n",
       "      <td>1950-06-19</td>\n",
       "      <td>[/wiki/Rock_music, /wiki/Hard_rock, /wiki/Folk...</td>\n",
       "      <td>1970–present</td>\n",
       "      <td>False</td>\n",
       "      <td>False</td>\n",
       "      <td>False</td>\n",
       "      <td>False</td>\n",
       "      <td>False</td>\n",
       "      <td>False</td>\n",
       "      <td>False</td>\n",
       "      <td>False</td>\n",
       "      <td>False</td>\n",
       "      <td>False</td>\n",
       "      <td>False</td>\n",
       "      <td>False</td>\n",
       "      <td>False</td>\n",
       "      <td>False</td>\n",
       "      <td>False</td>\n",
       "      <td>False</td>\n",
       "      <td>False</td>\n",
       "      <td>False</td>\n",
       "      <td>False</td>\n",
       "      <td>False</td>\n",
       "      <td>False</td>\n",
       "      <td>False</td>\n",
       "      <td>False</td>\n",
       "      <td>False</td>\n",
       "      <td>False</td>\n",
       "      <td>False</td>\n",
       "      <td>False</td>\n",
       "      <td>False</td>\n",
       "      <td>False</td>\n",
       "      <td>False</td>\n",
       "      <td>False</td>\n",
       "      <td>False</td>\n",
       "      <td>False</td>\n",
       "      <td>...</td>\n",
       "      <td>False</td>\n",
       "      <td>False</td>\n",
       "      <td>False</td>\n",
       "      <td>False</td>\n",
       "      <td>False</td>\n",
       "      <td>False</td>\n",
       "      <td>False</td>\n",
       "      <td>False</td>\n",
       "      <td>False</td>\n",
       "      <td>False</td>\n",
       "      <td>False</td>\n",
       "      <td>False</td>\n",
       "      <td>False</td>\n",
       "      <td>False</td>\n",
       "      <td>False</td>\n",
       "      <td>False</td>\n",
       "      <td>False</td>\n",
       "      <td>False</td>\n",
       "      <td>False</td>\n",
       "      <td>False</td>\n",
       "      <td>False</td>\n",
       "      <td>False</td>\n",
       "      <td>False</td>\n",
       "      <td>False</td>\n",
       "      <td>False</td>\n",
       "      <td>False</td>\n",
       "      <td>False</td>\n",
       "      <td>False</td>\n",
       "      <td>False</td>\n",
       "      <td>False</td>\n",
       "      <td>False</td>\n",
       "      <td>False</td>\n",
       "      <td>False</td>\n",
       "      <td>False</td>\n",
       "      <td>False</td>\n",
       "      <td>False</td>\n",
       "      <td>False</td>\n",
       "      <td>False</td>\n",
       "      <td>False</td>\n",
       "      <td>False</td>\n",
       "      <td>False</td>\n",
       "      <td>False</td>\n",
       "      <td>False</td>\n",
       "      <td>False</td>\n",
       "      <td>False</td>\n",
       "      <td>False</td>\n",
       "      <td>144</td>\n",
       "      <td>104</td>\n",
       "      <td>0.722222</td>\n",
       "      <td>1.384615</td>\n",
       "    </tr>\n",
       "  </tbody>\n",
       "</table>\n",
       "<p>2 rows × 454 columns</p>\n",
       "</div>"
      ],
      "text/plain": [
       "   Unnamed: 0 song_key                                             lyrics                                         lyrics_url                                    lyrics_abstract  decade        artist            title  year   band_singer  ranking             song                   songurl                 url        born                                             genres                            ya /wiki/2_Tone /wiki/A_cappella /wiki/Acid_house /wiki/Acid_jazz /wiki/Acid_rock  \\\n",
       "0         627  1976-86  Are you ready\\nDo what you wanna do\\nDo what y...  http://lyrics.wikia.com/Ohio_Players:Who%27d_S...  Are you ready\\nDo what you wanna do\\nDo what y...    1970  Ohio Players   Who'd She Coo?  1976  Ohio Players       86   Who'd She Coo?  /wiki/Who%27d_She_Coo%3F  /wiki/Ohio_Players       False  [/wiki/Funk, /wiki/Disco, /wiki/Rhythm_and_blu...  1959 ( 1959 ) –2002 ( 2002 )        False            False            False           False           False   \n",
       "1        1375  1984-59  I thought that dreams belonged to other men 'C...  http://lyrics.wikia.com/index.php?title=Mike_R...  I thought that dreams belonged to other men 'C...    1980     Mike Reno  Almost Paradise  1984    Ann Wilson       59  Almost Paradise     /wiki/Almost_Paradise    /wiki/Ann_Wilson  1950-06-19  [/wiki/Rock_music, /wiki/Hard_rock, /wiki/Folk...                  1970–present        False            False            False           False           False   \n",
       "\n",
       "  /wiki/Acoustic_music /wiki/Acoustic_rock /wiki/Adult_Contemporary /wiki/Adult_Contemporary_Music /wiki/Adult_contemporary /wiki/Adult_contemporary_music /wiki/Adult_contemporary_music#Soft_adult_contemporary /wiki/Afrobeat /wiki/Album-oriented_rock /wiki/Alternative_R%26B /wiki/Alternative_country /wiki/Alternative_dance /wiki/Alternative_dance#Indietronica /wiki/Alternative_hip_hop /wiki/Alternative_metal /wiki/Alternative_pop /wiki/Alternative_rock /wiki/Ambient_house /wiki/Ambient_music  \\\n",
       "0                False               False                    False                          False                    False                          False                                              False              False                     False                   False                     False                   False                                False                     False                   False                 False                  False               False               False   \n",
       "1                False               False                    False                          False                    False                          False                                              False              False                     False                   False                     False                   False                                False                     False                   False                 False                  False               False               False   \n",
       "\n",
       "  /wiki/American_folk_music /wiki/Americana_(music) /wiki/Anarcho-punk /wiki/Anti-folk /wiki/Arena_rock /wiki/Art_pop /wiki/Art_punk /wiki/Art_rock /wiki/Avant-garde_music       ...        /wiki/Southern_hip_hop /wiki/Southern_rap /wiki/Southern_rock /wiki/Southern_soul /wiki/Space_disco /wiki/Space_rock /wiki/Spoken_word /wiki/Sunshine_pop /wiki/Surf_music /wiki/Surf_rock /wiki/Swamp_pop /wiki/Swamp_rock /wiki/Swing_(genre) /wiki/Swing_music /wiki/Symphonic_rock /wiki/Synthpop  \\\n",
       "0                     False                   False              False           False            False         False          False          False                   False       ...                         False              False               False               False             False            False             False              False            False           False           False            False               False             False                False          False   \n",
       "1                     False                   False              False           False            False         False          False          False                   False       ...                         False              False               False               False             False            False             False              False            False           False           False            False               False             False                False          False   \n",
       "\n",
       "  /wiki/Talking_blues /wiki/Tech_house /wiki/Techno /wiki/Techno_music /wiki/Teen_pop /wiki/Tejano_music /wiki/Thrash_metal /wiki/Traditional_pop /wiki/Traditional_pop_music /wiki/Trance_music /wiki/Trap_music /wiki/Trip_hop /wiki/UK_funky /wiki/UK_garage /wiki/Underground_hip_hop /wiki/Urban_adult_contemporary /wiki/Urban_contemporary /wiki/Urban_contemporary_gospel /wiki/Urban_music /wiki/Vocal_music /wiki/West_Coast_Rap /wiki/West_Coast_hip_hop /wiki/West_coast_hip_hop  \\\n",
       "0               False            False        False              False          False              False              False                 False                       False              False            False          False          False           False                     False                          False                    False                           False             False             False                False                    False                    False   \n",
       "1               False            False        False              False          False              False              False                 False                       False              False            False          False          False           False                     False                          False                    False                           False             False             False                False                    False                    False   \n",
       "\n",
       "  /wiki/Western_music_(North_America) /wiki/Western_swing /wiki/Witch_house /wiki/World_music /wiki/Worldbeat /wiki/Worship_music /wiki/Zydeco wordcount wordset    lexdiv repetition_score  \n",
       "0                               False               False             False             False           False               False        False        35      26  0.742857         1.346154  \n",
       "1                               False               False             False             False           False               False        False       144     104  0.722222         1.384615  \n",
       "\n",
       "[2 rows x 454 columns]"
      ]
     },
     "execution_count": 8,
     "metadata": {},
     "output_type": "execute_result"
    }
   ],
   "source": [
    "# load \n",
    "with open(\"../../notebooks/ss/songsbygenre.json\") as json_file:\n",
    "    genresj = json.load(json_file)\n",
    "genrelist= genresj.keys()\n",
    "\n",
    "lyrics_pd_df = pd.read_csv(\"../../data/conditioned/all_years_and_genres_with_lyrics_and_wordcount_and_vocabulary.csv\")\n",
    "lyrics_pd_df.head(2)\n",
    "#genrelist\n"
   ]
  },
  {
   "cell_type": "code",
   "execution_count": 9,
   "metadata": {
    "collapsed": false
   },
   "outputs": [
    {
     "data": {
      "text/plain": [
       "(4893, 451)"
      ]
     },
     "execution_count": 9,
     "metadata": {},
     "output_type": "execute_result"
    }
   ],
   "source": [
    "\n",
    "# cull excess columns swept up on read\n",
    "del lyrics_pd_df['Unnamed: 0']\n",
    "del lyrics_pd_df['lyrics_abstract']\n",
    "del lyrics_pd_df['band_singer']\n",
    "\n",
    "#after this, some long function definitioins, then the action occurs.\n",
    "lyrics_pd_df.shape"
   ]
  },
  {
   "cell_type": "markdown",
   "metadata": {},
   "source": [
    "## Helper Functions\n",
    "\n",
    "The following functions are lifted from HW5 with some modification. Because they were well documented elsewhere, most of the comments have been removed. "
   ]
  },
  {
   "cell_type": "code",
   "execution_count": 10,
   "metadata": {
    "collapsed": true
   },
   "outputs": [],
   "source": [
    "def get_parts(thetext):\n",
    "    thetext=re.sub(regex1, ' ', thetext)\n",
    "    thetext=re.sub(regex2, ' ', thetext)\n",
    "    nouns=[]\n",
    "    descriptives=[]\n",
    "    for i,sentence in enumerate(parse(thetext, tokenize=True, lemmata=True).split()):\n",
    "        nouns.append([])\n",
    "        descriptives.append([])\n",
    "        for token in sentence:\n",
    "            #print token\n",
    "            if len(token[4]) >0:\n",
    "                if token[1] in ['JJ', 'JJR', 'JJS']:\n",
    "                    if token[4] in stopwords or token[4][0] in punctuation or token[4][-1] in punctuation or len(token[4])==1:\n",
    "                        continue\n",
    "                    descriptives[i].append(token[4])\n",
    "                elif token[1] in ['NN', 'NNS']:\n",
    "                    if token[4] in stopwords or token[4][0] in punctuation or token[4][-1] in punctuation or len(token[4])==1:\n",
    "                        continue\n",
    "                    nouns[i].append(token[4])\n",
    "    out=zip(nouns, descriptives)\n",
    "    nouns2=[]\n",
    "    descriptives2=[]\n",
    "    for n,d in out:\n",
    "        if len(n)!=0 and len(d)!=0:\n",
    "            nouns2.append(n)\n",
    "            descriptives2.append(d)\n",
    "    return nouns2, descriptives2\n"
   ]
  },
  {
   "cell_type": "markdown",
   "metadata": {},
   "source": [
    "The spark processes work appropriately inside this function:"
   ]
  },
  {
   "cell_type": "code",
   "execution_count": 11,
   "metadata": {
    "collapsed": false
   },
   "outputs": [],
   "source": [
    "# this modularizes the process documented in detail by HW5\n",
    "def makecorpus(genre_df):\n",
    "    ldf = sqlsc.createDataFrame(genre_df)\n",
    "    lyric_parts = ldf.map(lambda r : get_parts(r.lyrics))\n",
    "\n",
    "    parseout=lyric_parts.collect()\n",
    "    nounrdd=sc.parallelize([ele[0] for ele in parseout]).flatMap(lambda l: l)\n",
    "    nwordsrdd = (nounrdd.flatMap(lambda word: word)\n",
    "                 .map(lambda word: (word, 1))\n",
    "                 .reduceByKey(lambda a, b: a + b)\n",
    "                    )\n",
    "    top10=nwordsrdd.takeOrdered(10, key = lambda x: -x[1])\n",
    "\n",
    "    nounvocabtups = (nwordsrdd\n",
    "                 .map(lambda (x,y): x)\n",
    "                 .zipWithIndex()\n",
    "    )\n",
    "    nounvocab=nounvocabtups.collectAsMap()\n",
    "    nounid2word=nounvocabtups.map(lambda (x,y): (y,x)).collectAsMap()\n",
    "    documents = nounrdd.map(lambda words: Counter([nounvocab[word] for word in words]).most_common())\n",
    "    corpus=documents.collect()\n",
    "    pickle.dump( corpus, open( \"../../notebooks/ss\"+genre+\"_corpus.p\", \"wb\" ) )\n",
    "    return corpus,nounid2word\n"
   ]
  },
  {
   "cell_type": "markdown",
   "metadata": {},
   "source": [
    "## Iterate Over Genres, Building Corpus and Running LSI and LDA"
   ]
  },
  {
   "cell_type": "code",
   "execution_count": 12,
   "metadata": {
    "collapsed": false
   },
   "outputs": [
    {
     "name": "stdout",
     "output_type": "stream",
     "text": [
      "/wiki/Dance-pop 283\n",
      "/wiki/Alternative_rock 328\n",
      "/wiki/Soul_music 835\n",
      "/wiki/Rhythm_and_blues 393\n",
      "/wiki/Dance_music 291\n",
      "/wiki/Rock_music 721\n",
      "/wiki/Pop_rock 709\n",
      "/wiki/Contemporary_R%26B 1252\n",
      "/wiki/Disco 268\n",
      "/wiki/Funk 324\n",
      "/wiki/Soft_rock 504\n",
      "/wiki/Country_music 403\n",
      "/wiki/Hard_rock 311\n",
      "/wiki/Hip_hop_music 1275\n",
      "/wiki/Pop_music 1598\n",
      "CPU times: user 2min 19s, sys: 1.14 s, total: 2min 20s\n",
      "Wall time: 4min 37s\n"
     ]
    }
   ],
   "source": [
    "%%time\n",
    "#genrelist=[\"/wiki/Rock_music\"]  #DE-COMMENT TO TEST ON ONE GENRE\n",
    "\n",
    "# dicts to hold the output\n",
    "lsi_genre_topics={}\n",
    "lda_genre_topics={}    \n",
    "nfeatures = 200\n",
    "ntopics=80\n",
    "nwords=20 \n",
    "\n",
    "for genre in genrelist:\n",
    "    # take genre subset of df \n",
    "    genredf = lyrics_pd_df[lyrics_pd_df[genre]==True]\n",
    "    if len(genredf) > 240 and genre != \"NA\":\n",
    "        print genre, len(genredf)\n",
    "        #get the corpus and the id-to-word dict\n",
    "        atuple=makecorpus(genredf)\n",
    "        corpus=atuple[0]\n",
    "        id2w=atuple[1]\n",
    "        lsi = gensim.models.lsimodel.LsiModel(corpus=corpus, id2word=id2w, num_topics=300)\n",
    "        tlist = lsi.print_topics(nfeatures)\n",
    "        lsi_topics_for_genre={}\n",
    "        for t in tlist:\n",
    "            plist = t[1].split(' + ')\n",
    "            slist = [(u.split('*')[0],u.split('*')[1]) for u in plist]\n",
    "            lsi_topics_for_genre[t[0]]=plist\n",
    "        lsi_genre_topics[genre]=lsi_topics_for_genre\n",
    "         \n",
    "        lda = gensim.models.ldamodel.LdaModel(corpus=corpus, id2word=id2w, num_topics=ntopics, update_every=1, chunksize=100, passes=3)\n",
    "        topicsobject= lda.print_topics(num_topics=ntopics,num_words=nwords)\n",
    "        lda_genre_topics[genre]= topicsobject\n",
    "        #store them in json compatible way\n",
    "        lda_topics_for_genre={}\n",
    "        for t in topicsobject:  \n",
    "            plist = t[1].split(' + ')\n",
    "            slist = [(u.split('*')[0],u.split('*')[1]) for u in plist]\n",
    "            lda_topics_for_genre[t[0]]=plist\n",
    "        lda_genre_topics[genre]=lda_topics_for_genre\n",
    "            \n",
    "\n",
    "    \n"
   ]
  },
  {
   "cell_type": "markdown",
   "metadata": {},
   "source": [
    "### Place the results in json objects. "
   ]
  },
  {
   "cell_type": "code",
   "execution_count": 13,
   "metadata": {
    "collapsed": false
   },
   "outputs": [
    {
     "name": "stdout",
     "output_type": "stream",
     "text": [
      "Finished!\n"
     ]
    }
   ],
   "source": [
    "with open(\"../../notebooks/ss/lsi_genre_topics.json\",\"w\") as fd:\n",
    "    json.dump(lsi_genre_topics, fd)\n",
    "    \n",
    "with open(\"../../notebooks/ss/lda_genre_topics.json\",\"w\") as fd:\n",
    "    json.dump(lda_genre_topics, fd)\n",
    "\n",
    "print \"Finished!\""
   ]
  },
  {
   "cell_type": "code",
   "execution_count": 15,
   "metadata": {
    "collapsed": false
   },
   "outputs": [
    {
     "data": {
      "text/plain": [
       "'/home/vagrant/lyrics-lab/notebooks/mj'"
      ]
     },
     "execution_count": 15,
     "metadata": {},
     "output_type": "execute_result"
    }
   ],
   "source": [
    "os.getcwd()"
   ]
  },
  {
   "cell_type": "code",
   "execution_count": null,
   "metadata": {
    "collapsed": true
   },
   "outputs": [],
   "source": []
  }
 ],
 "metadata": {
  "kernelspec": {
   "display_name": "Python 2",
   "language": "python",
   "name": "python2"
  },
  "language_info": {
   "codemirror_mode": {
    "name": "ipython",
    "version": 2
   },
   "file_extension": ".py",
   "mimetype": "text/x-python",
   "name": "python",
   "nbconvert_exporter": "python",
   "pygments_lexer": "ipython2",
   "version": "2.7.10"
  }
 },
 "nbformat": 4,
 "nbformat_minor": 0
}
