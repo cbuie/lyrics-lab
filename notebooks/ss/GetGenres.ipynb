{
 "cells": [
  {
   "cell_type": "markdown",
   "metadata": {},
   "source": [
    "## Data Acquisition \n",
    "\n",
    "This notebook seeks the genres for the artists responsible for top 100 before 1992.   It uses the approach of HW1 first. "
   ]
  },
  {
   "cell_type": "code",
   "execution_count": 21,
   "metadata": {
    "collapsed": false
   },
   "outputs": [],
   "source": [
    "# The stuff from HW1\n",
    "# The %... is an iPython thing, and is not part of the Python language.\n",
    "# In this case we're just telling the plotting library to draw things on\n",
    "# the notebook, instead of on a separate window.\n",
    "%matplotlib inline\n",
    "# See all the \"as ...\" contructs? They're just aliasing the package names.\n",
    "# That way we can call methods like plt.plot() instead of matplotlib.pyplot.plot().\n",
    "import numpy as np\n",
    "import scipy as sp\n",
    "import matplotlib as mpl\n",
    "import matplotlib.cm as cm\n",
    "import matplotlib.pyplot as plt\n",
    "import pandas as pd\n",
    "import time\n",
    "pd.set_option('display.width', 500)\n",
    "pd.set_option('display.max_columns', 100)\n",
    "pd.set_option('display.notebook_repr_html', True)\n",
    "import seaborn as sns\n",
    "sns.set_style(\"whitegrid\")\n",
    "sns.set_context(\"poster\")\n",
    "\n",
    "from pyquery import PyQuery as pq\n",
    "\n",
    "import requests\n",
    "import json\n",
    "import os"
   ]
  },
  {
   "cell_type": "markdown",
   "metadata": {},
   "source": [
    "Now the scraping routine adjusted to include years 1970 to 1991"
   ]
  },
  {
   "cell_type": "code",
   "execution_count": 22,
   "metadata": {
    "collapsed": false
   },
   "outputs": [],
   "source": [
    "readflag=False\n",
    "if os.access('tempdata/yearinfo.json', os.R_OK)== True:\n",
    "    readflag=True\n",
    "    print \"Reading from File, Not Internet\"\n",
    "    with open(\"tempdata/yearinfo.json\", \"r\") as fd:\n",
    "        yearinfo = json.load(fd)"
   ]
  },
  {
   "cell_type": "code",
   "execution_count": 23,
   "metadata": {
    "collapsed": false
   },
   "outputs": [
    {
     "name": "stdout",
     "output_type": "stream",
     "text": [
      "[1970, 1971, 1972, 1973, 1974, 1975, 1976, 1977, 1978, 1979, 1980, 1981, 1982, 1983, 1984, 1985, 1986, 1987, 1988, 1989, 1990, 1991, 1992, 1993, 1994, 1995, 1996, 1997, 1998, 1999, 2000, 2001, 2002, 2003, 2004, 2005, 2006, 2007, 2008, 2009, 2010, 2011, 2012, 2013, 2014]\n",
      "1970\n",
      "1971\n",
      "1972\n",
      "1973\n",
      "1974\n",
      "1975\n",
      "1976\n",
      "1977\n",
      "1978\n",
      "1979\n",
      "1980\n",
      "1981\n",
      "1982\n",
      "1983\n",
      "1984\n",
      "1985\n",
      "1986\n",
      "1987\n",
      "1988\n",
      "1989\n",
      "1990\n",
      "1991\n",
      "1992\n",
      "1993\n",
      "1994\n",
      "1995\n",
      "1996\n",
      "1997\n",
      "1998\n",
      "1999\n",
      "2000\n",
      "2001\n",
      "2002\n",
      "2003\n",
      "2004\n",
      "2005\n",
      "2006\n",
      "2007\n",
      "2008\n",
      "2009\n",
      "2010\n",
      "2011\n",
      "2012\n",
      "2013\n",
      "2014\n"
     ]
    }
   ],
   "source": [
    "if not readflag:\n",
    "    years=range(1970,2015)\n",
    "    print years\n",
    "    yearstext={}\n",
    "    for y in years:\n",
    "        print y\n",
    "        yreq=requests.get(\"http://en.wikipedia.org/wiki/Billboard_Year-End_Hot_100_singles_of_%i\" % y)\n",
    "        yearstext[y]=yreq.text\n",
    "        time.sleep(1)\n"
   ]
  },
  {
   "cell_type": "markdown",
   "metadata": {},
   "source": [
    "Wikipedia's format for the billboard 100 changed between 1981 and 1982. Before 1981 The rankings were introduced with table rows; after, it was table headers. So the function `parse_year()` will work for 1982-1991.  Something else is necessary for earlier ones. "
   ]
  },
  {
   "cell_type": "code",
   "execution_count": 24,
   "metadata": {
    "collapsed": false
   },
   "outputs": [],
   "source": [
    "def parse_year(year, ytextdict):\n",
    "    #print \"Year\", year\n",
    "    # Common over all years\n",
    "    d_ = pq(ytextdict[year])\n",
    "    d_rows = pq(d_('.wikitable tr')[1:])\n",
    "    songs=[]\n",
    "    for r in d_rows:\n",
    "        # Now we have to handle pre-1982 separately from post- \n",
    "        # Wikipedia decided to change the table format along the way, and place the song position on a \"th\" element\n",
    "        # instead of the \"td\" element from the first page we parsed.\n",
    "        if year < 1982:\n",
    "            #first cell has ranking\n",
    "            ranking = int(pq(r)('td').eq(0).text())\n",
    "            songid = str(year)+'-'+str(ranking)\n",
    "            #second has title info\n",
    "            d_title=pq(r)('td').eq(1)\n",
    "            titletext = d_title.text()\n",
    "            bst=pq(pq(d_title)('a'))\n",
    "            #third has artist info\n",
    "            d_artist = pq(r)('td').eq(2)\n",
    "            tdtext=pq(d_artist.text()) \n",
    "            bs=pq(pq(d_artist)('a'))\n",
    "        else:\n",
    "            d_th=pq(r)('th')\n",
    "            ranking = int(pq(d_th[0]).text())\n",
    "            songid = str(year)+'-'+str(ranking)\n",
    "            d_td=pq(r)('td')\n",
    "            titletext=pq(d_td[0]).text()\n",
    "            bst=pq(pq(d_td[0])('a'))\n",
    "            tdtext=pq(d_td[1]).text()\n",
    "            bs=pq(pq(d_td[1])('a'))\n",
    "        \n",
    "        songanchors=[pq(e) for e in bst]\n",
    "        songnames=[item.text() for item in songanchors]\n",
    "        songurls=[item.attr.href for item in songanchors]\n",
    "        # And do the same for the song names and URLs.\n",
    "        band_singer=[pq(e).text() for e in bs]\n",
    "        band_singer_url=[pq(e).attr.href for e in bs]\n",
    "        # Some singers and songs don't actually have an \"a\" element, and therefore don't have a URL link.\n",
    "        # In those cases just use the text between the tags as the song name and set the URL field to None.\n",
    "        if len(songanchors)==0:\n",
    "            # Python accepts negative indexes, which count from the end of the string.\n",
    "            # There is no \"-0\" position, to the last element is the \"-1\" element. In this case we are saying\n",
    "            # we only want the second to next to last elements. We do this to remove the quotes around the string.\n",
    "            song=[titletext[1:-1].strip()] # The strip method removes whitespaces at the begining and end of a string.\n",
    "            songurl=[None]\n",
    "        songdict=dict(ranking=ranking, song=songnames, songid=songid, songurl=songurls, titletext=titletext,  band_singer=band_singer, url=band_singer_url)\n",
    "        songs.append(songdict)\n",
    "    return songs\n",
    "\n",
    "#yearstext[1970]\n",
    "#parse_year(1980, yearstext)[:5]"
   ]
  },
  {
   "cell_type": "code",
   "execution_count": 25,
   "metadata": {
    "collapsed": false
   },
   "outputs": [],
   "source": [
    "yearinfo = {y:parse_year(y, yearstext) for y in years}"
   ]
  },
  {
   "cell_type": "code",
   "execution_count": 26,
   "metadata": {
    "collapsed": false
   },
   "outputs": [
    {
     "data": {
      "text/plain": [
       "{'band_singer': ['Simon & Garfunkel'],\n",
       " 'ranking': 1,\n",
       " 'song': ['Bridge over Troubled Water'],\n",
       " 'songid': '1970-1',\n",
       " 'songurl': ['/wiki/Bridge_over_Troubled_Water_(song)'],\n",
       " 'titletext': '\" Bridge over Troubled Water \"',\n",
       " 'url': ['/wiki/Simon_%26_Garfunkel']}"
      ]
     },
     "execution_count": 26,
     "metadata": {},
     "output_type": "execute_result"
    }
   ],
   "source": [
    "yearinfo[1970][0]"
   ]
  },
  {
   "cell_type": "code",
   "execution_count": 27,
   "metadata": {
    "collapsed": true
   },
   "outputs": [],
   "source": [
    "if not readflag:\n",
    "    fd = open(\"tempdata/yearinfo.json\",\"w\")\n",
    "    json.dump(yearinfo, fd)\n",
    "    fd.close()\n"
   ]
  },
  {
   "cell_type": "markdown",
   "metadata": {},
   "source": [
    "Here we should be able to follow HW1 for making a flat dataframe:"
   ]
  },
  {
   "cell_type": "code",
   "execution_count": 28,
   "metadata": {
    "collapsed": false
   },
   "outputs": [
    {
     "data": {
      "text/html": [
       "<div>\n",
       "<table border=\"1\" class=\"dataframe\">\n",
       "  <thead>\n",
       "    <tr style=\"text-align: right;\">\n",
       "      <th></th>\n",
       "      <th>year</th>\n",
       "      <th>band_singer</th>\n",
       "      <th>ranking</th>\n",
       "      <th>song</th>\n",
       "      <th>songurl</th>\n",
       "      <th>url</th>\n",
       "    </tr>\n",
       "  </thead>\n",
       "  <tbody>\n",
       "    <tr>\n",
       "      <th>0</th>\n",
       "      <td>1970</td>\n",
       "      <td>Simon &amp; Garfunkel</td>\n",
       "      <td>1</td>\n",
       "      <td>Bridge over Troubled Water</td>\n",
       "      <td>/wiki/Bridge_over_Troubled_Water_(song)</td>\n",
       "      <td>/wiki/Simon_%26_Garfunkel</td>\n",
       "    </tr>\n",
       "    <tr>\n",
       "      <th>1</th>\n",
       "      <td>1971</td>\n",
       "      <td>Three Dog Night</td>\n",
       "      <td>1</td>\n",
       "      <td>Joy to the World</td>\n",
       "      <td>/wiki/Joy_to_the_World_(Hoyt_Axton_song)</td>\n",
       "      <td>/wiki/Three_Dog_Night</td>\n",
       "    </tr>\n",
       "    <tr>\n",
       "      <th>2</th>\n",
       "      <td>1972</td>\n",
       "      <td>Roberta Flack</td>\n",
       "      <td>1</td>\n",
       "      <td>The First Time Ever I Saw Your Face</td>\n",
       "      <td>/wiki/The_First_Time_Ever_I_Saw_Your_Face</td>\n",
       "      <td>/wiki/Roberta_Flack</td>\n",
       "    </tr>\n",
       "    <tr>\n",
       "      <th>3</th>\n",
       "      <td>1973</td>\n",
       "      <td>Tony Orlando and Dawn</td>\n",
       "      <td>1</td>\n",
       "      <td>Tie a Yellow Ribbon Round the Ole Oak Tree</td>\n",
       "      <td>/wiki/Tie_a_Yellow_Ribbon_Round_the_Ole_Oak_Tree</td>\n",
       "      <td>/wiki/Tony_Orlando_and_Dawn</td>\n",
       "    </tr>\n",
       "    <tr>\n",
       "      <th>4</th>\n",
       "      <td>1974</td>\n",
       "      <td>Barbra Streisand</td>\n",
       "      <td>1</td>\n",
       "      <td>The Way We Were</td>\n",
       "      <td>/wiki/The_Way_We_Were_(song)</td>\n",
       "      <td>/wiki/Barbra_Streisand</td>\n",
       "    </tr>\n",
       "    <tr>\n",
       "      <th>5</th>\n",
       "      <td>1975</td>\n",
       "      <td>Captain &amp; Tennille</td>\n",
       "      <td>1</td>\n",
       "      <td>Love Will Keep Us Together</td>\n",
       "      <td>/wiki/Love_Will_Keep_Us_Together</td>\n",
       "      <td>/wiki/Captain_%26_Tennille</td>\n",
       "    </tr>\n",
       "    <tr>\n",
       "      <th>6</th>\n",
       "      <td>1976</td>\n",
       "      <td>Wings</td>\n",
       "      <td>1</td>\n",
       "      <td>Silly Love Songs</td>\n",
       "      <td>/wiki/Silly_Love_Songs</td>\n",
       "      <td>/wiki/Wings_(band)</td>\n",
       "    </tr>\n",
       "    <tr>\n",
       "      <th>7</th>\n",
       "      <td>1977</td>\n",
       "      <td>Rod Stewart</td>\n",
       "      <td>1</td>\n",
       "      <td>Tonight's the Night (Gonna Be Alright)</td>\n",
       "      <td>/wiki/Tonight%27s_the_Night_(Gonna_Be_Alright)</td>\n",
       "      <td>/wiki/Rod_Stewart</td>\n",
       "    </tr>\n",
       "  </tbody>\n",
       "</table>\n",
       "</div>"
      ],
      "text/plain": [
       "   year            band_singer  ranking                                        song                                           songurl                          url\n",
       "0  1970      Simon & Garfunkel        1                  Bridge over Troubled Water           /wiki/Bridge_over_Troubled_Water_(song)    /wiki/Simon_%26_Garfunkel\n",
       "1  1971        Three Dog Night        1                            Joy to the World          /wiki/Joy_to_the_World_(Hoyt_Axton_song)        /wiki/Three_Dog_Night\n",
       "2  1972          Roberta Flack        1         The First Time Ever I Saw Your Face         /wiki/The_First_Time_Ever_I_Saw_Your_Face          /wiki/Roberta_Flack\n",
       "3  1973  Tony Orlando and Dawn        1  Tie a Yellow Ribbon Round the Ole Oak Tree  /wiki/Tie_a_Yellow_Ribbon_Round_the_Ole_Oak_Tree  /wiki/Tony_Orlando_and_Dawn\n",
       "4  1974       Barbra Streisand        1                             The Way We Were                      /wiki/The_Way_We_Were_(song)       /wiki/Barbra_Streisand\n",
       "5  1975     Captain & Tennille        1                  Love Will Keep Us Together                  /wiki/Love_Will_Keep_Us_Together   /wiki/Captain_%26_Tennille\n",
       "6  1976                  Wings        1                            Silly Love Songs                            /wiki/Silly_Love_Songs           /wiki/Wings_(band)\n",
       "7  1977            Rod Stewart        1      Tonight's the Night (Gonna Be Alright)    /wiki/Tonight%27s_the_Night_(Gonna_Be_Alright)            /wiki/Rod_Stewart"
      ]
     },
     "execution_count": 28,
     "metadata": {},
     "output_type": "execute_result"
    }
   ],
   "source": [
    "yeardict={}\n",
    "for y in yearinfo.keys():\n",
    "    yearlist=yearinfo[y]\n",
    "    yearlist2=[]\n",
    "    for idict in yearlist:\n",
    "        singers=idict['band_singer']\n",
    "        for i,s in enumerate(singers):\n",
    "            songs=idict['song']\n",
    "            for j,so in enumerate(songs):#now inside each singer song combination\n",
    "                nd={}\n",
    "                nd['band_singer']=s\n",
    "                nd['url']=idict['url'][i]\n",
    "                nd['song']=so\n",
    "                nd['songurl']=idict['songurl'][j]\n",
    "                nd['ranking']=idict['ranking']\n",
    "                yearlist2.append(nd)\n",
    "    yeardict[y]=pd.DataFrame(yearlist2)#one for each year\n",
    "yearspanel=pd.Panel.from_dict(yeardict, orient=\"minor\")#stack dataframes into a panel\n",
    "hierframe=yearspanel.to_frame() #flattening leads to a hierarchical index\n",
    "flatframe = hierframe.reset_index()\n",
    "flatframe = flatframe.rename(columns={'minor':'year'})\n",
    "del flatframe['major']\n",
    "flatframe.head(8)\n"
   ]
  },
  {
   "cell_type": "code",
   "execution_count": 30,
   "metadata": {
    "collapsed": false
   },
   "outputs": [
    {
     "data": {
      "text/plain": [
       "year             int32\n",
       "band_singer     object\n",
       "ranking        float64\n",
       "song            object\n",
       "songurl         object\n",
       "url             object\n",
       "dtype: object"
      ]
     },
     "execution_count": 30,
     "metadata": {},
     "output_type": "execute_result"
    }
   ],
   "source": [
    "flatframe.year = flatframe.year.astype(int)\n",
    "flatframe.dtypes"
   ]
  },
  {
   "cell_type": "code",
   "execution_count": 31,
   "metadata": {
    "collapsed": false
   },
   "outputs": [
    {
     "name": "stdout",
     "output_type": "stream",
     "text": [
      "/wiki/Contemporary_R%26B Contemporary R&B\n",
      "/wiki/Hip_hop_music Hip hop music\n",
      "/wiki/Pop_music Pop music\n",
      "/wiki/Contemporary_R%26B Contemporary R&B\n",
      "/wiki/Hip_hop_music Hip hop music\n",
      "/wiki/Pop_music Pop music\n"
     ]
    }
   ],
   "source": [
    "# Again there  is a change in construction of Genres section of artist page\n",
    "# 1970- genres are comma-sparated list, not <li> tagged\n",
    "# same access method, just eliminate the li argument to nextAll \n",
    "# since one ignores the other, just run both\n",
    "for th in pq(requests.get(\"http://en.wikipedia.org/wiki/Jason_Derulo\").text)(\".infobox tr th\"):\n",
    "    if pq(th).text() == \"Genres\":\n",
    "        for e in pq(th).nextAll(\"td  a\"):\n",
    "            if pq(e).attr.href.find(\"#cite_note\") == -1:\n",
    "                print pq(e).attr.href, pq(e).attr.title\n",
    "\n",
    "\n",
    "\n",
    "\n",
    "for th in pq(requests.get(\"http://en.wikipedia.org/wiki/Jason_Derulo\").text)(\".infobox tr th\"):\n",
    "    if pq(th).text() == \"Genres\":\n",
    "        for e in pq(th).nextAll(\"td li a\"):\n",
    "            if pq(e).attr.href.find(\"#cite_note\") == -1:\n",
    "                print pq(e).attr.href, pq(e).attr.title"
   ]
  },
  {
   "cell_type": "code",
   "execution_count": 32,
   "metadata": {
    "collapsed": true
   },
   "outputs": [],
   "source": []
  },
  {
   "cell_type": "code",
   "execution_count": 50,
   "metadata": {
    "collapsed": true
   },
   "outputs": [],
   "source": [
    "def get_page(url):\n",
    "    # Check if URL has already been visited.\n",
    "    if (url not in urlcache) or (urlcache[url]==1) or (urlcache[url]==2):\n",
    "        time.sleep(1)\n",
    "        # try/except blocks are used whenever the code could generate an exception (e.g. division by zero).\n",
    "        # In this case we don't know if the page really exists, or even if it does, if we'll be able to reach it.\n",
    "        try:\n",
    "            r = requests.get(\"http://en.wikipedia.org%s\" % url)\n",
    "            if r.status_code == 200:\n",
    "                urlcache[url] = r.text\n",
    "                #print url\n",
    "            else:\n",
    "                urlcache[url] = 1\n",
    "                print \"error not 200\",url\n",
    "        except:\n",
    "            print \"error\",url\n",
    "            urlcache[url] = 2\n",
    "    \n",
    "    return urlcache[url]\n"
   ]
  },
  {
   "cell_type": "code",
   "execution_count": 51,
   "metadata": {
    "collapsed": false
   },
   "outputs": [
    {
     "data": {
      "text/plain": [
       "5073"
      ]
     },
     "execution_count": 51,
     "metadata": {},
     "output_type": "execute_result"
    }
   ],
   "source": [
    "flatframe=flatframe.sort('year')\n",
    "len(flatframe)"
   ]
  },
  {
   "cell_type": "code",
   "execution_count": 52,
   "metadata": {
    "collapsed": false
   },
   "outputs": [
    {
     "name": "stdout",
     "output_type": "stream",
     "text": [
      "Wall time: 40min 26s\n"
     ]
    }
   ],
   "source": [
    "%%time\n",
    "\n",
    "readflag2=False\n",
    "#if the file is there, just open it. \n",
    "if os.access('tempdata/artistinfo.json', os.R_OK)== True:\n",
    "    readflag2=True\n",
    "    print \"Reading artist info from File, Not Internet\"\n",
    "    with open(\"tempdata/artistinfo.json\") as fd:\n",
    "        urlcache = json.load(fd)\n",
    "else:\n",
    "    # file not there, have to build it\n",
    "    urlcache={}\n",
    "    flatframe[\"url\"].apply(get_page)"
   ]
  },
  {
   "cell_type": "code",
   "execution_count": 53,
   "metadata": {
    "collapsed": false
   },
   "outputs": [
    {
     "name": "stdout",
     "output_type": "stream",
     "text": [
      "0\n",
      "True\n"
     ]
    }
   ],
   "source": [
    "print np.sum([(urlcache[k]==1) or (urlcache[k]==2) for k in urlcache])# no one or 0's\n",
    "print len(flatframe.url.unique())==len(urlcache)#we got all of the urls\n"
   ]
  },
  {
   "cell_type": "code",
   "execution_count": 54,
   "metadata": {
    "collapsed": false
   },
   "outputs": [
    {
     "name": "stdout",
     "output_type": "stream",
     "text": [
      "writing to disk\n"
     ]
    }
   ],
   "source": [
    "if not readflag2:                #didnt just load from disk, so built urlcache; write it\n",
    "    with open(\"tempdata/artistinfo.json\",\"w\") as fd:\n",
    "        json.dump(urlcache, fd)\n",
    "        print \"writing to disk\"\n",
    "    \n"
   ]
  },
  {
   "cell_type": "code",
   "execution_count": 55,
   "metadata": {
    "collapsed": false
   },
   "outputs": [
    {
     "data": {
      "text/plain": [
       "1833"
      ]
     },
     "execution_count": 55,
     "metadata": {},
     "output_type": "execute_result"
    }
   ],
   "source": [
    "len(urlcache)"
   ]
  },
  {
   "cell_type": "code",
   "execution_count": 56,
   "metadata": {
    "collapsed": true
   },
   "outputs": [],
   "source": [
    "def singer_band_info(url, page_text):\n",
    "    genres=['NA']\n",
    "    born=False\n",
    "    ya=False\n",
    "\n",
    "    for th in pq(page_text)(\".infobox tr th\"):\n",
    "        if pq(th).text() == \"Genres\":\n",
    "            genres=[]\n",
    "            for e in pq(th).nextAll(\"td a\"):\n",
    "                if pq(e).attr.href.find(\"#cite_note\") == -1:\n",
    "                    genres.append(pq(e).attr.href)\n",
    "        if pq(th).text() == \"Born\":\n",
    "            for e in pq(th).nextAll(\"td .bday\"):\n",
    "                born=pq(e).text()\n",
    "        if pq(th).text() == \"Years active\":\n",
    "            for e in pq(th).nextAll(\"td\"):\n",
    "                ya=pq(e).text()\n",
    "    return dict(url=url, genres=genres, born=born, ya=ya)"
   ]
  },
  {
   "cell_type": "code",
   "execution_count": 57,
   "metadata": {
    "collapsed": true
   },
   "outputs": [],
   "source": [
    "singer_band_info_list=[]\n",
    "for k,v in urlcache.items():\n",
    "    singer_band_info_list.append(singer_band_info(k, v))\n"
   ]
  },
  {
   "cell_type": "code",
   "execution_count": 58,
   "metadata": {
    "collapsed": false
   },
   "outputs": [
    {
     "data": {
      "text/html": [
       "<div>\n",
       "<table border=\"1\" class=\"dataframe\">\n",
       "  <thead>\n",
       "    <tr style=\"text-align: right;\">\n",
       "      <th></th>\n",
       "      <th>born</th>\n",
       "      <th>genres</th>\n",
       "      <th>url</th>\n",
       "      <th>ya</th>\n",
       "    </tr>\n",
       "  </thead>\n",
       "  <tbody>\n",
       "    <tr>\n",
       "      <th>0</th>\n",
       "      <td>False</td>\n",
       "      <td>[/wiki/Hard_rock]</td>\n",
       "      <td>/wiki/Survivor_(band)</td>\n",
       "      <td>1978–1988 1993–present</td>\n",
       "    </tr>\n",
       "    <tr>\n",
       "      <th>1</th>\n",
       "      <td>1973-11-19</td>\n",
       "      <td>[/wiki/Country_music]</td>\n",
       "      <td>/wiki/Billy_Currington</td>\n",
       "      <td>1996–present</td>\n",
       "    </tr>\n",
       "    <tr>\n",
       "      <th>2</th>\n",
       "      <td>False</td>\n",
       "      <td>[NA]</td>\n",
       "      <td>/wiki/Buckner_%26_Garcia</td>\n",
       "      <td>False</td>\n",
       "    </tr>\n",
       "    <tr>\n",
       "      <th>3</th>\n",
       "      <td>False</td>\n",
       "      <td>[/wiki/Philadelphia_soul, /wiki/Soul_music]</td>\n",
       "      <td>/wiki/Blue_Magic_(band)</td>\n",
       "      <td>1972–present</td>\n",
       "    </tr>\n",
       "    <tr>\n",
       "      <th>4</th>\n",
       "      <td>1944-01-16</td>\n",
       "      <td>[/wiki/Country_music, /wiki/Pop_music]</td>\n",
       "      <td>/wiki/Jim_Stafford</td>\n",
       "      <td>1974–present</td>\n",
       "    </tr>\n",
       "  </tbody>\n",
       "</table>\n",
       "</div>"
      ],
      "text/plain": [
       "         born                                       genres                       url                      ya\n",
       "0       False                            [/wiki/Hard_rock]     /wiki/Survivor_(band)  1978–1988 1993–present\n",
       "1  1973-11-19                        [/wiki/Country_music]    /wiki/Billy_Currington            1996–present\n",
       "2       False                                         [NA]  /wiki/Buckner_%26_Garcia                   False\n",
       "3       False  [/wiki/Philadelphia_soul, /wiki/Soul_music]   /wiki/Blue_Magic_(band)            1972–present\n",
       "4  1944-01-16       [/wiki/Country_music, /wiki/Pop_music]        /wiki/Jim_Stafford            1974–present"
      ]
     },
     "execution_count": 58,
     "metadata": {},
     "output_type": "execute_result"
    }
   ],
   "source": [
    "tempdf=pd.DataFrame(singer_band_info_list)\n",
    "tempdf.head()"
   ]
  },
  {
   "cell_type": "code",
   "execution_count": 59,
   "metadata": {
    "collapsed": false
   },
   "outputs": [
    {
     "data": {
      "text/html": [
       "<div>\n",
       "<table border=\"1\" class=\"dataframe\">\n",
       "  <thead>\n",
       "    <tr style=\"text-align: right;\">\n",
       "      <th></th>\n",
       "      <th>year</th>\n",
       "      <th>band_singer</th>\n",
       "      <th>ranking</th>\n",
       "      <th>song</th>\n",
       "      <th>songurl</th>\n",
       "      <th>url</th>\n",
       "      <th>born</th>\n",
       "      <th>genres</th>\n",
       "      <th>ya</th>\n",
       "    </tr>\n",
       "  </thead>\n",
       "  <tbody>\n",
       "    <tr>\n",
       "      <th>0</th>\n",
       "      <td>1970</td>\n",
       "      <td>Simon &amp; Garfunkel</td>\n",
       "      <td>1</td>\n",
       "      <td>Bridge over Troubled Water</td>\n",
       "      <td>/wiki/Bridge_over_Troubled_Water_(song)</td>\n",
       "      <td>/wiki/Simon_%26_Garfunkel</td>\n",
       "      <td>False</td>\n",
       "      <td>[/wiki/Folk_rock]</td>\n",
       "      <td>1957–1970 (Reunions: 1975, 1981–83, 1990, 1993...</td>\n",
       "    </tr>\n",
       "    <tr>\n",
       "      <th>1</th>\n",
       "      <td>1970</td>\n",
       "      <td>Simon &amp; Garfunkel</td>\n",
       "      <td>49</td>\n",
       "      <td>Cecilia</td>\n",
       "      <td>/wiki/Cecilia_(Simon_%26_Garfunkel_song)</td>\n",
       "      <td>/wiki/Simon_%26_Garfunkel</td>\n",
       "      <td>False</td>\n",
       "      <td>[/wiki/Folk_rock]</td>\n",
       "      <td>1957–1970 (Reunions: 1975, 1981–83, 1990, 1993...</td>\n",
       "    </tr>\n",
       "    <tr>\n",
       "      <th>2</th>\n",
       "      <td>1970</td>\n",
       "      <td>Marmalade</td>\n",
       "      <td>43</td>\n",
       "      <td>Reflections of My Life</td>\n",
       "      <td>/wiki/Reflections_of_My_Life</td>\n",
       "      <td>/wiki/Marmalade_(band)</td>\n",
       "      <td>False</td>\n",
       "      <td>[/wiki/Beat_music, /wiki/Pop_music, /wiki/Psyc...</td>\n",
       "      <td>1966–present</td>\n",
       "    </tr>\n",
       "    <tr>\n",
       "      <th>3</th>\n",
       "      <td>1970</td>\n",
       "      <td>Chicago</td>\n",
       "      <td>59</td>\n",
       "      <td>Make Me Smile</td>\n",
       "      <td>/wiki/Make_Me_Smile</td>\n",
       "      <td>/wiki/Chicago_(band)</td>\n",
       "      <td>False</td>\n",
       "      <td>[/wiki/Rock_music, /wiki/Soft_rock, /wiki/Jazz...</td>\n",
       "      <td>1967–present</td>\n",
       "    </tr>\n",
       "    <tr>\n",
       "      <th>4</th>\n",
       "      <td>1970</td>\n",
       "      <td>Chicago</td>\n",
       "      <td>61</td>\n",
       "      <td>25 or 6 to 4</td>\n",
       "      <td>/wiki/25_or_6_to_4</td>\n",
       "      <td>/wiki/Chicago_(band)</td>\n",
       "      <td>False</td>\n",
       "      <td>[/wiki/Rock_music, /wiki/Soft_rock, /wiki/Jazz...</td>\n",
       "      <td>1967–present</td>\n",
       "    </tr>\n",
       "  </tbody>\n",
       "</table>\n",
       "</div>"
      ],
      "text/plain": [
       "   year        band_singer  ranking                        song                                   songurl                        url   born                                             genres                                                 ya\n",
       "0  1970  Simon & Garfunkel        1  Bridge over Troubled Water   /wiki/Bridge_over_Troubled_Water_(song)  /wiki/Simon_%26_Garfunkel  False                                  [/wiki/Folk_rock]  1957–1970 (Reunions: 1975, 1981–83, 1990, 1993...\n",
       "1  1970  Simon & Garfunkel       49                     Cecilia  /wiki/Cecilia_(Simon_%26_Garfunkel_song)  /wiki/Simon_%26_Garfunkel  False                                  [/wiki/Folk_rock]  1957–1970 (Reunions: 1975, 1981–83, 1990, 1993...\n",
       "2  1970          Marmalade       43      Reflections of My Life              /wiki/Reflections_of_My_Life     /wiki/Marmalade_(band)  False  [/wiki/Beat_music, /wiki/Pop_music, /wiki/Psyc...                                       1966–present\n",
       "3  1970            Chicago       59               Make Me Smile                       /wiki/Make_Me_Smile       /wiki/Chicago_(band)  False  [/wiki/Rock_music, /wiki/Soft_rock, /wiki/Jazz...                                       1967–present\n",
       "4  1970            Chicago       61                25 or 6 to 4                        /wiki/25_or_6_to_4       /wiki/Chicago_(band)  False  [/wiki/Rock_music, /wiki/Soft_rock, /wiki/Jazz...                                       1967–present"
      ]
     },
     "execution_count": 59,
     "metadata": {},
     "output_type": "execute_result"
    }
   ],
   "source": [
    "largedf=flatframe.merge(tempdf, on=\"url\")\n",
    "largedf.head()"
   ]
  },
  {
   "cell_type": "code",
   "execution_count": null,
   "metadata": {
    "collapsed": false,
    "scrolled": true
   },
   "outputs": [],
   "source": [
    "genres = set()\n",
    "for g in largedf.genres:\n",
    "    genres.update(g)\n",
    "genres = sorted(genres)\n",
    "\n",
    "#make a column for each genre\n",
    "for genre in genres:\n",
    "    largedf[genre] = [genre in singergenres for singergenres in largedf.genres]         \n",
    "\n",
    "genres"
   ]
  },
  {
   "cell_type": "code",
   "execution_count": 68,
   "metadata": {
    "collapsed": false
   },
   "outputs": [],
   "source": [
    "# make dict of genres with list of songids within each.\n",
    "# first a dict keyed by genre with blank list as value\n",
    "genredict={}\n",
    "for genre in genres:\n",
    "    genredict[genre]=[]\n",
    "# for each song, append its id "
   ]
  },
  {
   "cell_type": "code",
   "execution_count": 85,
   "metadata": {
    "collapsed": false
   },
   "outputs": [],
   "source": [
    "# for each song, append its id to each genre list is it associated with \n",
    "counter=0\n",
    "for song in largedf.iterrows():\n",
    "    counter += 1\n",
    "    #if counter>9:\n",
    "        #break\n",
    "    songid= str(song[1][0])+'-'+str(int(song[1][2]))\n",
    "    for i in range(0,len(song[1][7])):\n",
    "        genredict[song[1][7][i]].append(songid) \n",
    "        \n",
    "    "
   ]
  },
  {
   "cell_type": "code",
   "execution_count": 87,
   "metadata": {
    "collapsed": false
   },
   "outputs": [],
   "source": [
    "    with open(\"songsbygenre.json\",\"w\") as fd:\n",
    "        json.dump(genredict, fd)"
   ]
  },
  {
   "cell_type": "code",
   "execution_count": null,
   "metadata": {
    "collapsed": true
   },
   "outputs": [],
   "source": []
  }
 ],
 "metadata": {
  "kernelspec": {
   "display_name": "Python 2",
   "language": "python",
   "name": "python2"
  },
  "language_info": {
   "codemirror_mode": {
    "name": "ipython",
    "version": 2
   },
   "file_extension": ".py",
   "mimetype": "text/x-python",
   "name": "python",
   "nbconvert_exporter": "python",
   "pygments_lexer": "ipython2",
   "version": "2.7.10"
  }
 },
 "nbformat": 4,
 "nbformat_minor": 0
}
