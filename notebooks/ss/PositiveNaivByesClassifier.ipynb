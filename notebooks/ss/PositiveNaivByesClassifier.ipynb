{
 "cells": [
  {
   "cell_type": "markdown",
   "metadata": {},
   "source": [
    "## Positive Naive Bayes Classification \n",
    "\n",
    "A song can fit in more than one genre, and our conditioning of the data has been attentive to preserving the one-to-potentially-many relationship. In this part, a classifier develops a probability that a given body of text will fit within each of the top ten selected genres. It uses the nltk positive naive Bayes classifier to train a set of lyrics for each of the top 10 genres, using 80% of the data. It assigns priors based on the relative frequency of songs. "
   ]
  },
  {
   "cell_type": "code",
   "execution_count": 16,
   "metadata": {
    "collapsed": true
   },
   "outputs": [],
   "source": [
    "from nltk.classify import PositiveNaiveBayesClassifier\n",
    "import json\n",
    "import pandas as pd"
   ]
  },
  {
   "cell_type": "code",
   "execution_count": 25,
   "metadata": {
    "collapsed": false
   },
   "outputs": [
    {
     "data": {
      "text/plain": [
       "[(0, u'/wiki/Pop_music', 0.7867435158501441),\n",
       " (1, u'/wiki/Hip_hop_music', 0.6296829971181557),\n",
       " (2, u'/wiki/Contemporary_R%26B', 0.6162343900096061),\n",
       " (3, u'/wiki/Soul_music', 0.41306436119116235),\n",
       " (4, u'/wiki/Rock_music', 0.3621517771373679),\n",
       " (5, u'/wiki/Pop_rock', 0.3520653218059558),\n",
       " (6, u'/wiki/Soft_rock', 0.24639769452449567),\n",
       " (7, u'/wiki/Country_music', 0.1988472622478386),\n",
       " (8, u'/wiki/Rhythm_and_blues', 0.19548511047070125),\n",
       " (9, u'/wiki/Alternative_rock', 0.16234390009606148),\n",
       " (10, u'/wiki/Funk', 0.15994236311239193),\n",
       " (11, u'/wiki/Hard_rock', 0.15417867435158503),\n",
       " (12, u'/wiki/Dance-pop', 0.14169068203650337),\n",
       " (13, u'/wiki/Dance_music', 0.14169068203650337),\n",
       " (14, u'/wiki/Disco', 0.13160422670509125)]"
      ]
     },
     "execution_count": 25,
     "metadata": {},
     "output_type": "execute_result"
    }
   ],
   "source": [
    "# open the data set\n",
    "df = pd.read_csv(\"../../data/conditioned/all_years_and_genres_with_lyrics_and_wordcount_and_vocabulary_clean.csv\")\n",
    "df = df.drop_duplicates('song_key')\n",
    "# total number of songs\n",
    "allsongs= len(df)*1.0\n",
    "\n",
    "# get the top ten genres\n",
    "with open(\"../../notebooks/ss/songsbygenre.json\") as json_file:\n",
    "    genresj = json.load(json_file)\n",
    "    \n",
    "genrelist= genresj.keys()\n",
    "genresj\n",
    "topgenres={}\n",
    "for k in genresj.keys():\n",
    "    topgenres[k]=len(genresj[k])\n",
    "d=topgenres\n",
    "glist=[]\n",
    "\n",
    "#for i,v in enumerate(topgenres):\n",
    " #   print i,v, topgenres[v]\n",
    "rank=0\n",
    "for w in sorted(d, key=d.get, reverse=True):\n",
    "    if rank < 15:\n",
    "        glist.append((rank,w, d[w]/allsongs))\n",
    "        rank +=1\n",
    "#glist now holds the genre's id number, the genre, and its freq in the overall population        \n",
    "\n",
    "glist"
   ]
  },
  {
   "cell_type": "code",
   "execution_count": 18,
   "metadata": {
    "collapsed": false
   },
   "outputs": [
    {
     "data": {
      "text/plain": [
       "((3331, 454), (833, 454))"
      ]
     },
     "execution_count": 18,
     "metadata": {},
     "output_type": "execute_result"
    }
   ],
   "source": [
    "dftr = df.sample(frac=0.8)\n",
    "dftst =  df.loc[~df.index.isin(dftr.index)]\n",
    "dftr.shape, dftst.shape"
   ]
  },
  {
   "cell_type": "markdown",
   "metadata": {},
   "source": [
    "## Readying the Training Sets\n",
    "For each genre, there is an in-genre set and all other genres together are not-in. Train the model and build fifteen classifiers. "
   ]
  },
  {
   "cell_type": "code",
   "execution_count": 19,
   "metadata": {
    "collapsed": false
   },
   "outputs": [],
   "source": [
    "def features(sentence):\n",
    "    words = sentence.lower().split()\n",
    "    return dict(('contains(%s)' % w, True) for w in words)\n"
   ]
  },
  {
   "cell_type": "code",
   "execution_count": 26,
   "metadata": {
    "collapsed": true
   },
   "outputs": [],
   "source": [
    "indict={}\n",
    "outdict={}\n",
    "classdict={}\n",
    "for genretuple in glist:\n",
    "    gindex=genretuple[0]\n",
    "    genre = genretuple[1]\n",
    "    gprior= genretuple[2]\n",
    "    #genre=\"/wiki/Pop_music\"\n",
    "\n",
    "    in_genre_df = dftr[dftr[genre]==True]\n",
    "    out_genre_df = dftr[dftr[genre]==False]\n",
    "\n",
    "    # concatentate the oyrics from each song into a \"sentence\"\n",
    "    in_sentences=[]\n",
    "    out_sentences=[]\n",
    "    for row in in_genre_df.iterrows():\n",
    "        songsents= row[1][2].split('.')\n",
    "        for s in songsents:\n",
    "            in_sentences.append(s)\n",
    "\n",
    "    for row in out_genre_df.iterrows():\n",
    "        songsents= row[1][2].split('.')\n",
    "        for s in songsents:\n",
    "            out_sentences.append(s)\n",
    "\n",
    "    positive_featuresets = list(map(features, in_sentences))\n",
    "    unlabeled_featuresets = list(map(features, out_sentences))\n",
    "    classdict[int(gindex)] = PositiveNaiveBayesClassifier.train(positive_featuresets,unlabeled_featuresets)\n",
    "print \"training complete\""
   ]
  },
  {
   "cell_type": "code",
   "execution_count": null,
   "metadata": {
    "collapsed": true
   },
   "outputs": [],
   "source": []
  },
  {
   "cell_type": "code",
   "execution_count": 33,
   "metadata": {
    "collapsed": false
   },
   "outputs": [],
   "source": [
    "def genre_classify(classtext):\n",
    "    for genretuple in glist:\n",
    "        gindex=genretuple[0]\n",
    "        genre = genretuple[1]\n",
    "        gprior= genretuple[2]\n",
    "        print genre[6:],\": \",classdict[gindex].classify(features(classtext))"
   ]
  },
  {
   "cell_type": "code",
   "execution_count": 34,
   "metadata": {
    "collapsed": false
   },
   "outputs": [
    {
     "name": "stdout",
     "output_type": "stream",
     "text": [
      "Pop_music :  False\n",
      "Hip_hop_music :  True\n",
      "Contemporary_R%26B :  False\n",
      "Soul_music :  False\n",
      "Rock_music :  False\n",
      "Pop_rock :  False\n",
      "Soft_rock :  False\n",
      "Country_music :  False\n",
      "Rhythm_and_blues :  False\n",
      "Alternative_rock :  False\n",
      "Funk :  False\n",
      "Hard_rock :  True\n",
      "Dance-pop :  True\n",
      "Dance_music :  False\n",
      "Disco :  True\n"
     ]
    }
   ],
   "source": [
    "genre_classify('beat the bitch with a bat')\n",
    "\n"
   ]
  },
  {
   "cell_type": "code",
   "execution_count": 36,
   "metadata": {
    "collapsed": false
   },
   "outputs": [
    {
     "name": "stdout",
     "output_type": "stream",
     "text": [
      "Pop_music :  True\n",
      "Hip_hop_music :  False\n",
      "Contemporary_R%26B :  True\n",
      "Soul_music :  True\n",
      "Rock_music :  False\n",
      "Pop_rock :  True\n",
      "Soft_rock :  True\n",
      "Country_music :  False\n",
      "Rhythm_and_blues :  True\n",
      "Alternative_rock :  False\n",
      "Funk :  False\n",
      "Hard_rock :  True\n",
      "Dance-pop :  True\n",
      "Dance_music :  True\n",
      "Disco :  True\n"
     ]
    }
   ],
   "source": [
    "genre_classify('I Love you')\n"
   ]
  },
  {
   "cell_type": "code",
   "execution_count": 39,
   "metadata": {
    "collapsed": false
   },
   "outputs": [
    {
     "name": "stdout",
     "output_type": "stream",
     "text": [
      "Pop_music :  False\n",
      "Hip_hop_music :  True\n",
      "Contemporary_R%26B :  False\n",
      "Soul_music :  False\n",
      "Rock_music :  False\n",
      "Pop_rock :  True\n",
      "Soft_rock :  True\n",
      "Country_music :  False\n",
      "Rhythm_and_blues :  False\n",
      "Alternative_rock :  True\n",
      "Funk :  False\n",
      "Hard_rock :  False\n",
      "Dance-pop :  True\n",
      "Dance_music :  False\n",
      "Disco :  False\n"
     ]
    }
   ],
   "source": [
    "genre_classify('My team lost the game')\n"
   ]
  },
  {
   "cell_type": "code",
   "execution_count": null,
   "metadata": {
    "collapsed": true
   },
   "outputs": [],
   "source": []
  }
 ],
 "metadata": {
  "kernelspec": {
   "display_name": "Python 2",
   "language": "python",
   "name": "python2"
  },
  "language_info": {
   "codemirror_mode": {
    "name": "ipython",
    "version": 2
   },
   "file_extension": ".py",
   "mimetype": "text/x-python",
   "name": "python",
   "nbconvert_exporter": "python",
   "pygments_lexer": "ipython2",
   "version": "2.7.10"
  }
 },
 "nbformat": 4,
 "nbformat_minor": 0
}
