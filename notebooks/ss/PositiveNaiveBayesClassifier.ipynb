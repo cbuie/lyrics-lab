{
 "cells": [
  {
   "cell_type": "markdown",
   "metadata": {},
   "source": [
    "## Positive Naive Bayes Classification \n",
    "\n",
    "A song can fit in more than one genre, and our conditioning of the data has been attentive to preserving the one-to-potentially-many relationship. In this part, a classifier develops a probability that a given body of text will fit within each of the top ten selected genres. It uses the nltk positive naive Bayes classifier to train a set of lyrics for each of the top 15 genres, using 80% of the data. It assigns uniform priors at various levels, then priors based on the relative frequency of songs. \n",
    "\n",
    "This process builds 15 distinct, independent classifiers, and then chooses a randome sentence from each song in the testing set, submitting it to each classifier, which returns True if the classifier predicts that the sentence is a member of the associated genre, and False otherwise. Thus, any body of text submitted to it could result in a prediction of zero, one, or up to 15 genre memberships.\n",
    "\n",
    "The numbers of true and false positives and negatives are accumulated, and the results are expressed as (true positives plus true negatives) / total observations.  To test whether the classifiers comport with our subjective understanding of what sentences are likey to be in which genres of music, at the end of the notebook the classifers are exposed to entry of arbitrary text which returns the predicted genre(s).\n",
    "\n",
    "The process does not use cross-validation because the nltk PositiveNaiveBayesClassifier does not expose any regularization parameters; the only parameter it accepts is a prior. The theoretically most appropriate prior to use for each genre is the genre's relative frequency in  the training set; the classifier is run against the testing set using other values for the prior only to gauge whether the theoretically chosen prior is at least as good as arbitrarily chosen values. The series of procedures suggest that it is.   \n",
    "\n",
    "### The real value of this classfier battery, however, is in how it performs in action, assessed subjectively.  To enter arbitrary text and see what (if any) genres it matches, run this notebook (Cell->Run All) and then go to the last cell.  The classifier battery takes about ten minutes to train, but then each text input is processed very quickly. "
   ]
  },
  {
   "cell_type": "code",
   "execution_count": 1,
   "metadata": {
    "collapsed": true
   },
   "outputs": [],
   "source": [
    "from nltk.classify import PositiveNaiveBayesClassifier\n",
    "import json\n",
    "import pandas as pd\n",
    "import random"
   ]
  },
  {
   "cell_type": "code",
   "execution_count": 2,
   "metadata": {
    "collapsed": false
   },
   "outputs": [
    {
     "data": {
      "text/html": [
       "<div>\n",
       "<table border=\"1\" class=\"dataframe\">\n",
       "  <thead>\n",
       "    <tr style=\"text-align: right;\">\n",
       "      <th></th>\n",
       "      <th>Unnamed: 0</th>\n",
       "      <th>song_key</th>\n",
       "      <th>lyrics</th>\n",
       "      <th>lyrics_url</th>\n",
       "      <th>lyrics_abstract</th>\n",
       "      <th>decade</th>\n",
       "      <th>artist</th>\n",
       "      <th>title</th>\n",
       "      <th>year</th>\n",
       "      <th>band_singer</th>\n",
       "      <th>...</th>\n",
       "      <th>/wiki/Western_swing</th>\n",
       "      <th>/wiki/Witch_house</th>\n",
       "      <th>/wiki/World_music</th>\n",
       "      <th>/wiki/Worldbeat</th>\n",
       "      <th>/wiki/Worship_music</th>\n",
       "      <th>/wiki/Zydeco</th>\n",
       "      <th>wordcount</th>\n",
       "      <th>wordset</th>\n",
       "      <th>lexdiv</th>\n",
       "      <th>repetition_score</th>\n",
       "    </tr>\n",
       "  </thead>\n",
       "  <tbody>\n",
       "    <tr>\n",
       "      <th>0</th>\n",
       "      <td>627</td>\n",
       "      <td>1976-86</td>\n",
       "      <td>Are you ready\\nDo what you wanna do\\nDo what y...</td>\n",
       "      <td>http://lyrics.wikia.com/Ohio_Players:Who%27d_S...</td>\n",
       "      <td>Are you ready\\nDo what you wanna do\\nDo what y...</td>\n",
       "      <td>1970</td>\n",
       "      <td>Ohio Players</td>\n",
       "      <td>Who'd She Coo?</td>\n",
       "      <td>1976</td>\n",
       "      <td>Ohio Players</td>\n",
       "      <td>...</td>\n",
       "      <td>False</td>\n",
       "      <td>False</td>\n",
       "      <td>False</td>\n",
       "      <td>False</td>\n",
       "      <td>False</td>\n",
       "      <td>False</td>\n",
       "      <td>35</td>\n",
       "      <td>26</td>\n",
       "      <td>0.742857</td>\n",
       "      <td>1.346154</td>\n",
       "    </tr>\n",
       "    <tr>\n",
       "      <th>1</th>\n",
       "      <td>1375</td>\n",
       "      <td>1984-59</td>\n",
       "      <td>I thought that dreams belonged to other men 'C...</td>\n",
       "      <td>http://lyrics.wikia.com/index.php?title=Mike_R...</td>\n",
       "      <td>I thought that dreams belonged to other men 'C...</td>\n",
       "      <td>1980</td>\n",
       "      <td>Mike Reno</td>\n",
       "      <td>Almost Paradise</td>\n",
       "      <td>1984</td>\n",
       "      <td>Ann Wilson</td>\n",
       "      <td>...</td>\n",
       "      <td>False</td>\n",
       "      <td>False</td>\n",
       "      <td>False</td>\n",
       "      <td>False</td>\n",
       "      <td>False</td>\n",
       "      <td>False</td>\n",
       "      <td>144</td>\n",
       "      <td>104</td>\n",
       "      <td>0.722222</td>\n",
       "      <td>1.384615</td>\n",
       "    </tr>\n",
       "  </tbody>\n",
       "</table>\n",
       "<p>2 rows × 454 columns</p>\n",
       "</div>"
      ],
      "text/plain": [
       "   Unnamed: 0 song_key                                             lyrics  \\\n",
       "0         627  1976-86  Are you ready\\nDo what you wanna do\\nDo what y...   \n",
       "1        1375  1984-59  I thought that dreams belonged to other men 'C...   \n",
       "\n",
       "                                          lyrics_url  \\\n",
       "0  http://lyrics.wikia.com/Ohio_Players:Who%27d_S...   \n",
       "1  http://lyrics.wikia.com/index.php?title=Mike_R...   \n",
       "\n",
       "                                     lyrics_abstract  decade        artist  \\\n",
       "0  Are you ready\\nDo what you wanna do\\nDo what y...    1970  Ohio Players   \n",
       "1  I thought that dreams belonged to other men 'C...    1980     Mike Reno   \n",
       "\n",
       "             title  year   band_singer       ...         /wiki/Western_swing  \\\n",
       "0   Who'd She Coo?  1976  Ohio Players       ...                       False   \n",
       "1  Almost Paradise  1984    Ann Wilson       ...                       False   \n",
       "\n",
       "  /wiki/Witch_house /wiki/World_music /wiki/Worldbeat /wiki/Worship_music  \\\n",
       "0             False             False           False               False   \n",
       "1             False             False           False               False   \n",
       "\n",
       "  /wiki/Zydeco wordcount wordset    lexdiv repetition_score  \n",
       "0        False        35      26  0.742857         1.346154  \n",
       "1        False       144     104  0.722222         1.384615  \n",
       "\n",
       "[2 rows x 454 columns]"
      ]
     },
     "execution_count": 2,
     "metadata": {},
     "output_type": "execute_result"
    }
   ],
   "source": [
    "# open the data set\n",
    "df = pd.read_csv(\"../../data/conditioned/all_years_and_genres_with_lyrics_and_wordcount_and_vocabulary_clean.csv\")\n",
    "df = df.drop_duplicates('song_key')\n",
    "# total number of songs\n",
    "allsongs= len(df)*1.0\n",
    "df.head(2)"
   ]
  },
  {
   "cell_type": "code",
   "execution_count": 3,
   "metadata": {
    "collapsed": false
   },
   "outputs": [
    {
     "data": {
      "text/plain": [
       "[(0, u'/wiki/Pop_music', 0.7867435158501441),\n",
       " (1, u'/wiki/Hip_hop_music', 0.6296829971181557),\n",
       " (2, u'/wiki/Contemporary_R%26B', 0.6162343900096061),\n",
       " (3, u'/wiki/Soul_music', 0.41306436119116235),\n",
       " (4, u'/wiki/Rock_music', 0.3621517771373679),\n",
       " (5, u'/wiki/Pop_rock', 0.3520653218059558),\n",
       " (6, u'/wiki/Soft_rock', 0.24639769452449567),\n",
       " (7, u'/wiki/Country_music', 0.1988472622478386),\n",
       " (8, u'/wiki/Rhythm_and_blues', 0.19548511047070125),\n",
       " (9, u'/wiki/Alternative_rock', 0.16234390009606148),\n",
       " (10, u'/wiki/Funk', 0.15994236311239193),\n",
       " (11, u'/wiki/Hard_rock', 0.15417867435158503),\n",
       " (12, u'/wiki/Dance-pop', 0.14169068203650337),\n",
       " (13, u'/wiki/Dance_music', 0.14169068203650337),\n",
       " (14, u'/wiki/Disco', 0.13160422670509125)]"
      ]
     },
     "execution_count": 3,
     "metadata": {},
     "output_type": "execute_result"
    }
   ],
   "source": [
    "# get the top 15 genres\n",
    "with open(\"../../notebooks/ss/songsbygenre.json\") as json_file:\n",
    "    genresj = json.load(json_file)\n",
    "   \n",
    "genrelist= genresj.keys()\n",
    "genresj\n",
    "topgenres={}\n",
    "for k in genresj.keys():\n",
    "    topgenres[k]=len(genresj[k])\n",
    "d=topgenres\n",
    "glist=[]\n",
    "\n",
    "rank=0\n",
    "for w in sorted(d, key=d.get, reverse=True):\n",
    "    if rank < 15:\n",
    "        glist.append((rank,w, d[w]/allsongs))\n",
    "        rank +=1\n",
    "#glist now holds the genre's id number, the genre, and its freq in the overall population        \n",
    "glist"
   ]
  },
  {
   "cell_type": "code",
   "execution_count": 4,
   "metadata": {
    "collapsed": false
   },
   "outputs": [
    {
     "data": {
      "text/plain": [
       "((3331, 454), (833, 454))"
      ]
     },
     "execution_count": 4,
     "metadata": {},
     "output_type": "execute_result"
    }
   ],
   "source": [
    "#train/test split\n",
    "dftr = df.sample(frac=0.8)\n",
    "dftst =  df.loc[~df.index.isin(dftr.index)]\n",
    "dftr.shape, dftst.shape"
   ]
  },
  {
   "cell_type": "markdown",
   "metadata": {},
   "source": [
    "## Readying the Training Sets\n",
    "For each genre, there is an in-genre set and all other genres together are not-in. Train the model and build fifteen classifiers. "
   ]
  },
  {
   "cell_type": "code",
   "execution_count": 5,
   "metadata": {
    "collapsed": false
   },
   "outputs": [],
   "source": [
    "def features(sentence):\n",
    "    words = sentence.lower().split()\n",
    "    return dict(('contains(%s)' % w, True) for w in words)\n"
   ]
  },
  {
   "cell_type": "markdown",
   "metadata": {},
   "source": [
    "## Train\n",
    "\n",
    "The parameter pprior is manually set for each iteration of the training process. It is either a uniform prior of a seelcted level, or a genre-dependent prior obtained from the relative frequency of the genre's appearance.   "
   ]
  },
  {
   "cell_type": "code",
   "execution_count": 6,
   "metadata": {
    "collapsed": false
   },
   "outputs": [],
   "source": [
    "classdict={}\n",
    "def trainclassifiers(prior):\n",
    "    #this trains 15 classifiers\n",
    "\n",
    "    for genretuple in glist:\n",
    "        gindex=genretuple[0]\n",
    "        genre = genretuple[1]\n",
    "        gprior= genretuple[2]\n",
    "        #genre=\"/wiki/Pop_music\"\n",
    "\n",
    "        in_genre_df = dftr[dftr[genre]==True]\n",
    "        out_genre_df = dftr[dftr[genre]==False]\n",
    "\n",
    "        # concatentate the oyrics from each song into a \"sentence\"\n",
    "        in_sentences=[]\n",
    "        out_sentences=[]\n",
    "        for row in in_genre_df.iterrows():\n",
    "            songsents= row[1][2].split('.')\n",
    "            for s in songsents:\n",
    "                in_sentences.append(s)\n",
    "\n",
    "        for row in out_genre_df.iterrows():\n",
    "            songsents= row[1][2].split('.')\n",
    "            for s in songsents:\n",
    "                out_sentences.append(s)\n",
    "        # this is where you set the prior\n",
    "        if prior == 0:\n",
    "            pprior = gprior*.0967\n",
    "        else:\n",
    "            pprior=  prior \n",
    "        positive_featuresets = list(map(features, in_sentences))\n",
    "        unlabeled_featuresets = list(map(features, out_sentences))\n",
    "        classdict[int(gindex)] = PositiveNaiveBayesClassifier.train(positive_featuresets,unlabeled_featuresets,positive_prob_prior=pprior)\n"
   ]
  },
  {
   "cell_type": "code",
   "execution_count": 7,
   "metadata": {
    "collapsed": false
   },
   "outputs": [],
   "source": [
    "# this function runs the supplied text against the 15 classifiers and prints the ones that return true\n",
    "def show_genre_classify(classtext):\n",
    "    noresult = True\n",
    "    for genretuple in glist:\n",
    "        gindex=genretuple[0]\n",
    "        genre = genretuple[1]\n",
    "        gprior= genretuple[2]\n",
    "        if classdict[gindex].classify(features(classtext)):\n",
    "            print genre[6:]\n",
    "            noresult = False\n",
    "    if noresult:\n",
    "        print \"No match\"\n"
   ]
  },
  {
   "cell_type": "markdown",
   "metadata": {},
   "source": [
    "## Testing Set in Action\n",
    "\n",
    "This part takes a sentence from each song and submits it to each of the fifteen classifiers. For each, it compares the predicted result to the observed value, keeping track of true and false positives and negatives. "
   ]
  },
  {
   "cell_type": "code",
   "execution_count": 8,
   "metadata": {
    "collapsed": false
   },
   "outputs": [
    {
     "name": "stdout",
     "output_type": "stream",
     "text": [
      "Baseline pct. predicting all negative: 0.86962785114 \n",
      "\n",
      "\n",
      "Prior:  0.01\n",
      "true positive:  37\n",
      "false positive:  69\n",
      "false negative:  1592\n",
      "true negative:  10797\n",
      "total observations:  12495\n",
      "pct correct:  0.867066826731 \n",
      "\n",
      "\n",
      "Baseline pct. predicting all negative: 0.86962785114 \n",
      "\n",
      "\n",
      "Prior:  0.02\n",
      "true positive:  77\n",
      "false positive:  113\n",
      "false negative:  1552\n",
      "true negative:  10753\n",
      "total observations:  12495\n",
      "pct correct:  0.866746698679 \n",
      "\n",
      "\n",
      "Baseline pct. predicting all negative: 0.86962785114 \n",
      "\n",
      "\n",
      "Prior:  0.03\n",
      "true positive:  111\n",
      "false positive:  195\n",
      "false negative:  1518\n",
      "true negative:  10671\n",
      "total observations:  12495\n",
      "pct correct:  0.862905162065 \n",
      "\n",
      "\n",
      "Baseline pct. predicting all negative: 0.86962785114 \n",
      "\n",
      "\n",
      "Prior:  0.05\n",
      "true positive:  116\n",
      "false positive:  382\n",
      "false negative:  1513\n",
      "true negative:  10484\n",
      "total observations:  12495\n",
      "pct correct:  0.848339335734 \n",
      "\n",
      "\n",
      "Baseline pct. predicting all negative: 0.86962785114 \n",
      "\n",
      "\n",
      "Prior:  0.1\n",
      "true positive:  217\n",
      "false positive:  845\n",
      "false negative:  1412\n",
      "true negative:  10021\n",
      "total observations:  12495\n",
      "pct correct:  0.819367747099 \n",
      "\n",
      "\n",
      "Baseline pct. predicting all negative: 0.86962785114 \n",
      "\n",
      "\n",
      "Prior:  0.2\n",
      "true positive:  426\n",
      "false positive:  2073\n",
      "false negative:  1203\n",
      "true negative:  8793\n",
      "total observations:  12495\n",
      "pct correct:  0.73781512605 \n",
      "\n",
      "\n",
      "Baseline pct. predicting all negative: 0.86962785114 \n",
      "\n",
      "\n",
      "Prior:  0.3\n",
      "true positive:  680\n",
      "false positive:  3376\n",
      "false negative:  949\n",
      "true negative:  7490\n",
      "total observations:  12495\n",
      "pct correct:  0.653861544618 \n",
      "\n",
      "\n",
      "Baseline pct. predicting all negative: 0.86962785114 \n",
      "\n",
      "\n",
      "Prior:  0\n",
      "true positive:  98\n",
      "false positive:  196\n",
      "false negative:  1531\n",
      "true negative:  10670\n",
      "total observations:  12495\n",
      "pct correct:  0.861784713886 \n",
      "\n",
      "\n"
     ]
    }
   ],
   "source": [
    "results={}\n",
    "# this function iterates over the values it contains for the prior\n",
    "# and for each iterates over the rows of the testing set,\n",
    "# selecting a random sentence from each one\n",
    "# then running the battery of 15 classifiers on the sentence\n",
    "for p in [.01,.02,.03,.05,.1,.2,.3,0]:\n",
    "    trainclassifiers(p)\n",
    "    truepos=0\n",
    "    trueneg=0\n",
    "    falsepos=0\n",
    "    falseneg=0\n",
    "    blpos=0\n",
    "    bltotal=0\n",
    "    # For each row in the test set\n",
    "    for row in dftst.iterrows():\n",
    "        # get a sentence from the song \n",
    "        song_sentences=[]\n",
    "        songsents= row[1][2].split('.')\n",
    "        if len(songsents)>0:\n",
    "            for s in songsents:\n",
    "                song_sentences.append(s)\n",
    "        songsent=random.choice(song_sentences)\n",
    "        for genretuple in glist:\n",
    "            gindex=genretuple[0]\n",
    "            genre = genretuple[1]\n",
    "            gprior= genretuple[2]\n",
    "            # see if it's in the song's genre list\n",
    "            observed =  genre in row[1][15]\n",
    "            predicted = classdict[gindex].classify(features(songsent))\n",
    "            if observed and predicted:\n",
    "                truepos += 1\n",
    "            if not observed and not predicted:\n",
    "                trueneg += 1\n",
    "            if observed and not predicted:\n",
    "                falseneg += 1\n",
    "            if not observed and predicted:\n",
    "                falsepos += 1\n",
    "            # this gets the baseline predicting all false\n",
    "            bltotal += 1\n",
    "            if observed:\n",
    "                blpos += 1\n",
    "                \n",
    "    print \"Baseline pct. predicting all negative:\", 1-1.0*blpos/bltotal,\"\\n\\n\"             \n",
    "\n",
    "    print \"Prior: \", p\n",
    "    print \"true positive: \",truepos\n",
    "    print \"false positive: \",falsepos\n",
    "    print \"false negative: \",falseneg\n",
    "    print \"true negative: \",trueneg\n",
    "    totobs= truepos+falsepos+trueneg+falseneg\n",
    "    print \"total observations: \",totobs \n",
    "    print \"pct correct: \", (1.0*truepos+trueneg)/totobs,\"\\n\\n\" \n",
    "    results[str(p)] =[truepos,falsepos,falseneg,trueneg]    \n"
   ]
  },
  {
   "cell_type": "markdown",
   "metadata": {},
   "source": [
    "## Results\n",
    "\n",
    "The choice of prior had influence on the results. With higher priors, the model had the greatest success in matching songs to their genres, but also overdid it considerably. False positives outnumbered true positives for every prior value, but the margin was much more for larger priors.   Very small priors bias the classifiers more toward the negative side, so far fewer matches were predicted, and the true negatives dominated. This is to be expected since each genre only has a small probability of being applicable to a selected song. \n",
    "\n",
    "Genre-specific priors were calculated by counting the number of songs in each genre, divided by the total number of songs, and multiplying that times the average probability of any one genre, 435 total genres divided by 4500 songs. Using the variable prior yielded the best results of all, correct 86.6% of the time and with results that made sense in light of experience.  \n",
    "\n",
    "Unfoprtunately, none of the models beat the simple classification baseline approach of just predicting negative each time. Part of the reason for this is the model selection- this process does not predict which of the genres are most likely; rather it independently predicts whether a sentence is likely to come from a given genre.  This was initially believed necessary to accommodate the one-to-many nature of the song-to-genre relation. But the result was to have a very low probability that the song would fit into each genre individually, thus making the data quite unbalanced in favor of negative results.  On the other hand, as the cells below indicate, when the classifier does prdict one or a small number of genres for a given text, it seems to be apt.   "
   ]
  },
  {
   "cell_type": "markdown",
   "metadata": {
    "collapsed": true
   },
   "source": [
    "## Have Some Fun\n",
    "\n",
    "In the cell below, replace the text between the quotes in any of the cells below with text of your choosing. The classifier will run against each genre and report which ones it considers a match. IF the matches are coming up empty, you can increase the sensitivity by de-commenting the line that runs the classifer training with a higher prior value. Do not use priors higher than 0.5. "
   ]
  },
  {
   "cell_type": "code",
   "execution_count": 9,
   "metadata": {
    "collapsed": false
   },
   "outputs": [
    {
     "name": "stdout",
     "output_type": "stream",
     "text": [
      "Rock_music\n",
      "Pop_rock\n",
      "Soft_rock\n",
      "Country_music\n",
      "Hard_rock\n",
      "Wall time: 42.6 s\n"
     ]
    }
   ],
   "source": [
    "%%time\n",
    "trainclassifiers(0.15)\n",
    "show_genre_classify('you left a mess behind when you went away')"
   ]
  },
  {
   "cell_type": "code",
   "execution_count": 10,
   "metadata": {
    "collapsed": false
   },
   "outputs": [
    {
     "name": "stdout",
     "output_type": "stream",
     "text": [
      "Hip_hop_music\n"
     ]
    }
   ],
   "source": [
    "show_genre_classify('beat the bitch with a bat')"
   ]
  },
  {
   "cell_type": "code",
   "execution_count": 11,
   "metadata": {
    "collapsed": false
   },
   "outputs": [
    {
     "name": "stdout",
     "output_type": "stream",
     "text": [
      "Pop_music\n",
      "Hip_hop_music\n",
      "Contemporary_R%26B\n",
      "Rock_music\n",
      "Soft_rock\n",
      "Country_music\n",
      "Rhythm_and_blues\n",
      "Alternative_rock\n",
      "Funk\n",
      "Hard_rock\n",
      "Dance-pop\n",
      "Dance_music\n"
     ]
    }
   ],
   "source": [
    "show_genre_classify('life liberty and the pursuit of happiness')"
   ]
  },
  {
   "cell_type": "code",
   "execution_count": 12,
   "metadata": {
    "collapsed": false,
    "slideshow": {
     "slide_type": "slide"
    }
   },
   "outputs": [
    {
     "name": "stdout",
     "output_type": "stream",
     "text": [
      "Hip_hop_music\n",
      "Alternative_rock\n",
      "Hard_rock\n"
     ]
    }
   ],
   "source": [
    "show_genre_classify('gun shoot pistol bullet dead or alive')"
   ]
  },
  {
   "cell_type": "code",
   "execution_count": 13,
   "metadata": {
    "collapsed": false
   },
   "outputs": [
    {
     "name": "stdout",
     "output_type": "stream",
     "text": [
      "Hip_hop_music\n",
      "Country_music\n"
     ]
    }
   ],
   "source": [
    "show_genre_classify('cheating woman left me my dog died truck broke down')"
   ]
  },
  {
   "cell_type": "code",
   "execution_count": null,
   "metadata": {
    "collapsed": true
   },
   "outputs": [],
   "source": []
  }
 ],
 "metadata": {
  "kernelspec": {
   "display_name": "Python 2",
   "language": "python",
   "name": "python2"
  },
  "language_info": {
   "codemirror_mode": {
    "name": "ipython",
    "version": 2
   },
   "file_extension": ".py",
   "mimetype": "text/x-python",
   "name": "python",
   "nbconvert_exporter": "python",
   "pygments_lexer": "ipython2",
   "version": "2.7.10"
  }
 },
 "nbformat": 4,
 "nbformat_minor": 0
}
