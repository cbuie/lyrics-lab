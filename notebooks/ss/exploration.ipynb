{
 "cells": [
  {
   "cell_type": "code",
   "execution_count": 20,
   "metadata": {
    "collapsed": true
   },
   "outputs": [],
   "source": [
    "%matplotlib inline\n",
    "import numpy as np\n",
    "import scipy as sp\n",
    "import matplotlib as mpl\n",
    "import matplotlib.cm as cm\n",
    "import matplotlib.pyplot as plt\n",
    "import pandas as pd\n",
    "pd.set_option('display.width', 500)\n",
    "pd.set_option('display.max_columns', 100)\n",
    "pd.set_option('display.notebook_repr_html', True)\n",
    "import seaborn as sns\n",
    "sns.set_style(\"whitegrid\")\n",
    "sns.set_context(\"poster\")\n",
    "import itertools\n",
    "import json\n",
    "import pickle\n",
    "import gensim"
   ]
  },
  {
   "cell_type": "code",
   "execution_count": 16,
   "metadata": {
    "collapsed": false
   },
   "outputs": [
    {
     "data": {
      "text/html": [
       "<div>\n",
       "<table border=\"1\" class=\"dataframe\">\n",
       "  <thead>\n",
       "    <tr style=\"text-align: right;\">\n",
       "      <th></th>\n",
       "      <th>position</th>\n",
       "      <th>year</th>\n",
       "      <th>title.href</th>\n",
       "      <th>title</th>\n",
       "      <th>artist</th>\n",
       "      <th>lyrics</th>\n",
       "      <th>decade</th>\n",
       "      <th>song_key</th>\n",
       "      <th>lyrics_url</th>\n",
       "      <th>lyrics_abstract</th>\n",
       "    </tr>\n",
       "  </thead>\n",
       "  <tbody>\n",
       "    <tr>\n",
       "      <th>0</th>\n",
       "      <td>1</td>\n",
       "      <td>1970</td>\n",
       "      <td>https://en.wikipedia.org/wiki/Bridge_over_Trou...</td>\n",
       "      <td>Bridge over Troubled Water</td>\n",
       "      <td>Simon and Garfunkel</td>\n",
       "      <td>When you're weary feeling small When tears are...</td>\n",
       "      <td>1970</td>\n",
       "      <td>1970-1</td>\n",
       "      <td>http://lyrics.wikia.com/Simon_And_Garfunkel:Br...</td>\n",
       "      <td>When you're weary\\nFeeling small\\nWhen tears a...</td>\n",
       "    </tr>\n",
       "    <tr>\n",
       "      <th>1</th>\n",
       "      <td>2</td>\n",
       "      <td>1970</td>\n",
       "      <td>https://en.wikipedia.org/wiki/(They_Long_to_Be...</td>\n",
       "      <td>(They Long to Be) Close to You</td>\n",
       "      <td>The Carpenters</td>\n",
       "      <td>x</td>\n",
       "      <td>1970</td>\n",
       "      <td>1970-2</td>\n",
       "      <td>http://lyrics.wikia.com/Carpenters:%28They_Lon...</td>\n",
       "      <td>Why do birds suddenly appear\\nEverytime you ar...</td>\n",
       "    </tr>\n",
       "    <tr>\n",
       "      <th>2</th>\n",
       "      <td>3</td>\n",
       "      <td>1970</td>\n",
       "      <td>https://en.wikipedia.org/wiki/American_Woman_(...</td>\n",
       "      <td>American Woman</td>\n",
       "      <td>The Guess Who</td>\n",
       "      <td>American woman, stay away from me American wom...</td>\n",
       "      <td>1970</td>\n",
       "      <td>1970-3</td>\n",
       "      <td>http://lyrics.wikia.com/The_Guess_Who:American...</td>\n",
       "      <td>Mmm, da da da\\nMmm, mmm, da da da\\nMmm, mmm, d...</td>\n",
       "    </tr>\n",
       "    <tr>\n",
       "      <th>3</th>\n",
       "      <td>4</td>\n",
       "      <td>1970</td>\n",
       "      <td>https://en.wikipedia.org/wiki/Raindrops_Keep_F...</td>\n",
       "      <td>Raindrops Keep Fallin' on My Head</td>\n",
       "      <td>B.J. Thomas</td>\n",
       "      <td>Raindrops keep falling on my head Just like th...</td>\n",
       "      <td>1970</td>\n",
       "      <td>1970-4</td>\n",
       "      <td>http://lyrics.wikia.com/B.J._Thomas:Raindrops_...</td>\n",
       "      <td>Raindrops are falling on my head\\nAnd just lik...</td>\n",
       "    </tr>\n",
       "    <tr>\n",
       "      <th>4</th>\n",
       "      <td>5</td>\n",
       "      <td>1970</td>\n",
       "      <td>https://en.wikipedia.org/wiki/War_(Edwin_Starr...</td>\n",
       "      <td>War</td>\n",
       "      <td>Edwin Starr</td>\n",
       "      <td>War huh Yeah! Absolutely uh-huh, uh-huh huh Ye...</td>\n",
       "      <td>1970</td>\n",
       "      <td>1970-5</td>\n",
       "      <td>http://lyrics.wikia.com/Edwin_Starr:War</td>\n",
       "      <td>War, huh, yeah\\nWhat is it good for?\\nAbsolute...</td>\n",
       "    </tr>\n",
       "  </tbody>\n",
       "</table>\n",
       "</div>"
      ],
      "text/plain": [
       "   position  year                                         title.href                              title               artist                                             lyrics  decade song_key                                         lyrics_url                                    lyrics_abstract\n",
       "0         1  1970  https://en.wikipedia.org/wiki/Bridge_over_Trou...         Bridge over Troubled Water  Simon and Garfunkel  When you're weary feeling small When tears are...    1970   1970-1  http://lyrics.wikia.com/Simon_And_Garfunkel:Br...  When you're weary\\nFeeling small\\nWhen tears a...\n",
       "1         2  1970  https://en.wikipedia.org/wiki/(They_Long_to_Be...     (They Long to Be) Close to You       The Carpenters                                                  x    1970   1970-2  http://lyrics.wikia.com/Carpenters:%28They_Lon...  Why do birds suddenly appear\\nEverytime you ar...\n",
       "2         3  1970  https://en.wikipedia.org/wiki/American_Woman_(...                     American Woman        The Guess Who  American woman, stay away from me American wom...    1970   1970-3  http://lyrics.wikia.com/The_Guess_Who:American...  Mmm, da da da\\nMmm, mmm, da da da\\nMmm, mmm, d...\n",
       "3         4  1970  https://en.wikipedia.org/wiki/Raindrops_Keep_F...  Raindrops Keep Fallin' on My Head          B.J. Thomas  Raindrops keep falling on my head Just like th...    1970   1970-4  http://lyrics.wikia.com/B.J._Thomas:Raindrops_...  Raindrops are falling on my head\\nAnd just lik...\n",
       "4         5  1970  https://en.wikipedia.org/wiki/War_(Edwin_Starr...                                War          Edwin Starr  War huh Yeah! Absolutely uh-huh, uh-huh huh Ye...    1970   1970-5            http://lyrics.wikia.com/Edwin_Starr:War  War, huh, yeah\\nWhat is it good for?\\nAbsolute..."
      ]
     },
     "execution_count": 16,
     "metadata": {},
     "output_type": "execute_result"
    }
   ],
   "source": [
    "# Open everything that's been saved in /data/conditioned\n",
    "\n",
    "df=pd.read_csv(\"../../data/conditioned/master-lyricsdf.csv\")\n",
    "\n",
    "\n",
    "with open(\"../../data/conditioned/noun-n-gram.json\") as json_file:\n",
    "    noungram = json.load(json_file)\n",
    "with open(\"../../data/conditioned/adj-n-gram.json\") as json_file:\n",
    "    adjgram = json.load(json_file)\n",
    "with open(\"../../data/conditioned/nounvocab.json\") as json_file:\n",
    "    nounvocab = json.load(json_file)\n",
    "with open(\"../../data/conditioned/nounid2word.json\") as json_file:\n",
    "    nounid2word = json.load(json_file)\n",
    "with open(\"../../data/conditioned/adjvocab.json\") as json_file:\n",
    "    adjvocab = json.load(json_file)\n",
    "with open(\"../../data/conditioned/adjid2word.json\") as json_file:\n",
    "    adjid2word = json.load(json_file)\n",
    "\n",
    "\n",
    "f = open(\"../../data/conditioned/ahypes.p\",'r')  \n",
    "ahypes = pickle.load(f)  \n",
    "f = open(\"../../data/conditioned/nhypes.p\",'r')  \n",
    "nhypes = pickle.load(f)\n",
    "f = open(\"../../data/conditioned/corpus.p\",'r')  \n",
    "corpus = pickle.load(f)\n",
    "\n",
    "\n",
    "df.head()"
   ]
  },
  {
   "cell_type": "code",
   "execution_count": 105,
   "metadata": {
    "collapsed": false
   },
   "outputs": [],
   "source": [
    "id2w=dict()\n",
    "run = dict()\n",
    "ntopics=4\n",
    "for k in nounid2word:\n",
    "    id2w[int(k)]=nounid2word[k]\n",
    "# reduce the chunksize and make passes=2 since our data is not so big.\n",
    "for i in range(1,ntopics):\n",
    "    lda = gensim.models.ldamodel.LdaModel(corpus=corpus, id2word=id2w, num_topics=i+1, update_every=1, chunksize=100, passes=1)\n",
    "    run[i+1]= lda.print_topics(num_topics=i+1,num_words=10)"
   ]
  },
  {
   "cell_type": "code",
   "execution_count": 106,
   "metadata": {
    "collapsed": false
   },
   "outputs": [
    {
     "name": "stdout",
     "output_type": "stream",
     "text": [
      "\n",
      " Topics:  2\n",
      "0.014*money + 0.013*nigga + 0.013*bitch + 0.010*man + 0.010*shit + 0.010*body + 0.009*everybody + 0.009*club + 0.009*hitta + 0.009*ya\n",
      "\n",
      "\n",
      "0.039*baby + 0.034*girl + 0.032*time + 0.030*love + 0.028*night + 0.028*way + 0.020*heart + 0.019*thing + 0.018*life + 0.014*tonight\n",
      "\n",
      "\n",
      "\n",
      " Topics:  3\n",
      "0.042*time + 0.040*love + 0.037*night + 0.029*way + 0.027*heart + 0.024*life + 0.022*thing + 0.018*day + 0.017*tonight + 0.014*hand\n",
      "\n",
      "\n",
      "0.020*nigga + 0.019*bitch + 0.015*shit + 0.013*party + 0.013*club + 0.013*dance + 0.010*round + 0.009*ass + 0.009*hitta + 0.008*cause\n",
      "\n",
      "\n",
      "0.065*girl + 0.060*baby + 0.030*ya + 0.025*boy + 0.023*money + 0.021*man + 0.014*home + 0.014*rock + 0.011*way + 0.011*somebody\n",
      "\n",
      "\n",
      "\n",
      " Topics:  4\n",
      "0.030*money + 0.026*nigga + 0.025*bitch + 0.021*man + 0.021*shit + 0.018*club + 0.014*ass + 0.010*fall + 0.010*hitta + 0.009*wit\n",
      "\n",
      "\n",
      "0.053*girl + 0.049*time + 0.048*love + 0.042*way + 0.032*heart + 0.028*thing + 0.027*life + 0.023*tonight + 0.021*boy + 0.018*hand\n",
      "\n",
      "\n",
      "0.094*baby + 0.047*ya + 0.026*everybody + 0.024*home + 0.020*party + 0.016*somebody + 0.014*head + 0.011*ride + 0.011*drink + 0.011*kid\n",
      "\n",
      "\n",
      "0.049*night + 0.022*light + 0.020*rock + 0.017*day + 0.016*dance + 0.015*round + 0.014*eye + 0.014*road + 0.013*floor + 0.012*air\n",
      "\n",
      "\n"
     ]
    }
   ],
   "source": [
    "for i in range(1,ntopics):\n",
    "    print \"\\n Topics: \",i+1\n",
    "    line=run[i+1]\n",
    "    for j in range(0,i+1):\n",
    "        print line[j]\n",
    "        print \"\\n\""
   ]
  },
  {
   "cell_type": "code",
   "execution_count": 114,
   "metadata": {
    "collapsed": false
   },
   "outputs": [
    {
     "name": "stdout",
     "output_type": "stream",
     "text": [
      "[(4160, 1), (5019, 1), (6324, 1), (4493, 1), (839, 1)]\n",
      "[(0, 0.042219595632652512), (1, 0.042983946959474127), (2, 0.66285508891011624), (3, 0.25194136849775711)]\n"
     ]
    },
    {
     "ename": "KeyError",
     "evalue": "4160",
     "output_type": "error",
     "traceback": [
      "\u001b[1;31m---------------------------------------------------------------------------\u001b[0m",
      "\u001b[1;31mKeyError\u001b[0m                                  Traceback (most recent call last)",
      "\u001b[1;32m<ipython-input-114-4de685f7f748>\u001b[0m in \u001b[0;36m<module>\u001b[1;34m()\u001b[0m\n\u001b[0;32m      2\u001b[0m     \u001b[1;32mprint\u001b[0m \u001b[0mbow\u001b[0m\u001b[1;33m\u001b[0m\u001b[0m\n\u001b[0;32m      3\u001b[0m     \u001b[1;32mprint\u001b[0m \u001b[0mlda\u001b[0m\u001b[1;33m.\u001b[0m\u001b[0mget_document_topics\u001b[0m\u001b[1;33m(\u001b[0m\u001b[0mbow\u001b[0m\u001b[1;33m)\u001b[0m\u001b[1;33m\u001b[0m\u001b[0m\n\u001b[1;32m----> 4\u001b[1;33m     \u001b[1;32mprint\u001b[0m \u001b[1;34m\" \"\u001b[0m\u001b[1;33m.\u001b[0m\u001b[0mjoin\u001b[0m\u001b[1;33m(\u001b[0m\u001b[1;33m[\u001b[0m\u001b[0mnounid2word\u001b[0m\u001b[1;33m[\u001b[0m\u001b[0me\u001b[0m\u001b[1;33m[\u001b[0m\u001b[1;36m0\u001b[0m\u001b[1;33m]\u001b[0m\u001b[1;33m]\u001b[0m \u001b[1;32mfor\u001b[0m \u001b[0me\u001b[0m \u001b[1;32min\u001b[0m \u001b[0mbow\u001b[0m\u001b[1;33m]\u001b[0m\u001b[1;33m)\u001b[0m\u001b[1;33m\u001b[0m\u001b[0m\n\u001b[0m\u001b[0;32m      5\u001b[0m     \u001b[1;32mprint\u001b[0m \u001b[1;34m\"==========================================\"\u001b[0m\u001b[1;33m\u001b[0m\u001b[0m\n",
      "\u001b[1;31mKeyError\u001b[0m: 4160"
     ]
    }
   ],
   "source": [
    "for bow in corpus[2:80:3]:\n",
    "    print bow\n",
    "    print lda.get_document_topics(bow)\n",
    "    print \" \".join([nounid2word[e[0]] for e in bow])\n",
    "    print \"==========================================\""
   ]
  },
  {
   "cell_type": "code",
   "execution_count": 109,
   "metadata": {
    "collapsed": false
   },
   "outputs": [
    {
     "data": {
      "text/plain": [
       "[(4160, 1), (5019, 1), (6324, 1), (4493, 1), (839, 1)]"
      ]
     },
     "execution_count": 109,
     "metadata": {},
     "output_type": "execute_result"
    }
   ],
   "source": [
    "bow"
   ]
  },
  {
   "cell_type": "code",
   "execution_count": 112,
   "metadata": {
    "collapsed": false
   },
   "outputs": [
    {
     "data": {
      "text/plain": [
       "[u'5989',\n",
       " u'5982',\n",
       " u'5983',\n",
       " u'5980',\n",
       " u'5981',\n",
       " u'5986',\n",
       " u'5987',\n",
       " u'5984',\n",
       " u'5985']"
      ]
     },
     "execution_count": 112,
     "metadata": {},
     "output_type": "execute_result"
    }
   ],
   "source": [
    "nounid2word.keys()[1:10]"
   ]
  },
  {
   "cell_type": "code",
   "execution_count": null,
   "metadata": {
    "collapsed": true
   },
   "outputs": [],
   "source": []
  }
 ],
 "metadata": {
  "kernelspec": {
   "display_name": "Python 2",
   "language": "python",
   "name": "python2"
  },
  "language_info": {
   "codemirror_mode": {
    "name": "ipython",
    "version": 2
   },
   "file_extension": ".py",
   "mimetype": "text/x-python",
   "name": "python",
   "nbconvert_exporter": "python",
   "pygments_lexer": "ipython2",
   "version": "2.7.10"
  }
 },
 "nbformat": 4,
 "nbformat_minor": 0
}
