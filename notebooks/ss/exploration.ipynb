{
 "cells": [
  {
   "cell_type": "code",
   "execution_count": 1,
   "metadata": {
    "collapsed": true
   },
   "outputs": [],
   "source": [
    "%matplotlib inline\n",
    "import numpy as np\n",
    "import scipy as sp\n",
    "import matplotlib as mpl\n",
    "import matplotlib.cm as cm\n",
    "import matplotlib.pyplot as plt\n",
    "import pandas as pd\n",
    "pd.set_option('display.width', 500)\n",
    "pd.set_option('display.max_columns', 100)\n",
    "pd.set_option('display.notebook_repr_html', True)\n",
    "import seaborn as sns\n",
    "sns.set_style(\"whitegrid\")\n",
    "sns.set_context(\"poster\")\n",
    "import itertools\n",
    "import json\n",
    "import pickle\n",
    "import gensim"
   ]
  },
  {
   "cell_type": "code",
   "execution_count": 2,
   "metadata": {
    "collapsed": false
   },
   "outputs": [
    {
     "data": {
      "text/html": [
       "<div>\n",
       "<table border=\"1\" class=\"dataframe\">\n",
       "  <thead>\n",
       "    <tr style=\"text-align: right;\">\n",
       "      <th></th>\n",
       "      <th>index</th>\n",
       "      <th>position</th>\n",
       "      <th>year</th>\n",
       "      <th>title.href</th>\n",
       "      <th>title</th>\n",
       "      <th>artist</th>\n",
       "      <th>lyrics</th>\n",
       "      <th>decade</th>\n",
       "      <th>song_key</th>\n",
       "      <th>lyrics_url</th>\n",
       "      <th>lyrics_abstract</th>\n",
       "    </tr>\n",
       "  </thead>\n",
       "  <tbody>\n",
       "    <tr>\n",
       "      <th>0</th>\n",
       "      <td>0</td>\n",
       "      <td>1</td>\n",
       "      <td>1970</td>\n",
       "      <td>https://en.wikipedia.org/wiki/Bridge_over_Trou...</td>\n",
       "      <td>Bridge over Troubled Water</td>\n",
       "      <td>Simon and Garfunkel</td>\n",
       "      <td>When you're weary. Feeling small. When tears a...</td>\n",
       "      <td>1970</td>\n",
       "      <td>1970-1</td>\n",
       "      <td>http://lyrics.wikia.com/Simon_And_Garfunkel:Br...</td>\n",
       "      <td>When you're weary. Feeling small. When tears a...</td>\n",
       "    </tr>\n",
       "    <tr>\n",
       "      <th>1</th>\n",
       "      <td>1</td>\n",
       "      <td>2</td>\n",
       "      <td>1970</td>\n",
       "      <td>https://en.wikipedia.org/wiki/(They_Long_to_Be...</td>\n",
       "      <td>(They Long to Be) Close to You</td>\n",
       "      <td>The Carpenters</td>\n",
       "      <td>Why do birds suddenly appear. Everytime you ar...</td>\n",
       "      <td>1970</td>\n",
       "      <td>1970-2</td>\n",
       "      <td>http://lyrics.wikia.com/Carpenters:%28They_Lon...</td>\n",
       "      <td>Why do birds suddenly appear. Everytime you ar...</td>\n",
       "    </tr>\n",
       "    <tr>\n",
       "      <th>2</th>\n",
       "      <td>2</td>\n",
       "      <td>3</td>\n",
       "      <td>1970</td>\n",
       "      <td>https://en.wikipedia.org/wiki/American_Woman_(...</td>\n",
       "      <td>American Woman</td>\n",
       "      <td>The Guess Who</td>\n",
       "      <td>Mmm, da da da. Mmm, mmm, da da da. Mmm, mmm, d...</td>\n",
       "      <td>1970</td>\n",
       "      <td>1970-3</td>\n",
       "      <td>http://lyrics.wikia.com/The_Guess_Who:American...</td>\n",
       "      <td>Mmm, da da da. Mmm, mmm, da da da. Mmm, mmm, d...</td>\n",
       "    </tr>\n",
       "    <tr>\n",
       "      <th>3</th>\n",
       "      <td>3</td>\n",
       "      <td>4</td>\n",
       "      <td>1970</td>\n",
       "      <td>https://en.wikipedia.org/wiki/Raindrops_Keep_F...</td>\n",
       "      <td>Raindrops Keep Fallin' on My Head</td>\n",
       "      <td>B.J. Thomas</td>\n",
       "      <td>Raindrops are falling on my head. And just lik...</td>\n",
       "      <td>1970</td>\n",
       "      <td>1970-4</td>\n",
       "      <td>http://lyrics.wikia.com/B.J._Thomas:Raindrops_...</td>\n",
       "      <td>Raindrops are falling on my head. And just lik...</td>\n",
       "    </tr>\n",
       "    <tr>\n",
       "      <th>4</th>\n",
       "      <td>4</td>\n",
       "      <td>5</td>\n",
       "      <td>1970</td>\n",
       "      <td>https://en.wikipedia.org/wiki/War_(Edwin_Starr...</td>\n",
       "      <td>War</td>\n",
       "      <td>Edwin Starr</td>\n",
       "      <td>War, huh, yeah. What is it good for? Absolutel...</td>\n",
       "      <td>1970</td>\n",
       "      <td>1970-5</td>\n",
       "      <td>http://lyrics.wikia.com/Edwin_Starr:War</td>\n",
       "      <td>War, huh, yeah. What is it good for? Absolutel...</td>\n",
       "    </tr>\n",
       "  </tbody>\n",
       "</table>\n",
       "</div>"
      ],
      "text/plain": [
       "   index  position  year                                         title.href                              title               artist                                             lyrics  decade song_key                                         lyrics_url                                    lyrics_abstract\n",
       "0      0         1  1970  https://en.wikipedia.org/wiki/Bridge_over_Trou...         Bridge over Troubled Water  Simon and Garfunkel  When you're weary. Feeling small. When tears a...    1970   1970-1  http://lyrics.wikia.com/Simon_And_Garfunkel:Br...  When you're weary. Feeling small. When tears a...\n",
       "1      1         2  1970  https://en.wikipedia.org/wiki/(They_Long_to_Be...     (They Long to Be) Close to You       The Carpenters  Why do birds suddenly appear. Everytime you ar...    1970   1970-2  http://lyrics.wikia.com/Carpenters:%28They_Lon...  Why do birds suddenly appear. Everytime you ar...\n",
       "2      2         3  1970  https://en.wikipedia.org/wiki/American_Woman_(...                     American Woman        The Guess Who  Mmm, da da da. Mmm, mmm, da da da. Mmm, mmm, d...    1970   1970-3  http://lyrics.wikia.com/The_Guess_Who:American...  Mmm, da da da. Mmm, mmm, da da da. Mmm, mmm, d...\n",
       "3      3         4  1970  https://en.wikipedia.org/wiki/Raindrops_Keep_F...  Raindrops Keep Fallin' on My Head          B.J. Thomas  Raindrops are falling on my head. And just lik...    1970   1970-4  http://lyrics.wikia.com/B.J._Thomas:Raindrops_...  Raindrops are falling on my head. And just lik...\n",
       "4      4         5  1970  https://en.wikipedia.org/wiki/War_(Edwin_Starr...                                War          Edwin Starr  War, huh, yeah. What is it good for? Absolutel...    1970   1970-5            http://lyrics.wikia.com/Edwin_Starr:War  War, huh, yeah. What is it good for? Absolutel..."
      ]
     },
     "execution_count": 2,
     "metadata": {},
     "output_type": "execute_result"
    }
   ],
   "source": [
    "# Open everything that's been saved in /data/conditioned\n",
    "\n",
    "df=pd.read_csv(\"../../data/conditioned/use-this-master-lyricsdf-extracted.csv\")\n",
    "\n",
    "\n",
    "with open(\"../../data/conditioned/noun-n-gram.json\") as json_file:\n",
    "    noungram = json.load(json_file)\n",
    "with open(\"../../data/conditioned/nounvocab.json\") as json_file:\n",
    "    nounvocab = json.load(json_file)\n",
    "with open(\"../../data/conditioned/nounid2word.json\") as json_file:\n",
    "    nounid2word = json.load(json_file)\n",
    "with open(\"../../data/conditioned/adj-n-gram.json\") as json_file:\n",
    "    adjgram = json.load(json_file)\n",
    "with open(\"../../data/conditioned/adjvocab.json\") as json_file:\n",
    "    adjvocab = json.load(json_file)\n",
    "with open(\"../../data/conditioned/adjid2word.json\") as json_file:\n",
    "    adjid2word = json.load(json_file)\n",
    "\n",
    "\n",
    "f = open(\"../../data/conditioned/ahypes.p\",'r')  \n",
    "ahypes = pickle.load(f)  \n",
    "f = open(\"../../data/conditioned/nhypes.p\",'r')  \n",
    "nhypes = pickle.load(f)\n",
    "f = open(\"../../data/conditioned/corpus.p\",'r')  \n",
    "corpus = pickle.load(f)\n",
    "\n",
    "\n",
    "df.head()"
   ]
  },
  {
   "cell_type": "code",
   "execution_count": 3,
   "metadata": {
    "collapsed": false
   },
   "outputs": [],
   "source": [
    "id2w=dict()\n",
    "run = dict()\n",
    "ntopics=4\n",
    "for k in nounid2word:\n",
    "    id2w[int(k)]=nounid2word[k]\n",
    "# reduce the chunksize and make passes=2 since our data is not so big.\n",
    "for i in range(1,ntopics):\n",
    "    lda = gensim.models.ldamodel.LdaModel(corpus=corpus, id2word=id2w, num_topics=i+1, update_every=1, chunksize=100, passes=1)\n",
    "    run[i+1]= lda.print_topics(num_topics=i+1,num_words=10)"
   ]
  },
  {
   "cell_type": "code",
   "execution_count": 4,
   "metadata": {
    "collapsed": false
   },
   "outputs": [
    {
     "name": "stdout",
     "output_type": "stream",
     "text": [
      "\n",
      " Topics:  2\n",
      "0.019*ya + 0.015*man + 0.014*money + 0.012*girl + 0.012*nigga + 0.012*bitch + 0.010*everybody + 0.010*boy + 0.010*shit + 0.008*club\n",
      "\n",
      "\n",
      "0.037*baby + 0.034*time + 0.032*love + 0.030*night + 0.028*way + 0.026*girl + 0.022*heart + 0.019*thing + 0.019*life + 0.015*day\n",
      "\n",
      "\n",
      "\n",
      " Topics:  3\n",
      "0.079*girl + 0.068*love + 0.040*heart + 0.031*tonight + 0.031*boy + 0.017*man + 0.016*world + 0.013*everybody + 0.013*kiss + 0.009*music\n",
      "\n",
      "\n",
      "0.047*baby + 0.042*time + 0.036*way + 0.034*night + 0.023*thing + 0.022*life + 0.022*ya + 0.019*day + 0.017*hand + 0.013*body\n",
      "\n",
      "\n",
      "0.017*nigga + 0.016*bitch + 0.013*shit + 0.013*money + 0.012*home + 0.012*song + 0.011*club + 0.011*party + 0.009*round + 0.009*somebody\n",
      "\n",
      "\n",
      "\n",
      " Topics:  4\n",
      "0.064*baby + 0.053*girl + 0.050*love + 0.048*time + 0.039*way + 0.033*heart + 0.029*thing + 0.025*life + 0.024*tonight + 0.017*body\n",
      "\n",
      "\n",
      "0.038*ya + 0.026*nigga + 0.025*bitch + 0.020*shit + 0.014*man + 0.013*ass + 0.013*money + 0.012*song + 0.009*animal + 0.008*game\n",
      "\n",
      "\n",
      "0.047*night + 0.029*hand + 0.020*day + 0.019*head + 0.015*party + 0.015*light + 0.013*road + 0.012*somebody + 0.010*way + 0.010*home\n",
      "\n",
      "\n",
      "0.031*boy + 0.025*rock + 0.021*everybody + 0.019*dance + 0.018*money + 0.015*kid + 0.012*hitta + 0.012*bass + 0.011*drink + 0.011*break\n",
      "\n",
      "\n"
     ]
    }
   ],
   "source": [
    "for i in range(1,ntopics):\n",
    "    print \"\\n Topics: \",i+1\n",
    "    line=run[i+1]\n",
    "    for j in range(0,i+1):\n",
    "        print line[j]\n",
    "        print \"\\n\""
   ]
  },
  {
   "cell_type": "code",
   "execution_count": 5,
   "metadata": {
    "collapsed": false
   },
   "outputs": [
    {
     "name": "stdout",
     "output_type": "stream",
     "text": [
      "[(4160, 1), (5019, 1), (6324, 1), (4493, 1), (839, 1)]\n",
      "[(0, 0.042076967847928103), (1, 0.042258115733046414), (2, 0.87291977994968029), (3, 0.042745136469345212)]\n",
      "raindrop guy bed head foot\n",
      "==========================================\n",
      "[(7339, 1)]\n",
      "[(0, 0.12500449354030171), (1, 0.12500050569373053), (2, 0.12502749495157212), (3, 0.62496750581439564)]\n",
      "year\n",
      "==========================================\n",
      "[(5772, 2), (3776, 1), (7540, 1), (4845, 1), (7661, 1)]\n",
      "[(0, 0.57342858584336731), (1, 0.35508184483206146), (2, 0.035715463079107709), (3, 0.035774106245463462)]\n",
      "kind anybody yeahhh yes woman\n",
      "==========================================\n",
      "[(6760, 1), (554, 1), (1788, 1)]\n",
      "[(0, 0.31094329316617653), (1, 0.062761020233086121), (2, 0.31214322455012011), (3, 0.31415246205061736)]\n",
      "fever dance baby\n",
      "==========================================\n",
      "[(577, 2), (1788, 2), (2, 1), (4036, 1), (7670, 1), (333, 1), (1583, 1), (2322, 1), (3029, 1), (1206, 1), (7287, 1), (5211, 1), (7612, 1), (7006, 1)]\n",
      "[(0, 0.65630086447887526), (1, 0.13917021672388249), (2, 0.085112191616620841), (3, 0.11941672718062132)]\n",
      "word baby sleep somethin grass tone hissin look thing eye man way missin voice\n",
      "==========================================\n",
      "[(3688, 1)]\n",
      "[(0, 0.62357636277577577), (1, 0.1264194578524499), (2, 0.12500187916846797), (3, 0.12500230020330638)]\n",
      "matter\n",
      "==========================================\n",
      "[(7792, 2), (3570, 1), (2970, 1)]\n",
      "[(0, 0.05018650751786926), (1, 0.050295451154804362), (2, 0.050310554344461411), (3, 0.84920748698286486)]\n",
      "male usin attraction\n",
      "==========================================\n",
      "[(8351, 1)]\n",
      "[(0, 0.12500584793807171), (1, 0.13027082070509571), (2, 0.61674395618780475), (3, 0.12797937516902796)]\n",
      "bunch\n",
      "==========================================\n",
      "[(3518, 1)]\n",
      "[(0, 0.12500539870321498), (1, 0.12512886886711944), (2, 0.1250064316403223), (3, 0.62485930078934326)]\n",
      "help\n",
      "==========================================\n",
      "[(55, 2), (5029, 1), (4364, 1), (6254, 1), (7025, 1), (5461, 1), (5592, 1), (6686, 1), (6879, 1)]\n",
      "[(0, 0.64506046504866088), (1, 0.022764900305741017), (2, 0.19783770984721621), (3, 0.13433692479838194)]\n",
      "hero fear world truth hand road search emptiness strength\n",
      "==========================================\n"
     ]
    }
   ],
   "source": [
    "for bow in corpus[2:4400:440]:\n",
    "    print bow\n",
    "    print lda.get_document_topics(bow)\n",
    "    print \" \".join([id2w[e[0]] for e in bow])\n",
    "    print \"==========================================\""
   ]
  },
  {
   "cell_type": "code",
   "execution_count": 6,
   "metadata": {
    "collapsed": false
   },
   "outputs": [],
   "source": [
    "lsi = gensim.models.lsimodel.LsiModel(corpus=corpus, id2word=id2w, num_topics=40)"
   ]
  },
  {
   "cell_type": "code",
   "execution_count": 7,
   "metadata": {
    "collapsed": false
   },
   "outputs": [
    {
     "name": "stdout",
     "output_type": "stream",
     "text": [
      "1 .   -0.641*\"love\" + -0.469*\"baby\" + -0.280*\"time\" + -0.249*\"girl\" + -0.195*\"way\" + -0.154*\"night\" + -0.134*\"heart\" + -0.120*\"thing\" + -0.112*\"ya\" + -0.107*\"life\" \n",
      "\n",
      "2 .   0.582*\"dance\" + -0.549*\"love\" + 0.488*\"baby\" + 0.188*\"body\" + 0.183*\"bop\" + 0.101*\"ya\" + 0.099*\"girl\" + 0.081*\"bump\" + 0.059*\"bow\" + 0.049*\"night\" \n",
      "\n",
      "3 .   -0.740*\"dance\" + 0.437*\"baby\" + -0.386*\"love\" + -0.238*\"bop\" + 0.106*\"girl\" + 0.104*\"body\" + 0.087*\"ya\" + -0.076*\"bow\" + 0.054*\"bump\" + -0.038*\"yowsah\" \n",
      "\n",
      "4 .   -0.491*\"girl\" + 0.474*\"baby\" + -0.377*\"time\" + 0.315*\"love\" + -0.265*\"way\" + 0.149*\"body\" + -0.144*\"thing\" + -0.129*\"day\" + -0.128*\"ya\" + -0.125*\"man\" \n",
      "\n",
      "5 .   -0.849*\"body\" + -0.362*\"bump\" + 0.296*\"baby\" + -0.119*\"girl\" + -0.110*\"yippie-yi-yo-yippie-yi-yea\" + -0.074*\"reer\" + 0.066*\"time\" + -0.058*\"night\" + -0.053*\"love\" + 0.051*\"ya\" \n",
      "\n",
      "6 .   -0.713*\"girl\" + 0.550*\"time\" + 0.215*\"night\" + 0.166*\"way\" + -0.127*\"love\" + 0.125*\"day\" + 0.097*\"body\" + 0.089*\"thing\" + 0.087*\"life\" + 0.078*\"heart\" \n",
      "\n",
      "7 .   -0.791*\"night\" + 0.412*\"time\" + -0.286*\"dit\" + -0.171*\"doo\" + 0.138*\"ya\" + -0.121*\"way\" + 0.088*\"da\" + 0.086*\"body\" + -0.085*\"day\" + 0.068*\"bump\" \n",
      "\n",
      "8 .   0.557*\"way\" + 0.475*\"ya\" + -0.405*\"time\" + 0.367*\"da\" + -0.237*\"girl\" + -0.141*\"night\" + 0.130*\"thing\" + 0.098*\"ba\" + 0.074*\"boy\" + -0.072*\"baby\" \n",
      "\n",
      "9 .   -0.583*\"way\" + 0.536*\"da\" + 0.441*\"ya\" + 0.253*\"night\" + 0.138*\"ba\" + 0.138*\"time\" + 0.121*\"dit\" + -0.120*\"thing\" + -0.090*\"day\" + -0.071*\"baby\" \n",
      "\n",
      "10 .   -0.709*\"da\" + 0.554*\"ya\" + -0.189*\"way\" + 0.180*\"boy\" + -0.126*\"girl\" + 0.095*\"man\" + -0.092*\"ba\" + 0.088*\"money\" + 0.087*\"thing\" + 0.081*\"check\" \n",
      "\n"
     ]
    }
   ],
   "source": [
    "tlist = lsi.print_topics(10)\n",
    "i=0\n",
    "for t in tlist:\n",
    "    i+=1\n",
    "    print i,\".  \",t, \"\\n\""
   ]
  },
  {
   "cell_type": "code",
   "execution_count": 8,
   "metadata": {
    "collapsed": false
   },
   "outputs": [
    {
     "data": {
      "text/plain": [
       "2102"
      ]
     },
     "execution_count": 8,
     "metadata": {},
     "output_type": "execute_result"
    }
   ],
   "source": [
    "adjvocab['delicious']"
   ]
  },
  {
   "cell_type": "code",
   "execution_count": 10,
   "metadata": {
    "collapsed": false
   },
   "outputs": [],
   "source": [
    "#nhypes\n"
   ]
  },
  {
   "cell_type": "code",
   "execution_count": null,
   "metadata": {
    "collapsed": true
   },
   "outputs": [],
   "source": []
  }
 ],
 "metadata": {
  "kernelspec": {
   "display_name": "Python 2",
   "language": "python",
   "name": "python2"
  },
  "language_info": {
   "codemirror_mode": {
    "name": "ipython",
    "version": 2
   },
   "file_extension": ".py",
   "mimetype": "text/x-python",
   "name": "python",
   "nbconvert_exporter": "python",
   "pygments_lexer": "ipython2",
   "version": "2.7.10"
  }
 },
 "nbformat": 4,
 "nbformat_minor": 0
}
